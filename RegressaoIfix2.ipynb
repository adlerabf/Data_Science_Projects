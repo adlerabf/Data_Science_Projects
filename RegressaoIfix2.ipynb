{
 "cells": [
  {
   "cell_type": "markdown",
   "metadata": {
    "application/vnd.databricks.v1+cell": {
     "cellMetadata": {
      "byteLimit": 2048000,
      "rowLimit": 10000
     },
     "inputWidgets": {},
     "nuid": "de69806e-4e4e-43a6-a948-3eaa1cac336f",
     "showTitle": false,
     "title": ""
    }
   },
   "source": [
    "### Projeto de Predição da Evolução do Índice IFIX\n",
    "\n",
    "O Índice IFIX é o resultado de uma carteira teórica de ativos de fundos imobiliários. Seu objetivo é ser o indicador do desempenho médio das cotações dos fundos imobiliários negociados nos mercados de bolsa e de balcão organizado da B3.\n",
    "\n",
    "> Os dados do índice foram coletados do site da B3 e podem ser acessados [neste link](https://www.b3.com.br/pt_br/market-data-e-indices/indices/indices-de-segmentos-e-setoriais/indice-fundos-de-investimentos-imobiliarios-ifix-estatisticas-historicas.htm).\n",
    "\n",
    "Para as variáveis preditoras, foram usados dados históricos dos indicadores abaixo: \n",
    "\n",
    "* Taxa SELIC: é gerada através da média ponderada das operações diárias titulos públicos, sendo as taxas praticadas balizadas pela SELIC meta.\n",
    "* CDI: de forma semelhante, é a estabelecido pela média das taxas praticadas entre dos empréstimos diários interbancários. É também balizada pela SELIC meta.\n",
    "* IGP-M: pesquisado entre os dias 21 do mês anterior e 20 do mês de referência; \n",
    "  * Composição: 60% Índice de Preços ao Produtor Amplo (IPA); 30%  Índice de Preços ao Consumidor (IPC); 10%  Índice Nacional de Custo da Construção (INCC). \n",
    "  * Abrangência setorial: Alimentação, Habitação, Vestuário, Saúde e Cuidados Pessoais, Educação, Leitura e Recreação, Transportes, Despesas Diversas e Comunicação, sob o ponto de vista do produtor e do consumidor;\n",
    "Materiais e equipamentos, serviços e mão-de-obra\n",
    "* INCC: pesquisado entre os dias 21 do mês anterior e 20 do mês de referência; \n",
    "  * Abrangência setorial: materiais, serviços e mão-de-obra mais relevantes para a construção civil.\n",
    "\n",
    "> Dados da SELIC e CDI podem ser obitidos também no site da B3 [neste link](http://estatisticas.cetip.com.br/astec/series_v05/paginas/lum_web_v05_template_informacoes_di.asp?str_Modulo=completo&int_Idioma=1&int_Titulo=6&int_NivelBD=2).\n",
    "\n",
    "> Dados do IGP-M e INCC podem ser coletados nos lnks a seguir: [IGP-M](https://extra-ibre.fgv.br/IBRE/sitefgvdados/visualizaconsulta.aspx) e [INCC](https://extra-ibre.fgv.br/IBRE/sitefgvdados/visualizaconsulta.aspx). \n",
    "\n",
    "\n"
   ]
  },
  {
   "cell_type": "code",
   "execution_count": 0,
   "metadata": {
    "application/vnd.databricks.v1+cell": {
     "cellMetadata": {
      "byteLimit": 2048000,
      "rowLimit": 10000
     },
     "inputWidgets": {},
     "nuid": "f2ffd431-f36e-402f-b4c8-d9e09807c6fb",
     "showTitle": false,
     "title": ""
    }
   },
   "outputs": [],
   "source": [
    "from pyspark.sql import SparkSession #importa a biblioteca que cria a seção do spark"
   ]
  },
  {
   "cell_type": "code",
   "execution_count": 0,
   "metadata": {
    "application/vnd.databricks.v1+cell": {
     "cellMetadata": {
      "byteLimit": 2048000,
      "rowLimit": 10000
     },
     "inputWidgets": {},
     "nuid": "cfd8a60a-32b8-4895-8e28-d1fa5b87b2c8",
     "showTitle": false,
     "title": ""
    }
   },
   "outputs": [],
   "source": [
    "#inicia a seção para a utilização do spark\n",
    "spark = SparkSession.builder.appName(\"Regressao IFIX\").getOrCreate() #cria a seção caso não exista ou obtém a já criada"
   ]
  },
  {
   "cell_type": "code",
   "execution_count": 0,
   "metadata": {
    "application/vnd.databricks.v1+cell": {
     "cellMetadata": {
      "byteLimit": 2048000,
      "rowLimit": 10000
     },
     "inputWidgets": {},
     "nuid": "7fe8b352-6222-442b-96a4-9781da09b0ea",
     "showTitle": false,
     "title": ""
    }
   },
   "outputs": [
    {
     "output_type": "display_data",
     "data": {
      "text/html": [
       "<style scoped>\n",
       "  .table-result-container {\n",
       "    max-height: 300px;\n",
       "    overflow: auto;\n",
       "  }\n",
       "  table, th, td {\n",
       "    border: 1px solid black;\n",
       "    border-collapse: collapse;\n",
       "  }\n",
       "  th, td {\n",
       "    padding: 5px;\n",
       "  }\n",
       "  th {\n",
       "    text-align: left;\n",
       "  }\n",
       "</style><div class='table-result-container'><table class='table-result'><thead style='background-color: white'><tr><th>path</th><th>name</th><th>size</th><th>modificationTime</th></tr></thead><tbody><tr><td>dbfs:/FileStore/tables/HisoricoCDI.csv</td><td>HisoricoCDI.csv</td><td>115462</td><td>1710016875000</td></tr><tr><td>dbfs:/FileStore/tables/HistoricoCDI.csv</td><td>HistoricoCDI.csv</td><td>115462</td><td>1710017252000</td></tr><tr><td>dbfs:/FileStore/tables/HistoricoIGPM-1.csv</td><td>HistoricoIGPM-1.csv</td><td>8414</td><td>1710686210000</td></tr><tr><td>dbfs:/FileStore/tables/HistoricoIGPM.csv</td><td>HistoricoIGPM.csv</td><td>6746</td><td>1710685001000</td></tr><tr><td>dbfs:/FileStore/tables/HistoricoIGP_M.csv</td><td>HistoricoIGP_M.csv</td><td>6746</td><td>1710684725000</td></tr><tr><td>dbfs:/FileStore/tables/HistoricoINCC-1.csv</td><td>HistoricoINCC-1.csv</td><td>6633</td><td>1710686210000</td></tr><tr><td>dbfs:/FileStore/tables/HistoricoINCC.csv</td><td>HistoricoINCC.csv</td><td>5305</td><td>1710684725000</td></tr><tr><td>dbfs:/FileStore/tables/HistoricoSELIC.csv</td><td>HistoricoSELIC.csv</td><td>43851</td><td>1710016875000</td></tr><tr><td>dbfs:/FileStore/tables/IfixEvolucaoMensal.csv</td><td>IfixEvolucaoMensal.csv</td><td>2347</td><td>1710016875000</td></tr><tr><td>dbfs:/FileStore/tables/adult_data.csv</td><td>adult_data.csv</td><td>5608318</td><td>1709852380000</td></tr><tr><td>dbfs:/FileStore/tables/iris_bezdekIris.csv</td><td>iris_bezdekIris.csv</td><td>4551</td><td>1709994811000</td></tr><tr><td>dbfs:/FileStore/tables/regressaoLinear.csv</td><td>regressaoLinear.csv</td><td>564</td><td>1709993226000</td></tr><tr><td>dbfs:/FileStore/tables/temperature.csv</td><td>temperature.csv</td><td>4075992</td><td>1709677144000</td></tr><tr><td>dbfs:/FileStore/tables/temperatureAmericas.csv</td><td>temperatureAmericas.csv</td><td>14644660</td><td>1709685210000</td></tr><tr><td>dbfs:/FileStore/tables/temperatureMajorCity.csv</td><td>temperatureMajorCity.csv</td><td>14138385</td><td>1709678535000</td></tr><tr><td>dbfs:/FileStore/tables/u.data</td><td>u.data</td><td>1979173</td><td>1710279577000</td></tr></tbody></table></div>"
      ]
     },
     "metadata": {
      "application/vnd.databricks.v1+output": {
       "addedWidgets": {},
       "aggData": [],
       "aggError": "",
       "aggOverflow": false,
       "aggSchema": [],
       "aggSeriesLimitReached": false,
       "aggType": "",
       "arguments": {},
       "columnCustomDisplayInfos": {},
       "data": [
        [
         "dbfs:/FileStore/tables/HisoricoCDI.csv",
         "HisoricoCDI.csv",
         115462,
         1710016875000
        ],
        [
         "dbfs:/FileStore/tables/HistoricoCDI.csv",
         "HistoricoCDI.csv",
         115462,
         1710017252000
        ],
        [
         "dbfs:/FileStore/tables/HistoricoIGPM-1.csv",
         "HistoricoIGPM-1.csv",
         8414,
         1710686210000
        ],
        [
         "dbfs:/FileStore/tables/HistoricoIGPM.csv",
         "HistoricoIGPM.csv",
         6746,
         1710685001000
        ],
        [
         "dbfs:/FileStore/tables/HistoricoIGP_M.csv",
         "HistoricoIGP_M.csv",
         6746,
         1710684725000
        ],
        [
         "dbfs:/FileStore/tables/HistoricoINCC-1.csv",
         "HistoricoINCC-1.csv",
         6633,
         1710686210000
        ],
        [
         "dbfs:/FileStore/tables/HistoricoINCC.csv",
         "HistoricoINCC.csv",
         5305,
         1710684725000
        ],
        [
         "dbfs:/FileStore/tables/HistoricoSELIC.csv",
         "HistoricoSELIC.csv",
         43851,
         1710016875000
        ],
        [
         "dbfs:/FileStore/tables/IfixEvolucaoMensal.csv",
         "IfixEvolucaoMensal.csv",
         2347,
         1710016875000
        ],
        [
         "dbfs:/FileStore/tables/adult_data.csv",
         "adult_data.csv",
         5608318,
         1709852380000
        ],
        [
         "dbfs:/FileStore/tables/iris_bezdekIris.csv",
         "iris_bezdekIris.csv",
         4551,
         1709994811000
        ],
        [
         "dbfs:/FileStore/tables/regressaoLinear.csv",
         "regressaoLinear.csv",
         564,
         1709993226000
        ],
        [
         "dbfs:/FileStore/tables/temperature.csv",
         "temperature.csv",
         4075992,
         1709677144000
        ],
        [
         "dbfs:/FileStore/tables/temperatureAmericas.csv",
         "temperatureAmericas.csv",
         14644660,
         1709685210000
        ],
        [
         "dbfs:/FileStore/tables/temperatureMajorCity.csv",
         "temperatureMajorCity.csv",
         14138385,
         1709678535000
        ],
        [
         "dbfs:/FileStore/tables/u.data",
         "u.data",
         1979173,
         1710279577000
        ]
       ],
       "datasetInfos": [],
       "dbfsResultPath": null,
       "isJsonSchema": true,
       "metadata": {
        "isDbfsCommandResult": false
       },
       "overflow": false,
       "plotOptions": {
        "customPlotOptions": {},
        "displayType": "table",
        "pivotAggregation": null,
        "pivotColumns": null,
        "xColumns": null,
        "yColumns": null
       },
       "removedWidgets": [],
       "schema": [
        {
         "metadata": "{}",
         "name": "path",
         "type": "\"string\""
        },
        {
         "metadata": "{}",
         "name": "name",
         "type": "\"string\""
        },
        {
         "metadata": "{}",
         "name": "size",
         "type": "\"long\""
        },
        {
         "metadata": "{}",
         "name": "modificationTime",
         "type": "\"long\""
        }
       ],
       "type": "table"
      }
     },
     "output_type": "display_data"
    }
   ],
   "source": [
    "%fs ls /FileStore/tables"
   ]
  },
  {
   "cell_type": "code",
   "execution_count": 0,
   "metadata": {
    "application/vnd.databricks.v1+cell": {
     "cellMetadata": {
      "byteLimit": 2048000,
      "rowLimit": 10000
     },
     "inputWidgets": {},
     "nuid": "bb0fa27c-7cfd-4d1f-a15a-2f6b5ffbe516",
     "showTitle": false,
     "title": ""
    }
   },
   "outputs": [],
   "source": [
    " # diretórios dos arquivos a serem utilizados\n",
    "historicoCDI=\"/FileStore/tables/HistoricoCDI.csv\"\n",
    "historicoSELIC=\"/FileStore/tables/HistoricoSELIC.csv\"\n",
    "historicoIFIX=\"/FileStore/tables/IfixEvolucaoMensal.csv\"\n",
    "historicoIGPM=\"/FileStore/tables/HistoricoIGPM-1.csv\"\n",
    "historicoINCC=\"/FileStore/tables/HistoricoINCC-1.csv\" "
   ]
  },
  {
   "cell_type": "markdown",
   "metadata": {
    "application/vnd.databricks.v1+cell": {
     "cellMetadata": {
      "byteLimit": 2048000,
      "rowLimit": 10000
     },
     "inputWidgets": {},
     "nuid": "1b2543ba-5510-4500-8f68-280d750b863d",
     "showTitle": false,
     "title": ""
    }
   },
   "source": [
    "#### Dataset CDI"
   ]
  },
  {
   "cell_type": "code",
   "execution_count": 0,
   "metadata": {
    "application/vnd.databricks.v1+cell": {
     "cellMetadata": {
      "byteLimit": 2048000,
      "rowLimit": 10000
     },
     "inputWidgets": {},
     "nuid": "09804875-b1cd-4c09-b178-0b97398786c1",
     "showTitle": false,
     "title": ""
    }
   },
   "outputs": [],
   "source": [
    "#lendo arquivos armazenados CSV com o esquema definido\n",
    "cdi = spark.read.format('csv').options(inferSchema=True, header='true',delimiter=';').load(historicoCDI)"
   ]
  },
  {
   "cell_type": "code",
   "execution_count": 0,
   "metadata": {
    "application/vnd.databricks.v1+cell": {
     "cellMetadata": {
      "byteLimit": 2048000,
      "rowLimit": 10000
     },
     "inputWidgets": {},
     "nuid": "6fda640a-d589-4b67-b56b-a1895d7df2cf",
     "showTitle": false,
     "title": ""
    }
   },
   "outputs": [
    {
     "output_type": "stream",
     "name": "stdout",
     "output_type": "stream",
     "text": [
      "+----------+-------------+-------+-----+------------+\n|      Data|Nr. Operações| Volume|Média|Fator Diário|\n+----------+-------------+-------+-----+------------+\n|2013-01-02|           15|1892473| 6,92|  1,00026555|\n|2013-01-03|           16|2007587| 6,92|  1,00026555|\n|2013-01-04|           17|2138985| 6,93|  1,00026593|\n|2013-01-07|           18|2208986| 6,92|  1,00026555|\n|2013-01-08|           18|2246656| 6,91|  1,00026518|\n+----------+-------------+-------+-----+------------+\nonly showing top 5 rows\n\n"
     ]
    }
   ],
   "source": [
    "cdi.show(5)"
   ]
  },
  {
   "cell_type": "code",
   "execution_count": 0,
   "metadata": {
    "application/vnd.databricks.v1+cell": {
     "cellMetadata": {
      "byteLimit": 2048000,
      "rowLimit": 10000
     },
     "inputWidgets": {},
     "nuid": "5bf47c58-a4f8-44bc-a884-caffeb175187",
     "showTitle": false,
     "title": ""
    }
   },
   "outputs": [
    {
     "output_type": "stream",
     "name": "stdout",
     "output_type": "stream",
     "text": [
      "root\n |-- Data: date (nullable = true)\n |-- Nr. Operações: integer (nullable = true)\n |-- Volume: string (nullable = true)\n |-- Média: string (nullable = true)\n |-- Fator Diário: string (nullable = true)\n\n"
     ]
    }
   ],
   "source": [
    "cdi.printSchema()"
   ]
  },
  {
   "cell_type": "code",
   "execution_count": 0,
   "metadata": {
    "application/vnd.databricks.v1+cell": {
     "cellMetadata": {
      "byteLimit": 2048000,
      "rowLimit": 10000
     },
     "inputWidgets": {},
     "nuid": "634f1a13-e72c-4c08-959c-456f6dae7382",
     "showTitle": false,
     "title": ""
    }
   },
   "outputs": [],
   "source": [
    "import pyspark.sql.functions as F\n",
    "cdi = cdi.select(F.col('Média').alias(\"CDI\"), F.col('Data').alias(\"Data\"))  # trocando nomes do cabaçalho e selecionando as colunas que preciso"
   ]
  },
  {
   "cell_type": "code",
   "execution_count": 0,
   "metadata": {
    "application/vnd.databricks.v1+cell": {
     "cellMetadata": {
      "byteLimit": 2048000,
      "rowLimit": 10000
     },
     "inputWidgets": {},
     "nuid": "1ed1a4a5-75a8-41e6-899f-b358566add54",
     "showTitle": false,
     "title": ""
    }
   },
   "outputs": [
    {
     "output_type": "stream",
     "name": "stdout",
     "output_type": "stream",
     "text": [
      "+----+----------+----------+\n| CDI|      Data|ultimo_dia|\n+----+----------+----------+\n|6,95|2013-01-31|2013-01-31|\n|6,98|2013-02-28|2013-02-28|\n|7,23|2013-04-30|2013-04-30|\n|7,72|2013-05-31|2013-05-31|\n|8,22|2013-07-31|2013-07-31|\n+----+----------+----------+\nonly showing top 5 rows\n\n"
     ]
    }
   ],
   "source": [
    "from pyspark.sql.functions import dayofmonth, month, year, last_day\n",
    "# Adicione uma nova coluna contendo o último dia de cada mês\n",
    "cdiData = cdi.withColumn(\"ultimo_dia\", last_day(\"Data\"))\n",
    "# Filtrando pelo último dia de cada mês\n",
    "cdiData = cdiData.filter(dayofmonth(\"Data\") == dayofmonth(\"ultimo_dia\"))\n",
    "\n",
    "cdiData.show(5)"
   ]
  },
  {
   "cell_type": "code",
   "execution_count": 0,
   "metadata": {
    "application/vnd.databricks.v1+cell": {
     "cellMetadata": {
      "byteLimit": 2048000,
      "rowLimit": 10000
     },
     "inputWidgets": {},
     "nuid": "fd0bdc18-8a5e-457f-95f2-06c002bbb1c7",
     "showTitle": false,
     "title": ""
    }
   },
   "outputs": [
    {
     "output_type": "stream",
     "name": "stdout",
     "output_type": "stream",
     "text": [
      "+----------+----+\n|      Data| CDI|\n+----------+----+\n|2013-01-31|6,95|\n|2013-02-28|6,98|\n|2013-04-30|7,23|\n|2013-05-31|7,72|\n|2013-07-31|8,22|\n+----------+----+\nonly showing top 5 rows\n\n"
     ]
    }
   ],
   "source": [
    "cdiData = cdiData.select('Data', \"CDI\")\n",
    "cdiData.show(5)"
   ]
  },
  {
   "cell_type": "code",
   "execution_count": 0,
   "metadata": {
    "application/vnd.databricks.v1+cell": {
     "cellMetadata": {
      "byteLimit": 2048000,
      "rowLimit": 10000
     },
     "inputWidgets": {},
     "nuid": "612b52f9-0ab9-44a9-84d1-d6bcb8c70296",
     "showTitle": false,
     "title": ""
    }
   },
   "outputs": [],
   "source": [
    "cdiFinal = cdiData.withColumn(\"CDI\", F.regexp_replace(F.col(\"CDI\"), \"[,]\", \".\"))  #troca o valor de \",\" para \".\" "
   ]
  },
  {
   "cell_type": "code",
   "execution_count": 0,
   "metadata": {
    "application/vnd.databricks.v1+cell": {
     "cellMetadata": {
      "byteLimit": 2048000,
      "rowLimit": 10000
     },
     "inputWidgets": {},
     "nuid": "701861f1-0738-479c-8a69-72bb247ecf1f",
     "showTitle": false,
     "title": ""
    }
   },
   "outputs": [
    {
     "output_type": "stream",
     "name": "stdout",
     "output_type": "stream",
     "text": [
      "+----------+----+\n|      Data| CDI|\n+----------+----+\n|2013-01-31|6.95|\n|2013-02-28|6.98|\n|2013-04-30|7.23|\n|2013-05-31|7.72|\n|2013-07-31|8.22|\n+----------+----+\nonly showing top 5 rows\n\n"
     ]
    }
   ],
   "source": [
    "cdiFinal.show(5)"
   ]
  },
  {
   "cell_type": "code",
   "execution_count": 0,
   "metadata": {
    "application/vnd.databricks.v1+cell": {
     "cellMetadata": {
      "byteLimit": 2048000,
      "rowLimit": 10000
     },
     "inputWidgets": {},
     "nuid": "05a5cfe2-0612-46c4-9c91-bfe35bbd5668",
     "showTitle": false,
     "title": ""
    }
   },
   "outputs": [
    {
     "output_type": "stream",
     "name": "stdout",
     "output_type": "stream",
     "text": [
      "root\n |-- Data: date (nullable = true)\n |-- CDI: string (nullable = true)\n\n"
     ]
    }
   ],
   "source": [
    "cdiFinal.printSchema()"
   ]
  },
  {
   "cell_type": "code",
   "execution_count": 0,
   "metadata": {
    "application/vnd.databricks.v1+cell": {
     "cellMetadata": {
      "byteLimit": 2048000,
      "rowLimit": 10000
     },
     "inputWidgets": {},
     "nuid": "8ca17e24-a8f0-4d02-a923-c7c3b80d53e7",
     "showTitle": false,
     "title": ""
    }
   },
   "outputs": [],
   "source": [
    "# Trocando CDI para tipo double\n",
    "from pyspark.sql.functions import col\n",
    "cdiConcat = cdiFinal.withColumn(\"CDI\", col(\"CDI\").cast(\"double\"))"
   ]
  },
  {
   "cell_type": "code",
   "execution_count": 0,
   "metadata": {
    "application/vnd.databricks.v1+cell": {
     "cellMetadata": {
      "byteLimit": 2048000,
      "rowLimit": 10000
     },
     "inputWidgets": {},
     "nuid": "1ef5725f-c236-421c-a042-562c6f5db641",
     "showTitle": false,
     "title": ""
    }
   },
   "outputs": [
    {
     "output_type": "stream",
     "name": "stdout",
     "output_type": "stream",
     "text": [
      "root\n |-- Data: date (nullable = true)\n |-- CDI: double (nullable = true)\n\n"
     ]
    }
   ],
   "source": [
    "cdiConcat.printSchema()"
   ]
  },
  {
   "cell_type": "code",
   "execution_count": 0,
   "metadata": {
    "application/vnd.databricks.v1+cell": {
     "cellMetadata": {
      "byteLimit": 2048000,
      "rowLimit": 10000
     },
     "inputWidgets": {},
     "nuid": "04d87021-4950-4b86-b4e4-917bac5e2d50",
     "showTitle": false,
     "title": ""
    }
   },
   "outputs": [
    {
     "output_type": "display_data",
     "data": {
      "text/html": [
       "<style scoped>\n",
       "  .table-result-container {\n",
       "    max-height: 300px;\n",
       "    overflow: auto;\n",
       "  }\n",
       "  table, th, td {\n",
       "    border: 1px solid black;\n",
       "    border-collapse: collapse;\n",
       "  }\n",
       "  th, td {\n",
       "    padding: 5px;\n",
       "  }\n",
       "  th {\n",
       "    text-align: left;\n",
       "  }\n",
       "</style><div class='table-result-container'><table class='table-result'><thead style='background-color: white'><tr><th>Data</th><th>CDI</th></tr></thead><tbody><tr><td>2013-01-31</td><td>6.95</td></tr><tr><td>2013-02-28</td><td>6.98</td></tr><tr><td>2013-04-30</td><td>7.23</td></tr><tr><td>2013-05-31</td><td>7.72</td></tr><tr><td>2013-07-31</td><td>8.22</td></tr><tr><td>2013-09-30</td><td>8.71</td></tr><tr><td>2013-10-31</td><td>9.32</td></tr><tr><td>2013-12-31</td><td>9.77</td></tr><tr><td>2014-01-31</td><td>10.27</td></tr><tr><td>2014-02-28</td><td>10.59</td></tr><tr><td>2014-03-31</td><td>10.55</td></tr><tr><td>2014-04-30</td><td>10.8</td></tr><tr><td>2014-06-30</td><td>10.8</td></tr><tr><td>2014-07-31</td><td>10.8</td></tr><tr><td>2014-09-30</td><td>10.81</td></tr><tr><td>2014-10-31</td><td>11.06</td></tr><tr><td>2014-12-31</td><td>11.57</td></tr><tr><td>2015-03-31</td><td>12.6</td></tr><tr><td>2015-04-30</td><td>13.11</td></tr><tr><td>2015-06-30</td><td>13.64</td></tr><tr><td>2015-07-31</td><td>14.13</td></tr><tr><td>2015-08-31</td><td>14.13</td></tr><tr><td>2015-09-30</td><td>14.13</td></tr><tr><td>2015-11-30</td><td>14.14</td></tr><tr><td>2015-12-31</td><td>14.14</td></tr><tr><td>2016-02-29</td><td>14.13</td></tr><tr><td>2016-03-31</td><td>14.13</td></tr><tr><td>2016-05-31</td><td>14.13</td></tr><tr><td>2016-06-30</td><td>14.13</td></tr><tr><td>2016-08-31</td><td>14.13</td></tr><tr><td>2016-09-30</td><td>14.13</td></tr><tr><td>2016-10-31</td><td>13.88</td></tr><tr><td>2016-11-30</td><td>13.88</td></tr><tr><td>2017-01-31</td><td>12.88</td></tr><tr><td>2017-03-31</td><td>12.13</td></tr><tr><td>2017-05-31</td><td>11.13</td></tr><tr><td>2017-06-30</td><td>10.14</td></tr><tr><td>2017-07-31</td><td>9.14</td></tr><tr><td>2017-08-31</td><td>9.14</td></tr><tr><td>2017-10-31</td><td>7.39</td></tr><tr><td>2017-11-30</td><td>7.39</td></tr><tr><td>2018-01-31</td><td>6.89</td></tr><tr><td>2018-02-28</td><td>6.64</td></tr><tr><td>2018-04-30</td><td>6.39</td></tr><tr><td>2018-07-31</td><td>6.39</td></tr><tr><td>2018-08-31</td><td>6.39</td></tr><tr><td>2018-10-31</td><td>6.4</td></tr><tr><td>2018-11-30</td><td>6.4</td></tr><tr><td>2018-12-31</td><td>6.4</td></tr><tr><td>2019-01-31</td><td>6.4</td></tr><tr><td>2019-02-28</td><td>6.4</td></tr><tr><td>2019-04-30</td><td>6.4</td></tr><tr><td>2019-05-31</td><td>6.4</td></tr><tr><td>2019-07-31</td><td>6.4</td></tr><tr><td>2019-09-30</td><td>5.4</td></tr><tr><td>2019-10-31</td><td>4.9</td></tr><tr><td>2019-12-31</td><td>4.4</td></tr><tr><td>2020-01-31</td><td>4.4</td></tr><tr><td>2020-03-31</td><td>3.65</td></tr><tr><td>2020-04-30</td><td>3.65</td></tr><tr><td>2020-06-30</td><td>2.15</td></tr><tr><td>2020-07-31</td><td>2.15</td></tr><tr><td>2020-08-31</td><td>1.9</td></tr><tr><td>2020-09-30</td><td>1.9</td></tr><tr><td>2020-11-30</td><td>1.9</td></tr><tr><td>2020-12-31</td><td>1.9</td></tr><tr><td>2021-03-31</td><td>2.65</td></tr><tr><td>2021-04-30</td><td>2.65</td></tr><tr><td>2021-05-31</td><td>3.4</td></tr><tr><td>2021-06-30</td><td>4.15</td></tr><tr><td>2021-08-31</td><td>5.15</td></tr><tr><td>2021-09-30</td><td>6.15</td></tr><tr><td>2021-11-30</td><td>7.65</td></tr><tr><td>2021-12-31</td><td>9.15</td></tr><tr><td>2022-01-31</td><td>9.15</td></tr><tr><td>2022-03-31</td><td>11.65</td></tr><tr><td>2022-05-31</td><td>12.65</td></tr><tr><td>2022-06-30</td><td>13.15</td></tr><tr><td>2022-08-31</td><td>13.65</td></tr><tr><td>2022-09-30</td><td>13.65</td></tr><tr><td>2022-10-31</td><td>13.65</td></tr><tr><td>2022-11-30</td><td>13.65</td></tr><tr><td>2023-01-31</td><td>13.65</td></tr><tr><td>2023-02-28</td><td>13.65</td></tr><tr><td>2023-03-31</td><td>13.65</td></tr><tr><td>2023-05-31</td><td>13.65</td></tr><tr><td>2023-06-30</td><td>13.65</td></tr><tr><td>2023-07-31</td><td>13.65</td></tr><tr><td>2023-08-31</td><td>13.15</td></tr><tr><td>2023-10-31</td><td>12.65</td></tr><tr><td>2023-11-30</td><td>12.15</td></tr><tr><td>2024-01-31</td><td>11.65</td></tr><tr><td>2024-02-29</td><td>11.15</td></tr></tbody></table></div>"
      ]
     },
     "metadata": {
      "application/vnd.databricks.v1+output": {
       "addedWidgets": {},
       "aggData": [],
       "aggError": "",
       "aggOverflow": false,
       "aggSchema": [],
       "aggSeriesLimitReached": false,
       "aggType": "",
       "arguments": {},
       "columnCustomDisplayInfos": {},
       "data": [
        [
         "2013-01-31",
         6.95
        ],
        [
         "2013-02-28",
         6.98
        ],
        [
         "2013-04-30",
         7.23
        ],
        [
         "2013-05-31",
         7.72
        ],
        [
         "2013-07-31",
         8.22
        ],
        [
         "2013-09-30",
         8.71
        ],
        [
         "2013-10-31",
         9.32
        ],
        [
         "2013-12-31",
         9.77
        ],
        [
         "2014-01-31",
         10.27
        ],
        [
         "2014-02-28",
         10.59
        ],
        [
         "2014-03-31",
         10.55
        ],
        [
         "2014-04-30",
         10.8
        ],
        [
         "2014-06-30",
         10.8
        ],
        [
         "2014-07-31",
         10.8
        ],
        [
         "2014-09-30",
         10.81
        ],
        [
         "2014-10-31",
         11.06
        ],
        [
         "2014-12-31",
         11.57
        ],
        [
         "2015-03-31",
         12.6
        ],
        [
         "2015-04-30",
         13.11
        ],
        [
         "2015-06-30",
         13.64
        ],
        [
         "2015-07-31",
         14.13
        ],
        [
         "2015-08-31",
         14.13
        ],
        [
         "2015-09-30",
         14.13
        ],
        [
         "2015-11-30",
         14.14
        ],
        [
         "2015-12-31",
         14.14
        ],
        [
         "2016-02-29",
         14.13
        ],
        [
         "2016-03-31",
         14.13
        ],
        [
         "2016-05-31",
         14.13
        ],
        [
         "2016-06-30",
         14.13
        ],
        [
         "2016-08-31",
         14.13
        ],
        [
         "2016-09-30",
         14.13
        ],
        [
         "2016-10-31",
         13.88
        ],
        [
         "2016-11-30",
         13.88
        ],
        [
         "2017-01-31",
         12.88
        ],
        [
         "2017-03-31",
         12.13
        ],
        [
         "2017-05-31",
         11.13
        ],
        [
         "2017-06-30",
         10.14
        ],
        [
         "2017-07-31",
         9.14
        ],
        [
         "2017-08-31",
         9.14
        ],
        [
         "2017-10-31",
         7.39
        ],
        [
         "2017-11-30",
         7.39
        ],
        [
         "2018-01-31",
         6.89
        ],
        [
         "2018-02-28",
         6.64
        ],
        [
         "2018-04-30",
         6.39
        ],
        [
         "2018-07-31",
         6.39
        ],
        [
         "2018-08-31",
         6.39
        ],
        [
         "2018-10-31",
         6.4
        ],
        [
         "2018-11-30",
         6.4
        ],
        [
         "2018-12-31",
         6.4
        ],
        [
         "2019-01-31",
         6.4
        ],
        [
         "2019-02-28",
         6.4
        ],
        [
         "2019-04-30",
         6.4
        ],
        [
         "2019-05-31",
         6.4
        ],
        [
         "2019-07-31",
         6.4
        ],
        [
         "2019-09-30",
         5.4
        ],
        [
         "2019-10-31",
         4.9
        ],
        [
         "2019-12-31",
         4.4
        ],
        [
         "2020-01-31",
         4.4
        ],
        [
         "2020-03-31",
         3.65
        ],
        [
         "2020-04-30",
         3.65
        ],
        [
         "2020-06-30",
         2.15
        ],
        [
         "2020-07-31",
         2.15
        ],
        [
         "2020-08-31",
         1.9
        ],
        [
         "2020-09-30",
         1.9
        ],
        [
         "2020-11-30",
         1.9
        ],
        [
         "2020-12-31",
         1.9
        ],
        [
         "2021-03-31",
         2.65
        ],
        [
         "2021-04-30",
         2.65
        ],
        [
         "2021-05-31",
         3.4
        ],
        [
         "2021-06-30",
         4.15
        ],
        [
         "2021-08-31",
         5.15
        ],
        [
         "2021-09-30",
         6.15
        ],
        [
         "2021-11-30",
         7.65
        ],
        [
         "2021-12-31",
         9.15
        ],
        [
         "2022-01-31",
         9.15
        ],
        [
         "2022-03-31",
         11.65
        ],
        [
         "2022-05-31",
         12.65
        ],
        [
         "2022-06-30",
         13.15
        ],
        [
         "2022-08-31",
         13.65
        ],
        [
         "2022-09-30",
         13.65
        ],
        [
         "2022-10-31",
         13.65
        ],
        [
         "2022-11-30",
         13.65
        ],
        [
         "2023-01-31",
         13.65
        ],
        [
         "2023-02-28",
         13.65
        ],
        [
         "2023-03-31",
         13.65
        ],
        [
         "2023-05-31",
         13.65
        ],
        [
         "2023-06-30",
         13.65
        ],
        [
         "2023-07-31",
         13.65
        ],
        [
         "2023-08-31",
         13.15
        ],
        [
         "2023-10-31",
         12.65
        ],
        [
         "2023-11-30",
         12.15
        ],
        [
         "2024-01-31",
         11.65
        ],
        [
         "2024-02-29",
         11.15
        ]
       ],
       "datasetInfos": [],
       "dbfsResultPath": null,
       "isJsonSchema": true,
       "metadata": {},
       "overflow": false,
       "plotOptions": {
        "customPlotOptions": {},
        "displayType": "table",
        "pivotAggregation": null,
        "pivotColumns": null,
        "xColumns": null,
        "yColumns": null
       },
       "removedWidgets": [],
       "schema": [
        {
         "metadata": "{\"__detected_date_formats\":\"d/M/yyyy\"}",
         "name": "Data",
         "type": "\"date\""
        },
        {
         "metadata": "{}",
         "name": "CDI",
         "type": "\"double\""
        }
       ],
       "type": "table"
      }
     },
     "output_type": "display_data"
    },
    {
     "output_type": "display_data",
     "data": {
      "text/plain": [
       "Databricks visualization. Run in Databricks to view."
      ]
     },
     "metadata": {
      "application/vnd.databricks.v1.subcommand+json": {
       "baseErrorDetails": null,
       "bindings": {},
       "collapsed": false,
       "command": "%python\n__backend_agg_display_orig = display\n__backend_agg_dfs = []\ndef __backend_agg_display_new(df):\n    __backend_agg_df_modules = [\"pandas.core.frame\", \"databricks.koalas.frame\", \"pyspark.sql.dataframe\", \"pyspark.pandas.frame\", \"pyspark.sql.connect.dataframe\"]\n    if (type(df).__module__ in __backend_agg_df_modules and type(df).__name__ == 'DataFrame') or isinstance(df, list):\n        __backend_agg_dfs.append(df)\n\ndisplay = __backend_agg_display_new\n\ndef __backend_agg_user_code_fn():\n    import base64\n    exec(base64.standard_b64decode(\"ZGlzcGxheShjZGkp\").decode())\n\ntry:\n    # run user code\n    __backend_agg_user_code_fn()\n\n    #reset display function\n    display = __backend_agg_display_orig\n\n    if len(__backend_agg_dfs) > 0:\n        # create a temp view\n        if type(__backend_agg_dfs[0]).__module__ == \"databricks.koalas.frame\":\n            # koalas dataframe\n            __backend_agg_dfs[0].to_spark().createOrReplaceTempView(\"DatabricksViewe076b87\")\n        elif type(__backend_agg_dfs[0]).__module__ == \"pandas.core.frame\" or isinstance(__backend_agg_dfs[0], list):\n            # pandas dataframe\n            spark.createDataFrame(__backend_agg_dfs[0]).createOrReplaceTempView(\"DatabricksViewe076b87\")\n        else:\n            __backend_agg_dfs[0].createOrReplaceTempView(\"DatabricksViewe076b87\")\n        #run backend agg\n        display(spark.sql(\"\"\"WITH q AS (select * from DatabricksViewe076b87) SELECT `CDI` FROM q\"\"\"))\n    else:\n        displayHTML(\"dataframe no longer exists. If you're using dataframe.display(), use display(dataframe) instead.\")\n\n\nfinally:\n    spark.sql(\"drop view if exists DatabricksViewe076b87\")\n    display = __backend_agg_display_orig\n    del __backend_agg_display_new\n    del __backend_agg_display_orig\n    del __backend_agg_dfs\n    del __backend_agg_user_code_fn\n\n",
       "commandTitle": "Visualization 2",
       "commandType": "auto",
       "commandVersion": 0,
       "commentThread": [],
       "commentsVisible": false,
       "contentSha256Hex": null,
       "customPlotOptions": {
        "redashChart": [
         {
          "key": "type",
          "value": "CHART"
         },
         {
          "key": "options",
          "value": {
           "alignYAxesAtZero": true,
           "coefficient": 1,
           "columnConfigurationMap": {
            "y": [
             {
              "column": "CDI",
              "id": "column_c77865a012"
             }
            ]
           },
           "dateTimeFormat": "DD/MM/YYYY HH:mm",
           "direction": {
            "type": "counterclockwise"
           },
           "error_y": {
            "type": "data",
            "visible": true
           },
           "globalSeriesType": "box",
           "legend": {
            "traceorder": "normal"
           },
           "missingValuesAsZero": true,
           "numberFormat": "0,0.[00000]",
           "percentFormat": "0[.]00%",
           "series": {
            "error_y": {
             "type": "data",
             "visible": true
            },
            "stacking": null
           },
           "seriesOptions": {
            "CDI": {
             "name": "CDI",
             "type": "box",
             "yAxis": 0
            },
            "Data": {
             "type": "box",
             "yAxis": 0
            },
            "column_c77865a02": {
             "name": "CDI",
             "type": "box",
             "yAxis": 0
            }
           },
           "showDataLabels": false,
           "sizemode": "diameter",
           "sortX": true,
           "sortY": true,
           "swappedAxes": true,
           "textFormat": "",
           "useAggregationsUi": true,
           "valuesOptions": {},
           "version": 2,
           "xAxis": {
            "labels": {
             "enabled": true
            },
            "type": "-"
           },
           "yAxis": [
            {
             "type": "-"
            },
            {
             "opposite": true,
             "type": "-"
            }
           ]
          }
         }
        ]
       },
       "datasetPreviewNameToCmdIdMap": {},
       "diffDeletes": [],
       "diffInserts": [],
       "displayType": "redashChart",
       "error": null,
       "errorDetails": null,
       "errorSummary": null,
       "errorTraceType": null,
       "finishTime": 0,
       "globalVars": {},
       "guid": "",
       "height": "468",
       "hideCommandCode": false,
       "hideCommandResult": false,
       "iPythonMetadata": null,
       "inputWidgets": {},
       "isLockedInExamMode": false,
       "latestUser": "a user",
       "latestUserId": null,
       "listResultMetadata": null,
       "metadata": {
        "byteLimit": 2048000,
        "rowLimit": 10000
       },
       "nuid": "abb98718-78f4-4c12-8cf5-a3247e66eca6",
       "origId": 0,
       "parentHierarchy": [],
       "pivotAggregation": null,
       "pivotColumns": null,
       "position": 15.0,
       "resultDbfsErrorMessage": null,
       "resultDbfsStatus": "INLINED_IN_TREE",
       "results": null,
       "showCommandTitle": false,
       "startTime": 0,
       "state": "input",
       "streamStates": {},
       "subcommandOptions": {
        "queryPlan": {
         "selects": [
          {
           "column": "CDI",
           "type": "column"
          }
         ]
        }
       },
       "submitTime": 0,
       "subtype": "tableResultSubCmd.visualization",
       "tableResultIndex": 0,
       "useConsistentColors": false,
       "version": "CommandV1",
       "width": "820",
       "workflows": [],
       "xColumns": null,
       "yColumns": null
      }
     },
     "output_type": "display_data"
    }
   ],
   "source": [
    "display(cdiConcat)"
   ]
  },
  {
   "cell_type": "markdown",
   "metadata": {
    "application/vnd.databricks.v1+cell": {
     "cellMetadata": {
      "byteLimit": 2048000,
      "rowLimit": 10000
     },
     "inputWidgets": {},
     "nuid": "25fcd04c-3604-462c-a5be-22c4eccf83cc",
     "showTitle": false,
     "title": ""
    }
   },
   "source": [
    "#### Dataset IFIX"
   ]
  },
  {
   "cell_type": "code",
   "execution_count": 0,
   "metadata": {
    "application/vnd.databricks.v1+cell": {
     "cellMetadata": {
      "byteLimit": 2048000,
      "rowLimit": 10000
     },
     "inputWidgets": {},
     "nuid": "11bc38a4-6cf9-4776-81d4-2115aa55a507",
     "showTitle": false,
     "title": ""
    }
   },
   "outputs": [],
   "source": [
    "# Importanto dataset do IFIX\n",
    "ifix = spark.read.format('csv').options(inferSchema=True, header='true',delimiter=';').load(historicoIFIX)"
   ]
  },
  {
   "cell_type": "code",
   "execution_count": 0,
   "metadata": {
    "application/vnd.databricks.v1+cell": {
     "cellMetadata": {
      "byteLimit": 2048000,
      "rowLimit": 10000
     },
     "inputWidgets": {},
     "nuid": "9428bb33-12dc-4e7d-ace9-a18648796a1f",
     "showTitle": false,
     "title": ""
    }
   },
   "outputs": [
    {
     "output_type": "stream",
     "name": "stdout",
     "output_type": "stream",
     "text": [
      "+---+----+--------+\n|Mês| Ano|   Valor|\n+---+----+--------+\n|  1|2013|1.613,76|\n|  2|2013|1.597,88|\n|  3|2013|1.579,32|\n|  4|2013|1.549,00|\n|  5|2013|1.549,36|\n+---+----+--------+\nonly showing top 5 rows\n\n"
     ]
    }
   ],
   "source": [
    "ifix.show(5)"
   ]
  },
  {
   "cell_type": "code",
   "execution_count": 0,
   "metadata": {
    "application/vnd.databricks.v1+cell": {
     "cellMetadata": {
      "byteLimit": 2048000,
      "rowLimit": 10000
     },
     "inputWidgets": {},
     "nuid": "4fa782ff-1947-43df-8363-b5976994bee8",
     "showTitle": false,
     "title": ""
    }
   },
   "outputs": [],
   "source": [
    "# Concatenando das colunas Mês e Ano e ajustando ao modelo yyyy-MM-dd\n",
    "from pyspark.sql.functions import concat, lit, to_date\n",
    "ifixData = ifix.withColumn(\"Data\", to_date(concat(col(\"Ano\"), lit(\"-\"), col(\"Mês\"), lit(\"-01\"))))\n"
   ]
  },
  {
   "cell_type": "code",
   "execution_count": 0,
   "metadata": {
    "application/vnd.databricks.v1+cell": {
     "cellMetadata": {
      "byteLimit": 2048000,
      "rowLimit": 10000
     },
     "inputWidgets": {},
     "nuid": "7816bf4d-e470-4891-9fe0-d4f647d0cbab",
     "showTitle": false,
     "title": ""
    }
   },
   "outputs": [
    {
     "output_type": "stream",
     "name": "stdout",
     "output_type": "stream",
     "text": [
      "+---+----+--------+----------+\n|Mês| Ano|   Valor|      Data|\n+---+----+--------+----------+\n|  1|2013|1.613,76|2013-01-01|\n|  2|2013|1.597,88|2013-02-01|\n|  3|2013|1.579,32|2013-03-01|\n|  4|2013|1.549,00|2013-04-01|\n|  5|2013|1.549,36|2013-05-01|\n+---+----+--------+----------+\nonly showing top 5 rows\n\n"
     ]
    }
   ],
   "source": [
    "ifixData.show(5)"
   ]
  },
  {
   "cell_type": "code",
   "execution_count": 0,
   "metadata": {
    "application/vnd.databricks.v1+cell": {
     "cellMetadata": {
      "byteLimit": 2048000,
      "rowLimit": 10000
     },
     "inputWidgets": {},
     "nuid": "139145d8-d226-45fe-9f1c-b67af63f9dda",
     "showTitle": false,
     "title": ""
    }
   },
   "outputs": [
    {
     "output_type": "stream",
     "name": "stdout",
     "output_type": "stream",
     "text": [
      "+--------+----------+\n|    IFIX|      Data|\n+--------+----------+\n|1.613,76|2013-01-01|\n|1.597,88|2013-02-01|\n|1.579,32|2013-03-01|\n|1.549,00|2013-04-01|\n|1.549,36|2013-05-01|\n+--------+----------+\nonly showing top 5 rows\n\n"
     ]
    }
   ],
   "source": [
    "# Alterando a coluna Valor para nome IFIX\n",
    "ifixData = ifixData.select(F.col('Valor').alias(\"IFIX\"), F.col('Data').alias(\"Data\"))\n",
    "ifixData.show(5)"
   ]
  },
  {
   "cell_type": "code",
   "execution_count": 0,
   "metadata": {
    "application/vnd.databricks.v1+cell": {
     "cellMetadata": {
      "byteLimit": 2048000,
      "rowLimit": 10000
     },
     "inputWidgets": {},
     "nuid": "81a3466b-c24e-4200-9a08-931278a77a1c",
     "showTitle": false,
     "title": ""
    }
   },
   "outputs": [
    {
     "output_type": "stream",
     "name": "stdout",
     "output_type": "stream",
     "text": [
      "+-------+----------+\n|   IFIX|      Data|\n+-------+----------+\n|1613,76|2013-01-01|\n|1597,88|2013-02-01|\n|1579,32|2013-03-01|\n|1549,00|2013-04-01|\n|1549,36|2013-05-01|\n+-------+----------+\nonly showing top 5 rows\n\n"
     ]
    }
   ],
   "source": [
    "# Retirando o ponto da casa de milhares\n",
    "from pyspark.sql.functions import regexp_replace\n",
    "ifixFinal = ifixData.withColumn(\"IFIX\", regexp_replace(\"IFIX\", \"\\.\", \"\"))\n",
    "ifixFinal.show(5)"
   ]
  },
  {
   "cell_type": "code",
   "execution_count": 0,
   "metadata": {
    "application/vnd.databricks.v1+cell": {
     "cellMetadata": {
      "byteLimit": 2048000,
      "rowLimit": 10000
     },
     "inputWidgets": {},
     "nuid": "c0e64582-5ea0-445a-9fd1-fed5622bfe89",
     "showTitle": false,
     "title": ""
    }
   },
   "outputs": [
    {
     "output_type": "stream",
     "name": "stdout",
     "output_type": "stream",
     "text": [
      "+-------+----------+\n|   IFIX|      Data|\n+-------+----------+\n|1613.76|2013-01-01|\n|1597.88|2013-02-01|\n|1579.32|2013-03-01|\n|1549.00|2013-04-01|\n|1549.36|2013-05-01|\n+-------+----------+\nonly showing top 5 rows\n\n"
     ]
    }
   ],
   "source": [
    "# Trocando virgula por ponto\n",
    "ifixFinal = ifixFinal.withColumn(\"IFIX\", F.regexp_replace(F.col(\"IFIX\"), \"[,]\", \".\"))\n",
    "ifixFinal.show(5)"
   ]
  },
  {
   "cell_type": "code",
   "execution_count": 0,
   "metadata": {
    "application/vnd.databricks.v1+cell": {
     "cellMetadata": {
      "byteLimit": 2048000,
      "rowLimit": 10000
     },
     "inputWidgets": {},
     "nuid": "b5f73d2a-6b36-4b56-9ed5-996e834517ee",
     "showTitle": false,
     "title": ""
    }
   },
   "outputs": [
    {
     "output_type": "stream",
     "name": "stdout",
     "output_type": "stream",
     "text": [
      "root\n |-- IFIX: string (nullable = true)\n |-- Data: date (nullable = true)\n\n"
     ]
    }
   ],
   "source": [
    "ifixFinal.printSchema()"
   ]
  },
  {
   "cell_type": "code",
   "execution_count": 0,
   "metadata": {
    "application/vnd.databricks.v1+cell": {
     "cellMetadata": {
      "byteLimit": 2048000,
      "rowLimit": 10000
     },
     "inputWidgets": {},
     "nuid": "ed037269-43e8-40b3-bc43-23df7f210b29",
     "showTitle": false,
     "title": ""
    }
   },
   "outputs": [],
   "source": [
    "ifixConcat = ifixFinal.withColumn(\"IFIX\", col(\"IFIX\").cast(\"Double\")) # trocando valor string para Double"
   ]
  },
  {
   "cell_type": "code",
   "execution_count": 0,
   "metadata": {
    "application/vnd.databricks.v1+cell": {
     "cellMetadata": {
      "byteLimit": 2048000,
      "rowLimit": 10000
     },
     "inputWidgets": {},
     "nuid": "985059a5-b5f0-4fc6-9059-d0115fd2cafc",
     "showTitle": false,
     "title": ""
    }
   },
   "outputs": [
    {
     "output_type": "stream",
     "name": "stdout",
     "output_type": "stream",
     "text": [
      "root\n |-- IFIX: double (nullable = true)\n |-- Data: date (nullable = true)\n\n"
     ]
    }
   ],
   "source": [
    "ifixConcat.printSchema()"
   ]
  },
  {
   "cell_type": "code",
   "execution_count": 0,
   "metadata": {
    "application/vnd.databricks.v1+cell": {
     "cellMetadata": {
      "byteLimit": 2048000,
      "rowLimit": 10000
     },
     "inputWidgets": {},
     "nuid": "fa8a7906-68c7-4a57-8392-10b87c13929c",
     "showTitle": false,
     "title": ""
    }
   },
   "outputs": [
    {
     "output_type": "stream",
     "name": "stdout",
     "output_type": "stream",
     "text": [
      "+-------+----------+\n|   IFIX|      Data|\n+-------+----------+\n|1613.76|2013-01-01|\n|1597.88|2013-02-01|\n|1579.32|2013-03-01|\n| 1549.0|2013-04-01|\n|1549.36|2013-05-01|\n+-------+----------+\nonly showing top 5 rows\n\n"
     ]
    }
   ],
   "source": [
    "ifixConcat.show(5)"
   ]
  },
  {
   "cell_type": "code",
   "execution_count": 0,
   "metadata": {
    "application/vnd.databricks.v1+cell": {
     "cellMetadata": {
      "byteLimit": 2048000,
      "rowLimit": 10000
     },
     "inputWidgets": {},
     "nuid": "0988243c-fe94-461f-8c34-6c8b72b10600",
     "showTitle": false,
     "title": ""
    }
   },
   "outputs": [
    {
     "output_type": "display_data",
     "data": {
      "text/html": [
       "<style scoped>\n",
       "  .table-result-container {\n",
       "    max-height: 300px;\n",
       "    overflow: auto;\n",
       "  }\n",
       "  table, th, td {\n",
       "    border: 1px solid black;\n",
       "    border-collapse: collapse;\n",
       "  }\n",
       "  th, td {\n",
       "    padding: 5px;\n",
       "  }\n",
       "  th {\n",
       "    text-align: left;\n",
       "  }\n",
       "</style><div class='table-result-container'><table class='table-result'><thead style='background-color: white'><tr><th>IFIX</th><th>Data</th></tr></thead><tbody><tr><td>1613.76</td><td>2013-01-01</td></tr><tr><td>1597.88</td><td>2013-02-01</td></tr><tr><td>1579.32</td><td>2013-03-01</td></tr><tr><td>1549.0</td><td>2013-04-01</td></tr><tr><td>1549.36</td><td>2013-05-01</td></tr><tr><td>1437.76</td><td>2013-06-01</td></tr><tr><td>1427.11</td><td>2013-07-01</td></tr><tr><td>1375.07</td><td>2013-08-01</td></tr><tr><td>1400.93</td><td>2013-09-01</td></tr><tr><td>1423.1</td><td>2013-10-01</td></tr><tr><td>1411.67</td><td>2013-11-01</td></tr><tr><td>1374.7</td><td>2013-12-01</td></tr><tr><td>1282.04</td><td>2014-01-01</td></tr><tr><td>1330.42</td><td>2014-02-01</td></tr><tr><td>1336.07</td><td>2014-03-01</td></tr><tr><td>1350.76</td><td>2014-04-01</td></tr><tr><td>1369.25</td><td>2014-05-01</td></tr><tr><td>1387.63</td><td>2014-06-01</td></tr><tr><td>1409.42</td><td>2014-07-01</td></tr><tr><td>1413.1</td><td>2014-08-01</td></tr><tr><td>1421.44</td><td>2014-09-01</td></tr><tr><td>1402.46</td><td>2014-10-01</td></tr><tr><td>1361.51</td><td>2014-11-01</td></tr><tr><td>1336.72</td><td>2014-12-01</td></tr><tr><td>1372.06</td><td>2015-01-01</td></tr><tr><td>1369.42</td><td>2015-02-01</td></tr><tr><td>1347.63</td><td>2015-03-01</td></tr><tr><td>1397.06</td><td>2015-04-01</td></tr><tr><td>1417.54</td><td>2015-05-01</td></tr><tr><td>1460.46</td><td>2015-06-01</td></tr><tr><td>1470.73</td><td>2015-07-01</td></tr><tr><td>1458.12</td><td>2015-08-01</td></tr><tr><td>1400.42</td><td>2015-09-01</td></tr><tr><td>1430.17</td><td>2015-10-01</td></tr><tr><td>1452.66</td><td>2015-11-01</td></tr><tr><td>1409.01</td><td>2015-12-01</td></tr><tr><td>1322.95</td><td>2016-01-01</td></tr><tr><td>1361.05</td><td>2016-02-01</td></tr><tr><td>1485.75</td><td>2016-03-01</td></tr><tr><td>1554.17</td><td>2016-04-01</td></tr><tr><td>1612.36</td><td>2016-05-01</td></tr><tr><td>1638.16</td><td>2016-06-01</td></tr><tr><td>1735.99</td><td>2016-07-01</td></tr><tr><td>1767.11</td><td>2016-08-01</td></tr><tr><td>1816.05</td><td>2016-09-01</td></tr><tr><td>1885.92</td><td>2016-10-01</td></tr><tr><td>1837.13</td><td>2016-11-01</td></tr><tr><td>1864.61</td><td>2016-12-01</td></tr><tr><td>1934.69</td><td>2017-01-01</td></tr><tr><td>2028.86</td><td>2017-02-01</td></tr><tr><td>2032.81</td><td>2017-03-01</td></tr><tr><td>2035.85</td><td>2017-04-01</td></tr><tr><td>2056.75</td><td>2017-05-01</td></tr><tr><td>2074.14</td><td>2017-06-01</td></tr><tr><td>2066.19</td><td>2017-07-01</td></tr><tr><td>2084.0</td><td>2017-08-01</td></tr><tr><td>2221.05</td><td>2017-09-01</td></tr><tr><td>2226.25</td><td>2017-10-01</td></tr><tr><td>2213.08</td><td>2017-11-01</td></tr><tr><td>2226.46</td><td>2017-12-01</td></tr><tr><td>2285.23</td><td>2018-01-01</td></tr><tr><td>2311.41</td><td>2018-02-01</td></tr><tr><td>2357.54</td><td>2018-03-01</td></tr><tr><td>2337.25</td><td>2018-04-01</td></tr><tr><td>2214.11</td><td>2018-05-01</td></tr><tr><td>2125.22</td><td>2018-06-01</td></tr><tr><td>2154.45</td><td>2018-07-01</td></tr><tr><td>2139.4</td><td>2018-08-01</td></tr><tr><td>2134.81</td><td>2018-09-01</td></tr><tr><td>2242.45</td><td>2018-10-01</td></tr><tr><td>2300.48</td><td>2018-11-01</td></tr><tr><td>2351.59</td><td>2018-12-01</td></tr><tr><td>2409.69</td><td>2019-01-01</td></tr><tr><td>2434.56</td><td>2019-02-01</td></tr><tr><td>2482.93</td><td>2019-03-01</td></tr><tr><td>2508.45</td><td>2019-04-01</td></tr><tr><td>2552.69</td><td>2019-05-01</td></tr><tr><td>2626.1</td><td>2019-06-01</td></tr><tr><td>2659.55</td><td>2019-07-01</td></tr><tr><td>2656.69</td><td>2019-08-01</td></tr><tr><td>2684.26</td><td>2019-09-01</td></tr><tr><td>2791.98</td><td>2019-10-01</td></tr><tr><td>2890.26</td><td>2019-11-01</td></tr><tr><td>3197.58</td><td>2019-12-01</td></tr><tr><td>3077.28</td><td>2020-01-01</td></tr><tr><td>2963.81</td><td>2020-02-01</td></tr><tr><td>2494.1</td><td>2020-03-01</td></tr><tr><td>2603.62</td><td>2020-04-01</td></tr><tr><td>2657.68</td><td>2020-05-01</td></tr><tr><td>2806.28</td><td>2020-06-01</td></tr><tr><td>2733.12</td><td>2020-07-01</td></tr><tr><td>2782.1</td><td>2020-08-01</td></tr><tr><td>2794.88</td><td>2020-09-01</td></tr><tr><td>2766.76</td><td>2020-10-01</td></tr><tr><td>2808.56</td><td>2020-11-01</td></tr><tr><td>2870.15</td><td>2020-12-01</td></tr><tr><td>2879.45</td><td>2021-01-01</td></tr><tr><td>2886.53</td><td>2021-02-01</td></tr><tr><td>2846.77</td><td>2021-03-01</td></tr><tr><td>2861.15</td><td>2021-04-01</td></tr><tr><td>2816.46</td><td>2021-05-01</td></tr><tr><td>2754.89</td><td>2021-06-01</td></tr><tr><td>2824.12</td><td>2021-07-01</td></tr><tr><td>2749.84</td><td>2021-08-01</td></tr><tr><td>2715.67</td><td>2021-09-01</td></tr><tr><td>2675.68</td><td>2021-10-01</td></tr><tr><td>2578.4</td><td>2021-11-01</td></tr><tr><td>2804.79</td><td>2021-12-01</td></tr><tr><td>2776.92</td><td>2022-01-01</td></tr><tr><td>2741.15</td><td>2022-02-01</td></tr><tr><td>2779.97</td><td>2022-03-01</td></tr><tr><td>2813.06</td><td>2022-04-01</td></tr><tr><td>2820.45</td><td>2022-05-01</td></tr><tr><td>2795.62</td><td>2022-06-01</td></tr><tr><td>2814.1</td><td>2022-07-01</td></tr><tr><td>2976.23</td><td>2022-08-01</td></tr><tr><td>2990.8</td><td>2022-09-01</td></tr><tr><td>2991.45</td><td>2022-10-01</td></tr><tr><td>2867.21</td><td>2022-11-01</td></tr><tr><td>2867.13</td><td>2022-12-01</td></tr><tr><td>2821.14</td><td>2023-01-01</td></tr><tr><td>2808.39</td><td>2023-02-01</td></tr><tr><td>2760.96</td><td>2023-03-01</td></tr><tr><td>2858.23</td><td>2023-04-01</td></tr><tr><td>3013.46</td><td>2023-05-01</td></tr><tr><td>3155.32</td><td>2023-06-01</td></tr><tr><td>3197.18</td><td>2023-07-01</td></tr><tr><td>3212.81</td><td>2023-08-01</td></tr><tr><td>3219.28</td><td>2023-09-01</td></tr><tr><td>3155.7</td><td>2023-10-01</td></tr><tr><td>3176.56</td><td>2023-11-01</td></tr><tr><td>3311.43</td><td>2023-12-01</td></tr><tr><td>3333.51</td><td>2024-01-01</td></tr><tr><td>3360.0</td><td>2024-02-01</td></tr><tr><td>3382.28</td><td>2024-03-01</td></tr></tbody></table></div>"
      ]
     },
     "metadata": {
      "application/vnd.databricks.v1+output": {
       "addedWidgets": {},
       "aggData": [],
       "aggError": "",
       "aggOverflow": false,
       "aggSchema": [],
       "aggSeriesLimitReached": false,
       "aggType": "",
       "arguments": {},
       "columnCustomDisplayInfos": {},
       "data": [
        [
         1613.76,
         "2013-01-01"
        ],
        [
         1597.88,
         "2013-02-01"
        ],
        [
         1579.32,
         "2013-03-01"
        ],
        [
         1549.0,
         "2013-04-01"
        ],
        [
         1549.36,
         "2013-05-01"
        ],
        [
         1437.76,
         "2013-06-01"
        ],
        [
         1427.11,
         "2013-07-01"
        ],
        [
         1375.07,
         "2013-08-01"
        ],
        [
         1400.93,
         "2013-09-01"
        ],
        [
         1423.1,
         "2013-10-01"
        ],
        [
         1411.67,
         "2013-11-01"
        ],
        [
         1374.7,
         "2013-12-01"
        ],
        [
         1282.04,
         "2014-01-01"
        ],
        [
         1330.42,
         "2014-02-01"
        ],
        [
         1336.07,
         "2014-03-01"
        ],
        [
         1350.76,
         "2014-04-01"
        ],
        [
         1369.25,
         "2014-05-01"
        ],
        [
         1387.63,
         "2014-06-01"
        ],
        [
         1409.42,
         "2014-07-01"
        ],
        [
         1413.1,
         "2014-08-01"
        ],
        [
         1421.44,
         "2014-09-01"
        ],
        [
         1402.46,
         "2014-10-01"
        ],
        [
         1361.51,
         "2014-11-01"
        ],
        [
         1336.72,
         "2014-12-01"
        ],
        [
         1372.06,
         "2015-01-01"
        ],
        [
         1369.42,
         "2015-02-01"
        ],
        [
         1347.63,
         "2015-03-01"
        ],
        [
         1397.06,
         "2015-04-01"
        ],
        [
         1417.54,
         "2015-05-01"
        ],
        [
         1460.46,
         "2015-06-01"
        ],
        [
         1470.73,
         "2015-07-01"
        ],
        [
         1458.12,
         "2015-08-01"
        ],
        [
         1400.42,
         "2015-09-01"
        ],
        [
         1430.17,
         "2015-10-01"
        ],
        [
         1452.66,
         "2015-11-01"
        ],
        [
         1409.01,
         "2015-12-01"
        ],
        [
         1322.95,
         "2016-01-01"
        ],
        [
         1361.05,
         "2016-02-01"
        ],
        [
         1485.75,
         "2016-03-01"
        ],
        [
         1554.17,
         "2016-04-01"
        ],
        [
         1612.36,
         "2016-05-01"
        ],
        [
         1638.16,
         "2016-06-01"
        ],
        [
         1735.99,
         "2016-07-01"
        ],
        [
         1767.11,
         "2016-08-01"
        ],
        [
         1816.05,
         "2016-09-01"
        ],
        [
         1885.92,
         "2016-10-01"
        ],
        [
         1837.13,
         "2016-11-01"
        ],
        [
         1864.61,
         "2016-12-01"
        ],
        [
         1934.69,
         "2017-01-01"
        ],
        [
         2028.86,
         "2017-02-01"
        ],
        [
         2032.81,
         "2017-03-01"
        ],
        [
         2035.85,
         "2017-04-01"
        ],
        [
         2056.75,
         "2017-05-01"
        ],
        [
         2074.14,
         "2017-06-01"
        ],
        [
         2066.19,
         "2017-07-01"
        ],
        [
         2084.0,
         "2017-08-01"
        ],
        [
         2221.05,
         "2017-09-01"
        ],
        [
         2226.25,
         "2017-10-01"
        ],
        [
         2213.08,
         "2017-11-01"
        ],
        [
         2226.46,
         "2017-12-01"
        ],
        [
         2285.23,
         "2018-01-01"
        ],
        [
         2311.41,
         "2018-02-01"
        ],
        [
         2357.54,
         "2018-03-01"
        ],
        [
         2337.25,
         "2018-04-01"
        ],
        [
         2214.11,
         "2018-05-01"
        ],
        [
         2125.22,
         "2018-06-01"
        ],
        [
         2154.45,
         "2018-07-01"
        ],
        [
         2139.4,
         "2018-08-01"
        ],
        [
         2134.81,
         "2018-09-01"
        ],
        [
         2242.45,
         "2018-10-01"
        ],
        [
         2300.48,
         "2018-11-01"
        ],
        [
         2351.59,
         "2018-12-01"
        ],
        [
         2409.69,
         "2019-01-01"
        ],
        [
         2434.56,
         "2019-02-01"
        ],
        [
         2482.93,
         "2019-03-01"
        ],
        [
         2508.45,
         "2019-04-01"
        ],
        [
         2552.69,
         "2019-05-01"
        ],
        [
         2626.1,
         "2019-06-01"
        ],
        [
         2659.55,
         "2019-07-01"
        ],
        [
         2656.69,
         "2019-08-01"
        ],
        [
         2684.26,
         "2019-09-01"
        ],
        [
         2791.98,
         "2019-10-01"
        ],
        [
         2890.26,
         "2019-11-01"
        ],
        [
         3197.58,
         "2019-12-01"
        ],
        [
         3077.28,
         "2020-01-01"
        ],
        [
         2963.81,
         "2020-02-01"
        ],
        [
         2494.1,
         "2020-03-01"
        ],
        [
         2603.62,
         "2020-04-01"
        ],
        [
         2657.68,
         "2020-05-01"
        ],
        [
         2806.28,
         "2020-06-01"
        ],
        [
         2733.12,
         "2020-07-01"
        ],
        [
         2782.1,
         "2020-08-01"
        ],
        [
         2794.88,
         "2020-09-01"
        ],
        [
         2766.76,
         "2020-10-01"
        ],
        [
         2808.56,
         "2020-11-01"
        ],
        [
         2870.15,
         "2020-12-01"
        ],
        [
         2879.45,
         "2021-01-01"
        ],
        [
         2886.53,
         "2021-02-01"
        ],
        [
         2846.77,
         "2021-03-01"
        ],
        [
         2861.15,
         "2021-04-01"
        ],
        [
         2816.46,
         "2021-05-01"
        ],
        [
         2754.89,
         "2021-06-01"
        ],
        [
         2824.12,
         "2021-07-01"
        ],
        [
         2749.84,
         "2021-08-01"
        ],
        [
         2715.67,
         "2021-09-01"
        ],
        [
         2675.68,
         "2021-10-01"
        ],
        [
         2578.4,
         "2021-11-01"
        ],
        [
         2804.79,
         "2021-12-01"
        ],
        [
         2776.92,
         "2022-01-01"
        ],
        [
         2741.15,
         "2022-02-01"
        ],
        [
         2779.97,
         "2022-03-01"
        ],
        [
         2813.06,
         "2022-04-01"
        ],
        [
         2820.45,
         "2022-05-01"
        ],
        [
         2795.62,
         "2022-06-01"
        ],
        [
         2814.1,
         "2022-07-01"
        ],
        [
         2976.23,
         "2022-08-01"
        ],
        [
         2990.8,
         "2022-09-01"
        ],
        [
         2991.45,
         "2022-10-01"
        ],
        [
         2867.21,
         "2022-11-01"
        ],
        [
         2867.13,
         "2022-12-01"
        ],
        [
         2821.14,
         "2023-01-01"
        ],
        [
         2808.39,
         "2023-02-01"
        ],
        [
         2760.96,
         "2023-03-01"
        ],
        [
         2858.23,
         "2023-04-01"
        ],
        [
         3013.46,
         "2023-05-01"
        ],
        [
         3155.32,
         "2023-06-01"
        ],
        [
         3197.18,
         "2023-07-01"
        ],
        [
         3212.81,
         "2023-08-01"
        ],
        [
         3219.28,
         "2023-09-01"
        ],
        [
         3155.7,
         "2023-10-01"
        ],
        [
         3176.56,
         "2023-11-01"
        ],
        [
         3311.43,
         "2023-12-01"
        ],
        [
         3333.51,
         "2024-01-01"
        ],
        [
         3360.0,
         "2024-02-01"
        ],
        [
         3382.28,
         "2024-03-01"
        ]
       ],
       "datasetInfos": [],
       "dbfsResultPath": null,
       "isJsonSchema": true,
       "metadata": {},
       "overflow": false,
       "plotOptions": {
        "customPlotOptions": {},
        "displayType": "table",
        "pivotAggregation": null,
        "pivotColumns": null,
        "xColumns": null,
        "yColumns": null
       },
       "removedWidgets": [],
       "schema": [
        {
         "metadata": "{}",
         "name": "IFIX",
         "type": "\"double\""
        },
        {
         "metadata": "{}",
         "name": "Data",
         "type": "\"date\""
        }
       ],
       "type": "table"
      }
     },
     "output_type": "display_data"
    },
    {
     "output_type": "display_data",
     "data": {
      "text/plain": [
       "Databricks visualization. Run in Databricks to view."
      ]
     },
     "metadata": {
      "application/vnd.databricks.v1.subcommand+json": {
       "baseErrorDetails": null,
       "bindings": {},
       "collapsed": false,
       "command": "display(ifix)",
       "commandTitle": "Visualization 1",
       "commandType": "auto",
       "commandVersion": 0,
       "commentThread": [],
       "commentsVisible": false,
       "contentSha256Hex": null,
       "customPlotOptions": {
        "boxPlot": [],
        "plotlyBar": [
         {
          "key": "grouped",
          "value": true
         },
         {
          "key": "stacked",
          "value": false
         },
         {
          "key": "100_stacked",
          "value": false
         }
        ]
       },
       "datasetPreviewNameToCmdIdMap": {},
       "diffDeletes": [],
       "diffInserts": [],
       "displayType": "boxPlot",
       "error": null,
       "errorDetails": null,
       "errorSummary": null,
       "errorTraceType": null,
       "finishTime": 0,
       "globalVars": {},
       "guid": "",
       "height": "251",
       "hideCommandCode": false,
       "hideCommandResult": false,
       "iPythonMetadata": null,
       "inputWidgets": {},
       "isLockedInExamMode": false,
       "latestUser": "a user",
       "latestUserId": null,
       "listResultMetadata": null,
       "metadata": {
        "byteLimit": 2048000,
        "rowLimit": 10000
       },
       "nuid": "bab02fb9-13cd-4625-9a2a-4bb50bc77519",
       "origId": 0,
       "parentHierarchy": [],
       "pivotAggregation": "sum",
       "pivotColumns": [],
       "position": 17.375,
       "resultDbfsErrorMessage": null,
       "resultDbfsStatus": "INLINED_IN_TREE",
       "results": null,
       "showCommandTitle": false,
       "startTime": 0,
       "state": "input",
       "streamStates": {},
       "subcommandOptions": null,
       "submitTime": 0,
       "subtype": "tableResultSubCmd.visualization",
       "tableResultIndex": 0,
       "useConsistentColors": false,
       "version": "CommandV1",
       "width": "744",
       "workflows": [],
       "xColumns": [],
       "yColumns": [
        "IFIX"
       ]
      }
     },
     "output_type": "display_data"
    }
   ],
   "source": [
    "display(ifixConcat)"
   ]
  },
  {
   "cell_type": "code",
   "execution_count": 0,
   "metadata": {
    "application/vnd.databricks.v1+cell": {
     "cellMetadata": {
      "byteLimit": 2048000,
      "rowLimit": 10000
     },
     "inputWidgets": {},
     "nuid": "77044907-4132-4670-ad53-91327b723c07",
     "showTitle": false,
     "title": ""
    }
   },
   "outputs": [
    {
     "output_type": "stream",
     "name": "stdout",
     "output_type": "stream",
     "text": [
      "+-------+-----------------+\n|summary|             IFIX|\n+-------+-----------------+\n|  count|              135|\n|   mean|2243.024074074075|\n| stddev|647.2107060950273|\n|    min|          1282.04|\n|    max|          3382.28|\n+-------+-----------------+\n\n"
     ]
    }
   ],
   "source": [
    "ifixConcat.describe().show()"
   ]
  },
  {
   "cell_type": "markdown",
   "metadata": {
    "application/vnd.databricks.v1+cell": {
     "cellMetadata": {
      "byteLimit": 2048000,
      "rowLimit": 10000
     },
     "inputWidgets": {},
     "nuid": "2f7e44a9-aa7e-4002-8115-79e2ae1ac7a6",
     "showTitle": false,
     "title": ""
    }
   },
   "source": [
    "#### Dataset SELIC  "
   ]
  },
  {
   "cell_type": "code",
   "execution_count": 0,
   "metadata": {
    "application/vnd.databricks.v1+cell": {
     "cellMetadata": {
      "byteLimit": 2048000,
      "rowLimit": 10000
     },
     "inputWidgets": {},
     "nuid": "6bdefe70-1a80-4fed-bc3a-3034c969513b",
     "showTitle": false,
     "title": ""
    }
   },
   "outputs": [],
   "source": [
    "selic = spark.read.format('csv').options(inferSchema=True, header='true',delimiter=';').load(historicoSELIC)"
   ]
  },
  {
   "cell_type": "code",
   "execution_count": 0,
   "metadata": {
    "application/vnd.databricks.v1+cell": {
     "cellMetadata": {
      "byteLimit": 2048000,
      "rowLimit": 10000
     },
     "inputWidgets": {},
     "nuid": "41d017e2-a9cf-4a0c-b712-ba0be1347f15",
     "showTitle": false,
     "title": ""
    }
   },
   "outputs": [
    {
     "output_type": "stream",
     "name": "stdout",
     "output_type": "stream",
     "text": [
      "+----------+----------+\n|      Data|Taxa SELIC|\n+----------+----------+\n|2014-01-02|       9,9|\n|2014-01-03|       9,9|\n|2014-01-06|       9,9|\n|2014-01-07|       9,9|\n|2014-01-08|       9,9|\n+----------+----------+\nonly showing top 5 rows\n\n"
     ]
    }
   ],
   "source": [
    "selic.show(5)"
   ]
  },
  {
   "cell_type": "code",
   "execution_count": 0,
   "metadata": {
    "application/vnd.databricks.v1+cell": {
     "cellMetadata": {
      "byteLimit": 2048000,
      "rowLimit": 10000
     },
     "inputWidgets": {},
     "nuid": "d1cfc8a7-69a2-41e3-90b2-d23a4e4bf9e8",
     "showTitle": false,
     "title": ""
    }
   },
   "outputs": [
    {
     "output_type": "stream",
     "name": "stdout",
     "output_type": "stream",
     "text": [
      "root\n |-- Data: date (nullable = true)\n |-- Taxa SELIC: string (nullable = true)\n\n"
     ]
    }
   ],
   "source": [
    "selic.printSchema()"
   ]
  },
  {
   "cell_type": "code",
   "execution_count": 0,
   "metadata": {
    "application/vnd.databricks.v1+cell": {
     "cellMetadata": {
      "byteLimit": 2048000,
      "rowLimit": 10000
     },
     "inputWidgets": {},
     "nuid": "7467bae3-188f-4dca-ac74-a20afb57890c",
     "showTitle": false,
     "title": ""
    }
   },
   "outputs": [
    {
     "output_type": "stream",
     "name": "stdout",
     "output_type": "stream",
     "text": [
      "+-----+----------+\n|SELIC|      Data|\n+-----+----------+\n|  9,9|2014-01-02|\n|  9,9|2014-01-03|\n|  9,9|2014-01-06|\n|  9,9|2014-01-07|\n|  9,9|2014-01-08|\n+-----+----------+\nonly showing top 5 rows\n\n"
     ]
    }
   ],
   "source": [
    "# Renomeando a coluna Taxa SELIC para apenas SELIC\n",
    "selic = selic.select(F.col('Taxa SELIC').alias(\"SELIC\"), F.col('Data').alias(\"Data\"))\n",
    "selic.show(5)"
   ]
  },
  {
   "cell_type": "code",
   "execution_count": 0,
   "metadata": {
    "application/vnd.databricks.v1+cell": {
     "cellMetadata": {
      "byteLimit": 2048000,
      "rowLimit": 10000
     },
     "inputWidgets": {},
     "nuid": "84a847be-390e-4713-9417-e17b3f7b6ad9",
     "showTitle": false,
     "title": ""
    }
   },
   "outputs": [
    {
     "output_type": "stream",
     "name": "stdout",
     "output_type": "stream",
     "text": [
      "+-----+----------+\n|SELIC|      Data|\n+-----+----------+\n|  9.9|2014-01-02|\n|  9.9|2014-01-03|\n|  9.9|2014-01-06|\n|  9.9|2014-01-07|\n|  9.9|2014-01-08|\n+-----+----------+\nonly showing top 5 rows\n\n"
     ]
    }
   ],
   "source": [
    "# Trocando virgula por ponto\n",
    "selic = selic.withColumn(\"SELIC\", F.regexp_replace(F.col(\"SELIC\"), \"[,]\", \".\")) # trocando ',' por '.'\n",
    "selic.show(5)"
   ]
  },
  {
   "cell_type": "code",
   "execution_count": 0,
   "metadata": {
    "application/vnd.databricks.v1+cell": {
     "cellMetadata": {
      "byteLimit": 2048000,
      "rowLimit": 10000
     },
     "inputWidgets": {},
     "nuid": "5612bc7e-5130-49c6-acbe-10b3ae335278",
     "showTitle": false,
     "title": ""
    }
   },
   "outputs": [
    {
     "output_type": "stream",
     "name": "stdout",
     "output_type": "stream",
     "text": [
      "+-----+----------+----------+\n|SELIC|      Data|ultimo_dia|\n+-----+----------+----------+\n| 10.4|2014-01-31|2014-01-31|\n|10.65|2014-02-28|2014-02-28|\n|10.65|2014-03-31|2014-03-31|\n| 10.9|2014-04-30|2014-04-30|\n| 10.9|2014-06-30|2014-06-30|\n+-----+----------+----------+\nonly showing top 5 rows\n\n"
     ]
    }
   ],
   "source": [
    "# Adicione uma nova coluna contendo o último dia de cada mês\n",
    "selicData = selic.withColumn(\"ultimo_dia\", last_day(\"Data\"))\n",
    "# Filtrando pelo último dia de cada mês\n",
    "selicData = selicData.filter(dayofmonth(\"Data\") == dayofmonth(\"ultimo_dia\"))\n",
    "selicData.show(5)"
   ]
  },
  {
   "cell_type": "code",
   "execution_count": 0,
   "metadata": {
    "application/vnd.databricks.v1+cell": {
     "cellMetadata": {
      "byteLimit": 2048000,
      "rowLimit": 10000
     },
     "inputWidgets": {},
     "nuid": "584de447-06d2-47a6-9185-b35d47db9080",
     "showTitle": false,
     "title": ""
    }
   },
   "outputs": [
    {
     "output_type": "stream",
     "name": "stdout",
     "output_type": "stream",
     "text": [
      "root\n |-- Data: date (nullable = true)\n |-- SELIC: string (nullable = true)\n\n"
     ]
    }
   ],
   "source": [
    "# Selecionando as colunas neessárias\n",
    "selicFinal = selicData.select('Data', 'SELIC')\n",
    "selicFinal.printSchema()"
   ]
  },
  {
   "cell_type": "code",
   "execution_count": 0,
   "metadata": {
    "application/vnd.databricks.v1+cell": {
     "cellMetadata": {
      "byteLimit": 2048000,
      "rowLimit": 10000
     },
     "inputWidgets": {},
     "nuid": "b3e8af20-1d3f-44c9-83cc-7314189f431b",
     "showTitle": false,
     "title": ""
    }
   },
   "outputs": [
    {
     "output_type": "display_data",
     "data": {
      "text/html": [
       "<style scoped>\n",
       "  .table-result-container {\n",
       "    max-height: 300px;\n",
       "    overflow: auto;\n",
       "  }\n",
       "  table, th, td {\n",
       "    border: 1px solid black;\n",
       "    border-collapse: collapse;\n",
       "  }\n",
       "  th, td {\n",
       "    padding: 5px;\n",
       "  }\n",
       "  th {\n",
       "    text-align: left;\n",
       "  }\n",
       "</style><div class='table-result-container'><table class='table-result'><thead style='background-color: white'><tr><th>Data</th><th>SELIC</th></tr></thead><tbody><tr><td>2014-01-31</td><td>10.4</td></tr><tr><td>2014-02-28</td><td>10.65</td></tr><tr><td>2014-03-31</td><td>10.65</td></tr><tr><td>2014-04-30</td><td>10.9</td></tr><tr><td>2014-06-30</td><td>10.9</td></tr><tr><td>2014-07-31</td><td>10.9</td></tr><tr><td>2014-09-30</td><td>10.9</td></tr><tr><td>2014-10-31</td><td>11.15</td></tr><tr><td>2014-12-31</td><td>11.65</td></tr><tr><td>2015-03-31</td><td>12.65</td></tr><tr><td>2015-04-30</td><td>13.15</td></tr><tr><td>2015-06-30</td><td>13.65</td></tr><tr><td>2015-07-31</td><td>14.15</td></tr><tr><td>2015-08-31</td><td>14.15</td></tr><tr><td>2015-09-30</td><td>14.15</td></tr><tr><td>2015-11-30</td><td>14.15</td></tr><tr><td>2015-12-31</td><td>14.15</td></tr><tr><td>2016-02-29</td><td>14.15</td></tr><tr><td>2016-03-31</td><td>14.15</td></tr><tr><td>2016-05-31</td><td>14.15</td></tr><tr><td>2016-06-30</td><td>14.15</td></tr><tr><td>2016-08-31</td><td>14.15</td></tr><tr><td>2016-09-30</td><td>14.15</td></tr><tr><td>2016-10-31</td><td>13.9</td></tr><tr><td>2016-11-30</td><td>13.9</td></tr><tr><td>2017-01-31</td><td>12.9</td></tr><tr><td>2017-03-31</td><td>12.15</td></tr><tr><td>2017-05-31</td><td>11.15</td></tr><tr><td>2017-06-30</td><td>10.15</td></tr><tr><td>2017-07-31</td><td>9.15</td></tr><tr><td>2017-08-31</td><td>9.15</td></tr><tr><td>2017-10-31</td><td>7.4</td></tr><tr><td>2017-11-30</td><td>7.4</td></tr><tr><td>2018-01-31</td><td>6.9</td></tr><tr><td>2018-02-28</td><td>6.65</td></tr><tr><td>2018-04-30</td><td>6.4</td></tr><tr><td>2018-07-31</td><td>6.4</td></tr><tr><td>2018-08-31</td><td>6.4</td></tr><tr><td>2018-10-31</td><td>6.4</td></tr><tr><td>2018-11-30</td><td>6.4</td></tr><tr><td>2018-12-31</td><td>6.4</td></tr><tr><td>2019-01-31</td><td>6.4</td></tr><tr><td>2019-02-28</td><td>6.4</td></tr><tr><td>2019-04-30</td><td>6.4</td></tr><tr><td>2019-05-31</td><td>6.4</td></tr><tr><td>2019-07-31</td><td>6.4</td></tr><tr><td>2019-09-30</td><td>5.4</td></tr><tr><td>2019-10-31</td><td>4.9</td></tr><tr><td>2019-12-31</td><td>4.4</td></tr><tr><td>2020-01-31</td><td>4.4</td></tr><tr><td>2020-03-31</td><td>3.65</td></tr><tr><td>2020-04-30</td><td>3.65</td></tr><tr><td>2020-06-30</td><td>2.15</td></tr><tr><td>2020-07-31</td><td>2.15</td></tr><tr><td>2020-08-31</td><td>1.9</td></tr><tr><td>2020-09-30</td><td>1.9</td></tr><tr><td>2020-11-30</td><td>1.9</td></tr><tr><td>2020-12-31</td><td>1.9</td></tr><tr><td>2021-03-31</td><td>2.65</td></tr><tr><td>2021-04-30</td><td>2.65</td></tr><tr><td>2021-05-31</td><td>3.4</td></tr><tr><td>2021-06-30</td><td>4.15</td></tr><tr><td>2021-08-31</td><td>5.15</td></tr><tr><td>2021-09-30</td><td>6.15</td></tr><tr><td>2021-11-30</td><td>7.65</td></tr><tr><td>2021-12-31</td><td>9.15</td></tr><tr><td>2022-01-31</td><td>9.15</td></tr><tr><td>2022-03-31</td><td>11.65</td></tr><tr><td>2022-05-31</td><td>12.65</td></tr><tr><td>2022-06-30</td><td>13.15</td></tr><tr><td>2022-08-31</td><td>13.65</td></tr><tr><td>2022-09-30</td><td>13.65</td></tr><tr><td>2022-10-31</td><td>13.65</td></tr><tr><td>2022-11-30</td><td>13.65</td></tr><tr><td>2023-01-31</td><td>13.65</td></tr><tr><td>2023-02-28</td><td>13.65</td></tr><tr><td>2023-03-31</td><td>13.65</td></tr><tr><td>2023-05-31</td><td>13.65</td></tr><tr><td>2023-06-30</td><td>13.65</td></tr><tr><td>2023-07-31</td><td>13.65</td></tr><tr><td>2023-08-31</td><td>13.15</td></tr><tr><td>2023-10-31</td><td>12.65</td></tr><tr><td>2023-11-30</td><td>12.15</td></tr><tr><td>2024-01-31</td><td>11.65</td></tr><tr><td>2024-02-29</td><td>11.15</td></tr></tbody></table></div>"
      ]
     },
     "metadata": {
      "application/vnd.databricks.v1+output": {
       "addedWidgets": {},
       "aggData": [],
       "aggError": "",
       "aggOverflow": false,
       "aggSchema": [],
       "aggSeriesLimitReached": false,
       "aggType": "",
       "arguments": {},
       "columnCustomDisplayInfos": {},
       "data": [
        [
         "2014-01-31",
         10.4
        ],
        [
         "2014-02-28",
         10.65
        ],
        [
         "2014-03-31",
         10.65
        ],
        [
         "2014-04-30",
         10.9
        ],
        [
         "2014-06-30",
         10.9
        ],
        [
         "2014-07-31",
         10.9
        ],
        [
         "2014-09-30",
         10.9
        ],
        [
         "2014-10-31",
         11.15
        ],
        [
         "2014-12-31",
         11.65
        ],
        [
         "2015-03-31",
         12.65
        ],
        [
         "2015-04-30",
         13.15
        ],
        [
         "2015-06-30",
         13.65
        ],
        [
         "2015-07-31",
         14.15
        ],
        [
         "2015-08-31",
         14.15
        ],
        [
         "2015-09-30",
         14.15
        ],
        [
         "2015-11-30",
         14.15
        ],
        [
         "2015-12-31",
         14.15
        ],
        [
         "2016-02-29",
         14.15
        ],
        [
         "2016-03-31",
         14.15
        ],
        [
         "2016-05-31",
         14.15
        ],
        [
         "2016-06-30",
         14.15
        ],
        [
         "2016-08-31",
         14.15
        ],
        [
         "2016-09-30",
         14.15
        ],
        [
         "2016-10-31",
         13.9
        ],
        [
         "2016-11-30",
         13.9
        ],
        [
         "2017-01-31",
         12.9
        ],
        [
         "2017-03-31",
         12.15
        ],
        [
         "2017-05-31",
         11.15
        ],
        [
         "2017-06-30",
         10.15
        ],
        [
         "2017-07-31",
         9.15
        ],
        [
         "2017-08-31",
         9.15
        ],
        [
         "2017-10-31",
         7.4
        ],
        [
         "2017-11-30",
         7.4
        ],
        [
         "2018-01-31",
         6.9
        ],
        [
         "2018-02-28",
         6.65
        ],
        [
         "2018-04-30",
         6.4
        ],
        [
         "2018-07-31",
         6.4
        ],
        [
         "2018-08-31",
         6.4
        ],
        [
         "2018-10-31",
         6.4
        ],
        [
         "2018-11-30",
         6.4
        ],
        [
         "2018-12-31",
         6.4
        ],
        [
         "2019-01-31",
         6.4
        ],
        [
         "2019-02-28",
         6.4
        ],
        [
         "2019-04-30",
         6.4
        ],
        [
         "2019-05-31",
         6.4
        ],
        [
         "2019-07-31",
         6.4
        ],
        [
         "2019-09-30",
         5.4
        ],
        [
         "2019-10-31",
         4.9
        ],
        [
         "2019-12-31",
         4.4
        ],
        [
         "2020-01-31",
         4.4
        ],
        [
         "2020-03-31",
         3.65
        ],
        [
         "2020-04-30",
         3.65
        ],
        [
         "2020-06-30",
         2.15
        ],
        [
         "2020-07-31",
         2.15
        ],
        [
         "2020-08-31",
         1.9
        ],
        [
         "2020-09-30",
         1.9
        ],
        [
         "2020-11-30",
         1.9
        ],
        [
         "2020-12-31",
         1.9
        ],
        [
         "2021-03-31",
         2.65
        ],
        [
         "2021-04-30",
         2.65
        ],
        [
         "2021-05-31",
         3.4
        ],
        [
         "2021-06-30",
         4.15
        ],
        [
         "2021-08-31",
         5.15
        ],
        [
         "2021-09-30",
         6.15
        ],
        [
         "2021-11-30",
         7.65
        ],
        [
         "2021-12-31",
         9.15
        ],
        [
         "2022-01-31",
         9.15
        ],
        [
         "2022-03-31",
         11.65
        ],
        [
         "2022-05-31",
         12.65
        ],
        [
         "2022-06-30",
         13.15
        ],
        [
         "2022-08-31",
         13.65
        ],
        [
         "2022-09-30",
         13.65
        ],
        [
         "2022-10-31",
         13.65
        ],
        [
         "2022-11-30",
         13.65
        ],
        [
         "2023-01-31",
         13.65
        ],
        [
         "2023-02-28",
         13.65
        ],
        [
         "2023-03-31",
         13.65
        ],
        [
         "2023-05-31",
         13.65
        ],
        [
         "2023-06-30",
         13.65
        ],
        [
         "2023-07-31",
         13.65
        ],
        [
         "2023-08-31",
         13.15
        ],
        [
         "2023-10-31",
         12.65
        ],
        [
         "2023-11-30",
         12.15
        ],
        [
         "2024-01-31",
         11.65
        ],
        [
         "2024-02-29",
         11.15
        ]
       ],
       "datasetInfos": [],
       "dbfsResultPath": null,
       "isJsonSchema": true,
       "metadata": {},
       "overflow": false,
       "plotOptions": {
        "customPlotOptions": {},
        "displayType": "table",
        "pivotAggregation": null,
        "pivotColumns": null,
        "xColumns": null,
        "yColumns": null
       },
       "removedWidgets": [],
       "schema": [
        {
         "metadata": "{\"__detected_date_formats\":\"d/M/yyyy\"}",
         "name": "Data",
         "type": "\"date\""
        },
        {
         "metadata": "{}",
         "name": "SELIC",
         "type": "\"double\""
        }
       ],
       "type": "table"
      }
     },
     "output_type": "display_data"
    },
    {
     "output_type": "display_data",
     "data": {
      "text/plain": [
       "Databricks visualization. Run in Databricks to view."
      ]
     },
     "metadata": {
      "application/vnd.databricks.v1.subcommand+json": {
       "baseErrorDetails": null,
       "bindings": {},
       "collapsed": false,
       "command": "%python\n__backend_agg_display_orig = display\n__backend_agg_dfs = []\ndef __backend_agg_display_new(df):\n    __backend_agg_df_modules = [\"pandas.core.frame\", \"databricks.koalas.frame\", \"pyspark.sql.dataframe\", \"pyspark.pandas.frame\", \"pyspark.sql.connect.dataframe\"]\n    if (type(df).__module__ in __backend_agg_df_modules and type(df).__name__ == 'DataFrame') or isinstance(df, list):\n        __backend_agg_dfs.append(df)\n\ndisplay = __backend_agg_display_new\n\ndef __backend_agg_user_code_fn():\n    import base64\n    exec(base64.standard_b64decode(\"c2VsaWMgPSBzZWxpYy53aXRoQ29sdW1uKCJTRUxJQyIsIGNvbCgiU0VMSUMiKS5jYXN0KCJmbG9hdCIpKSAjIHRyb2NhbmRvIHZhbG9yIHN0cmluZyBwYXJhIGZsb2F0CmRpc3BsYXkoc2VsaWMp\").decode())\n\ntry:\n    # run user code\n    __backend_agg_user_code_fn()\n\n    #reset display function\n    display = __backend_agg_display_orig\n\n    if len(__backend_agg_dfs) > 0:\n        # create a temp view\n        if type(__backend_agg_dfs[0]).__module__ == \"databricks.koalas.frame\":\n            # koalas dataframe\n            __backend_agg_dfs[0].to_spark().createOrReplaceTempView(\"DatabricksViewad2a972\")\n        elif type(__backend_agg_dfs[0]).__module__ == \"pandas.core.frame\" or isinstance(__backend_agg_dfs[0], list):\n            # pandas dataframe\n            spark.createDataFrame(__backend_agg_dfs[0]).createOrReplaceTempView(\"DatabricksViewad2a972\")\n        else:\n            __backend_agg_dfs[0].createOrReplaceTempView(\"DatabricksViewad2a972\")\n        #run backend agg\n        display(spark.sql(\"\"\"WITH q AS (select * from DatabricksViewad2a972) SELECT `SELIC` FROM q\"\"\"))\n    else:\n        displayHTML(\"dataframe no longer exists. If you're using dataframe.display(), use display(dataframe) instead.\")\n\n\nfinally:\n    spark.sql(\"drop view if exists DatabricksViewad2a972\")\n    display = __backend_agg_display_orig\n    del __backend_agg_display_new\n    del __backend_agg_display_orig\n    del __backend_agg_dfs\n    del __backend_agg_user_code_fn\n\n",
       "commandTitle": "Visualization 1",
       "commandType": "auto",
       "commandVersion": 0,
       "commentThread": [],
       "commentsVisible": false,
       "contentSha256Hex": null,
       "customPlotOptions": {
        "redashChart": [
         {
          "key": "type",
          "value": "CHART"
         },
         {
          "key": "options",
          "value": {
           "alignYAxesAtZero": true,
           "coefficient": 1,
           "columnConfigurationMap": {
            "y": [
             {
              "column": "SELIC",
              "id": "column_c77865a019"
             }
            ]
           },
           "dateTimeFormat": "DD/MM/YYYY HH:mm",
           "direction": {
            "type": "counterclockwise"
           },
           "error_y": {
            "type": "data",
            "visible": true
           },
           "globalSeriesType": "box",
           "legend": {
            "traceorder": "normal"
           },
           "missingValuesAsZero": true,
           "numberFormat": "0,0.[00000]",
           "percentFormat": "0[.]00%",
           "series": {
            "error_y": {
             "type": "data",
             "visible": true
            },
            "stacking": null
           },
           "seriesOptions": {
            "SELIC": {
             "name": "SELIC",
             "type": "box",
             "yAxis": 0
            },
            "column_c77865a019": {
             "name": "SELIC",
             "type": "box",
             "yAxis": 0
            }
           },
           "showDataLabels": false,
           "sizemode": "diameter",
           "sortX": true,
           "sortY": true,
           "swappedAxes": true,
           "textFormat": "",
           "useAggregationsUi": true,
           "valuesOptions": {},
           "version": 2,
           "xAxis": {
            "labels": {
             "enabled": true
            },
            "type": "-"
           },
           "yAxis": [
            {
             "type": "-"
            },
            {
             "opposite": true,
             "type": "-"
            }
           ]
          }
         }
        ]
       },
       "datasetPreviewNameToCmdIdMap": {},
       "diffDeletes": [],
       "diffInserts": [],
       "displayType": "redashChart",
       "error": null,
       "errorDetails": null,
       "errorSummary": null,
       "errorTraceType": null,
       "finishTime": 0,
       "globalVars": {},
       "guid": "",
       "height": "404",
       "hideCommandCode": false,
       "hideCommandResult": false,
       "iPythonMetadata": null,
       "inputWidgets": {},
       "isLockedInExamMode": false,
       "latestUser": "a user",
       "latestUserId": null,
       "listResultMetadata": null,
       "metadata": {
        "byteLimit": 2048000,
        "rowLimit": 10000
       },
       "nuid": "566a1708-1650-4376-9de0-a6c07dc73c7a",
       "origId": 0,
       "parentHierarchy": [],
       "pivotAggregation": null,
       "pivotColumns": null,
       "position": 17.9921875,
       "resultDbfsErrorMessage": null,
       "resultDbfsStatus": "INLINED_IN_TREE",
       "results": null,
       "showCommandTitle": false,
       "startTime": 0,
       "state": "input",
       "streamStates": {},
       "subcommandOptions": {
        "queryPlan": {
         "selects": [
          {
           "column": "SELIC",
           "type": "column"
          }
         ]
        }
       },
       "submitTime": 0,
       "subtype": "tableResultSubCmd.visualization",
       "tableResultIndex": 0,
       "useConsistentColors": false,
       "version": "CommandV1",
       "width": "887",
       "workflows": [],
       "xColumns": null,
       "yColumns": null
      }
     },
     "output_type": "display_data"
    }
   ],
   "source": [
    "# trocando valor string para double\n",
    "selicConcat = selicFinal.withColumn(\"SELIC\", col(\"SELIC\").cast(\"double\")) \n",
    "display(selicConcat)"
   ]
  },
  {
   "cell_type": "code",
   "execution_count": 0,
   "metadata": {
    "application/vnd.databricks.v1+cell": {
     "cellMetadata": {
      "byteLimit": 2048000,
      "rowLimit": 10000
     },
     "inputWidgets": {},
     "nuid": "f3fcf044-53e5-4966-b275-6001f22d3c6f",
     "showTitle": false,
     "title": ""
    }
   },
   "outputs": [
    {
     "output_type": "stream",
     "name": "stdout",
     "output_type": "stream",
     "text": [
      "root\n |-- Data: date (nullable = true)\n |-- SELIC: double (nullable = true)\n\n"
     ]
    }
   ],
   "source": [
    "selicConcat.printSchema()"
   ]
  },
  {
   "cell_type": "markdown",
   "metadata": {
    "application/vnd.databricks.v1+cell": {
     "cellMetadata": {
      "byteLimit": 2048000,
      "rowLimit": 10000
     },
     "inputWidgets": {},
     "nuid": "9c6a6575-a048-4708-9430-0ec346fe57ce",
     "showTitle": false,
     "title": ""
    }
   },
   "source": [
    "#### Dataset IGP-M"
   ]
  },
  {
   "cell_type": "code",
   "execution_count": 0,
   "metadata": {
    "application/vnd.databricks.v1+cell": {
     "cellMetadata": {
      "byteLimit": 2048000,
      "rowLimit": 10000
     },
     "inputWidgets": {},
     "nuid": "a939aa30-a7c0-452c-8062-6ee083b908ef",
     "showTitle": false,
     "title": ""
    }
   },
   "outputs": [],
   "source": [
    "igpm = spark.read.format('csv').options(inferSchema=True, header='true',delimiter=';').load(historicoIGPM)"
   ]
  },
  {
   "cell_type": "code",
   "execution_count": 0,
   "metadata": {
    "application/vnd.databricks.v1+cell": {
     "cellMetadata": {
      "byteLimit": 2048000,
      "rowLimit": 10000
     },
     "inputWidgets": {},
     "nuid": "d455222f-5e04-43e2-8312-dbcc76f89adc",
     "showTitle": false,
     "title": ""
    }
   },
   "outputs": [
    {
     "output_type": "display_data",
     "data": {
      "text/html": [
       "<style scoped>\n",
       "  .table-result-container {\n",
       "    max-height: 300px;\n",
       "    overflow: auto;\n",
       "  }\n",
       "  table, th, td {\n",
       "    border: 1px solid black;\n",
       "    border-collapse: collapse;\n",
       "  }\n",
       "  th, td {\n",
       "    padding: 5px;\n",
       "  }\n",
       "  th {\n",
       "    text-align: left;\n",
       "  }\n",
       "</style><div class='table-result-container'><table class='table-result'><thead style='background-color: white'><tr><th>Data</th><th>IGP-M</th></tr></thead><tbody><tr><td>01/06/1989</td><td>3,09E-05</td></tr><tr><td>01/07/1989</td><td>4,19E-05</td></tr><tr><td>01/08/1989</td><td>5,74E-05</td></tr><tr><td>01/09/1989</td><td>8,03E-05</td></tr><tr><td>01/10/1989</td><td>1,13E-04</td></tr><tr><td>01/11/1989</td><td>1,59E-04</td></tr><tr><td>01/12/1989</td><td>2,34E-04</td></tr><tr><td>01/01/1990</td><td>3,77E-04</td></tr><tr><td>01/02/1990</td><td>6,84E-04</td></tr><tr><td>01/03/1990</td><td>1,26E-03</td></tr><tr><td>01/04/1990</td><td>1,61E-03</td></tr><tr><td>01/05/1990</td><td>1,71E-03</td></tr><tr><td>01/06/1990</td><td>1,88E-03</td></tr><tr><td>01/07/1990</td><td>2,11E-03</td></tr><tr><td>01/08/1990</td><td>2,39E-03</td></tr><tr><td>01/09/1990</td><td>2,70E-03</td></tr><tr><td>01/10/1990</td><td>3,05E-03</td></tr><tr><td>01/11/1990</td><td>3,56E-03</td></tr><tr><td>01/12/1990</td><td>4,20E-03</td></tr><tr><td>01/01/1991</td><td>4,95E-03</td></tr><tr><td>01/02/1991</td><td>5,99E-03</td></tr><tr><td>01/03/1991</td><td>6,54E-03</td></tr><tr><td>01/04/1991</td><td>7,05E-03</td></tr><tr><td>01/05/1991</td><td>7,58E-03</td></tr><tr><td>01/06/1991</td><td>8,22E-03</td></tr><tr><td>01/07/1991</td><td>9,30E-03</td></tr><tr><td>01/08/1991</td><td>1,07E-02</td></tr><tr><td>01/09/1991</td><td>1,23E-02</td></tr><tr><td>01/10/1991</td><td>1,51E-02</td></tr><tr><td>01/11/1991</td><td>1,90E-02</td></tr><tr><td>01/12/1991</td><td>2,35E-02</td></tr><tr><td>01/01/1992</td><td>2,90E-02</td></tr><tr><td>01/02/1992</td><td>3,71E-02</td></tr><tr><td>01/03/1992</td><td>4,50E-02</td></tr><tr><td>01/04/1992</td><td>5,40E-02</td></tr><tr><td>01/05/1992</td><td>6,50E-02</td></tr><tr><td>01/06/1992</td><td>8,04E-02</td></tr><tr><td>01/07/1992</td><td>9,79E-02</td></tr><tr><td>01/08/1992</td><td>1,22E-01</td></tr><tr><td>01/09/1992</td><td>1,53E-01</td></tr><tr><td>01/10/1992</td><td>1,94E-01</td></tr><tr><td>01/11/1992</td><td>2,39E-01</td></tr><tr><td>01/12/1992</td><td>2,99E-01</td></tr><tr><td>01/01/1993</td><td>3,76E-01</td></tr><tr><td>01/02/1993</td><td>4,83E-01</td></tr><tr><td>01/03/1993</td><td>6,10E-01</td></tr><tr><td>01/04/1993</td><td>7,86E-01</td></tr><tr><td>01/05/1993</td><td>1,02E+00</td></tr><tr><td>01/06/1993</td><td>1,34E+00</td></tr><tr><td>01/07/1993</td><td>1,76E+00</td></tr><tr><td>01/08/1993</td><td>2,32E+00</td></tr><tr><td>01/09/1993</td><td>3,14E+00</td></tr><tr><td>01/10/1993</td><td>4,24E+00</td></tr><tr><td>01/11/1993</td><td>5,77E+00</td></tr><tr><td>01/12/1993</td><td>7,98E+00</td></tr><tr><td>01/01/1994</td><td>1,11E+01</td></tr><tr><td>01/02/1994</td><td>1,56E+01</td></tr><tr><td>01/03/1994</td><td>2,28E+01</td></tr><tr><td>01/04/1994</td><td>3,21E+01</td></tr><tr><td>01/05/1994</td><td>4,57E+01</td></tr><tr><td>01/06/1994</td><td>6,64E+01</td></tr><tr><td>01/07/1994</td><td>9,30E+01</td></tr><tr><td>01/08/1994</td><td>100</td></tr><tr><td>01/09/1994</td><td>101,751</td></tr><tr><td>01/10/1994</td><td>103,602</td></tr><tr><td>01/11/1994</td><td>106,553</td></tr><tr><td>01/12/1994</td><td>107,45</td></tr><tr><td>01/01/1995</td><td>108,442</td></tr><tr><td>01/02/1995</td><td>109,945</td></tr><tr><td>01/03/1995</td><td>111,178</td></tr><tr><td>01/04/1995</td><td>113,518</td></tr><tr><td>01/05/1995</td><td>114,171</td></tr><tr><td>01/06/1995</td><td>116,984</td></tr><tr><td>01/07/1995</td><td>119,114</td></tr><tr><td>01/08/1995</td><td>121,729</td></tr><tr><td>01/09/1995</td><td>120,869</td></tr><tr><td>01/10/1995</td><td>121,503</td></tr><tr><td>01/11/1995</td><td>122,955</td></tr><tr><td>01/12/1995</td><td>123,833</td></tr><tr><td>01/01/1996</td><td>125,977</td></tr><tr><td>01/02/1996</td><td>127,202</td></tr><tr><td>01/03/1996</td><td>127,715</td></tr><tr><td>01/04/1996</td><td>128,13</td></tr><tr><td>01/05/1996</td><td>130,121</td></tr><tr><td>01/06/1996</td><td>131,445</td></tr><tr><td>01/07/1996</td><td>133,213</td></tr><tr><td>01/08/1996</td><td>133,587</td></tr><tr><td>01/09/1996</td><td>133,722</td></tr><tr><td>01/10/1996</td><td>133,978</td></tr><tr><td>01/11/1996</td><td>134,242</td></tr><tr><td>01/12/1996</td><td>135,225</td></tr><tr><td>01/01/1997</td><td>137,613</td></tr><tr><td>01/02/1997</td><td>138,204</td></tr><tr><td>01/03/1997</td><td>139,795</td></tr><tr><td>01/04/1997</td><td>140,742</td></tr><tr><td>01/05/1997</td><td>141,04</td></tr><tr><td>01/06/1997</td><td>142,09</td></tr><tr><td>01/07/1997</td><td>142,221</td></tr><tr><td>01/08/1997</td><td>142,353</td></tr><tr><td>01/09/1997</td><td>143,042</td></tr><tr><td>01/10/1997</td><td>143,567</td></tr><tr><td>01/11/1997</td><td>144,481</td></tr><tr><td>01/12/1997</td><td>145,695</td></tr><tr><td>01/01/1998</td><td>147,091</td></tr><tr><td>01/02/1998</td><td>147,356</td></tr><tr><td>01/03/1998</td><td>147,635</td></tr><tr><td>01/04/1998</td><td>147,821</td></tr><tr><td>01/05/1998</td><td>148,021</td></tr><tr><td>01/06/1998</td><td>148,588</td></tr><tr><td>01/07/1998</td><td>148,339</td></tr><tr><td>01/08/1998</td><td>148,109</td></tr><tr><td>01/09/1998</td><td>147,984</td></tr><tr><td>01/10/1998</td><td>148,1</td></tr><tr><td>01/11/1998</td><td>147,628</td></tr><tr><td>01/12/1998</td><td>148,291</td></tr><tr><td>01/01/1999</td><td>149,533</td></tr><tr><td>01/02/1999</td><td>154,933</td></tr><tr><td>01/03/1999</td><td>159,325</td></tr><tr><td>01/04/1999</td><td>160,459</td></tr><tr><td>01/05/1999</td><td>159,996</td></tr><tr><td>01/06/1999</td><td>160,573</td></tr><tr><td>01/07/1999</td><td>163,06</td></tr><tr><td>01/08/1999</td><td>165,603</td></tr><tr><td>01/09/1999</td><td>167,997</td></tr><tr><td>01/10/1999</td><td>170,861</td></tr><tr><td>01/11/1999</td><td>174,939</td></tr><tr><td>01/12/1999</td><td>178,099</td></tr><tr><td>01/01/2000</td><td>180,301</td></tr><tr><td>01/02/2000</td><td>180,935</td></tr><tr><td>01/03/2000</td><td>181,214</td></tr><tr><td>01/04/2000</td><td>181,635</td></tr><tr><td>01/05/2000</td><td>182,189</td></tr><tr><td>01/06/2000</td><td>183,745</td></tr><tr><td>01/07/2000</td><td>186,634</td></tr><tr><td>01/08/2000</td><td>191,087</td></tr><tr><td>01/09/2000</td><td>193,297</td></tr><tr><td>01/10/2000</td><td>194,04</td></tr><tr><td>01/11/2000</td><td>194,599</td></tr><tr><td>01/12/2000</td><td>195,827</td></tr><tr><td>01/01/2001</td><td>197,045</td></tr><tr><td>01/02/2001</td><td>197,491</td></tr><tr><td>01/03/2001</td><td>198,606</td></tr><tr><td>01/04/2001</td><td>200,591</td></tr><tr><td>01/05/2001</td><td>202,324</td></tr><tr><td>01/06/2001</td><td>204,31</td></tr><tr><td>01/07/2001</td><td>207,341</td></tr><tr><td>01/08/2001</td><td>210,211</td></tr><tr><td>01/09/2001</td><td>210,853</td></tr><tr><td>01/10/2001</td><td>213,339</td></tr><tr><td>01/11/2001</td><td>215,685</td></tr><tr><td>01/12/2001</td><td>216,163</td></tr><tr><td>01/01/2002</td><td>216,944</td></tr><tr><td>01/02/2002</td><td>217,074</td></tr><tr><td>01/03/2002</td><td>217,276</td></tr><tr><td>01/04/2002</td><td>218,486</td></tr><tr><td>01/05/2002</td><td>220,292</td></tr><tr><td>01/06/2002</td><td>223,688</td></tr><tr><td>01/07/2002</td><td>228,057</td></tr><tr><td>01/08/2002</td><td>233,348</td></tr><tr><td>01/09/2002</td><td>238,943</td></tr><tr><td>01/10/2002</td><td>248,199</td></tr><tr><td>01/11/2002</td><td>261,08</td></tr><tr><td>01/12/2002</td><td>270,867</td></tr><tr><td>01/01/2003</td><td>277,173</td></tr><tr><td>01/02/2003</td><td>283,506</td></tr><tr><td>01/03/2003</td><td>287,855</td></tr><tr><td>01/04/2003</td><td>290,512</td></tr><tr><td>01/05/2003</td><td>289,747</td></tr><tr><td>01/06/2003</td><td>286,843</td></tr><tr><td>01/07/2003</td><td>285,649</td></tr><tr><td>01/08/2003</td><td>286,735</td></tr><tr><td>01/09/2003</td><td>290,127</td></tr><tr><td>01/10/2003</td><td>291,229</td></tr><tr><td>01/11/2003</td><td>292,657</td></tr><tr><td>01/12/2003</td><td>294,455</td></tr><tr><td>01/01/2004</td><td>297,039</td></tr><tr><td>01/02/2004</td><td>299,097</td></tr><tr><td>01/03/2004</td><td>302,484</td></tr><tr><td>01/04/2004</td><td>306,151</td></tr><tr><td>01/05/2004</td><td>310,152</td></tr><tr><td>01/06/2004</td><td>314,419</td></tr><tr><td>01/07/2004</td><td>318,532</td></tr><tr><td>01/08/2004</td><td>322,412</td></tr><tr><td>01/09/2004</td><td>324,651</td></tr><tr><td>01/10/2004</td><td>325,925</td></tr><tr><td>01/11/2004</td><td>328,588</td></tr><tr><td>01/12/2004</td><td>331,005</td></tr><tr><td>01/01/2005</td><td>332,298</td></tr><tr><td>01/02/2005</td><td>333,288</td></tr><tr><td>01/03/2005</td><td>336,123</td></tr><tr><td>01/04/2005</td><td>339,03</td></tr><tr><td>01/05/2005</td><td>338,299</td></tr><tr><td>01/06/2005</td><td>336,801</td></tr><tr><td>01/07/2005</td><td>335,663</td></tr><tr><td>01/08/2005</td><td>333,474</td></tr><tr><td>01/09/2005</td><td>331,69</td></tr><tr><td>01/10/2005</td><td>333,694</td></tr><tr><td>01/11/2005</td><td>335,033</td></tr><tr><td>01/12/2005</td><td>335,006</td></tr><tr><td>01/01/2006</td><td>338,083</td></tr><tr><td>01/02/2006</td><td>338,128</td></tr><tr><td>01/03/2006</td><td>337,339</td></tr><tr><td>01/04/2006</td><td>335,921</td></tr><tr><td>01/05/2006</td><td>337,185</td></tr><tr><td>01/06/2006</td><td>339,712</td></tr><tr><td>01/07/2006</td><td>340,312</td></tr><tr><td>01/08/2006</td><td>341,574</td></tr><tr><td>01/09/2006</td><td>342,561</td></tr><tr><td>01/10/2006</td><td>344,155</td></tr><tr><td>01/11/2006</td><td>346,746</td></tr><tr><td>01/12/2006</td><td>347,842</td></tr><tr><td>01/01/2007</td><td>349,593</td></tr><tr><td>01/02/2007</td><td>350,524</td></tr><tr><td>01/03/2007</td><td>351,717</td></tr><tr><td>01/04/2007</td><td>351,869</td></tr><tr><td>01/05/2007</td><td>352,02</td></tr><tr><td>01/06/2007</td><td>352,936</td></tr><tr><td>01/07/2007</td><td>353,92</td></tr><tr><td>01/08/2007</td><td>357,404</td></tr><tr><td>01/09/2007</td><td>361,997</td></tr><tr><td>01/10/2007</td><td>365,794</td></tr><tr><td>01/11/2007</td><td>368,334</td></tr><tr><td>01/12/2007</td><td>374,815</td></tr><tr><td>01/01/2008</td><td>378,9</td></tr><tr><td>01/02/2008</td><td>380,906</td></tr><tr><td>01/03/2008</td><td>383,731</td></tr><tr><td>01/04/2008</td><td>386,38</td></tr><tr><td>01/05/2008</td><td>392,592</td></tr><tr><td>01/06/2008</td><td>400,382</td></tr><tr><td>01/07/2008</td><td>407,446</td></tr><tr><td>01/08/2008</td><td>406,127</td></tr><tr><td>01/09/2008</td><td>406,557</td></tr><tr><td>01/10/2008</td><td>410,524</td></tr><tr><td>01/11/2008</td><td>412,104</td></tr><tr><td>01/12/2008</td><td>411,575</td></tr><tr><td>01/01/2009</td><td>409,782</td></tr><tr><td>01/02/2009</td><td>410,849</td></tr><tr><td>01/03/2009</td><td>407,808</td></tr><tr><td>01/04/2009</td><td>407,181</td></tr><tr><td>01/05/2009</td><td>406,885</td></tr><tr><td>01/06/2009</td><td>406,486</td></tr><tr><td>01/07/2009</td><td>404,718</td></tr><tr><td>01/08/2009</td><td>403,253</td></tr><tr><td>01/09/2009</td><td>404,945</td></tr><tr><td>01/10/2009</td><td>405,129</td></tr><tr><td>01/11/2009</td><td>405,548</td></tr><tr><td>01/12/2009</td><td>404,499</td></tr><tr><td>01/01/2010</td><td>407,049</td></tr><tr><td>01/02/2010</td><td>411,843</td></tr><tr><td>01/03/2010</td><td>415,734</td></tr><tr><td>01/04/2010</td><td>418,917</td></tr><tr><td>01/05/2010</td><td>423,885</td></tr><tr><td>01/06/2010</td><td>427,489</td></tr><tr><td>01/07/2010</td><td>428,15</td></tr><tr><td>01/08/2010</td><td>431,445</td></tr><tr><td>01/09/2010</td><td>436,423</td></tr><tr><td>01/10/2010</td><td>440,829</td></tr><tr><td>01/11/2010</td><td>447,206</td></tr><tr><td>01/12/2010</td><td>450,301</td></tr><tr><td>01/01/2011</td><td>453,875</td></tr><tr><td>01/02/2011</td><td>458,397</td></tr><tr><td>01/03/2011</td><td>461,249</td></tr><tr><td>01/04/2011</td><td>463,311</td></tr><tr><td>01/05/2011</td><td>465,311</td></tr><tr><td>01/06/2011</td><td>464,463</td></tr><tr><td>01/07/2011</td><td>463,927</td></tr><tr><td>01/08/2011</td><td>465,968</td></tr><tr><td>01/09/2011</td><td>468,975</td></tr><tr><td>01/10/2011</td><td>471,466</td></tr><tr><td>01/11/2011</td><td>473,808</td></tr><tr><td>01/12/2011</td><td>473,252</td></tr><tr><td>01/01/2012</td><td>474,429</td></tr><tr><td>01/02/2012</td><td>474,138</td></tr><tr><td>01/03/2012</td><td>476,166</td></tr><tr><td>01/04/2012</td><td>480,229</td></tr><tr><td>01/05/2012</td><td>485,14</td></tr><tr><td>01/06/2012</td><td>488,342</td></tr><tr><td>01/07/2012</td><td>494,891</td></tr><tr><td>01/08/2012</td><td>501,957</td></tr><tr><td>01/09/2012</td><td>506,804</td></tr><tr><td>01/10/2012</td><td>506,926</td></tr><tr><td>01/11/2012</td><td>506,795</td></tr><tr><td>01/12/2012</td><td>510,252</td></tr><tr><td>01/01/2013</td><td>511,977</td></tr><tr><td>01/02/2013</td><td>513,467</td></tr><tr><td>01/03/2013</td><td>514,526</td></tr><tr><td>01/04/2013</td><td>515,276</td></tr><tr><td>01/05/2013</td><td>515,299</td></tr><tr><td>01/06/2013</td><td>519,153</td></tr><tr><td>01/07/2013</td><td>520,508</td></tr><tr><td>01/08/2013</td><td>521,27</td></tr><tr><td>01/09/2013</td><td>529,085</td></tr><tr><td>01/10/2013</td><td>533,621</td></tr><tr><td>01/11/2013</td><td>535,168</td></tr><tr><td>01/12/2013</td><td>538,37</td></tr><tr><td>01/01/2014</td><td>540,959</td></tr><tr><td>01/02/2014</td><td>543,038</td></tr><tr><td>01/03/2014</td><td>552,087</td></tr><tr><td>01/04/2014</td><td>556,42</td></tr><tr><td>01/05/2014</td><td>555,679</td></tr><tr><td>01/06/2014</td><td>551,554</td></tr><tr><td>01/07/2014</td><td>548,202</td></tr><tr><td>01/08/2014</td><td>546,745</td></tr><tr><td>01/09/2014</td><td>547,839</td></tr><tr><td>01/10/2014</td><td>549,396</td></tr><tr><td>01/11/2014</td><td>554,769</td></tr><tr><td>01/12/2014</td><td>558,213</td></tr><tr><td>01/01/2015</td><td>562,482</td></tr><tr><td>01/02/2015</td><td>564,004</td></tr><tr><td>01/03/2015</td><td>569,536</td></tr><tr><td>01/04/2015</td><td>576,175</td></tr><tr><td>01/05/2015</td><td>578,516</td></tr><tr><td>01/06/2015</td><td>582,401</td></tr><tr><td>01/07/2015</td><td>586,426</td></tr><tr><td>01/08/2015</td><td>588,042</td></tr><tr><td>01/09/2015</td><td>593,606</td></tr><tr><td>01/10/2015</td><td>604,832</td></tr><tr><td>01/11/2015</td><td>614,051</td></tr><tr><td>01/12/2015</td><td>617,044</td></tr><tr><td>01/01/2016</td><td>624,06</td></tr><tr><td>01/02/2016</td><td>632,114</td></tr><tr><td>01/03/2016</td><td>635,349</td></tr><tr><td>01/04/2016</td><td>637,434</td></tr><tr><td>01/05/2016</td><td>642,651</td></tr><tr><td>01/06/2016</td><td>653,496</td></tr><tr><td>01/07/2016</td><td>654,641</td></tr><tr><td>01/08/2016</td><td>655,602</td></tr><tr><td>01/09/2016</td><td>656,894</td></tr><tr><td>01/10/2016</td><td>657,927</td></tr><tr><td>01/11/2016</td><td>657,752</td></tr><tr><td>01/12/2016</td><td>661,304</td></tr><tr><td>01/01/2017</td><td>665,542</td></tr><tr><td>01/02/2017</td><td>666,099</td></tr><tr><td>01/03/2017</td><td>666,197</td></tr><tr><td>01/04/2017</td><td>658,898</td></tr><tr><td>01/05/2017</td><td>652,758</td></tr><tr><td>01/06/2017</td><td>648,409</td></tr><tr><td>01/07/2017</td><td>643,766</td></tr><tr><td>01/08/2017</td><td>644,383</td></tr><tr><td>01/09/2017</td><td>647,4</td></tr><tr><td>01/10/2017</td><td>648,672</td></tr><tr><td>01/11/2017</td><td>652,073</td></tr><tr><td>01/12/2017</td><td>657,859</td></tr><tr><td>01/01/2018</td><td>662,826</td></tr><tr><td>01/02/2018</td><td>663,311</td></tr><tr><td>01/03/2018</td><td>667,524</td></tr><tr><td>01/04/2018</td><td>671,327</td></tr><tr><td>01/05/2018</td><td>680,579</td></tr><tr><td>01/06/2018</td><td>693,287</td></tr><tr><td>01/07/2018</td><td>696,8</td></tr><tr><td>01/08/2018</td><td>701,677</td></tr><tr><td>01/09/2018</td><td>712,373</td></tr><tr><td>01/10/2018</td><td>718,684</td></tr><tr><td>01/11/2018</td><td>715,166</td></tr><tr><td>01/12/2018</td><td>707,441</td></tr><tr><td>01/01/2019</td><td>707,488</td></tr><tr><td>01/02/2019</td><td>713,747</td></tr><tr><td>01/03/2019</td><td>722,707</td></tr><tr><td>01/04/2019</td><td>729,346</td></tr><tr><td>01/05/2019</td><td>732,595</td></tr><tr><td>01/06/2019</td><td>738,421</td></tr><tr><td>01/07/2019</td><td>741,346</td></tr><tr><td>01/08/2019</td><td>736,402</td></tr><tr><td>01/09/2019</td><td>736,362</td></tr><tr><td>01/10/2019</td><td>741,333</td></tr><tr><td>01/11/2019</td><td>743,558</td></tr><tr><td>01/12/2019</td><td>759,112</td></tr><tr><td>01/01/2020</td><td>762,733</td></tr><tr><td>01/02/2020</td><td>762,423</td></tr><tr><td>01/03/2020</td><td>771,908</td></tr><tr><td>01/04/2020</td><td>778,101</td></tr><tr><td>01/05/2020</td><td>780,28</td></tr><tr><td>01/06/2020</td><td>792,429</td></tr><tr><td>01/07/2020</td><td>810,083</td></tr><tr><td>01/08/2020</td><td>832,313</td></tr><tr><td>01/09/2020</td><td>868,442</td></tr><tr><td>01/10/2020</td><td>896,505</td></tr><tr><td>01/11/2020</td><td>925,887</td></tr><tr><td>01/12/2020</td><td>934,758</td></tr><tr><td>01/01/2021</td><td>958,844</td></tr><tr><td>01/02/2021</td><td>983,063</td></tr><tr><td>01/03/2021</td><td>1011,948</td></tr><tr><td>01/04/2021</td><td>1027,211</td></tr><tr><td>01/05/2021</td><td>1069,289</td></tr><tr><td>01/06/2021</td><td>1075,733</td></tr><tr><td>01/07/2021</td><td>1084,095</td></tr><tr><td>01/08/2021</td><td>1091,29</td></tr><tr><td>01/09/2021</td><td>1084,312</td></tr><tr><td>01/10/2021</td><td>1091,283</td></tr><tr><td>01/11/2021</td><td>1091,483</td></tr><tr><td>01/12/2021</td><td>1100,988</td></tr><tr><td>01/01/2022</td><td>1120,999</td></tr><tr><td>01/02/2022</td><td>1141,546</td></tr><tr><td>01/03/2022</td><td>1161,418</td></tr><tr><td>01/04/2022</td><td>1177,809</td></tr><tr><td>01/05/2022</td><td>1183,953</td></tr><tr><td>01/06/2022</td><td>1190,882</td></tr><tr><td>01/07/2022</td><td>1193,337</td></tr><tr><td>01/08/2022</td><td>1185,004</td></tr><tr><td>01/09/2022</td><td>1173,793</td></tr><tr><td>01/10/2022</td><td>1162,391</td></tr><tr><td>01/11/2022</td><td>1155,829</td></tr><tr><td>01/12/2022</td><td>1161,006</td></tr><tr><td>01/01/2023</td><td>1163,465</td></tr><tr><td>01/02/2023</td><td>1162,761</td></tr><tr><td>01/03/2023</td><td>1163,359</td></tr><tr><td>01/04/2023</td><td>1152,307</td></tr><tr><td>01/05/2023</td><td>1131,058</td></tr><tr><td>01/06/2023</td><td>1109,23</td></tr><tr><td>01/07/2023</td><td>1101,204</td></tr><tr><td>01/08/2023</td><td>1099,71</td></tr><tr><td>01/09/2023</td><td>1103,74</td></tr><tr><td>01/10/2023</td><td>1109,236</td></tr><tr><td>01/11/2023</td><td>1115,815</td></tr><tr><td>01/12/2023</td><td>1124,072</td></tr><tr><td>01/01/2024</td><td>1124,879</td></tr><tr><td>01/02/2024</td><td>1119,061</td></tr></tbody></table></div>"
      ]
     },
     "metadata": {
      "application/vnd.databricks.v1+output": {
       "addedWidgets": {},
       "aggData": [],
       "aggError": "",
       "aggOverflow": false,
       "aggSchema": [],
       "aggSeriesLimitReached": false,
       "aggType": "",
       "arguments": {},
       "columnCustomDisplayInfos": {},
       "data": [
        [
         "01/06/1989",
         "3,09E-05"
        ],
        [
         "01/07/1989",
         "4,19E-05"
        ],
        [
         "01/08/1989",
         "5,74E-05"
        ],
        [
         "01/09/1989",
         "8,03E-05"
        ],
        [
         "01/10/1989",
         "1,13E-04"
        ],
        [
         "01/11/1989",
         "1,59E-04"
        ],
        [
         "01/12/1989",
         "2,34E-04"
        ],
        [
         "01/01/1990",
         "3,77E-04"
        ],
        [
         "01/02/1990",
         "6,84E-04"
        ],
        [
         "01/03/1990",
         "1,26E-03"
        ],
        [
         "01/04/1990",
         "1,61E-03"
        ],
        [
         "01/05/1990",
         "1,71E-03"
        ],
        [
         "01/06/1990",
         "1,88E-03"
        ],
        [
         "01/07/1990",
         "2,11E-03"
        ],
        [
         "01/08/1990",
         "2,39E-03"
        ],
        [
         "01/09/1990",
         "2,70E-03"
        ],
        [
         "01/10/1990",
         "3,05E-03"
        ],
        [
         "01/11/1990",
         "3,56E-03"
        ],
        [
         "01/12/1990",
         "4,20E-03"
        ],
        [
         "01/01/1991",
         "4,95E-03"
        ],
        [
         "01/02/1991",
         "5,99E-03"
        ],
        [
         "01/03/1991",
         "6,54E-03"
        ],
        [
         "01/04/1991",
         "7,05E-03"
        ],
        [
         "01/05/1991",
         "7,58E-03"
        ],
        [
         "01/06/1991",
         "8,22E-03"
        ],
        [
         "01/07/1991",
         "9,30E-03"
        ],
        [
         "01/08/1991",
         "1,07E-02"
        ],
        [
         "01/09/1991",
         "1,23E-02"
        ],
        [
         "01/10/1991",
         "1,51E-02"
        ],
        [
         "01/11/1991",
         "1,90E-02"
        ],
        [
         "01/12/1991",
         "2,35E-02"
        ],
        [
         "01/01/1992",
         "2,90E-02"
        ],
        [
         "01/02/1992",
         "3,71E-02"
        ],
        [
         "01/03/1992",
         "4,50E-02"
        ],
        [
         "01/04/1992",
         "5,40E-02"
        ],
        [
         "01/05/1992",
         "6,50E-02"
        ],
        [
         "01/06/1992",
         "8,04E-02"
        ],
        [
         "01/07/1992",
         "9,79E-02"
        ],
        [
         "01/08/1992",
         "1,22E-01"
        ],
        [
         "01/09/1992",
         "1,53E-01"
        ],
        [
         "01/10/1992",
         "1,94E-01"
        ],
        [
         "01/11/1992",
         "2,39E-01"
        ],
        [
         "01/12/1992",
         "2,99E-01"
        ],
        [
         "01/01/1993",
         "3,76E-01"
        ],
        [
         "01/02/1993",
         "4,83E-01"
        ],
        [
         "01/03/1993",
         "6,10E-01"
        ],
        [
         "01/04/1993",
         "7,86E-01"
        ],
        [
         "01/05/1993",
         "1,02E+00"
        ],
        [
         "01/06/1993",
         "1,34E+00"
        ],
        [
         "01/07/1993",
         "1,76E+00"
        ],
        [
         "01/08/1993",
         "2,32E+00"
        ],
        [
         "01/09/1993",
         "3,14E+00"
        ],
        [
         "01/10/1993",
         "4,24E+00"
        ],
        [
         "01/11/1993",
         "5,77E+00"
        ],
        [
         "01/12/1993",
         "7,98E+00"
        ],
        [
         "01/01/1994",
         "1,11E+01"
        ],
        [
         "01/02/1994",
         "1,56E+01"
        ],
        [
         "01/03/1994",
         "2,28E+01"
        ],
        [
         "01/04/1994",
         "3,21E+01"
        ],
        [
         "01/05/1994",
         "4,57E+01"
        ],
        [
         "01/06/1994",
         "6,64E+01"
        ],
        [
         "01/07/1994",
         "9,30E+01"
        ],
        [
         "01/08/1994",
         "100"
        ],
        [
         "01/09/1994",
         "101,751"
        ],
        [
         "01/10/1994",
         "103,602"
        ],
        [
         "01/11/1994",
         "106,553"
        ],
        [
         "01/12/1994",
         "107,45"
        ],
        [
         "01/01/1995",
         "108,442"
        ],
        [
         "01/02/1995",
         "109,945"
        ],
        [
         "01/03/1995",
         "111,178"
        ],
        [
         "01/04/1995",
         "113,518"
        ],
        [
         "01/05/1995",
         "114,171"
        ],
        [
         "01/06/1995",
         "116,984"
        ],
        [
         "01/07/1995",
         "119,114"
        ],
        [
         "01/08/1995",
         "121,729"
        ],
        [
         "01/09/1995",
         "120,869"
        ],
        [
         "01/10/1995",
         "121,503"
        ],
        [
         "01/11/1995",
         "122,955"
        ],
        [
         "01/12/1995",
         "123,833"
        ],
        [
         "01/01/1996",
         "125,977"
        ],
        [
         "01/02/1996",
         "127,202"
        ],
        [
         "01/03/1996",
         "127,715"
        ],
        [
         "01/04/1996",
         "128,13"
        ],
        [
         "01/05/1996",
         "130,121"
        ],
        [
         "01/06/1996",
         "131,445"
        ],
        [
         "01/07/1996",
         "133,213"
        ],
        [
         "01/08/1996",
         "133,587"
        ],
        [
         "01/09/1996",
         "133,722"
        ],
        [
         "01/10/1996",
         "133,978"
        ],
        [
         "01/11/1996",
         "134,242"
        ],
        [
         "01/12/1996",
         "135,225"
        ],
        [
         "01/01/1997",
         "137,613"
        ],
        [
         "01/02/1997",
         "138,204"
        ],
        [
         "01/03/1997",
         "139,795"
        ],
        [
         "01/04/1997",
         "140,742"
        ],
        [
         "01/05/1997",
         "141,04"
        ],
        [
         "01/06/1997",
         "142,09"
        ],
        [
         "01/07/1997",
         "142,221"
        ],
        [
         "01/08/1997",
         "142,353"
        ],
        [
         "01/09/1997",
         "143,042"
        ],
        [
         "01/10/1997",
         "143,567"
        ],
        [
         "01/11/1997",
         "144,481"
        ],
        [
         "01/12/1997",
         "145,695"
        ],
        [
         "01/01/1998",
         "147,091"
        ],
        [
         "01/02/1998",
         "147,356"
        ],
        [
         "01/03/1998",
         "147,635"
        ],
        [
         "01/04/1998",
         "147,821"
        ],
        [
         "01/05/1998",
         "148,021"
        ],
        [
         "01/06/1998",
         "148,588"
        ],
        [
         "01/07/1998",
         "148,339"
        ],
        [
         "01/08/1998",
         "148,109"
        ],
        [
         "01/09/1998",
         "147,984"
        ],
        [
         "01/10/1998",
         "148,1"
        ],
        [
         "01/11/1998",
         "147,628"
        ],
        [
         "01/12/1998",
         "148,291"
        ],
        [
         "01/01/1999",
         "149,533"
        ],
        [
         "01/02/1999",
         "154,933"
        ],
        [
         "01/03/1999",
         "159,325"
        ],
        [
         "01/04/1999",
         "160,459"
        ],
        [
         "01/05/1999",
         "159,996"
        ],
        [
         "01/06/1999",
         "160,573"
        ],
        [
         "01/07/1999",
         "163,06"
        ],
        [
         "01/08/1999",
         "165,603"
        ],
        [
         "01/09/1999",
         "167,997"
        ],
        [
         "01/10/1999",
         "170,861"
        ],
        [
         "01/11/1999",
         "174,939"
        ],
        [
         "01/12/1999",
         "178,099"
        ],
        [
         "01/01/2000",
         "180,301"
        ],
        [
         "01/02/2000",
         "180,935"
        ],
        [
         "01/03/2000",
         "181,214"
        ],
        [
         "01/04/2000",
         "181,635"
        ],
        [
         "01/05/2000",
         "182,189"
        ],
        [
         "01/06/2000",
         "183,745"
        ],
        [
         "01/07/2000",
         "186,634"
        ],
        [
         "01/08/2000",
         "191,087"
        ],
        [
         "01/09/2000",
         "193,297"
        ],
        [
         "01/10/2000",
         "194,04"
        ],
        [
         "01/11/2000",
         "194,599"
        ],
        [
         "01/12/2000",
         "195,827"
        ],
        [
         "01/01/2001",
         "197,045"
        ],
        [
         "01/02/2001",
         "197,491"
        ],
        [
         "01/03/2001",
         "198,606"
        ],
        [
         "01/04/2001",
         "200,591"
        ],
        [
         "01/05/2001",
         "202,324"
        ],
        [
         "01/06/2001",
         "204,31"
        ],
        [
         "01/07/2001",
         "207,341"
        ],
        [
         "01/08/2001",
         "210,211"
        ],
        [
         "01/09/2001",
         "210,853"
        ],
        [
         "01/10/2001",
         "213,339"
        ],
        [
         "01/11/2001",
         "215,685"
        ],
        [
         "01/12/2001",
         "216,163"
        ],
        [
         "01/01/2002",
         "216,944"
        ],
        [
         "01/02/2002",
         "217,074"
        ],
        [
         "01/03/2002",
         "217,276"
        ],
        [
         "01/04/2002",
         "218,486"
        ],
        [
         "01/05/2002",
         "220,292"
        ],
        [
         "01/06/2002",
         "223,688"
        ],
        [
         "01/07/2002",
         "228,057"
        ],
        [
         "01/08/2002",
         "233,348"
        ],
        [
         "01/09/2002",
         "238,943"
        ],
        [
         "01/10/2002",
         "248,199"
        ],
        [
         "01/11/2002",
         "261,08"
        ],
        [
         "01/12/2002",
         "270,867"
        ],
        [
         "01/01/2003",
         "277,173"
        ],
        [
         "01/02/2003",
         "283,506"
        ],
        [
         "01/03/2003",
         "287,855"
        ],
        [
         "01/04/2003",
         "290,512"
        ],
        [
         "01/05/2003",
         "289,747"
        ],
        [
         "01/06/2003",
         "286,843"
        ],
        [
         "01/07/2003",
         "285,649"
        ],
        [
         "01/08/2003",
         "286,735"
        ],
        [
         "01/09/2003",
         "290,127"
        ],
        [
         "01/10/2003",
         "291,229"
        ],
        [
         "01/11/2003",
         "292,657"
        ],
        [
         "01/12/2003",
         "294,455"
        ],
        [
         "01/01/2004",
         "297,039"
        ],
        [
         "01/02/2004",
         "299,097"
        ],
        [
         "01/03/2004",
         "302,484"
        ],
        [
         "01/04/2004",
         "306,151"
        ],
        [
         "01/05/2004",
         "310,152"
        ],
        [
         "01/06/2004",
         "314,419"
        ],
        [
         "01/07/2004",
         "318,532"
        ],
        [
         "01/08/2004",
         "322,412"
        ],
        [
         "01/09/2004",
         "324,651"
        ],
        [
         "01/10/2004",
         "325,925"
        ],
        [
         "01/11/2004",
         "328,588"
        ],
        [
         "01/12/2004",
         "331,005"
        ],
        [
         "01/01/2005",
         "332,298"
        ],
        [
         "01/02/2005",
         "333,288"
        ],
        [
         "01/03/2005",
         "336,123"
        ],
        [
         "01/04/2005",
         "339,03"
        ],
        [
         "01/05/2005",
         "338,299"
        ],
        [
         "01/06/2005",
         "336,801"
        ],
        [
         "01/07/2005",
         "335,663"
        ],
        [
         "01/08/2005",
         "333,474"
        ],
        [
         "01/09/2005",
         "331,69"
        ],
        [
         "01/10/2005",
         "333,694"
        ],
        [
         "01/11/2005",
         "335,033"
        ],
        [
         "01/12/2005",
         "335,006"
        ],
        [
         "01/01/2006",
         "338,083"
        ],
        [
         "01/02/2006",
         "338,128"
        ],
        [
         "01/03/2006",
         "337,339"
        ],
        [
         "01/04/2006",
         "335,921"
        ],
        [
         "01/05/2006",
         "337,185"
        ],
        [
         "01/06/2006",
         "339,712"
        ],
        [
         "01/07/2006",
         "340,312"
        ],
        [
         "01/08/2006",
         "341,574"
        ],
        [
         "01/09/2006",
         "342,561"
        ],
        [
         "01/10/2006",
         "344,155"
        ],
        [
         "01/11/2006",
         "346,746"
        ],
        [
         "01/12/2006",
         "347,842"
        ],
        [
         "01/01/2007",
         "349,593"
        ],
        [
         "01/02/2007",
         "350,524"
        ],
        [
         "01/03/2007",
         "351,717"
        ],
        [
         "01/04/2007",
         "351,869"
        ],
        [
         "01/05/2007",
         "352,02"
        ],
        [
         "01/06/2007",
         "352,936"
        ],
        [
         "01/07/2007",
         "353,92"
        ],
        [
         "01/08/2007",
         "357,404"
        ],
        [
         "01/09/2007",
         "361,997"
        ],
        [
         "01/10/2007",
         "365,794"
        ],
        [
         "01/11/2007",
         "368,334"
        ],
        [
         "01/12/2007",
         "374,815"
        ],
        [
         "01/01/2008",
         "378,9"
        ],
        [
         "01/02/2008",
         "380,906"
        ],
        [
         "01/03/2008",
         "383,731"
        ],
        [
         "01/04/2008",
         "386,38"
        ],
        [
         "01/05/2008",
         "392,592"
        ],
        [
         "01/06/2008",
         "400,382"
        ],
        [
         "01/07/2008",
         "407,446"
        ],
        [
         "01/08/2008",
         "406,127"
        ],
        [
         "01/09/2008",
         "406,557"
        ],
        [
         "01/10/2008",
         "410,524"
        ],
        [
         "01/11/2008",
         "412,104"
        ],
        [
         "01/12/2008",
         "411,575"
        ],
        [
         "01/01/2009",
         "409,782"
        ],
        [
         "01/02/2009",
         "410,849"
        ],
        [
         "01/03/2009",
         "407,808"
        ],
        [
         "01/04/2009",
         "407,181"
        ],
        [
         "01/05/2009",
         "406,885"
        ],
        [
         "01/06/2009",
         "406,486"
        ],
        [
         "01/07/2009",
         "404,718"
        ],
        [
         "01/08/2009",
         "403,253"
        ],
        [
         "01/09/2009",
         "404,945"
        ],
        [
         "01/10/2009",
         "405,129"
        ],
        [
         "01/11/2009",
         "405,548"
        ],
        [
         "01/12/2009",
         "404,499"
        ],
        [
         "01/01/2010",
         "407,049"
        ],
        [
         "01/02/2010",
         "411,843"
        ],
        [
         "01/03/2010",
         "415,734"
        ],
        [
         "01/04/2010",
         "418,917"
        ],
        [
         "01/05/2010",
         "423,885"
        ],
        [
         "01/06/2010",
         "427,489"
        ],
        [
         "01/07/2010",
         "428,15"
        ],
        [
         "01/08/2010",
         "431,445"
        ],
        [
         "01/09/2010",
         "436,423"
        ],
        [
         "01/10/2010",
         "440,829"
        ],
        [
         "01/11/2010",
         "447,206"
        ],
        [
         "01/12/2010",
         "450,301"
        ],
        [
         "01/01/2011",
         "453,875"
        ],
        [
         "01/02/2011",
         "458,397"
        ],
        [
         "01/03/2011",
         "461,249"
        ],
        [
         "01/04/2011",
         "463,311"
        ],
        [
         "01/05/2011",
         "465,311"
        ],
        [
         "01/06/2011",
         "464,463"
        ],
        [
         "01/07/2011",
         "463,927"
        ],
        [
         "01/08/2011",
         "465,968"
        ],
        [
         "01/09/2011",
         "468,975"
        ],
        [
         "01/10/2011",
         "471,466"
        ],
        [
         "01/11/2011",
         "473,808"
        ],
        [
         "01/12/2011",
         "473,252"
        ],
        [
         "01/01/2012",
         "474,429"
        ],
        [
         "01/02/2012",
         "474,138"
        ],
        [
         "01/03/2012",
         "476,166"
        ],
        [
         "01/04/2012",
         "480,229"
        ],
        [
         "01/05/2012",
         "485,14"
        ],
        [
         "01/06/2012",
         "488,342"
        ],
        [
         "01/07/2012",
         "494,891"
        ],
        [
         "01/08/2012",
         "501,957"
        ],
        [
         "01/09/2012",
         "506,804"
        ],
        [
         "01/10/2012",
         "506,926"
        ],
        [
         "01/11/2012",
         "506,795"
        ],
        [
         "01/12/2012",
         "510,252"
        ],
        [
         "01/01/2013",
         "511,977"
        ],
        [
         "01/02/2013",
         "513,467"
        ],
        [
         "01/03/2013",
         "514,526"
        ],
        [
         "01/04/2013",
         "515,276"
        ],
        [
         "01/05/2013",
         "515,299"
        ],
        [
         "01/06/2013",
         "519,153"
        ],
        [
         "01/07/2013",
         "520,508"
        ],
        [
         "01/08/2013",
         "521,27"
        ],
        [
         "01/09/2013",
         "529,085"
        ],
        [
         "01/10/2013",
         "533,621"
        ],
        [
         "01/11/2013",
         "535,168"
        ],
        [
         "01/12/2013",
         "538,37"
        ],
        [
         "01/01/2014",
         "540,959"
        ],
        [
         "01/02/2014",
         "543,038"
        ],
        [
         "01/03/2014",
         "552,087"
        ],
        [
         "01/04/2014",
         "556,42"
        ],
        [
         "01/05/2014",
         "555,679"
        ],
        [
         "01/06/2014",
         "551,554"
        ],
        [
         "01/07/2014",
         "548,202"
        ],
        [
         "01/08/2014",
         "546,745"
        ],
        [
         "01/09/2014",
         "547,839"
        ],
        [
         "01/10/2014",
         "549,396"
        ],
        [
         "01/11/2014",
         "554,769"
        ],
        [
         "01/12/2014",
         "558,213"
        ],
        [
         "01/01/2015",
         "562,482"
        ],
        [
         "01/02/2015",
         "564,004"
        ],
        [
         "01/03/2015",
         "569,536"
        ],
        [
         "01/04/2015",
         "576,175"
        ],
        [
         "01/05/2015",
         "578,516"
        ],
        [
         "01/06/2015",
         "582,401"
        ],
        [
         "01/07/2015",
         "586,426"
        ],
        [
         "01/08/2015",
         "588,042"
        ],
        [
         "01/09/2015",
         "593,606"
        ],
        [
         "01/10/2015",
         "604,832"
        ],
        [
         "01/11/2015",
         "614,051"
        ],
        [
         "01/12/2015",
         "617,044"
        ],
        [
         "01/01/2016",
         "624,06"
        ],
        [
         "01/02/2016",
         "632,114"
        ],
        [
         "01/03/2016",
         "635,349"
        ],
        [
         "01/04/2016",
         "637,434"
        ],
        [
         "01/05/2016",
         "642,651"
        ],
        [
         "01/06/2016",
         "653,496"
        ],
        [
         "01/07/2016",
         "654,641"
        ],
        [
         "01/08/2016",
         "655,602"
        ],
        [
         "01/09/2016",
         "656,894"
        ],
        [
         "01/10/2016",
         "657,927"
        ],
        [
         "01/11/2016",
         "657,752"
        ],
        [
         "01/12/2016",
         "661,304"
        ],
        [
         "01/01/2017",
         "665,542"
        ],
        [
         "01/02/2017",
         "666,099"
        ],
        [
         "01/03/2017",
         "666,197"
        ],
        [
         "01/04/2017",
         "658,898"
        ],
        [
         "01/05/2017",
         "652,758"
        ],
        [
         "01/06/2017",
         "648,409"
        ],
        [
         "01/07/2017",
         "643,766"
        ],
        [
         "01/08/2017",
         "644,383"
        ],
        [
         "01/09/2017",
         "647,4"
        ],
        [
         "01/10/2017",
         "648,672"
        ],
        [
         "01/11/2017",
         "652,073"
        ],
        [
         "01/12/2017",
         "657,859"
        ],
        [
         "01/01/2018",
         "662,826"
        ],
        [
         "01/02/2018",
         "663,311"
        ],
        [
         "01/03/2018",
         "667,524"
        ],
        [
         "01/04/2018",
         "671,327"
        ],
        [
         "01/05/2018",
         "680,579"
        ],
        [
         "01/06/2018",
         "693,287"
        ],
        [
         "01/07/2018",
         "696,8"
        ],
        [
         "01/08/2018",
         "701,677"
        ],
        [
         "01/09/2018",
         "712,373"
        ],
        [
         "01/10/2018",
         "718,684"
        ],
        [
         "01/11/2018",
         "715,166"
        ],
        [
         "01/12/2018",
         "707,441"
        ],
        [
         "01/01/2019",
         "707,488"
        ],
        [
         "01/02/2019",
         "713,747"
        ],
        [
         "01/03/2019",
         "722,707"
        ],
        [
         "01/04/2019",
         "729,346"
        ],
        [
         "01/05/2019",
         "732,595"
        ],
        [
         "01/06/2019",
         "738,421"
        ],
        [
         "01/07/2019",
         "741,346"
        ],
        [
         "01/08/2019",
         "736,402"
        ],
        [
         "01/09/2019",
         "736,362"
        ],
        [
         "01/10/2019",
         "741,333"
        ],
        [
         "01/11/2019",
         "743,558"
        ],
        [
         "01/12/2019",
         "759,112"
        ],
        [
         "01/01/2020",
         "762,733"
        ],
        [
         "01/02/2020",
         "762,423"
        ],
        [
         "01/03/2020",
         "771,908"
        ],
        [
         "01/04/2020",
         "778,101"
        ],
        [
         "01/05/2020",
         "780,28"
        ],
        [
         "01/06/2020",
         "792,429"
        ],
        [
         "01/07/2020",
         "810,083"
        ],
        [
         "01/08/2020",
         "832,313"
        ],
        [
         "01/09/2020",
         "868,442"
        ],
        [
         "01/10/2020",
         "896,505"
        ],
        [
         "01/11/2020",
         "925,887"
        ],
        [
         "01/12/2020",
         "934,758"
        ],
        [
         "01/01/2021",
         "958,844"
        ],
        [
         "01/02/2021",
         "983,063"
        ],
        [
         "01/03/2021",
         "1011,948"
        ],
        [
         "01/04/2021",
         "1027,211"
        ],
        [
         "01/05/2021",
         "1069,289"
        ],
        [
         "01/06/2021",
         "1075,733"
        ],
        [
         "01/07/2021",
         "1084,095"
        ],
        [
         "01/08/2021",
         "1091,29"
        ],
        [
         "01/09/2021",
         "1084,312"
        ],
        [
         "01/10/2021",
         "1091,283"
        ],
        [
         "01/11/2021",
         "1091,483"
        ],
        [
         "01/12/2021",
         "1100,988"
        ],
        [
         "01/01/2022",
         "1120,999"
        ],
        [
         "01/02/2022",
         "1141,546"
        ],
        [
         "01/03/2022",
         "1161,418"
        ],
        [
         "01/04/2022",
         "1177,809"
        ],
        [
         "01/05/2022",
         "1183,953"
        ],
        [
         "01/06/2022",
         "1190,882"
        ],
        [
         "01/07/2022",
         "1193,337"
        ],
        [
         "01/08/2022",
         "1185,004"
        ],
        [
         "01/09/2022",
         "1173,793"
        ],
        [
         "01/10/2022",
         "1162,391"
        ],
        [
         "01/11/2022",
         "1155,829"
        ],
        [
         "01/12/2022",
         "1161,006"
        ],
        [
         "01/01/2023",
         "1163,465"
        ],
        [
         "01/02/2023",
         "1162,761"
        ],
        [
         "01/03/2023",
         "1163,359"
        ],
        [
         "01/04/2023",
         "1152,307"
        ],
        [
         "01/05/2023",
         "1131,058"
        ],
        [
         "01/06/2023",
         "1109,23"
        ],
        [
         "01/07/2023",
         "1101,204"
        ],
        [
         "01/08/2023",
         "1099,71"
        ],
        [
         "01/09/2023",
         "1103,74"
        ],
        [
         "01/10/2023",
         "1109,236"
        ],
        [
         "01/11/2023",
         "1115,815"
        ],
        [
         "01/12/2023",
         "1124,072"
        ],
        [
         "01/01/2024",
         "1124,879"
        ],
        [
         "01/02/2024",
         "1119,061"
        ]
       ],
       "datasetInfos": [],
       "dbfsResultPath": null,
       "isJsonSchema": true,
       "metadata": {},
       "overflow": false,
       "plotOptions": {
        "customPlotOptions": {},
        "displayType": "table",
        "pivotAggregation": null,
        "pivotColumns": null,
        "xColumns": null,
        "yColumns": null
       },
       "removedWidgets": [],
       "schema": [
        {
         "metadata": "{}",
         "name": "Data",
         "type": "\"string\""
        },
        {
         "metadata": "{}",
         "name": "IGP-M",
         "type": "\"string\""
        }
       ],
       "type": "table"
      }
     },
     "output_type": "display_data"
    }
   ],
   "source": [
    "display(igpm)"
   ]
  },
  {
   "cell_type": "code",
   "execution_count": 0,
   "metadata": {
    "application/vnd.databricks.v1+cell": {
     "cellMetadata": {
      "byteLimit": 2048000,
      "rowLimit": 10000
     },
     "inputWidgets": {},
     "nuid": "f8bb2e26-5063-415b-ab01-8efb07cb03ff",
     "showTitle": false,
     "title": ""
    }
   },
   "outputs": [
    {
     "output_type": "stream",
     "name": "stdout",
     "output_type": "stream",
     "text": [
      "root\n |-- Data: string (nullable = true)\n |-- IGP-M: string (nullable = true)\n\n"
     ]
    }
   ],
   "source": [
    "igpm.printSchema()"
   ]
  },
  {
   "cell_type": "code",
   "execution_count": 0,
   "metadata": {
    "application/vnd.databricks.v1+cell": {
     "cellMetadata": {
      "byteLimit": 2048000,
      "rowLimit": 10000
     },
     "inputWidgets": {},
     "nuid": "b54491a5-2eb5-4a92-84bb-d7161ed61d8b",
     "showTitle": false,
     "title": ""
    }
   },
   "outputs": [
    {
     "output_type": "stream",
     "name": "stdout",
     "output_type": "stream",
     "text": [
      "+----------+--------+\n|      Data|   IGP-M|\n+----------+--------+\n|1989-06-01|3,09E-05|\n|1989-07-01|4,19E-05|\n|1989-08-01|5,74E-05|\n|1989-09-01|8,03E-05|\n|1989-10-01|1,13E-04|\n+----------+--------+\nonly showing top 5 rows\n\n"
     ]
    }
   ],
   "source": [
    "from pyspark.sql.functions import col, to_date, concat_ws, lit, date_format\n",
    "from pyspark.sql.types import DateType\n",
    "\n",
    "igpmData = igpm.withColumn(\"Data\", to_date(col(\"Data\"), \"dd/MM/yyyy\"))\n",
    "\n",
    "igpmData.show(5)"
   ]
  },
  {
   "cell_type": "code",
   "execution_count": 0,
   "metadata": {
    "application/vnd.databricks.v1+cell": {
     "cellMetadata": {
      "byteLimit": 2048000,
      "rowLimit": 10000
     },
     "inputWidgets": {},
     "nuid": "22f30861-2a35-4a1c-8cae-48351f6865bd",
     "showTitle": false,
     "title": ""
    }
   },
   "outputs": [
    {
     "output_type": "stream",
     "name": "stdout",
     "output_type": "stream",
     "text": [
      "+----------+-------+\n|      Data|  IGP-M|\n+----------+-------+\n|2013-01-01|511,977|\n|2013-02-01|513,467|\n|2013-03-01|514,526|\n|2013-04-01|515,276|\n|2013-05-01|515,299|\n+----------+-------+\nonly showing top 5 rows\n\n"
     ]
    }
   ],
   "source": [
    "# Filtrando valores a partir do ano de 2013\n",
    "igpmData = igpmData.filter(year(col(\"Data\")) >= 2013)\n",
    "igpmData.show(5)"
   ]
  },
  {
   "cell_type": "code",
   "execution_count": 0,
   "metadata": {
    "application/vnd.databricks.v1+cell": {
     "cellMetadata": {
      "byteLimit": 2048000,
      "rowLimit": 10000
     },
     "inputWidgets": {},
     "nuid": "e465bebf-1fdb-4240-88ff-841b67e22a8e",
     "showTitle": false,
     "title": ""
    }
   },
   "outputs": [
    {
     "output_type": "stream",
     "name": "stdout",
     "output_type": "stream",
     "text": [
      "root\n |-- Data: date (nullable = true)\n |-- IGP-M: string (nullable = true)\n\n"
     ]
    }
   ],
   "source": [
    "igpmData.printSchema()"
   ]
  },
  {
   "cell_type": "code",
   "execution_count": 0,
   "metadata": {
    "application/vnd.databricks.v1+cell": {
     "cellMetadata": {
      "byteLimit": 2048000,
      "rowLimit": 10000
     },
     "inputWidgets": {},
     "nuid": "95ba84cb-01ee-4b4b-943c-f30328ccedfc",
     "showTitle": false,
     "title": ""
    }
   },
   "outputs": [
    {
     "output_type": "stream",
     "name": "stdout",
     "output_type": "stream",
     "text": [
      "+----------+-------+\n|      Data|  IGP-M|\n+----------+-------+\n|2013-01-01|511.977|\n|2013-02-01|513.467|\n|2013-03-01|514.526|\n|2013-04-01|515.276|\n|2013-05-01|515.299|\n+----------+-------+\nonly showing top 5 rows\n\n"
     ]
    }
   ],
   "source": [
    "from pyspark.sql.functions import regexp_replace\n",
    "igpmValor = igpmData.withColumn(\"IGP-M\", F.regexp_replace(F.col(\"IGP-M\"), \"[,]\", \".\"))\n",
    "igpmValor.show(5)\n",
    "                                "
   ]
  },
  {
   "cell_type": "code",
   "execution_count": 0,
   "metadata": {
    "application/vnd.databricks.v1+cell": {
     "cellMetadata": {
      "byteLimit": 2048000,
      "rowLimit": 10000
     },
     "inputWidgets": {},
     "nuid": "cae62363-7a26-469c-8748-74475e13aa02",
     "showTitle": false,
     "title": ""
    }
   },
   "outputs": [
    {
     "output_type": "stream",
     "name": "stdout",
     "output_type": "stream",
     "text": [
      "root\n |-- Data: date (nullable = true)\n |-- IGP-M: string (nullable = true)\n\n"
     ]
    }
   ],
   "source": [
    "igpmValor.printSchema()"
   ]
  },
  {
   "cell_type": "code",
   "execution_count": 0,
   "metadata": {
    "application/vnd.databricks.v1+cell": {
     "cellMetadata": {
      "byteLimit": 2048000,
      "rowLimit": 10000
     },
     "inputWidgets": {},
     "nuid": "bb2fad84-6373-4b49-af65-6dae18a5c180",
     "showTitle": false,
     "title": ""
    }
   },
   "outputs": [
    {
     "output_type": "stream",
     "name": "stdout",
     "output_type": "stream",
     "text": [
      "+----------+-------+\n|      Data|  IGP-M|\n+----------+-------+\n|2013-01-01|511.977|\n|2013-02-01|513.467|\n|2013-03-01|514.526|\n|2013-04-01|515.276|\n|2013-05-01|515.299|\n+----------+-------+\nonly showing top 5 rows\n\n"
     ]
    }
   ],
   "source": [
    "igpmFinal = igpmValor.withColumn(\"IGP-M\", col(\"IGP-M\").cast(\"float\"))\n",
    "igpmFinal.show(5)"
   ]
  },
  {
   "cell_type": "code",
   "execution_count": 0,
   "metadata": {
    "application/vnd.databricks.v1+cell": {
     "cellMetadata": {
      "byteLimit": 2048000,
      "rowLimit": 10000
     },
     "inputWidgets": {},
     "nuid": "3db01c68-502f-4cca-a13d-5dc65d69c331",
     "showTitle": false,
     "title": ""
    }
   },
   "outputs": [
    {
     "output_type": "display_data",
     "data": {
      "text/html": [
       "<style scoped>\n",
       "  .table-result-container {\n",
       "    max-height: 300px;\n",
       "    overflow: auto;\n",
       "  }\n",
       "  table, th, td {\n",
       "    border: 1px solid black;\n",
       "    border-collapse: collapse;\n",
       "  }\n",
       "  th, td {\n",
       "    padding: 5px;\n",
       "  }\n",
       "  th {\n",
       "    text-align: left;\n",
       "  }\n",
       "</style><div class='table-result-container'><table class='table-result'><thead style='background-color: white'><tr><th>Data</th><th>IGP-M</th></tr></thead><tbody><tr><td>2013-01-01</td><td>511.977</td></tr><tr><td>2013-02-01</td><td>513.467</td></tr><tr><td>2013-03-01</td><td>514.526</td></tr><tr><td>2013-04-01</td><td>515.276</td></tr><tr><td>2013-05-01</td><td>515.299</td></tr><tr><td>2013-06-01</td><td>519.153</td></tr><tr><td>2013-07-01</td><td>520.508</td></tr><tr><td>2013-08-01</td><td>521.27</td></tr><tr><td>2013-09-01</td><td>529.085</td></tr><tr><td>2013-10-01</td><td>533.621</td></tr><tr><td>2013-11-01</td><td>535.168</td></tr><tr><td>2013-12-01</td><td>538.37</td></tr><tr><td>2014-01-01</td><td>540.959</td></tr><tr><td>2014-02-01</td><td>543.038</td></tr><tr><td>2014-03-01</td><td>552.087</td></tr><tr><td>2014-04-01</td><td>556.42</td></tr><tr><td>2014-05-01</td><td>555.679</td></tr><tr><td>2014-06-01</td><td>551.554</td></tr><tr><td>2014-07-01</td><td>548.202</td></tr><tr><td>2014-08-01</td><td>546.745</td></tr><tr><td>2014-09-01</td><td>547.839</td></tr><tr><td>2014-10-01</td><td>549.396</td></tr><tr><td>2014-11-01</td><td>554.769</td></tr><tr><td>2014-12-01</td><td>558.213</td></tr><tr><td>2015-01-01</td><td>562.482</td></tr><tr><td>2015-02-01</td><td>564.004</td></tr><tr><td>2015-03-01</td><td>569.536</td></tr><tr><td>2015-04-01</td><td>576.175</td></tr><tr><td>2015-05-01</td><td>578.516</td></tr><tr><td>2015-06-01</td><td>582.401</td></tr><tr><td>2015-07-01</td><td>586.426</td></tr><tr><td>2015-08-01</td><td>588.042</td></tr><tr><td>2015-09-01</td><td>593.606</td></tr><tr><td>2015-10-01</td><td>604.832</td></tr><tr><td>2015-11-01</td><td>614.051</td></tr><tr><td>2015-12-01</td><td>617.044</td></tr><tr><td>2016-01-01</td><td>624.06</td></tr><tr><td>2016-02-01</td><td>632.114</td></tr><tr><td>2016-03-01</td><td>635.349</td></tr><tr><td>2016-04-01</td><td>637.434</td></tr><tr><td>2016-05-01</td><td>642.651</td></tr><tr><td>2016-06-01</td><td>653.496</td></tr><tr><td>2016-07-01</td><td>654.641</td></tr><tr><td>2016-08-01</td><td>655.602</td></tr><tr><td>2016-09-01</td><td>656.894</td></tr><tr><td>2016-10-01</td><td>657.927</td></tr><tr><td>2016-11-01</td><td>657.752</td></tr><tr><td>2016-12-01</td><td>661.304</td></tr><tr><td>2017-01-01</td><td>665.542</td></tr><tr><td>2017-02-01</td><td>666.099</td></tr><tr><td>2017-03-01</td><td>666.197</td></tr><tr><td>2017-04-01</td><td>658.898</td></tr><tr><td>2017-05-01</td><td>652.758</td></tr><tr><td>2017-06-01</td><td>648.409</td></tr><tr><td>2017-07-01</td><td>643.766</td></tr><tr><td>2017-08-01</td><td>644.383</td></tr><tr><td>2017-09-01</td><td>647.4</td></tr><tr><td>2017-10-01</td><td>648.672</td></tr><tr><td>2017-11-01</td><td>652.073</td></tr><tr><td>2017-12-01</td><td>657.859</td></tr><tr><td>2018-01-01</td><td>662.826</td></tr><tr><td>2018-02-01</td><td>663.311</td></tr><tr><td>2018-03-01</td><td>667.524</td></tr><tr><td>2018-04-01</td><td>671.327</td></tr><tr><td>2018-05-01</td><td>680.579</td></tr><tr><td>2018-06-01</td><td>693.287</td></tr><tr><td>2018-07-01</td><td>696.8</td></tr><tr><td>2018-08-01</td><td>701.677</td></tr><tr><td>2018-09-01</td><td>712.373</td></tr><tr><td>2018-10-01</td><td>718.684</td></tr><tr><td>2018-11-01</td><td>715.166</td></tr><tr><td>2018-12-01</td><td>707.441</td></tr><tr><td>2019-01-01</td><td>707.488</td></tr><tr><td>2019-02-01</td><td>713.747</td></tr><tr><td>2019-03-01</td><td>722.707</td></tr><tr><td>2019-04-01</td><td>729.346</td></tr><tr><td>2019-05-01</td><td>732.595</td></tr><tr><td>2019-06-01</td><td>738.421</td></tr><tr><td>2019-07-01</td><td>741.346</td></tr><tr><td>2019-08-01</td><td>736.402</td></tr><tr><td>2019-09-01</td><td>736.362</td></tr><tr><td>2019-10-01</td><td>741.333</td></tr><tr><td>2019-11-01</td><td>743.558</td></tr><tr><td>2019-12-01</td><td>759.112</td></tr><tr><td>2020-01-01</td><td>762.733</td></tr><tr><td>2020-02-01</td><td>762.423</td></tr><tr><td>2020-03-01</td><td>771.908</td></tr><tr><td>2020-04-01</td><td>778.101</td></tr><tr><td>2020-05-01</td><td>780.28</td></tr><tr><td>2020-06-01</td><td>792.429</td></tr><tr><td>2020-07-01</td><td>810.083</td></tr><tr><td>2020-08-01</td><td>832.313</td></tr><tr><td>2020-09-01</td><td>868.442</td></tr><tr><td>2020-10-01</td><td>896.505</td></tr><tr><td>2020-11-01</td><td>925.887</td></tr><tr><td>2020-12-01</td><td>934.758</td></tr><tr><td>2021-01-01</td><td>958.844</td></tr><tr><td>2021-02-01</td><td>983.063</td></tr><tr><td>2021-03-01</td><td>1011.948</td></tr><tr><td>2021-04-01</td><td>1027.211</td></tr><tr><td>2021-05-01</td><td>1069.289</td></tr><tr><td>2021-06-01</td><td>1075.733</td></tr><tr><td>2021-07-01</td><td>1084.095</td></tr><tr><td>2021-08-01</td><td>1091.29</td></tr><tr><td>2021-09-01</td><td>1084.312</td></tr><tr><td>2021-10-01</td><td>1091.283</td></tr><tr><td>2021-11-01</td><td>1091.483</td></tr><tr><td>2021-12-01</td><td>1100.988</td></tr><tr><td>2022-01-01</td><td>1120.999</td></tr><tr><td>2022-02-01</td><td>1141.546</td></tr><tr><td>2022-03-01</td><td>1161.418</td></tr><tr><td>2022-04-01</td><td>1177.809</td></tr><tr><td>2022-05-01</td><td>1183.953</td></tr><tr><td>2022-06-01</td><td>1190.882</td></tr><tr><td>2022-07-01</td><td>1193.337</td></tr><tr><td>2022-08-01</td><td>1185.004</td></tr><tr><td>2022-09-01</td><td>1173.793</td></tr><tr><td>2022-10-01</td><td>1162.391</td></tr><tr><td>2022-11-01</td><td>1155.829</td></tr><tr><td>2022-12-01</td><td>1161.006</td></tr><tr><td>2023-01-01</td><td>1163.465</td></tr><tr><td>2023-02-01</td><td>1162.761</td></tr><tr><td>2023-03-01</td><td>1163.359</td></tr><tr><td>2023-04-01</td><td>1152.307</td></tr><tr><td>2023-05-01</td><td>1131.058</td></tr><tr><td>2023-06-01</td><td>1109.23</td></tr><tr><td>2023-07-01</td><td>1101.204</td></tr><tr><td>2023-08-01</td><td>1099.71</td></tr><tr><td>2023-09-01</td><td>1103.74</td></tr><tr><td>2023-10-01</td><td>1109.236</td></tr><tr><td>2023-11-01</td><td>1115.815</td></tr><tr><td>2023-12-01</td><td>1124.072</td></tr><tr><td>2024-01-01</td><td>1124.879</td></tr><tr><td>2024-02-01</td><td>1119.061</td></tr></tbody></table></div>"
      ]
     },
     "metadata": {
      "application/vnd.databricks.v1+output": {
       "addedWidgets": {},
       "aggData": [],
       "aggError": "",
       "aggOverflow": false,
       "aggSchema": [],
       "aggSeriesLimitReached": false,
       "aggType": "",
       "arguments": {},
       "columnCustomDisplayInfos": {},
       "data": [
        [
         "2013-01-01",
         511.977
        ],
        [
         "2013-02-01",
         513.467
        ],
        [
         "2013-03-01",
         514.526
        ],
        [
         "2013-04-01",
         515.276
        ],
        [
         "2013-05-01",
         515.299
        ],
        [
         "2013-06-01",
         519.153
        ],
        [
         "2013-07-01",
         520.508
        ],
        [
         "2013-08-01",
         521.27
        ],
        [
         "2013-09-01",
         529.085
        ],
        [
         "2013-10-01",
         533.621
        ],
        [
         "2013-11-01",
         535.168
        ],
        [
         "2013-12-01",
         538.37
        ],
        [
         "2014-01-01",
         540.959
        ],
        [
         "2014-02-01",
         543.038
        ],
        [
         "2014-03-01",
         552.087
        ],
        [
         "2014-04-01",
         556.42
        ],
        [
         "2014-05-01",
         555.679
        ],
        [
         "2014-06-01",
         551.554
        ],
        [
         "2014-07-01",
         548.202
        ],
        [
         "2014-08-01",
         546.745
        ],
        [
         "2014-09-01",
         547.839
        ],
        [
         "2014-10-01",
         549.396
        ],
        [
         "2014-11-01",
         554.769
        ],
        [
         "2014-12-01",
         558.213
        ],
        [
         "2015-01-01",
         562.482
        ],
        [
         "2015-02-01",
         564.004
        ],
        [
         "2015-03-01",
         569.536
        ],
        [
         "2015-04-01",
         576.175
        ],
        [
         "2015-05-01",
         578.516
        ],
        [
         "2015-06-01",
         582.401
        ],
        [
         "2015-07-01",
         586.426
        ],
        [
         "2015-08-01",
         588.042
        ],
        [
         "2015-09-01",
         593.606
        ],
        [
         "2015-10-01",
         604.832
        ],
        [
         "2015-11-01",
         614.051
        ],
        [
         "2015-12-01",
         617.044
        ],
        [
         "2016-01-01",
         624.06
        ],
        [
         "2016-02-01",
         632.114
        ],
        [
         "2016-03-01",
         635.349
        ],
        [
         "2016-04-01",
         637.434
        ],
        [
         "2016-05-01",
         642.651
        ],
        [
         "2016-06-01",
         653.496
        ],
        [
         "2016-07-01",
         654.641
        ],
        [
         "2016-08-01",
         655.602
        ],
        [
         "2016-09-01",
         656.894
        ],
        [
         "2016-10-01",
         657.927
        ],
        [
         "2016-11-01",
         657.752
        ],
        [
         "2016-12-01",
         661.304
        ],
        [
         "2017-01-01",
         665.542
        ],
        [
         "2017-02-01",
         666.099
        ],
        [
         "2017-03-01",
         666.197
        ],
        [
         "2017-04-01",
         658.898
        ],
        [
         "2017-05-01",
         652.758
        ],
        [
         "2017-06-01",
         648.409
        ],
        [
         "2017-07-01",
         643.766
        ],
        [
         "2017-08-01",
         644.383
        ],
        [
         "2017-09-01",
         647.4
        ],
        [
         "2017-10-01",
         648.672
        ],
        [
         "2017-11-01",
         652.073
        ],
        [
         "2017-12-01",
         657.859
        ],
        [
         "2018-01-01",
         662.826
        ],
        [
         "2018-02-01",
         663.311
        ],
        [
         "2018-03-01",
         667.524
        ],
        [
         "2018-04-01",
         671.327
        ],
        [
         "2018-05-01",
         680.579
        ],
        [
         "2018-06-01",
         693.287
        ],
        [
         "2018-07-01",
         696.8
        ],
        [
         "2018-08-01",
         701.677
        ],
        [
         "2018-09-01",
         712.373
        ],
        [
         "2018-10-01",
         718.684
        ],
        [
         "2018-11-01",
         715.166
        ],
        [
         "2018-12-01",
         707.441
        ],
        [
         "2019-01-01",
         707.488
        ],
        [
         "2019-02-01",
         713.747
        ],
        [
         "2019-03-01",
         722.707
        ],
        [
         "2019-04-01",
         729.346
        ],
        [
         "2019-05-01",
         732.595
        ],
        [
         "2019-06-01",
         738.421
        ],
        [
         "2019-07-01",
         741.346
        ],
        [
         "2019-08-01",
         736.402
        ],
        [
         "2019-09-01",
         736.362
        ],
        [
         "2019-10-01",
         741.333
        ],
        [
         "2019-11-01",
         743.558
        ],
        [
         "2019-12-01",
         759.112
        ],
        [
         "2020-01-01",
         762.733
        ],
        [
         "2020-02-01",
         762.423
        ],
        [
         "2020-03-01",
         771.908
        ],
        [
         "2020-04-01",
         778.101
        ],
        [
         "2020-05-01",
         780.28
        ],
        [
         "2020-06-01",
         792.429
        ],
        [
         "2020-07-01",
         810.083
        ],
        [
         "2020-08-01",
         832.313
        ],
        [
         "2020-09-01",
         868.442
        ],
        [
         "2020-10-01",
         896.505
        ],
        [
         "2020-11-01",
         925.887
        ],
        [
         "2020-12-01",
         934.758
        ],
        [
         "2021-01-01",
         958.844
        ],
        [
         "2021-02-01",
         983.063
        ],
        [
         "2021-03-01",
         1011.948
        ],
        [
         "2021-04-01",
         1027.211
        ],
        [
         "2021-05-01",
         1069.289
        ],
        [
         "2021-06-01",
         1075.733
        ],
        [
         "2021-07-01",
         1084.095
        ],
        [
         "2021-08-01",
         1091.29
        ],
        [
         "2021-09-01",
         1084.312
        ],
        [
         "2021-10-01",
         1091.283
        ],
        [
         "2021-11-01",
         1091.483
        ],
        [
         "2021-12-01",
         1100.988
        ],
        [
         "2022-01-01",
         1120.999
        ],
        [
         "2022-02-01",
         1141.546
        ],
        [
         "2022-03-01",
         1161.418
        ],
        [
         "2022-04-01",
         1177.809
        ],
        [
         "2022-05-01",
         1183.953
        ],
        [
         "2022-06-01",
         1190.882
        ],
        [
         "2022-07-01",
         1193.337
        ],
        [
         "2022-08-01",
         1185.004
        ],
        [
         "2022-09-01",
         1173.793
        ],
        [
         "2022-10-01",
         1162.391
        ],
        [
         "2022-11-01",
         1155.829
        ],
        [
         "2022-12-01",
         1161.006
        ],
        [
         "2023-01-01",
         1163.465
        ],
        [
         "2023-02-01",
         1162.761
        ],
        [
         "2023-03-01",
         1163.359
        ],
        [
         "2023-04-01",
         1152.307
        ],
        [
         "2023-05-01",
         1131.058
        ],
        [
         "2023-06-01",
         1109.23
        ],
        [
         "2023-07-01",
         1101.204
        ],
        [
         "2023-08-01",
         1099.71
        ],
        [
         "2023-09-01",
         1103.74
        ],
        [
         "2023-10-01",
         1109.236
        ],
        [
         "2023-11-01",
         1115.815
        ],
        [
         "2023-12-01",
         1124.072
        ],
        [
         "2024-01-01",
         1124.879
        ],
        [
         "2024-02-01",
         1119.061
        ]
       ],
       "datasetInfos": [],
       "dbfsResultPath": null,
       "isJsonSchema": true,
       "metadata": {},
       "overflow": false,
       "plotOptions": {
        "customPlotOptions": {},
        "displayType": "table",
        "pivotAggregation": null,
        "pivotColumns": null,
        "xColumns": null,
        "yColumns": null
       },
       "removedWidgets": [],
       "schema": [
        {
         "metadata": "{}",
         "name": "Data",
         "type": "\"date\""
        },
        {
         "metadata": "{}",
         "name": "IGP-M",
         "type": "\"float\""
        }
       ],
       "type": "table"
      }
     },
     "output_type": "display_data"
    },
    {
     "output_type": "display_data",
     "data": {
      "text/plain": [
       "Databricks visualization. Run in Databricks to view."
      ]
     },
     "metadata": {
      "application/vnd.databricks.v1.subcommand+json": {
       "baseErrorDetails": null,
       "bindings": {},
       "collapsed": false,
       "command": "%python\n__backend_agg_display_orig = display\n__backend_agg_dfs = []\ndef __backend_agg_display_new(df):\n    __backend_agg_df_modules = [\"pandas.core.frame\", \"databricks.koalas.frame\", \"pyspark.sql.dataframe\", \"pyspark.pandas.frame\", \"pyspark.sql.connect.dataframe\"]\n    if (type(df).__module__ in __backend_agg_df_modules and type(df).__name__ == 'DataFrame') or isinstance(df, list):\n        __backend_agg_dfs.append(df)\n\ndisplay = __backend_agg_display_new\n\ndef __backend_agg_user_code_fn():\n    import base64\n    exec(base64.standard_b64decode(\"ZGlzcGxheShpZ3BtRmluYWwp\").decode())\n\ntry:\n    # run user code\n    __backend_agg_user_code_fn()\n\n    #reset display function\n    display = __backend_agg_display_orig\n\n    if len(__backend_agg_dfs) > 0:\n        # create a temp view\n        if type(__backend_agg_dfs[0]).__module__ == \"databricks.koalas.frame\":\n            # koalas dataframe\n            __backend_agg_dfs[0].to_spark().createOrReplaceTempView(\"DatabricksViewfbf4228\")\n        elif type(__backend_agg_dfs[0]).__module__ == \"pandas.core.frame\" or isinstance(__backend_agg_dfs[0], list):\n            # pandas dataframe\n            spark.createDataFrame(__backend_agg_dfs[0]).createOrReplaceTempView(\"DatabricksViewfbf4228\")\n        else:\n            __backend_agg_dfs[0].createOrReplaceTempView(\"DatabricksViewfbf4228\")\n        #run backend agg\n        display(spark.sql(\"\"\"WITH q AS (select * from DatabricksViewfbf4228) SELECT `IGP-M` FROM q\"\"\"))\n    else:\n        displayHTML(\"dataframe no longer exists. If you're using dataframe.display(), use display(dataframe) instead.\")\n\n\nfinally:\n    spark.sql(\"drop view if exists DatabricksViewfbf4228\")\n    display = __backend_agg_display_orig\n    del __backend_agg_display_new\n    del __backend_agg_display_orig\n    del __backend_agg_dfs\n    del __backend_agg_user_code_fn\n\n",
       "commandTitle": "Visualization 1",
       "commandType": "auto",
       "commandVersion": 0,
       "commentThread": [],
       "commentsVisible": false,
       "contentSha256Hex": null,
       "customPlotOptions": {
        "redashChart": [
         {
          "key": "type",
          "value": "CHART"
         },
         {
          "key": "options",
          "value": {
           "alignYAxesAtZero": true,
           "coefficient": 1,
           "columnConfigurationMap": {
            "y": [
             {
              "column": "IGP-M",
              "id": "column_26f905295"
             }
            ]
           },
           "dateTimeFormat": "DD/MM/YYYY HH:mm",
           "direction": {
            "type": "counterclockwise"
           },
           "error_y": {
            "type": "data",
            "visible": true
           },
           "globalSeriesType": "box",
           "legend": {
            "traceorder": "normal"
           },
           "missingValuesAsZero": true,
           "numberFormat": "0,0.[00000]",
           "percentFormat": "0[.]00%",
           "series": {
            "error_y": {
             "type": "data",
             "visible": true
            },
            "stacking": null
           },
           "seriesOptions": {
            "IGP-M": {
             "name": "IGP-M",
             "type": "box",
             "yAxis": 0
            },
            "column_26f905292": {
             "name": "IGP-M",
             "type": "box",
             "yAxis": 0
            }
           },
           "showDataLabels": false,
           "sizemode": "diameter",
           "sortX": true,
           "sortY": true,
           "swappedAxes": true,
           "textFormat": "",
           "useAggregationsUi": true,
           "valuesOptions": {},
           "version": 2,
           "xAxis": {
            "labels": {
             "enabled": true
            },
            "type": "-"
           },
           "yAxis": [
            {
             "type": "-"
            },
            {
             "opposite": true,
             "type": "-"
            }
           ]
          }
         }
        ]
       },
       "datasetPreviewNameToCmdIdMap": {},
       "diffDeletes": [],
       "diffInserts": [],
       "displayType": "redashChart",
       "error": null,
       "errorDetails": null,
       "errorSummary": null,
       "errorTraceType": null,
       "finishTime": 0,
       "globalVars": {},
       "guid": "",
       "height": "398",
       "hideCommandCode": false,
       "hideCommandResult": false,
       "iPythonMetadata": null,
       "inputWidgets": {},
       "isLockedInExamMode": false,
       "latestUser": "a user",
       "latestUserId": null,
       "listResultMetadata": null,
       "metadata": {},
       "nuid": "0bfd689d-7dca-4d18-87fd-32a8f6069916",
       "origId": 0,
       "parentHierarchy": [],
       "pivotAggregation": null,
       "pivotColumns": null,
       "position": 17.998038291931152,
       "resultDbfsErrorMessage": null,
       "resultDbfsStatus": "INLINED_IN_TREE",
       "results": null,
       "showCommandTitle": false,
       "startTime": 0,
       "state": "input",
       "streamStates": {},
       "subcommandOptions": {
        "queryPlan": {
         "selects": [
          {
           "column": "IGP-M",
           "type": "column"
          }
         ]
        }
       },
       "submitTime": 0,
       "subtype": "tableResultSubCmd.visualization",
       "tableResultIndex": 0,
       "useConsistentColors": false,
       "version": "CommandV1",
       "width": "1007",
       "workflows": [],
       "xColumns": null,
       "yColumns": null
      }
     },
     "output_type": "display_data"
    }
   ],
   "source": [
    "display(igpmFinal)"
   ]
  },
  {
   "cell_type": "code",
   "execution_count": 0,
   "metadata": {
    "application/vnd.databricks.v1+cell": {
     "cellMetadata": {
      "byteLimit": 2048000,
      "rowLimit": 10000
     },
     "inputWidgets": {},
     "nuid": "302c04da-3313-4452-8889-706c27723280",
     "showTitle": false,
     "title": ""
    }
   },
   "outputs": [
    {
     "output_type": "stream",
     "name": "stdout",
     "output_type": "stream",
     "text": [
      "+-------+------------------+\n|summary|             IGP-M|\n+-------+------------------+\n|  count|               134|\n|   mean| 783.5648721723414|\n| stddev|228.13797633515642|\n|    min|           511.977|\n|    max|          1193.337|\n+-------+------------------+\n\n"
     ]
    }
   ],
   "source": [
    "igpmFinal.describe().show()"
   ]
  },
  {
   "cell_type": "markdown",
   "metadata": {
    "application/vnd.databricks.v1+cell": {
     "cellMetadata": {},
     "inputWidgets": {},
     "nuid": "8508dfac-854a-41f6-bd8e-d22f5b21fa79",
     "showTitle": false,
     "title": ""
    }
   },
   "source": [
    "#### Dataset INCC"
   ]
  },
  {
   "cell_type": "code",
   "execution_count": 0,
   "metadata": {
    "application/vnd.databricks.v1+cell": {
     "cellMetadata": {
      "byteLimit": 2048000,
      "rowLimit": 10000
     },
     "inputWidgets": {},
     "nuid": "365396b4-55b1-4629-98cb-707b84cbedd1",
     "showTitle": false,
     "title": ""
    }
   },
   "outputs": [],
   "source": [
    "incc = spark.read.format('csv').options(inferSchema=True, header='true', delimiter=';').load(historicoINCC)"
   ]
  },
  {
   "cell_type": "code",
   "execution_count": 0,
   "metadata": {
    "application/vnd.databricks.v1+cell": {
     "cellMetadata": {
      "byteLimit": 2048000,
      "rowLimit": 10000
     },
     "inputWidgets": {},
     "nuid": "b8d0919e-0a8f-4fee-a35e-2ac6d281147f",
     "showTitle": false,
     "title": ""
    }
   },
   "outputs": [
    {
     "output_type": "display_data",
     "data": {
      "text/html": [
       "<style scoped>\n",
       "  .table-result-container {\n",
       "    max-height: 300px;\n",
       "    overflow: auto;\n",
       "  }\n",
       "  table, th, td {\n",
       "    border: 1px solid black;\n",
       "    border-collapse: collapse;\n",
       "  }\n",
       "  th, td {\n",
       "    padding: 5px;\n",
       "  }\n",
       "  th {\n",
       "    text-align: left;\n",
       "  }\n",
       "</style><div class='table-result-container'><table class='table-result'><thead style='background-color: white'><tr><th>Data</th><th>INCC</th></tr></thead><tbody><tr><td>01/07/1996</td><td>149,224</td></tr><tr><td>01/08/1996</td><td>150,334</td></tr><tr><td>01/09/1996</td><td>150,564</td></tr><tr><td>01/10/1996</td><td>150,915</td></tr><tr><td>01/11/1996</td><td>151,345</td></tr><tr><td>01/12/1996</td><td>152,079</td></tr><tr><td>01/01/1997</td><td>153,107</td></tr><tr><td>01/02/1997</td><td>153,588</td></tr><tr><td>01/03/1997</td><td>154,228</td></tr><tr><td>01/04/1997</td><td>155,358</td></tr><tr><td>01/05/1997</td><td>155,823</td></tr><tr><td>01/06/1997</td><td>157,373</td></tr><tr><td>01/07/1997</td><td>158,855</td></tr><tr><td>01/08/1997</td><td>159,724</td></tr><tr><td>01/09/1997</td><td>161,604</td></tr><tr><td>01/10/1997</td><td>161,953</td></tr><tr><td>01/11/1997</td><td>162,317</td></tr><tr><td>01/12/1997</td><td>163,165</td></tr><tr><td>01/01/1998</td><td>163,644</td></tr><tr><td>01/02/1998</td><td>164,428</td></tr><tr><td>01/03/1998</td><td>164,935</td></tr><tr><td>01/04/1998</td><td>164,169</td></tr><tr><td>01/05/1998</td><td>164,933</td></tr><tr><td>01/06/1998</td><td>166,356</td></tr><tr><td>01/07/1998</td><td>167,063</td></tr><tr><td>01/08/1998</td><td>167,554</td></tr><tr><td>01/09/1998</td><td>167,698</td></tr><tr><td>01/10/1998</td><td>167,78</td></tr><tr><td>01/11/1998</td><td>167,662</td></tr><tr><td>01/12/1998</td><td>167,652</td></tr><tr><td>01/01/1999</td><td>168,008</td></tr><tr><td>01/02/1999</td><td>169,054</td></tr><tr><td>01/03/1999</td><td>170,587</td></tr><tr><td>01/04/1999</td><td>171,584</td></tr><tr><td>01/05/1999</td><td>172,233</td></tr><tr><td>01/06/1999</td><td>173,75</td></tr><tr><td>01/07/1999</td><td>174,466</td></tr><tr><td>01/08/1999</td><td>175,37</td></tr><tr><td>01/09/1999</td><td>176,824</td></tr><tr><td>01/10/1999</td><td>178,217</td></tr><tr><td>01/11/1999</td><td>180,382</td></tr><tr><td>01/12/1999</td><td>181,839</td></tr><tr><td>01/01/2000</td><td>183,929</td></tr><tr><td>01/02/2000</td><td>185,572</td></tr><tr><td>01/03/2000</td><td>187,092</td></tr><tr><td>01/04/2000</td><td>188,389</td></tr><tr><td>01/05/2000</td><td>189,463</td></tr><tr><td>01/06/2000</td><td>191,521</td></tr><tr><td>01/07/2000</td><td>193,104</td></tr><tr><td>01/08/2000</td><td>193,786</td></tr><tr><td>01/09/2000</td><td>194,365</td></tr><tr><td>01/10/2000</td><td>194,914</td></tr><tr><td>01/11/2000</td><td>195,488</td></tr><tr><td>01/12/2000</td><td>196,45</td></tr><tr><td>01/01/2001</td><td>197,233</td></tr><tr><td>01/02/2001</td><td>198,325</td></tr><tr><td>01/03/2001</td><td>198,996</td></tr><tr><td>01/04/2001</td><td>199,545</td></tr><tr><td>01/05/2001</td><td>203,53</td></tr><tr><td>01/06/2001</td><td>204,931</td></tr><tr><td>01/07/2001</td><td>207,117</td></tr><tr><td>01/08/2001</td><td>208,272</td></tr><tr><td>01/09/2001</td><td>209,51</td></tr><tr><td>01/10/2001</td><td>211,431</td></tr><tr><td>01/11/2001</td><td>212,7</td></tr><tr><td>01/12/2001</td><td>214,194</td></tr><tr><td>01/01/2002</td><td>215,058</td></tr><tr><td>01/02/2002</td><td>215,734</td></tr><tr><td>01/03/2002</td><td>217,554</td></tr><tr><td>01/04/2002</td><td>218,259</td></tr><tr><td>01/05/2002</td><td>223,644</td></tr><tr><td>01/06/2002</td><td>224,117</td></tr><tr><td>01/07/2002</td><td>225,529</td></tr><tr><td>01/08/2002</td><td>227,376</td></tr><tr><td>01/09/2002</td><td>228,913</td></tr><tr><td>01/10/2002</td><td>230,787</td></tr><tr><td>01/11/2002</td><td>235,843</td></tr><tr><td>01/12/2002</td><td>240,868</td></tr><tr><td>01/01/2003</td><td>244,354</td></tr><tr><td>01/02/2003</td><td>248,262</td></tr><tr><td>01/03/2003</td><td>251,695</td></tr><tr><td>01/04/2003</td><td>253,744</td></tr><tr><td>01/05/2003</td><td>261,311</td></tr><tr><td>01/06/2003</td><td>263,244</td></tr><tr><td>01/07/2003</td><td>264,785</td></tr><tr><td>01/08/2003</td><td>270,623</td></tr><tr><td>01/09/2003</td><td>271,284</td></tr><tr><td>01/10/2003</td><td>272,552</td></tr><tr><td>01/11/2003</td><td>273,706</td></tr><tr><td>01/12/2003</td><td>276,424</td></tr><tr><td>01/01/2004</td><td>277,201</td></tr><tr><td>01/02/2004</td><td>278,521</td></tr><tr><td>01/03/2004</td><td>282,956</td></tr><tr><td>01/04/2004</td><td>284,665</td></tr><tr><td>01/05/2004</td><td>289,627</td></tr><tr><td>01/06/2004</td><td>291,239</td></tr><tr><td>01/07/2004</td><td>294,509</td></tr><tr><td>01/08/2004</td><td>297,162</td></tr><tr><td>01/09/2004</td><td>299,14</td></tr><tr><td>01/10/2004</td><td>301,975</td></tr><tr><td>01/11/2004</td><td>304,81</td></tr><tr><td>01/12/2004</td><td>306,655</td></tr><tr><td>01/01/2005</td><td>308,802</td></tr><tr><td>01/02/2005</td><td>310,105</td></tr><tr><td>01/03/2005</td><td>312,3</td></tr><tr><td>01/04/2005</td><td>313,497</td></tr><tr><td>01/05/2005</td><td>315,2</td></tr><tr><td>01/06/2005</td><td>322,15</td></tr><tr><td>01/07/2005</td><td>324,236</td></tr><tr><td>01/08/2005</td><td>324,394</td></tr><tr><td>01/09/2005</td><td>324,575</td></tr><tr><td>01/10/2005</td><td>325,485</td></tr><tr><td>01/11/2005</td><td>326,416</td></tr><tr><td>01/12/2005</td><td>327,645</td></tr><tr><td>01/01/2006</td><td>328,427</td></tr><tr><td>01/02/2006</td><td>329,36</td></tr><tr><td>01/03/2006</td><td>330,108</td></tr><tr><td>01/04/2006</td><td>330,787</td></tr><tr><td>01/05/2006</td><td>333,459</td></tr><tr><td>01/06/2006</td><td>338,302</td></tr><tr><td>01/07/2006</td><td>340,232</td></tr><tr><td>01/08/2006</td><td>341,438</td></tr><tr><td>01/09/2006</td><td>341,731</td></tr><tr><td>01/10/2006</td><td>342,352</td></tr><tr><td>01/11/2006</td><td>343,137</td></tr><tr><td>01/12/2006</td><td>344,171</td></tr><tr><td>01/01/2007</td><td>345,713</td></tr><tr><td>01/02/2007</td><td>346,629</td></tr><tr><td>01/03/2007</td><td>347,227</td></tr><tr><td>01/04/2007</td><td>348,729</td></tr><tr><td>01/05/2007</td><td>350,631</td></tr><tr><td>01/06/2007</td><td>356,503</td></tr><tr><td>01/07/2007</td><td>357,269</td></tr><tr><td>01/08/2007</td><td>358,534</td></tr><tr><td>01/09/2007</td><td>359,916</td></tr><tr><td>01/10/2007</td><td>361,672</td></tr><tr><td>01/11/2007</td><td>363,397</td></tr><tr><td>01/12/2007</td><td>364,972</td></tr><tr><td>01/01/2008</td><td>366,471</td></tr><tr><td>01/02/2008</td><td>368,062</td></tr><tr><td>01/03/2008</td><td>370,251</td></tr><tr><td>01/04/2008</td><td>373,302</td></tr><tr><td>01/05/2008</td><td>377,419</td></tr><tr><td>01/06/2008</td><td>387,512</td></tr><tr><td>01/07/2008</td><td>393,018</td></tr><tr><td>01/08/2008</td><td>398,015</td></tr><tr><td>01/09/2008</td><td>401,797</td></tr><tr><td>01/10/2008</td><td>405,212</td></tr><tr><td>01/11/2008</td><td>407,86</td></tr><tr><td>01/12/2008</td><td>408,765</td></tr><tr><td>01/01/2009</td><td>409,811</td></tr><tr><td>01/02/2009</td><td>411,249</td></tr><tr><td>01/03/2009</td><td>410,569</td></tr><tr><td>01/04/2009</td><td>410,531</td></tr><tr><td>01/05/2009</td><td>411,57</td></tr><tr><td>01/06/2009</td><td>417,86</td></tr><tr><td>01/07/2009</td><td>419,422</td></tr><tr><td>01/08/2009</td><td>419,468</td></tr><tr><td>01/09/2009</td><td>419,758</td></tr><tr><td>01/10/2009</td><td>420,298</td></tr><tr><td>01/11/2009</td><td>421,07</td></tr><tr><td>01/12/2009</td><td>421,908</td></tr><tr><td>01/01/2010</td><td>424,094</td></tr><tr><td>01/02/2010</td><td>425,59</td></tr><tr><td>01/03/2010</td><td>427,498</td></tr><tr><td>01/04/2010</td><td>432,491</td></tr><tr><td>01/05/2010</td><td>436,499</td></tr><tr><td>01/06/2010</td><td>444,243</td></tr><tr><td>01/07/2010</td><td>446,992</td></tr><tr><td>01/08/2010</td><td>447,996</td></tr><tr><td>01/09/2010</td><td>448,892</td></tr><tr><td>01/10/2010</td><td>449,587</td></tr><tr><td>01/11/2010</td><td>451,215</td></tr><tr><td>01/12/2010</td><td>453,876</td></tr><tr><td>01/01/2011</td><td>455,562</td></tr><tr><td>01/02/2011</td><td>457,333</td></tr><tr><td>01/03/2011</td><td>459,36</td></tr><tr><td>01/04/2011</td><td>462,793</td></tr><tr><td>01/05/2011</td><td>472,203</td></tr><tr><td>01/06/2011</td><td>478,935</td></tr><tr><td>01/07/2011</td><td>481,768</td></tr><tr><td>01/08/2011</td><td>482,518</td></tr><tr><td>01/09/2011</td><td>483,199</td></tr><tr><td>01/10/2011</td><td>484,185</td></tr><tr><td>01/11/2011</td><td>486,61</td></tr><tr><td>01/12/2011</td><td>488,298</td></tr><tr><td>01/01/2012</td><td>491,549</td></tr><tr><td>01/02/2012</td><td>493,608</td></tr><tr><td>01/03/2012</td><td>495,433</td></tr><tr><td>01/04/2012</td><td>499,548</td></tr><tr><td>01/05/2012</td><td>506,02</td></tr><tr><td>01/06/2012</td><td>512,628</td></tr><tr><td>01/07/2012</td><td>516,963</td></tr><tr><td>01/08/2012</td><td>518,616</td></tr><tr><td>01/09/2012</td><td>519,681</td></tr><tr><td>01/10/2012</td><td>520,94</td></tr><tr><td>01/11/2012</td><td>522,136</td></tr><tr><td>01/12/2012</td><td>523,624</td></tr><tr><td>01/01/2013</td><td>525,651</td></tr><tr><td>01/02/2013</td><td>529,879</td></tr><tr><td>01/03/2013</td><td>531,339</td></tr><tr><td>01/04/2013</td><td>535,777</td></tr><tr><td>01/05/2013</td><td>542,402</td></tr><tr><td>01/06/2013</td><td>553,007</td></tr><tr><td>01/07/2013</td><td>557,04</td></tr><tr><td>01/08/2013</td><td>558,777</td></tr><tr><td>01/09/2013</td><td>561,203</td></tr><tr><td>01/10/2013</td><td>563,034</td></tr><tr><td>01/11/2013</td><td>564,558</td></tr><tr><td>01/12/2013</td><td>565,786</td></tr><tr><td>01/01/2014</td><td>569,745</td></tr><tr><td>01/02/2014</td><td>572,254</td></tr><tr><td>01/03/2014</td><td>573,505</td></tr><tr><td>01/04/2014</td><td>577,322</td></tr><tr><td>01/05/2014</td><td>585,207</td></tr><tr><td>01/06/2014</td><td>592,51</td></tr><tr><td>01/07/2014</td><td>597,251</td></tr><tr><td>01/08/2014</td><td>598,387</td></tr><tr><td>01/09/2014</td><td>599,333</td></tr><tr><td>01/10/2014</td><td>600,549</td></tr><tr><td>01/11/2014</td><td>602,36</td></tr><tr><td>01/12/2014</td><td>603,895</td></tr><tr><td>01/01/2015</td><td>608,131</td></tr><tr><td>01/02/2015</td><td>611,188</td></tr><tr><td>01/03/2015</td><td>613,374</td></tr><tr><td>01/04/2015</td><td>617,36</td></tr><tr><td>01/05/2015</td><td>620,121</td></tr><tr><td>01/06/2015</td><td>631,747</td></tr><tr><td>01/07/2015</td><td>635,935</td></tr><tr><td>01/08/2015</td><td>641,019</td></tr><tr><td>01/09/2015</td><td>642,407</td></tr><tr><td>01/10/2015</td><td>644,123</td></tr><tr><td>01/11/2015</td><td>646,721</td></tr><tr><td>01/12/2015</td><td>647,492</td></tr><tr><td>01/01/2016</td><td>649,592</td></tr><tr><td>01/02/2016</td><td>652,975</td></tr><tr><td>01/03/2016</td><td>658,149</td></tr><tr><td>01/04/2016</td><td>660,853</td></tr><tr><td>01/05/2016</td><td>662,089</td></tr><tr><td>01/06/2016</td><td>672,156</td></tr><tr><td>01/07/2016</td><td>679,469</td></tr><tr><td>01/08/2016</td><td>681,23</td></tr><tr><td>01/09/2016</td><td>683,764</td></tr><tr><td>01/10/2016</td><td>684,955</td></tr><tr><td>01/11/2016</td><td>686,118</td></tr><tr><td>01/12/2016</td><td>688,61</td></tr><tr><td>01/01/2017</td><td>690,614</td></tr><tr><td>01/02/2017</td><td>694,258</td></tr><tr><td>01/03/2017</td><td>696,782</td></tr><tr><td>01/04/2017</td><td>696,216</td></tr><tr><td>01/05/2017</td><td>697,117</td></tr><tr><td>01/06/2017</td><td>706,596</td></tr><tr><td>01/07/2017</td><td>708,135</td></tr><tr><td>01/08/2017</td><td>710,954</td></tr><tr><td>01/09/2017</td><td>711,971</td></tr><tr><td>01/10/2017</td><td>713,354</td></tr><tr><td>01/11/2017</td><td>715,318</td></tr><tr><td>01/12/2017</td><td>716,287</td></tr><tr><td>01/01/2018</td><td>718,303</td></tr><tr><td>01/02/2018</td><td>719,332</td></tr><tr><td>01/03/2018</td><td>720,953</td></tr><tr><td>01/04/2018</td><td>722,983</td></tr><tr><td>01/05/2018</td><td>725,186</td></tr><tr><td>01/06/2018</td><td>730,71</td></tr><tr><td>01/07/2018</td><td>735,987</td></tr><tr><td>01/08/2018</td><td>738,158</td></tr><tr><td>01/09/2018</td><td>739,432</td></tr><tr><td>01/10/2018</td><td>741,859</td></tr><tr><td>01/11/2018</td><td>743,755</td></tr><tr><td>01/12/2018</td><td>744,699</td></tr><tr><td>01/01/2019</td><td>747,656</td></tr><tr><td>01/02/2019</td><td>749,111</td></tr><tr><td>01/03/2019</td><td>750,558</td></tr><tr><td>01/04/2019</td><td>754,203</td></tr><tr><td>01/05/2019</td><td>754,859</td></tr><tr><td>01/06/2019</td><td>758,177</td></tr><tr><td>01/07/2019</td><td>765,053</td></tr><tr><td>01/08/2019</td><td>767,682</td></tr><tr><td>01/09/2019</td><td>772,31</td></tr><tr><td>01/10/2019</td><td>773,273</td></tr><tr><td>01/11/2019</td><td>774,421</td></tr><tr><td>01/12/2019</td><td>775,49</td></tr><tr><td>01/01/2020</td><td>777,47</td></tr><tr><td>01/02/2020</td><td>780,184</td></tr><tr><td>01/03/2020</td><td>783,15</td></tr><tr><td>01/04/2020</td><td>784,523</td></tr><tr><td>01/05/2020</td><td>786,132</td></tr><tr><td>01/06/2020</td><td>788,616</td></tr><tr><td>01/07/2020</td><td>795,235</td></tr><tr><td>01/08/2020</td><td>801,777</td></tr><tr><td>01/09/2020</td><td>810,965</td></tr><tr><td>01/10/2020</td><td>824,636</td></tr><tr><td>01/11/2020</td><td>835,305</td></tr><tr><td>01/12/2020</td><td>842,683</td></tr><tr><td>01/01/2021</td><td>850,495</td></tr><tr><td>01/02/2021</td><td>859,573</td></tr><tr><td>01/03/2021</td><td>876,75</td></tr><tr><td>01/04/2021</td><td>885,093</td></tr><tr><td>01/05/2021</td><td>901,032</td></tr><tr><td>01/06/2021</td><td>921,762</td></tr><tr><td>01/07/2021</td><td>933,23</td></tr><tr><td>01/08/2021</td><td>938,475</td></tr><tr><td>01/09/2021</td><td>943,736</td></tr><tr><td>01/10/2021</td><td>951,249</td></tr><tr><td>01/11/2021</td><td>957,984</td></tr><tr><td>01/12/2021</td><td>960,894</td></tr><tr><td>01/01/2022</td><td>967,003</td></tr><tr><td>01/02/2022</td><td>971,651</td></tr><tr><td>01/03/2022</td><td>978,717</td></tr><tr><td>01/04/2022</td><td>987,218</td></tr><tr><td>01/05/2022</td><td>1001,923</td></tr><tr><td>01/06/2022</td><td>1030,105</td></tr><tr><td>01/07/2022</td><td>1042,029</td></tr><tr><td>01/08/2022</td><td>1045,469</td></tr><tr><td>01/09/2022</td><td>1046,507</td></tr><tr><td>01/10/2022</td><td>1046,956</td></tr><tr><td>01/11/2022</td><td>1048,429</td></tr><tr><td>01/12/2022</td><td>1051,249</td></tr><tr><td>01/01/2023</td><td>1054,561</td></tr><tr><td>01/02/2023</td><td>1056,775</td></tr><tr><td>01/03/2023</td><td>1058,65</td></tr><tr><td>01/04/2023</td><td>1061,071</td></tr><tr><td>01/05/2023</td><td>1065,289</td></tr><tr><td>01/06/2023</td><td>1074,292</td></tr><tr><td>01/07/2023</td><td>1074,895</td></tr><tr><td>01/08/2023</td><td>1077,497</td></tr><tr><td>01/09/2023</td><td>1080,071</td></tr><tr><td>01/10/2023</td><td>1082,251</td></tr><tr><td>01/11/2023</td><td>1083,335</td></tr><tr><td>01/12/2023</td><td>1086,15</td></tr><tr><td>01/01/2024</td><td>1088,663</td></tr><tr><td>01/02/2024</td><td>1090,871</td></tr></tbody></table></div>"
      ]
     },
     "metadata": {
      "application/vnd.databricks.v1+output": {
       "addedWidgets": {},
       "aggData": [],
       "aggError": "",
       "aggOverflow": false,
       "aggSchema": [],
       "aggSeriesLimitReached": false,
       "aggType": "",
       "arguments": {},
       "columnCustomDisplayInfos": {},
       "data": [
        [
         "01/07/1996",
         "149,224"
        ],
        [
         "01/08/1996",
         "150,334"
        ],
        [
         "01/09/1996",
         "150,564"
        ],
        [
         "01/10/1996",
         "150,915"
        ],
        [
         "01/11/1996",
         "151,345"
        ],
        [
         "01/12/1996",
         "152,079"
        ],
        [
         "01/01/1997",
         "153,107"
        ],
        [
         "01/02/1997",
         "153,588"
        ],
        [
         "01/03/1997",
         "154,228"
        ],
        [
         "01/04/1997",
         "155,358"
        ],
        [
         "01/05/1997",
         "155,823"
        ],
        [
         "01/06/1997",
         "157,373"
        ],
        [
         "01/07/1997",
         "158,855"
        ],
        [
         "01/08/1997",
         "159,724"
        ],
        [
         "01/09/1997",
         "161,604"
        ],
        [
         "01/10/1997",
         "161,953"
        ],
        [
         "01/11/1997",
         "162,317"
        ],
        [
         "01/12/1997",
         "163,165"
        ],
        [
         "01/01/1998",
         "163,644"
        ],
        [
         "01/02/1998",
         "164,428"
        ],
        [
         "01/03/1998",
         "164,935"
        ],
        [
         "01/04/1998",
         "164,169"
        ],
        [
         "01/05/1998",
         "164,933"
        ],
        [
         "01/06/1998",
         "166,356"
        ],
        [
         "01/07/1998",
         "167,063"
        ],
        [
         "01/08/1998",
         "167,554"
        ],
        [
         "01/09/1998",
         "167,698"
        ],
        [
         "01/10/1998",
         "167,78"
        ],
        [
         "01/11/1998",
         "167,662"
        ],
        [
         "01/12/1998",
         "167,652"
        ],
        [
         "01/01/1999",
         "168,008"
        ],
        [
         "01/02/1999",
         "169,054"
        ],
        [
         "01/03/1999",
         "170,587"
        ],
        [
         "01/04/1999",
         "171,584"
        ],
        [
         "01/05/1999",
         "172,233"
        ],
        [
         "01/06/1999",
         "173,75"
        ],
        [
         "01/07/1999",
         "174,466"
        ],
        [
         "01/08/1999",
         "175,37"
        ],
        [
         "01/09/1999",
         "176,824"
        ],
        [
         "01/10/1999",
         "178,217"
        ],
        [
         "01/11/1999",
         "180,382"
        ],
        [
         "01/12/1999",
         "181,839"
        ],
        [
         "01/01/2000",
         "183,929"
        ],
        [
         "01/02/2000",
         "185,572"
        ],
        [
         "01/03/2000",
         "187,092"
        ],
        [
         "01/04/2000",
         "188,389"
        ],
        [
         "01/05/2000",
         "189,463"
        ],
        [
         "01/06/2000",
         "191,521"
        ],
        [
         "01/07/2000",
         "193,104"
        ],
        [
         "01/08/2000",
         "193,786"
        ],
        [
         "01/09/2000",
         "194,365"
        ],
        [
         "01/10/2000",
         "194,914"
        ],
        [
         "01/11/2000",
         "195,488"
        ],
        [
         "01/12/2000",
         "196,45"
        ],
        [
         "01/01/2001",
         "197,233"
        ],
        [
         "01/02/2001",
         "198,325"
        ],
        [
         "01/03/2001",
         "198,996"
        ],
        [
         "01/04/2001",
         "199,545"
        ],
        [
         "01/05/2001",
         "203,53"
        ],
        [
         "01/06/2001",
         "204,931"
        ],
        [
         "01/07/2001",
         "207,117"
        ],
        [
         "01/08/2001",
         "208,272"
        ],
        [
         "01/09/2001",
         "209,51"
        ],
        [
         "01/10/2001",
         "211,431"
        ],
        [
         "01/11/2001",
         "212,7"
        ],
        [
         "01/12/2001",
         "214,194"
        ],
        [
         "01/01/2002",
         "215,058"
        ],
        [
         "01/02/2002",
         "215,734"
        ],
        [
         "01/03/2002",
         "217,554"
        ],
        [
         "01/04/2002",
         "218,259"
        ],
        [
         "01/05/2002",
         "223,644"
        ],
        [
         "01/06/2002",
         "224,117"
        ],
        [
         "01/07/2002",
         "225,529"
        ],
        [
         "01/08/2002",
         "227,376"
        ],
        [
         "01/09/2002",
         "228,913"
        ],
        [
         "01/10/2002",
         "230,787"
        ],
        [
         "01/11/2002",
         "235,843"
        ],
        [
         "01/12/2002",
         "240,868"
        ],
        [
         "01/01/2003",
         "244,354"
        ],
        [
         "01/02/2003",
         "248,262"
        ],
        [
         "01/03/2003",
         "251,695"
        ],
        [
         "01/04/2003",
         "253,744"
        ],
        [
         "01/05/2003",
         "261,311"
        ],
        [
         "01/06/2003",
         "263,244"
        ],
        [
         "01/07/2003",
         "264,785"
        ],
        [
         "01/08/2003",
         "270,623"
        ],
        [
         "01/09/2003",
         "271,284"
        ],
        [
         "01/10/2003",
         "272,552"
        ],
        [
         "01/11/2003",
         "273,706"
        ],
        [
         "01/12/2003",
         "276,424"
        ],
        [
         "01/01/2004",
         "277,201"
        ],
        [
         "01/02/2004",
         "278,521"
        ],
        [
         "01/03/2004",
         "282,956"
        ],
        [
         "01/04/2004",
         "284,665"
        ],
        [
         "01/05/2004",
         "289,627"
        ],
        [
         "01/06/2004",
         "291,239"
        ],
        [
         "01/07/2004",
         "294,509"
        ],
        [
         "01/08/2004",
         "297,162"
        ],
        [
         "01/09/2004",
         "299,14"
        ],
        [
         "01/10/2004",
         "301,975"
        ],
        [
         "01/11/2004",
         "304,81"
        ],
        [
         "01/12/2004",
         "306,655"
        ],
        [
         "01/01/2005",
         "308,802"
        ],
        [
         "01/02/2005",
         "310,105"
        ],
        [
         "01/03/2005",
         "312,3"
        ],
        [
         "01/04/2005",
         "313,497"
        ],
        [
         "01/05/2005",
         "315,2"
        ],
        [
         "01/06/2005",
         "322,15"
        ],
        [
         "01/07/2005",
         "324,236"
        ],
        [
         "01/08/2005",
         "324,394"
        ],
        [
         "01/09/2005",
         "324,575"
        ],
        [
         "01/10/2005",
         "325,485"
        ],
        [
         "01/11/2005",
         "326,416"
        ],
        [
         "01/12/2005",
         "327,645"
        ],
        [
         "01/01/2006",
         "328,427"
        ],
        [
         "01/02/2006",
         "329,36"
        ],
        [
         "01/03/2006",
         "330,108"
        ],
        [
         "01/04/2006",
         "330,787"
        ],
        [
         "01/05/2006",
         "333,459"
        ],
        [
         "01/06/2006",
         "338,302"
        ],
        [
         "01/07/2006",
         "340,232"
        ],
        [
         "01/08/2006",
         "341,438"
        ],
        [
         "01/09/2006",
         "341,731"
        ],
        [
         "01/10/2006",
         "342,352"
        ],
        [
         "01/11/2006",
         "343,137"
        ],
        [
         "01/12/2006",
         "344,171"
        ],
        [
         "01/01/2007",
         "345,713"
        ],
        [
         "01/02/2007",
         "346,629"
        ],
        [
         "01/03/2007",
         "347,227"
        ],
        [
         "01/04/2007",
         "348,729"
        ],
        [
         "01/05/2007",
         "350,631"
        ],
        [
         "01/06/2007",
         "356,503"
        ],
        [
         "01/07/2007",
         "357,269"
        ],
        [
         "01/08/2007",
         "358,534"
        ],
        [
         "01/09/2007",
         "359,916"
        ],
        [
         "01/10/2007",
         "361,672"
        ],
        [
         "01/11/2007",
         "363,397"
        ],
        [
         "01/12/2007",
         "364,972"
        ],
        [
         "01/01/2008",
         "366,471"
        ],
        [
         "01/02/2008",
         "368,062"
        ],
        [
         "01/03/2008",
         "370,251"
        ],
        [
         "01/04/2008",
         "373,302"
        ],
        [
         "01/05/2008",
         "377,419"
        ],
        [
         "01/06/2008",
         "387,512"
        ],
        [
         "01/07/2008",
         "393,018"
        ],
        [
         "01/08/2008",
         "398,015"
        ],
        [
         "01/09/2008",
         "401,797"
        ],
        [
         "01/10/2008",
         "405,212"
        ],
        [
         "01/11/2008",
         "407,86"
        ],
        [
         "01/12/2008",
         "408,765"
        ],
        [
         "01/01/2009",
         "409,811"
        ],
        [
         "01/02/2009",
         "411,249"
        ],
        [
         "01/03/2009",
         "410,569"
        ],
        [
         "01/04/2009",
         "410,531"
        ],
        [
         "01/05/2009",
         "411,57"
        ],
        [
         "01/06/2009",
         "417,86"
        ],
        [
         "01/07/2009",
         "419,422"
        ],
        [
         "01/08/2009",
         "419,468"
        ],
        [
         "01/09/2009",
         "419,758"
        ],
        [
         "01/10/2009",
         "420,298"
        ],
        [
         "01/11/2009",
         "421,07"
        ],
        [
         "01/12/2009",
         "421,908"
        ],
        [
         "01/01/2010",
         "424,094"
        ],
        [
         "01/02/2010",
         "425,59"
        ],
        [
         "01/03/2010",
         "427,498"
        ],
        [
         "01/04/2010",
         "432,491"
        ],
        [
         "01/05/2010",
         "436,499"
        ],
        [
         "01/06/2010",
         "444,243"
        ],
        [
         "01/07/2010",
         "446,992"
        ],
        [
         "01/08/2010",
         "447,996"
        ],
        [
         "01/09/2010",
         "448,892"
        ],
        [
         "01/10/2010",
         "449,587"
        ],
        [
         "01/11/2010",
         "451,215"
        ],
        [
         "01/12/2010",
         "453,876"
        ],
        [
         "01/01/2011",
         "455,562"
        ],
        [
         "01/02/2011",
         "457,333"
        ],
        [
         "01/03/2011",
         "459,36"
        ],
        [
         "01/04/2011",
         "462,793"
        ],
        [
         "01/05/2011",
         "472,203"
        ],
        [
         "01/06/2011",
         "478,935"
        ],
        [
         "01/07/2011",
         "481,768"
        ],
        [
         "01/08/2011",
         "482,518"
        ],
        [
         "01/09/2011",
         "483,199"
        ],
        [
         "01/10/2011",
         "484,185"
        ],
        [
         "01/11/2011",
         "486,61"
        ],
        [
         "01/12/2011",
         "488,298"
        ],
        [
         "01/01/2012",
         "491,549"
        ],
        [
         "01/02/2012",
         "493,608"
        ],
        [
         "01/03/2012",
         "495,433"
        ],
        [
         "01/04/2012",
         "499,548"
        ],
        [
         "01/05/2012",
         "506,02"
        ],
        [
         "01/06/2012",
         "512,628"
        ],
        [
         "01/07/2012",
         "516,963"
        ],
        [
         "01/08/2012",
         "518,616"
        ],
        [
         "01/09/2012",
         "519,681"
        ],
        [
         "01/10/2012",
         "520,94"
        ],
        [
         "01/11/2012",
         "522,136"
        ],
        [
         "01/12/2012",
         "523,624"
        ],
        [
         "01/01/2013",
         "525,651"
        ],
        [
         "01/02/2013",
         "529,879"
        ],
        [
         "01/03/2013",
         "531,339"
        ],
        [
         "01/04/2013",
         "535,777"
        ],
        [
         "01/05/2013",
         "542,402"
        ],
        [
         "01/06/2013",
         "553,007"
        ],
        [
         "01/07/2013",
         "557,04"
        ],
        [
         "01/08/2013",
         "558,777"
        ],
        [
         "01/09/2013",
         "561,203"
        ],
        [
         "01/10/2013",
         "563,034"
        ],
        [
         "01/11/2013",
         "564,558"
        ],
        [
         "01/12/2013",
         "565,786"
        ],
        [
         "01/01/2014",
         "569,745"
        ],
        [
         "01/02/2014",
         "572,254"
        ],
        [
         "01/03/2014",
         "573,505"
        ],
        [
         "01/04/2014",
         "577,322"
        ],
        [
         "01/05/2014",
         "585,207"
        ],
        [
         "01/06/2014",
         "592,51"
        ],
        [
         "01/07/2014",
         "597,251"
        ],
        [
         "01/08/2014",
         "598,387"
        ],
        [
         "01/09/2014",
         "599,333"
        ],
        [
         "01/10/2014",
         "600,549"
        ],
        [
         "01/11/2014",
         "602,36"
        ],
        [
         "01/12/2014",
         "603,895"
        ],
        [
         "01/01/2015",
         "608,131"
        ],
        [
         "01/02/2015",
         "611,188"
        ],
        [
         "01/03/2015",
         "613,374"
        ],
        [
         "01/04/2015",
         "617,36"
        ],
        [
         "01/05/2015",
         "620,121"
        ],
        [
         "01/06/2015",
         "631,747"
        ],
        [
         "01/07/2015",
         "635,935"
        ],
        [
         "01/08/2015",
         "641,019"
        ],
        [
         "01/09/2015",
         "642,407"
        ],
        [
         "01/10/2015",
         "644,123"
        ],
        [
         "01/11/2015",
         "646,721"
        ],
        [
         "01/12/2015",
         "647,492"
        ],
        [
         "01/01/2016",
         "649,592"
        ],
        [
         "01/02/2016",
         "652,975"
        ],
        [
         "01/03/2016",
         "658,149"
        ],
        [
         "01/04/2016",
         "660,853"
        ],
        [
         "01/05/2016",
         "662,089"
        ],
        [
         "01/06/2016",
         "672,156"
        ],
        [
         "01/07/2016",
         "679,469"
        ],
        [
         "01/08/2016",
         "681,23"
        ],
        [
         "01/09/2016",
         "683,764"
        ],
        [
         "01/10/2016",
         "684,955"
        ],
        [
         "01/11/2016",
         "686,118"
        ],
        [
         "01/12/2016",
         "688,61"
        ],
        [
         "01/01/2017",
         "690,614"
        ],
        [
         "01/02/2017",
         "694,258"
        ],
        [
         "01/03/2017",
         "696,782"
        ],
        [
         "01/04/2017",
         "696,216"
        ],
        [
         "01/05/2017",
         "697,117"
        ],
        [
         "01/06/2017",
         "706,596"
        ],
        [
         "01/07/2017",
         "708,135"
        ],
        [
         "01/08/2017",
         "710,954"
        ],
        [
         "01/09/2017",
         "711,971"
        ],
        [
         "01/10/2017",
         "713,354"
        ],
        [
         "01/11/2017",
         "715,318"
        ],
        [
         "01/12/2017",
         "716,287"
        ],
        [
         "01/01/2018",
         "718,303"
        ],
        [
         "01/02/2018",
         "719,332"
        ],
        [
         "01/03/2018",
         "720,953"
        ],
        [
         "01/04/2018",
         "722,983"
        ],
        [
         "01/05/2018",
         "725,186"
        ],
        [
         "01/06/2018",
         "730,71"
        ],
        [
         "01/07/2018",
         "735,987"
        ],
        [
         "01/08/2018",
         "738,158"
        ],
        [
         "01/09/2018",
         "739,432"
        ],
        [
         "01/10/2018",
         "741,859"
        ],
        [
         "01/11/2018",
         "743,755"
        ],
        [
         "01/12/2018",
         "744,699"
        ],
        [
         "01/01/2019",
         "747,656"
        ],
        [
         "01/02/2019",
         "749,111"
        ],
        [
         "01/03/2019",
         "750,558"
        ],
        [
         "01/04/2019",
         "754,203"
        ],
        [
         "01/05/2019",
         "754,859"
        ],
        [
         "01/06/2019",
         "758,177"
        ],
        [
         "01/07/2019",
         "765,053"
        ],
        [
         "01/08/2019",
         "767,682"
        ],
        [
         "01/09/2019",
         "772,31"
        ],
        [
         "01/10/2019",
         "773,273"
        ],
        [
         "01/11/2019",
         "774,421"
        ],
        [
         "01/12/2019",
         "775,49"
        ],
        [
         "01/01/2020",
         "777,47"
        ],
        [
         "01/02/2020",
         "780,184"
        ],
        [
         "01/03/2020",
         "783,15"
        ],
        [
         "01/04/2020",
         "784,523"
        ],
        [
         "01/05/2020",
         "786,132"
        ],
        [
         "01/06/2020",
         "788,616"
        ],
        [
         "01/07/2020",
         "795,235"
        ],
        [
         "01/08/2020",
         "801,777"
        ],
        [
         "01/09/2020",
         "810,965"
        ],
        [
         "01/10/2020",
         "824,636"
        ],
        [
         "01/11/2020",
         "835,305"
        ],
        [
         "01/12/2020",
         "842,683"
        ],
        [
         "01/01/2021",
         "850,495"
        ],
        [
         "01/02/2021",
         "859,573"
        ],
        [
         "01/03/2021",
         "876,75"
        ],
        [
         "01/04/2021",
         "885,093"
        ],
        [
         "01/05/2021",
         "901,032"
        ],
        [
         "01/06/2021",
         "921,762"
        ],
        [
         "01/07/2021",
         "933,23"
        ],
        [
         "01/08/2021",
         "938,475"
        ],
        [
         "01/09/2021",
         "943,736"
        ],
        [
         "01/10/2021",
         "951,249"
        ],
        [
         "01/11/2021",
         "957,984"
        ],
        [
         "01/12/2021",
         "960,894"
        ],
        [
         "01/01/2022",
         "967,003"
        ],
        [
         "01/02/2022",
         "971,651"
        ],
        [
         "01/03/2022",
         "978,717"
        ],
        [
         "01/04/2022",
         "987,218"
        ],
        [
         "01/05/2022",
         "1001,923"
        ],
        [
         "01/06/2022",
         "1030,105"
        ],
        [
         "01/07/2022",
         "1042,029"
        ],
        [
         "01/08/2022",
         "1045,469"
        ],
        [
         "01/09/2022",
         "1046,507"
        ],
        [
         "01/10/2022",
         "1046,956"
        ],
        [
         "01/11/2022",
         "1048,429"
        ],
        [
         "01/12/2022",
         "1051,249"
        ],
        [
         "01/01/2023",
         "1054,561"
        ],
        [
         "01/02/2023",
         "1056,775"
        ],
        [
         "01/03/2023",
         "1058,65"
        ],
        [
         "01/04/2023",
         "1061,071"
        ],
        [
         "01/05/2023",
         "1065,289"
        ],
        [
         "01/06/2023",
         "1074,292"
        ],
        [
         "01/07/2023",
         "1074,895"
        ],
        [
         "01/08/2023",
         "1077,497"
        ],
        [
         "01/09/2023",
         "1080,071"
        ],
        [
         "01/10/2023",
         "1082,251"
        ],
        [
         "01/11/2023",
         "1083,335"
        ],
        [
         "01/12/2023",
         "1086,15"
        ],
        [
         "01/01/2024",
         "1088,663"
        ],
        [
         "01/02/2024",
         "1090,871"
        ]
       ],
       "datasetInfos": [],
       "dbfsResultPath": null,
       "isJsonSchema": true,
       "metadata": {},
       "overflow": false,
       "plotOptions": {
        "customPlotOptions": {},
        "displayType": "table",
        "pivotAggregation": null,
        "pivotColumns": null,
        "xColumns": null,
        "yColumns": null
       },
       "removedWidgets": [],
       "schema": [
        {
         "metadata": "{}",
         "name": "Data",
         "type": "\"string\""
        },
        {
         "metadata": "{}",
         "name": "INCC",
         "type": "\"string\""
        }
       ],
       "type": "table"
      }
     },
     "output_type": "display_data"
    }
   ],
   "source": [
    "display(incc)"
   ]
  },
  {
   "cell_type": "code",
   "execution_count": 0,
   "metadata": {
    "application/vnd.databricks.v1+cell": {
     "cellMetadata": {
      "byteLimit": 2048000,
      "rowLimit": 10000
     },
     "inputWidgets": {},
     "nuid": "08d600da-4f21-4e0d-a567-e55c28be4596",
     "showTitle": false,
     "title": ""
    }
   },
   "outputs": [
    {
     "output_type": "stream",
     "name": "stdout",
     "output_type": "stream",
     "text": [
      "root\n |-- Data: string (nullable = true)\n |-- INCC: string (nullable = true)\n\n"
     ]
    }
   ],
   "source": [
    "incc.printSchema()"
   ]
  },
  {
   "cell_type": "code",
   "execution_count": 0,
   "metadata": {
    "application/vnd.databricks.v1+cell": {
     "cellMetadata": {
      "byteLimit": 2048000,
      "rowLimit": 10000
     },
     "inputWidgets": {},
     "nuid": "17e3383c-b3dc-416d-923e-1263d09aaf0e",
     "showTitle": false,
     "title": ""
    }
   },
   "outputs": [
    {
     "output_type": "stream",
     "name": "stdout",
     "output_type": "stream",
     "text": [
      "+----------+-------+\n|      Data|   INCC|\n+----------+-------+\n|1996-07-01|149,224|\n|1996-08-01|150,334|\n|1996-09-01|150,564|\n|1996-10-01|150,915|\n|1996-11-01|151,345|\n+----------+-------+\nonly showing top 5 rows\n\n"
     ]
    }
   ],
   "source": [
    "inccData = incc.withColumn(\"Data\", to_date(col(\"Data\"), \"dd/MM/yyyy\"))\n",
    "inccData.show(5)"
   ]
  },
  {
   "cell_type": "code",
   "execution_count": 0,
   "metadata": {
    "application/vnd.databricks.v1+cell": {
     "cellMetadata": {
      "byteLimit": 2048000,
      "rowLimit": 10000
     },
     "inputWidgets": {},
     "nuid": "928570e2-8c49-4429-a948-5bd8c0e92ea5",
     "showTitle": false,
     "title": ""
    }
   },
   "outputs": [
    {
     "output_type": "stream",
     "name": "stdout",
     "output_type": "stream",
     "text": [
      "+----------+-------+\n|      Data|   INCC|\n+----------+-------+\n|1996-07-01|149.224|\n|1996-08-01|150.334|\n|1996-09-01|150.564|\n|1996-10-01|150.915|\n|1996-11-01|151.345|\n+----------+-------+\nonly showing top 5 rows\n\n"
     ]
    }
   ],
   "source": [
    "inccValor = inccData.withColumn(\"INCC\", F.regexp_replace(F.col(\"INCC\"), \"[,]\", \".\"))\n",
    "inccValor.show(5)"
   ]
  },
  {
   "cell_type": "code",
   "execution_count": 0,
   "metadata": {
    "application/vnd.databricks.v1+cell": {
     "cellMetadata": {
      "byteLimit": 2048000,
      "rowLimit": 10000
     },
     "inputWidgets": {},
     "nuid": "27a62ece-b0ff-4e9c-bce4-aaff6b806bbb",
     "showTitle": false,
     "title": ""
    }
   },
   "outputs": [
    {
     "output_type": "stream",
     "name": "stdout",
     "output_type": "stream",
     "text": [
      "+----------+-------+\n|      Data|   INCC|\n+----------+-------+\n|1996-07-01|149.224|\n|1996-08-01|150.334|\n|1996-09-01|150.564|\n|1996-10-01|150.915|\n|1996-11-01|151.345|\n+----------+-------+\nonly showing top 5 rows\n\n"
     ]
    }
   ],
   "source": [
    "inccFinal = inccValor.withColumn(\"INCC\", col(\"INCC\").cast(\"float\"))\n",
    "inccFinal.show(5)"
   ]
  },
  {
   "cell_type": "code",
   "execution_count": 0,
   "metadata": {
    "application/vnd.databricks.v1+cell": {
     "cellMetadata": {
      "byteLimit": 2048000,
      "rowLimit": 10000
     },
     "inputWidgets": {},
     "nuid": "ac346af3-adcc-481e-8022-77d83171b03b",
     "showTitle": false,
     "title": ""
    }
   },
   "outputs": [
    {
     "output_type": "stream",
     "name": "stdout",
     "output_type": "stream",
     "text": [
      "+-------+------------------+\n|summary|              INCC|\n+-------+------------------+\n|  count|               332|\n|   mean| 492.1975475908762|\n| stddev|269.02511345000295|\n|    min|           149.224|\n|    max|          1090.871|\n+-------+------------------+\n\n"
     ]
    }
   ],
   "source": [
    "inccFinal.describe().show()"
   ]
  },
  {
   "cell_type": "code",
   "execution_count": 0,
   "metadata": {
    "application/vnd.databricks.v1+cell": {
     "cellMetadata": {
      "byteLimit": 2048000,
      "rowLimit": 10000
     },
     "inputWidgets": {},
     "nuid": "a3e94044-5fd9-4709-b2c1-4f3c26f8d0d2",
     "showTitle": false,
     "title": ""
    }
   },
   "outputs": [
    {
     "output_type": "display_data",
     "data": {
      "text/html": [
       "<style scoped>\n",
       "  .table-result-container {\n",
       "    max-height: 300px;\n",
       "    overflow: auto;\n",
       "  }\n",
       "  table, th, td {\n",
       "    border: 1px solid black;\n",
       "    border-collapse: collapse;\n",
       "  }\n",
       "  th, td {\n",
       "    padding: 5px;\n",
       "  }\n",
       "  th {\n",
       "    text-align: left;\n",
       "  }\n",
       "</style><div class='table-result-container'><table class='table-result'><thead style='background-color: white'><tr><th>Data</th><th>INCC</th></tr></thead><tbody><tr><td>1996-07-01</td><td>149.224</td></tr><tr><td>1996-08-01</td><td>150.334</td></tr><tr><td>1996-09-01</td><td>150.564</td></tr><tr><td>1996-10-01</td><td>150.915</td></tr><tr><td>1996-11-01</td><td>151.345</td></tr><tr><td>1996-12-01</td><td>152.079</td></tr><tr><td>1997-01-01</td><td>153.107</td></tr><tr><td>1997-02-01</td><td>153.588</td></tr><tr><td>1997-03-01</td><td>154.228</td></tr><tr><td>1997-04-01</td><td>155.358</td></tr><tr><td>1997-05-01</td><td>155.823</td></tr><tr><td>1997-06-01</td><td>157.373</td></tr><tr><td>1997-07-01</td><td>158.855</td></tr><tr><td>1997-08-01</td><td>159.724</td></tr><tr><td>1997-09-01</td><td>161.604</td></tr><tr><td>1997-10-01</td><td>161.953</td></tr><tr><td>1997-11-01</td><td>162.317</td></tr><tr><td>1997-12-01</td><td>163.165</td></tr><tr><td>1998-01-01</td><td>163.644</td></tr><tr><td>1998-02-01</td><td>164.428</td></tr><tr><td>1998-03-01</td><td>164.935</td></tr><tr><td>1998-04-01</td><td>164.169</td></tr><tr><td>1998-05-01</td><td>164.933</td></tr><tr><td>1998-06-01</td><td>166.356</td></tr><tr><td>1998-07-01</td><td>167.063</td></tr><tr><td>1998-08-01</td><td>167.554</td></tr><tr><td>1998-09-01</td><td>167.698</td></tr><tr><td>1998-10-01</td><td>167.78</td></tr><tr><td>1998-11-01</td><td>167.662</td></tr><tr><td>1998-12-01</td><td>167.652</td></tr><tr><td>1999-01-01</td><td>168.008</td></tr><tr><td>1999-02-01</td><td>169.054</td></tr><tr><td>1999-03-01</td><td>170.587</td></tr><tr><td>1999-04-01</td><td>171.584</td></tr><tr><td>1999-05-01</td><td>172.233</td></tr><tr><td>1999-06-01</td><td>173.75</td></tr><tr><td>1999-07-01</td><td>174.466</td></tr><tr><td>1999-08-01</td><td>175.37</td></tr><tr><td>1999-09-01</td><td>176.824</td></tr><tr><td>1999-10-01</td><td>178.217</td></tr><tr><td>1999-11-01</td><td>180.382</td></tr><tr><td>1999-12-01</td><td>181.839</td></tr><tr><td>2000-01-01</td><td>183.929</td></tr><tr><td>2000-02-01</td><td>185.572</td></tr><tr><td>2000-03-01</td><td>187.092</td></tr><tr><td>2000-04-01</td><td>188.389</td></tr><tr><td>2000-05-01</td><td>189.463</td></tr><tr><td>2000-06-01</td><td>191.521</td></tr><tr><td>2000-07-01</td><td>193.104</td></tr><tr><td>2000-08-01</td><td>193.786</td></tr><tr><td>2000-09-01</td><td>194.365</td></tr><tr><td>2000-10-01</td><td>194.914</td></tr><tr><td>2000-11-01</td><td>195.488</td></tr><tr><td>2000-12-01</td><td>196.45</td></tr><tr><td>2001-01-01</td><td>197.233</td></tr><tr><td>2001-02-01</td><td>198.325</td></tr><tr><td>2001-03-01</td><td>198.996</td></tr><tr><td>2001-04-01</td><td>199.545</td></tr><tr><td>2001-05-01</td><td>203.53</td></tr><tr><td>2001-06-01</td><td>204.931</td></tr><tr><td>2001-07-01</td><td>207.117</td></tr><tr><td>2001-08-01</td><td>208.272</td></tr><tr><td>2001-09-01</td><td>209.51</td></tr><tr><td>2001-10-01</td><td>211.431</td></tr><tr><td>2001-11-01</td><td>212.7</td></tr><tr><td>2001-12-01</td><td>214.194</td></tr><tr><td>2002-01-01</td><td>215.058</td></tr><tr><td>2002-02-01</td><td>215.734</td></tr><tr><td>2002-03-01</td><td>217.554</td></tr><tr><td>2002-04-01</td><td>218.259</td></tr><tr><td>2002-05-01</td><td>223.644</td></tr><tr><td>2002-06-01</td><td>224.117</td></tr><tr><td>2002-07-01</td><td>225.529</td></tr><tr><td>2002-08-01</td><td>227.376</td></tr><tr><td>2002-09-01</td><td>228.913</td></tr><tr><td>2002-10-01</td><td>230.787</td></tr><tr><td>2002-11-01</td><td>235.843</td></tr><tr><td>2002-12-01</td><td>240.868</td></tr><tr><td>2003-01-01</td><td>244.354</td></tr><tr><td>2003-02-01</td><td>248.262</td></tr><tr><td>2003-03-01</td><td>251.695</td></tr><tr><td>2003-04-01</td><td>253.744</td></tr><tr><td>2003-05-01</td><td>261.311</td></tr><tr><td>2003-06-01</td><td>263.244</td></tr><tr><td>2003-07-01</td><td>264.785</td></tr><tr><td>2003-08-01</td><td>270.623</td></tr><tr><td>2003-09-01</td><td>271.284</td></tr><tr><td>2003-10-01</td><td>272.552</td></tr><tr><td>2003-11-01</td><td>273.706</td></tr><tr><td>2003-12-01</td><td>276.424</td></tr><tr><td>2004-01-01</td><td>277.201</td></tr><tr><td>2004-02-01</td><td>278.521</td></tr><tr><td>2004-03-01</td><td>282.956</td></tr><tr><td>2004-04-01</td><td>284.665</td></tr><tr><td>2004-05-01</td><td>289.627</td></tr><tr><td>2004-06-01</td><td>291.239</td></tr><tr><td>2004-07-01</td><td>294.509</td></tr><tr><td>2004-08-01</td><td>297.162</td></tr><tr><td>2004-09-01</td><td>299.14</td></tr><tr><td>2004-10-01</td><td>301.975</td></tr><tr><td>2004-11-01</td><td>304.81</td></tr><tr><td>2004-12-01</td><td>306.655</td></tr><tr><td>2005-01-01</td><td>308.802</td></tr><tr><td>2005-02-01</td><td>310.105</td></tr><tr><td>2005-03-01</td><td>312.3</td></tr><tr><td>2005-04-01</td><td>313.497</td></tr><tr><td>2005-05-01</td><td>315.2</td></tr><tr><td>2005-06-01</td><td>322.15</td></tr><tr><td>2005-07-01</td><td>324.236</td></tr><tr><td>2005-08-01</td><td>324.394</td></tr><tr><td>2005-09-01</td><td>324.575</td></tr><tr><td>2005-10-01</td><td>325.485</td></tr><tr><td>2005-11-01</td><td>326.416</td></tr><tr><td>2005-12-01</td><td>327.645</td></tr><tr><td>2006-01-01</td><td>328.427</td></tr><tr><td>2006-02-01</td><td>329.36</td></tr><tr><td>2006-03-01</td><td>330.108</td></tr><tr><td>2006-04-01</td><td>330.787</td></tr><tr><td>2006-05-01</td><td>333.459</td></tr><tr><td>2006-06-01</td><td>338.302</td></tr><tr><td>2006-07-01</td><td>340.232</td></tr><tr><td>2006-08-01</td><td>341.438</td></tr><tr><td>2006-09-01</td><td>341.731</td></tr><tr><td>2006-10-01</td><td>342.352</td></tr><tr><td>2006-11-01</td><td>343.137</td></tr><tr><td>2006-12-01</td><td>344.171</td></tr><tr><td>2007-01-01</td><td>345.713</td></tr><tr><td>2007-02-01</td><td>346.629</td></tr><tr><td>2007-03-01</td><td>347.227</td></tr><tr><td>2007-04-01</td><td>348.729</td></tr><tr><td>2007-05-01</td><td>350.631</td></tr><tr><td>2007-06-01</td><td>356.503</td></tr><tr><td>2007-07-01</td><td>357.269</td></tr><tr><td>2007-08-01</td><td>358.534</td></tr><tr><td>2007-09-01</td><td>359.916</td></tr><tr><td>2007-10-01</td><td>361.672</td></tr><tr><td>2007-11-01</td><td>363.397</td></tr><tr><td>2007-12-01</td><td>364.972</td></tr><tr><td>2008-01-01</td><td>366.471</td></tr><tr><td>2008-02-01</td><td>368.062</td></tr><tr><td>2008-03-01</td><td>370.251</td></tr><tr><td>2008-04-01</td><td>373.302</td></tr><tr><td>2008-05-01</td><td>377.419</td></tr><tr><td>2008-06-01</td><td>387.512</td></tr><tr><td>2008-07-01</td><td>393.018</td></tr><tr><td>2008-08-01</td><td>398.015</td></tr><tr><td>2008-09-01</td><td>401.797</td></tr><tr><td>2008-10-01</td><td>405.212</td></tr><tr><td>2008-11-01</td><td>407.86</td></tr><tr><td>2008-12-01</td><td>408.765</td></tr><tr><td>2009-01-01</td><td>409.811</td></tr><tr><td>2009-02-01</td><td>411.249</td></tr><tr><td>2009-03-01</td><td>410.569</td></tr><tr><td>2009-04-01</td><td>410.531</td></tr><tr><td>2009-05-01</td><td>411.57</td></tr><tr><td>2009-06-01</td><td>417.86</td></tr><tr><td>2009-07-01</td><td>419.422</td></tr><tr><td>2009-08-01</td><td>419.468</td></tr><tr><td>2009-09-01</td><td>419.758</td></tr><tr><td>2009-10-01</td><td>420.298</td></tr><tr><td>2009-11-01</td><td>421.07</td></tr><tr><td>2009-12-01</td><td>421.908</td></tr><tr><td>2010-01-01</td><td>424.094</td></tr><tr><td>2010-02-01</td><td>425.59</td></tr><tr><td>2010-03-01</td><td>427.498</td></tr><tr><td>2010-04-01</td><td>432.491</td></tr><tr><td>2010-05-01</td><td>436.499</td></tr><tr><td>2010-06-01</td><td>444.243</td></tr><tr><td>2010-07-01</td><td>446.992</td></tr><tr><td>2010-08-01</td><td>447.996</td></tr><tr><td>2010-09-01</td><td>448.892</td></tr><tr><td>2010-10-01</td><td>449.587</td></tr><tr><td>2010-11-01</td><td>451.215</td></tr><tr><td>2010-12-01</td><td>453.876</td></tr><tr><td>2011-01-01</td><td>455.562</td></tr><tr><td>2011-02-01</td><td>457.333</td></tr><tr><td>2011-03-01</td><td>459.36</td></tr><tr><td>2011-04-01</td><td>462.793</td></tr><tr><td>2011-05-01</td><td>472.203</td></tr><tr><td>2011-06-01</td><td>478.935</td></tr><tr><td>2011-07-01</td><td>481.768</td></tr><tr><td>2011-08-01</td><td>482.518</td></tr><tr><td>2011-09-01</td><td>483.199</td></tr><tr><td>2011-10-01</td><td>484.185</td></tr><tr><td>2011-11-01</td><td>486.61</td></tr><tr><td>2011-12-01</td><td>488.298</td></tr><tr><td>2012-01-01</td><td>491.549</td></tr><tr><td>2012-02-01</td><td>493.608</td></tr><tr><td>2012-03-01</td><td>495.433</td></tr><tr><td>2012-04-01</td><td>499.548</td></tr><tr><td>2012-05-01</td><td>506.02</td></tr><tr><td>2012-06-01</td><td>512.628</td></tr><tr><td>2012-07-01</td><td>516.963</td></tr><tr><td>2012-08-01</td><td>518.616</td></tr><tr><td>2012-09-01</td><td>519.681</td></tr><tr><td>2012-10-01</td><td>520.94</td></tr><tr><td>2012-11-01</td><td>522.136</td></tr><tr><td>2012-12-01</td><td>523.624</td></tr><tr><td>2013-01-01</td><td>525.651</td></tr><tr><td>2013-02-01</td><td>529.879</td></tr><tr><td>2013-03-01</td><td>531.339</td></tr><tr><td>2013-04-01</td><td>535.777</td></tr><tr><td>2013-05-01</td><td>542.402</td></tr><tr><td>2013-06-01</td><td>553.007</td></tr><tr><td>2013-07-01</td><td>557.04</td></tr><tr><td>2013-08-01</td><td>558.777</td></tr><tr><td>2013-09-01</td><td>561.203</td></tr><tr><td>2013-10-01</td><td>563.034</td></tr><tr><td>2013-11-01</td><td>564.558</td></tr><tr><td>2013-12-01</td><td>565.786</td></tr><tr><td>2014-01-01</td><td>569.745</td></tr><tr><td>2014-02-01</td><td>572.254</td></tr><tr><td>2014-03-01</td><td>573.505</td></tr><tr><td>2014-04-01</td><td>577.322</td></tr><tr><td>2014-05-01</td><td>585.207</td></tr><tr><td>2014-06-01</td><td>592.51</td></tr><tr><td>2014-07-01</td><td>597.251</td></tr><tr><td>2014-08-01</td><td>598.387</td></tr><tr><td>2014-09-01</td><td>599.333</td></tr><tr><td>2014-10-01</td><td>600.549</td></tr><tr><td>2014-11-01</td><td>602.36</td></tr><tr><td>2014-12-01</td><td>603.895</td></tr><tr><td>2015-01-01</td><td>608.131</td></tr><tr><td>2015-02-01</td><td>611.188</td></tr><tr><td>2015-03-01</td><td>613.374</td></tr><tr><td>2015-04-01</td><td>617.36</td></tr><tr><td>2015-05-01</td><td>620.121</td></tr><tr><td>2015-06-01</td><td>631.747</td></tr><tr><td>2015-07-01</td><td>635.935</td></tr><tr><td>2015-08-01</td><td>641.019</td></tr><tr><td>2015-09-01</td><td>642.407</td></tr><tr><td>2015-10-01</td><td>644.123</td></tr><tr><td>2015-11-01</td><td>646.721</td></tr><tr><td>2015-12-01</td><td>647.492</td></tr><tr><td>2016-01-01</td><td>649.592</td></tr><tr><td>2016-02-01</td><td>652.975</td></tr><tr><td>2016-03-01</td><td>658.149</td></tr><tr><td>2016-04-01</td><td>660.853</td></tr><tr><td>2016-05-01</td><td>662.089</td></tr><tr><td>2016-06-01</td><td>672.156</td></tr><tr><td>2016-07-01</td><td>679.469</td></tr><tr><td>2016-08-01</td><td>681.23</td></tr><tr><td>2016-09-01</td><td>683.764</td></tr><tr><td>2016-10-01</td><td>684.955</td></tr><tr><td>2016-11-01</td><td>686.118</td></tr><tr><td>2016-12-01</td><td>688.61</td></tr><tr><td>2017-01-01</td><td>690.614</td></tr><tr><td>2017-02-01</td><td>694.258</td></tr><tr><td>2017-03-01</td><td>696.782</td></tr><tr><td>2017-04-01</td><td>696.216</td></tr><tr><td>2017-05-01</td><td>697.117</td></tr><tr><td>2017-06-01</td><td>706.596</td></tr><tr><td>2017-07-01</td><td>708.135</td></tr><tr><td>2017-08-01</td><td>710.954</td></tr><tr><td>2017-09-01</td><td>711.971</td></tr><tr><td>2017-10-01</td><td>713.354</td></tr><tr><td>2017-11-01</td><td>715.318</td></tr><tr><td>2017-12-01</td><td>716.287</td></tr><tr><td>2018-01-01</td><td>718.303</td></tr><tr><td>2018-02-01</td><td>719.332</td></tr><tr><td>2018-03-01</td><td>720.953</td></tr><tr><td>2018-04-01</td><td>722.983</td></tr><tr><td>2018-05-01</td><td>725.186</td></tr><tr><td>2018-06-01</td><td>730.71</td></tr><tr><td>2018-07-01</td><td>735.987</td></tr><tr><td>2018-08-01</td><td>738.158</td></tr><tr><td>2018-09-01</td><td>739.432</td></tr><tr><td>2018-10-01</td><td>741.859</td></tr><tr><td>2018-11-01</td><td>743.755</td></tr><tr><td>2018-12-01</td><td>744.699</td></tr><tr><td>2019-01-01</td><td>747.656</td></tr><tr><td>2019-02-01</td><td>749.111</td></tr><tr><td>2019-03-01</td><td>750.558</td></tr><tr><td>2019-04-01</td><td>754.203</td></tr><tr><td>2019-05-01</td><td>754.859</td></tr><tr><td>2019-06-01</td><td>758.177</td></tr><tr><td>2019-07-01</td><td>765.053</td></tr><tr><td>2019-08-01</td><td>767.682</td></tr><tr><td>2019-09-01</td><td>772.31</td></tr><tr><td>2019-10-01</td><td>773.273</td></tr><tr><td>2019-11-01</td><td>774.421</td></tr><tr><td>2019-12-01</td><td>775.49</td></tr><tr><td>2020-01-01</td><td>777.47</td></tr><tr><td>2020-02-01</td><td>780.184</td></tr><tr><td>2020-03-01</td><td>783.15</td></tr><tr><td>2020-04-01</td><td>784.523</td></tr><tr><td>2020-05-01</td><td>786.132</td></tr><tr><td>2020-06-01</td><td>788.616</td></tr><tr><td>2020-07-01</td><td>795.235</td></tr><tr><td>2020-08-01</td><td>801.777</td></tr><tr><td>2020-09-01</td><td>810.965</td></tr><tr><td>2020-10-01</td><td>824.636</td></tr><tr><td>2020-11-01</td><td>835.305</td></tr><tr><td>2020-12-01</td><td>842.683</td></tr><tr><td>2021-01-01</td><td>850.495</td></tr><tr><td>2021-02-01</td><td>859.573</td></tr><tr><td>2021-03-01</td><td>876.75</td></tr><tr><td>2021-04-01</td><td>885.093</td></tr><tr><td>2021-05-01</td><td>901.032</td></tr><tr><td>2021-06-01</td><td>921.762</td></tr><tr><td>2021-07-01</td><td>933.23</td></tr><tr><td>2021-08-01</td><td>938.475</td></tr><tr><td>2021-09-01</td><td>943.736</td></tr><tr><td>2021-10-01</td><td>951.249</td></tr><tr><td>2021-11-01</td><td>957.984</td></tr><tr><td>2021-12-01</td><td>960.894</td></tr><tr><td>2022-01-01</td><td>967.003</td></tr><tr><td>2022-02-01</td><td>971.651</td></tr><tr><td>2022-03-01</td><td>978.717</td></tr><tr><td>2022-04-01</td><td>987.218</td></tr><tr><td>2022-05-01</td><td>1001.923</td></tr><tr><td>2022-06-01</td><td>1030.105</td></tr><tr><td>2022-07-01</td><td>1042.029</td></tr><tr><td>2022-08-01</td><td>1045.469</td></tr><tr><td>2022-09-01</td><td>1046.507</td></tr><tr><td>2022-10-01</td><td>1046.956</td></tr><tr><td>2022-11-01</td><td>1048.429</td></tr><tr><td>2022-12-01</td><td>1051.249</td></tr><tr><td>2023-01-01</td><td>1054.561</td></tr><tr><td>2023-02-01</td><td>1056.775</td></tr><tr><td>2023-03-01</td><td>1058.65</td></tr><tr><td>2023-04-01</td><td>1061.071</td></tr><tr><td>2023-05-01</td><td>1065.289</td></tr><tr><td>2023-06-01</td><td>1074.292</td></tr><tr><td>2023-07-01</td><td>1074.895</td></tr><tr><td>2023-08-01</td><td>1077.497</td></tr><tr><td>2023-09-01</td><td>1080.071</td></tr><tr><td>2023-10-01</td><td>1082.251</td></tr><tr><td>2023-11-01</td><td>1083.335</td></tr><tr><td>2023-12-01</td><td>1086.15</td></tr><tr><td>2024-01-01</td><td>1088.663</td></tr><tr><td>2024-02-01</td><td>1090.871</td></tr></tbody></table></div>"
      ]
     },
     "metadata": {
      "application/vnd.databricks.v1+output": {
       "addedWidgets": {},
       "aggData": [],
       "aggError": "",
       "aggOverflow": false,
       "aggSchema": [],
       "aggSeriesLimitReached": false,
       "aggType": "",
       "arguments": {},
       "columnCustomDisplayInfos": {},
       "data": [
        [
         "1996-07-01",
         149.224
        ],
        [
         "1996-08-01",
         150.334
        ],
        [
         "1996-09-01",
         150.564
        ],
        [
         "1996-10-01",
         150.915
        ],
        [
         "1996-11-01",
         151.345
        ],
        [
         "1996-12-01",
         152.079
        ],
        [
         "1997-01-01",
         153.107
        ],
        [
         "1997-02-01",
         153.588
        ],
        [
         "1997-03-01",
         154.228
        ],
        [
         "1997-04-01",
         155.358
        ],
        [
         "1997-05-01",
         155.823
        ],
        [
         "1997-06-01",
         157.373
        ],
        [
         "1997-07-01",
         158.855
        ],
        [
         "1997-08-01",
         159.724
        ],
        [
         "1997-09-01",
         161.604
        ],
        [
         "1997-10-01",
         161.953
        ],
        [
         "1997-11-01",
         162.317
        ],
        [
         "1997-12-01",
         163.165
        ],
        [
         "1998-01-01",
         163.644
        ],
        [
         "1998-02-01",
         164.428
        ],
        [
         "1998-03-01",
         164.935
        ],
        [
         "1998-04-01",
         164.169
        ],
        [
         "1998-05-01",
         164.933
        ],
        [
         "1998-06-01",
         166.356
        ],
        [
         "1998-07-01",
         167.063
        ],
        [
         "1998-08-01",
         167.554
        ],
        [
         "1998-09-01",
         167.698
        ],
        [
         "1998-10-01",
         167.78
        ],
        [
         "1998-11-01",
         167.662
        ],
        [
         "1998-12-01",
         167.652
        ],
        [
         "1999-01-01",
         168.008
        ],
        [
         "1999-02-01",
         169.054
        ],
        [
         "1999-03-01",
         170.587
        ],
        [
         "1999-04-01",
         171.584
        ],
        [
         "1999-05-01",
         172.233
        ],
        [
         "1999-06-01",
         173.75
        ],
        [
         "1999-07-01",
         174.466
        ],
        [
         "1999-08-01",
         175.37
        ],
        [
         "1999-09-01",
         176.824
        ],
        [
         "1999-10-01",
         178.217
        ],
        [
         "1999-11-01",
         180.382
        ],
        [
         "1999-12-01",
         181.839
        ],
        [
         "2000-01-01",
         183.929
        ],
        [
         "2000-02-01",
         185.572
        ],
        [
         "2000-03-01",
         187.092
        ],
        [
         "2000-04-01",
         188.389
        ],
        [
         "2000-05-01",
         189.463
        ],
        [
         "2000-06-01",
         191.521
        ],
        [
         "2000-07-01",
         193.104
        ],
        [
         "2000-08-01",
         193.786
        ],
        [
         "2000-09-01",
         194.365
        ],
        [
         "2000-10-01",
         194.914
        ],
        [
         "2000-11-01",
         195.488
        ],
        [
         "2000-12-01",
         196.45
        ],
        [
         "2001-01-01",
         197.233
        ],
        [
         "2001-02-01",
         198.325
        ],
        [
         "2001-03-01",
         198.996
        ],
        [
         "2001-04-01",
         199.545
        ],
        [
         "2001-05-01",
         203.53
        ],
        [
         "2001-06-01",
         204.931
        ],
        [
         "2001-07-01",
         207.117
        ],
        [
         "2001-08-01",
         208.272
        ],
        [
         "2001-09-01",
         209.51
        ],
        [
         "2001-10-01",
         211.431
        ],
        [
         "2001-11-01",
         212.7
        ],
        [
         "2001-12-01",
         214.194
        ],
        [
         "2002-01-01",
         215.058
        ],
        [
         "2002-02-01",
         215.734
        ],
        [
         "2002-03-01",
         217.554
        ],
        [
         "2002-04-01",
         218.259
        ],
        [
         "2002-05-01",
         223.644
        ],
        [
         "2002-06-01",
         224.117
        ],
        [
         "2002-07-01",
         225.529
        ],
        [
         "2002-08-01",
         227.376
        ],
        [
         "2002-09-01",
         228.913
        ],
        [
         "2002-10-01",
         230.787
        ],
        [
         "2002-11-01",
         235.843
        ],
        [
         "2002-12-01",
         240.868
        ],
        [
         "2003-01-01",
         244.354
        ],
        [
         "2003-02-01",
         248.262
        ],
        [
         "2003-03-01",
         251.695
        ],
        [
         "2003-04-01",
         253.744
        ],
        [
         "2003-05-01",
         261.311
        ],
        [
         "2003-06-01",
         263.244
        ],
        [
         "2003-07-01",
         264.785
        ],
        [
         "2003-08-01",
         270.623
        ],
        [
         "2003-09-01",
         271.284
        ],
        [
         "2003-10-01",
         272.552
        ],
        [
         "2003-11-01",
         273.706
        ],
        [
         "2003-12-01",
         276.424
        ],
        [
         "2004-01-01",
         277.201
        ],
        [
         "2004-02-01",
         278.521
        ],
        [
         "2004-03-01",
         282.956
        ],
        [
         "2004-04-01",
         284.665
        ],
        [
         "2004-05-01",
         289.627
        ],
        [
         "2004-06-01",
         291.239
        ],
        [
         "2004-07-01",
         294.509
        ],
        [
         "2004-08-01",
         297.162
        ],
        [
         "2004-09-01",
         299.14
        ],
        [
         "2004-10-01",
         301.975
        ],
        [
         "2004-11-01",
         304.81
        ],
        [
         "2004-12-01",
         306.655
        ],
        [
         "2005-01-01",
         308.802
        ],
        [
         "2005-02-01",
         310.105
        ],
        [
         "2005-03-01",
         312.3
        ],
        [
         "2005-04-01",
         313.497
        ],
        [
         "2005-05-01",
         315.2
        ],
        [
         "2005-06-01",
         322.15
        ],
        [
         "2005-07-01",
         324.236
        ],
        [
         "2005-08-01",
         324.394
        ],
        [
         "2005-09-01",
         324.575
        ],
        [
         "2005-10-01",
         325.485
        ],
        [
         "2005-11-01",
         326.416
        ],
        [
         "2005-12-01",
         327.645
        ],
        [
         "2006-01-01",
         328.427
        ],
        [
         "2006-02-01",
         329.36
        ],
        [
         "2006-03-01",
         330.108
        ],
        [
         "2006-04-01",
         330.787
        ],
        [
         "2006-05-01",
         333.459
        ],
        [
         "2006-06-01",
         338.302
        ],
        [
         "2006-07-01",
         340.232
        ],
        [
         "2006-08-01",
         341.438
        ],
        [
         "2006-09-01",
         341.731
        ],
        [
         "2006-10-01",
         342.352
        ],
        [
         "2006-11-01",
         343.137
        ],
        [
         "2006-12-01",
         344.171
        ],
        [
         "2007-01-01",
         345.713
        ],
        [
         "2007-02-01",
         346.629
        ],
        [
         "2007-03-01",
         347.227
        ],
        [
         "2007-04-01",
         348.729
        ],
        [
         "2007-05-01",
         350.631
        ],
        [
         "2007-06-01",
         356.503
        ],
        [
         "2007-07-01",
         357.269
        ],
        [
         "2007-08-01",
         358.534
        ],
        [
         "2007-09-01",
         359.916
        ],
        [
         "2007-10-01",
         361.672
        ],
        [
         "2007-11-01",
         363.397
        ],
        [
         "2007-12-01",
         364.972
        ],
        [
         "2008-01-01",
         366.471
        ],
        [
         "2008-02-01",
         368.062
        ],
        [
         "2008-03-01",
         370.251
        ],
        [
         "2008-04-01",
         373.302
        ],
        [
         "2008-05-01",
         377.419
        ],
        [
         "2008-06-01",
         387.512
        ],
        [
         "2008-07-01",
         393.018
        ],
        [
         "2008-08-01",
         398.015
        ],
        [
         "2008-09-01",
         401.797
        ],
        [
         "2008-10-01",
         405.212
        ],
        [
         "2008-11-01",
         407.86
        ],
        [
         "2008-12-01",
         408.765
        ],
        [
         "2009-01-01",
         409.811
        ],
        [
         "2009-02-01",
         411.249
        ],
        [
         "2009-03-01",
         410.569
        ],
        [
         "2009-04-01",
         410.531
        ],
        [
         "2009-05-01",
         411.57
        ],
        [
         "2009-06-01",
         417.86
        ],
        [
         "2009-07-01",
         419.422
        ],
        [
         "2009-08-01",
         419.468
        ],
        [
         "2009-09-01",
         419.758
        ],
        [
         "2009-10-01",
         420.298
        ],
        [
         "2009-11-01",
         421.07
        ],
        [
         "2009-12-01",
         421.908
        ],
        [
         "2010-01-01",
         424.094
        ],
        [
         "2010-02-01",
         425.59
        ],
        [
         "2010-03-01",
         427.498
        ],
        [
         "2010-04-01",
         432.491
        ],
        [
         "2010-05-01",
         436.499
        ],
        [
         "2010-06-01",
         444.243
        ],
        [
         "2010-07-01",
         446.992
        ],
        [
         "2010-08-01",
         447.996
        ],
        [
         "2010-09-01",
         448.892
        ],
        [
         "2010-10-01",
         449.587
        ],
        [
         "2010-11-01",
         451.215
        ],
        [
         "2010-12-01",
         453.876
        ],
        [
         "2011-01-01",
         455.562
        ],
        [
         "2011-02-01",
         457.333
        ],
        [
         "2011-03-01",
         459.36
        ],
        [
         "2011-04-01",
         462.793
        ],
        [
         "2011-05-01",
         472.203
        ],
        [
         "2011-06-01",
         478.935
        ],
        [
         "2011-07-01",
         481.768
        ],
        [
         "2011-08-01",
         482.518
        ],
        [
         "2011-09-01",
         483.199
        ],
        [
         "2011-10-01",
         484.185
        ],
        [
         "2011-11-01",
         486.61
        ],
        [
         "2011-12-01",
         488.298
        ],
        [
         "2012-01-01",
         491.549
        ],
        [
         "2012-02-01",
         493.608
        ],
        [
         "2012-03-01",
         495.433
        ],
        [
         "2012-04-01",
         499.548
        ],
        [
         "2012-05-01",
         506.02
        ],
        [
         "2012-06-01",
         512.628
        ],
        [
         "2012-07-01",
         516.963
        ],
        [
         "2012-08-01",
         518.616
        ],
        [
         "2012-09-01",
         519.681
        ],
        [
         "2012-10-01",
         520.94
        ],
        [
         "2012-11-01",
         522.136
        ],
        [
         "2012-12-01",
         523.624
        ],
        [
         "2013-01-01",
         525.651
        ],
        [
         "2013-02-01",
         529.879
        ],
        [
         "2013-03-01",
         531.339
        ],
        [
         "2013-04-01",
         535.777
        ],
        [
         "2013-05-01",
         542.402
        ],
        [
         "2013-06-01",
         553.007
        ],
        [
         "2013-07-01",
         557.04
        ],
        [
         "2013-08-01",
         558.777
        ],
        [
         "2013-09-01",
         561.203
        ],
        [
         "2013-10-01",
         563.034
        ],
        [
         "2013-11-01",
         564.558
        ],
        [
         "2013-12-01",
         565.786
        ],
        [
         "2014-01-01",
         569.745
        ],
        [
         "2014-02-01",
         572.254
        ],
        [
         "2014-03-01",
         573.505
        ],
        [
         "2014-04-01",
         577.322
        ],
        [
         "2014-05-01",
         585.207
        ],
        [
         "2014-06-01",
         592.51
        ],
        [
         "2014-07-01",
         597.251
        ],
        [
         "2014-08-01",
         598.387
        ],
        [
         "2014-09-01",
         599.333
        ],
        [
         "2014-10-01",
         600.549
        ],
        [
         "2014-11-01",
         602.36
        ],
        [
         "2014-12-01",
         603.895
        ],
        [
         "2015-01-01",
         608.131
        ],
        [
         "2015-02-01",
         611.188
        ],
        [
         "2015-03-01",
         613.374
        ],
        [
         "2015-04-01",
         617.36
        ],
        [
         "2015-05-01",
         620.121
        ],
        [
         "2015-06-01",
         631.747
        ],
        [
         "2015-07-01",
         635.935
        ],
        [
         "2015-08-01",
         641.019
        ],
        [
         "2015-09-01",
         642.407
        ],
        [
         "2015-10-01",
         644.123
        ],
        [
         "2015-11-01",
         646.721
        ],
        [
         "2015-12-01",
         647.492
        ],
        [
         "2016-01-01",
         649.592
        ],
        [
         "2016-02-01",
         652.975
        ],
        [
         "2016-03-01",
         658.149
        ],
        [
         "2016-04-01",
         660.853
        ],
        [
         "2016-05-01",
         662.089
        ],
        [
         "2016-06-01",
         672.156
        ],
        [
         "2016-07-01",
         679.469
        ],
        [
         "2016-08-01",
         681.23
        ],
        [
         "2016-09-01",
         683.764
        ],
        [
         "2016-10-01",
         684.955
        ],
        [
         "2016-11-01",
         686.118
        ],
        [
         "2016-12-01",
         688.61
        ],
        [
         "2017-01-01",
         690.614
        ],
        [
         "2017-02-01",
         694.258
        ],
        [
         "2017-03-01",
         696.782
        ],
        [
         "2017-04-01",
         696.216
        ],
        [
         "2017-05-01",
         697.117
        ],
        [
         "2017-06-01",
         706.596
        ],
        [
         "2017-07-01",
         708.135
        ],
        [
         "2017-08-01",
         710.954
        ],
        [
         "2017-09-01",
         711.971
        ],
        [
         "2017-10-01",
         713.354
        ],
        [
         "2017-11-01",
         715.318
        ],
        [
         "2017-12-01",
         716.287
        ],
        [
         "2018-01-01",
         718.303
        ],
        [
         "2018-02-01",
         719.332
        ],
        [
         "2018-03-01",
         720.953
        ],
        [
         "2018-04-01",
         722.983
        ],
        [
         "2018-05-01",
         725.186
        ],
        [
         "2018-06-01",
         730.71
        ],
        [
         "2018-07-01",
         735.987
        ],
        [
         "2018-08-01",
         738.158
        ],
        [
         "2018-09-01",
         739.432
        ],
        [
         "2018-10-01",
         741.859
        ],
        [
         "2018-11-01",
         743.755
        ],
        [
         "2018-12-01",
         744.699
        ],
        [
         "2019-01-01",
         747.656
        ],
        [
         "2019-02-01",
         749.111
        ],
        [
         "2019-03-01",
         750.558
        ],
        [
         "2019-04-01",
         754.203
        ],
        [
         "2019-05-01",
         754.859
        ],
        [
         "2019-06-01",
         758.177
        ],
        [
         "2019-07-01",
         765.053
        ],
        [
         "2019-08-01",
         767.682
        ],
        [
         "2019-09-01",
         772.31
        ],
        [
         "2019-10-01",
         773.273
        ],
        [
         "2019-11-01",
         774.421
        ],
        [
         "2019-12-01",
         775.49
        ],
        [
         "2020-01-01",
         777.47
        ],
        [
         "2020-02-01",
         780.184
        ],
        [
         "2020-03-01",
         783.15
        ],
        [
         "2020-04-01",
         784.523
        ],
        [
         "2020-05-01",
         786.132
        ],
        [
         "2020-06-01",
         788.616
        ],
        [
         "2020-07-01",
         795.235
        ],
        [
         "2020-08-01",
         801.777
        ],
        [
         "2020-09-01",
         810.965
        ],
        [
         "2020-10-01",
         824.636
        ],
        [
         "2020-11-01",
         835.305
        ],
        [
         "2020-12-01",
         842.683
        ],
        [
         "2021-01-01",
         850.495
        ],
        [
         "2021-02-01",
         859.573
        ],
        [
         "2021-03-01",
         876.75
        ],
        [
         "2021-04-01",
         885.093
        ],
        [
         "2021-05-01",
         901.032
        ],
        [
         "2021-06-01",
         921.762
        ],
        [
         "2021-07-01",
         933.23
        ],
        [
         "2021-08-01",
         938.475
        ],
        [
         "2021-09-01",
         943.736
        ],
        [
         "2021-10-01",
         951.249
        ],
        [
         "2021-11-01",
         957.984
        ],
        [
         "2021-12-01",
         960.894
        ],
        [
         "2022-01-01",
         967.003
        ],
        [
         "2022-02-01",
         971.651
        ],
        [
         "2022-03-01",
         978.717
        ],
        [
         "2022-04-01",
         987.218
        ],
        [
         "2022-05-01",
         1001.923
        ],
        [
         "2022-06-01",
         1030.105
        ],
        [
         "2022-07-01",
         1042.029
        ],
        [
         "2022-08-01",
         1045.469
        ],
        [
         "2022-09-01",
         1046.507
        ],
        [
         "2022-10-01",
         1046.956
        ],
        [
         "2022-11-01",
         1048.429
        ],
        [
         "2022-12-01",
         1051.249
        ],
        [
         "2023-01-01",
         1054.561
        ],
        [
         "2023-02-01",
         1056.775
        ],
        [
         "2023-03-01",
         1058.65
        ],
        [
         "2023-04-01",
         1061.071
        ],
        [
         "2023-05-01",
         1065.289
        ],
        [
         "2023-06-01",
         1074.292
        ],
        [
         "2023-07-01",
         1074.895
        ],
        [
         "2023-08-01",
         1077.497
        ],
        [
         "2023-09-01",
         1080.071
        ],
        [
         "2023-10-01",
         1082.251
        ],
        [
         "2023-11-01",
         1083.335
        ],
        [
         "2023-12-01",
         1086.15
        ],
        [
         "2024-01-01",
         1088.663
        ],
        [
         "2024-02-01",
         1090.871
        ]
       ],
       "datasetInfos": [],
       "dbfsResultPath": null,
       "isJsonSchema": true,
       "metadata": {},
       "overflow": false,
       "plotOptions": {
        "customPlotOptions": {},
        "displayType": "table",
        "pivotAggregation": null,
        "pivotColumns": null,
        "xColumns": null,
        "yColumns": null
       },
       "removedWidgets": [],
       "schema": [
        {
         "metadata": "{}",
         "name": "Data",
         "type": "\"date\""
        },
        {
         "metadata": "{}",
         "name": "INCC",
         "type": "\"float\""
        }
       ],
       "type": "table"
      }
     },
     "output_type": "display_data"
    },
    {
     "output_type": "display_data",
     "data": {
      "text/plain": [
       "Databricks visualization. Run in Databricks to view."
      ]
     },
     "metadata": {
      "application/vnd.databricks.v1.subcommand+json": {
       "baseErrorDetails": null,
       "bindings": {},
       "collapsed": false,
       "command": "%python\n__backend_agg_display_orig = display\n__backend_agg_dfs = []\ndef __backend_agg_display_new(df):\n    __backend_agg_df_modules = [\"pandas.core.frame\", \"databricks.koalas.frame\", \"pyspark.sql.dataframe\", \"pyspark.pandas.frame\", \"pyspark.sql.connect.dataframe\"]\n    if (type(df).__module__ in __backend_agg_df_modules and type(df).__name__ == 'DataFrame') or isinstance(df, list):\n        __backend_agg_dfs.append(df)\n\ndisplay = __backend_agg_display_new\n\ndef __backend_agg_user_code_fn():\n    import base64\n    exec(base64.standard_b64decode(\"ZGlzcGxheShpbmNjRmluYWwp\").decode())\n\ntry:\n    # run user code\n    __backend_agg_user_code_fn()\n\n    #reset display function\n    display = __backend_agg_display_orig\n\n    if len(__backend_agg_dfs) > 0:\n        # create a temp view\n        if type(__backend_agg_dfs[0]).__module__ == \"databricks.koalas.frame\":\n            # koalas dataframe\n            __backend_agg_dfs[0].to_spark().createOrReplaceTempView(\"DatabricksView17fbaf2\")\n        elif type(__backend_agg_dfs[0]).__module__ == \"pandas.core.frame\" or isinstance(__backend_agg_dfs[0], list):\n            # pandas dataframe\n            spark.createDataFrame(__backend_agg_dfs[0]).createOrReplaceTempView(\"DatabricksView17fbaf2\")\n        else:\n            __backend_agg_dfs[0].createOrReplaceTempView(\"DatabricksView17fbaf2\")\n        #run backend agg\n        display(spark.sql(\"\"\"WITH q AS (select * from DatabricksView17fbaf2) SELECT `INCC` FROM q\"\"\"))\n    else:\n        displayHTML(\"dataframe no longer exists. If you're using dataframe.display(), use display(dataframe) instead.\")\n\n\nfinally:\n    spark.sql(\"drop view if exists DatabricksView17fbaf2\")\n    display = __backend_agg_display_orig\n    del __backend_agg_display_new\n    del __backend_agg_display_orig\n    del __backend_agg_dfs\n    del __backend_agg_user_code_fn\n\n",
       "commandTitle": "Visualization 1",
       "commandType": "auto",
       "commandVersion": 0,
       "commentThread": [],
       "commentsVisible": false,
       "contentSha256Hex": null,
       "customPlotOptions": {
        "redashChart": [
         {
          "key": "type",
          "value": "CHART"
         },
         {
          "key": "options",
          "value": {
           "alignYAxesAtZero": true,
           "coefficient": 1,
           "columnConfigurationMap": {
            "y": [
             {
              "column": "INCC",
              "id": "column_26f905297"
             }
            ]
           },
           "dateTimeFormat": "DD/MM/YYYY HH:mm",
           "direction": {
            "type": "counterclockwise"
           },
           "error_y": {
            "type": "data",
            "visible": true
           },
           "globalSeriesType": "box",
           "legend": {
            "traceorder": "normal"
           },
           "missingValuesAsZero": true,
           "numberFormat": "0,0.[00000]",
           "percentFormat": "0[.]00%",
           "series": {
            "error_y": {
             "type": "data",
             "visible": true
            },
            "stacking": null
           },
           "seriesOptions": {
            "INCC": {
             "name": "INCC",
             "type": "box",
             "yAxis": 0
            },
            "column_26f905297": {
             "name": "INCC",
             "type": "box",
             "yAxis": 0
            }
           },
           "showDataLabels": false,
           "sizemode": "diameter",
           "sortX": true,
           "sortY": true,
           "swappedAxes": true,
           "textFormat": "",
           "useAggregationsUi": true,
           "valuesOptions": {},
           "version": 2,
           "xAxis": {
            "labels": {
             "enabled": true
            },
            "type": "-"
           },
           "yAxis": [
            {
             "type": "-"
            },
            {
             "opposite": true,
             "type": "-"
            }
           ]
          }
         }
        ]
       },
       "datasetPreviewNameToCmdIdMap": {},
       "diffDeletes": [],
       "diffInserts": [],
       "displayType": "redashChart",
       "error": null,
       "errorDetails": null,
       "errorSummary": null,
       "errorTraceType": null,
       "finishTime": 0,
       "globalVars": {},
       "guid": "",
       "height": "290",
       "hideCommandCode": false,
       "hideCommandResult": false,
       "iPythonMetadata": null,
       "inputWidgets": {},
       "isLockedInExamMode": false,
       "latestUser": "a user",
       "latestUserId": null,
       "listResultMetadata": null,
       "metadata": {},
       "nuid": "103c4db1-895e-4013-9f69-2559a17b91ee",
       "origId": 0,
       "parentHierarchy": [],
       "pivotAggregation": null,
       "pivotColumns": null,
       "position": 17.998046858236194,
       "resultDbfsErrorMessage": null,
       "resultDbfsStatus": "INLINED_IN_TREE",
       "results": null,
       "showCommandTitle": false,
       "startTime": 0,
       "state": "input",
       "streamStates": {},
       "subcommandOptions": {
        "queryPlan": {
         "selects": [
          {
           "column": "INCC",
           "type": "column"
          }
         ]
        }
       },
       "submitTime": 0,
       "subtype": "tableResultSubCmd.visualization",
       "tableResultIndex": 0,
       "useConsistentColors": false,
       "version": "CommandV1",
       "width": "762",
       "workflows": [],
       "xColumns": null,
       "yColumns": null
      }
     },
     "output_type": "display_data"
    }
   ],
   "source": [
    "display(inccFinal)"
   ]
  },
  {
   "cell_type": "markdown",
   "metadata": {
    "application/vnd.databricks.v1+cell": {
     "cellMetadata": {
      "byteLimit": 2048000,
      "rowLimit": 10000
     },
     "inputWidgets": {},
     "nuid": "7be14e01-dbdb-40e7-9a2a-015ee3b0025a",
     "showTitle": false,
     "title": ""
    }
   },
   "source": [
    "# Concatenando Datasets"
   ]
  },
  {
   "cell_type": "markdown",
   "metadata": {
    "application/vnd.databricks.v1+cell": {
     "cellMetadata": {
      "byteLimit": 2048000,
      "rowLimit": 10000
     },
     "inputWidgets": {},
     "nuid": "43b4d774-938c-45b3-acb6-155f9f13c9d9",
     "showTitle": false,
     "title": ""
    }
   },
   "source": [
    "#### Ajustando os datasets"
   ]
  },
  {
   "cell_type": "code",
   "execution_count": 0,
   "metadata": {
    "application/vnd.databricks.v1+cell": {
     "cellMetadata": {
      "byteLimit": 2048000,
      "rowLimit": 10000
     },
     "inputWidgets": {},
     "nuid": "a013b1a6-3ab5-4ce9-9554-8895c247daae",
     "showTitle": false,
     "title": ""
    }
   },
   "outputs": [
    {
     "output_type": "stream",
     "name": "stdout",
     "output_type": "stream",
     "text": [
      "+-------+-------+\n|   IFIX|Mes_Ano|\n+-------+-------+\n|1613.76| 1-2013|\n|1597.88| 2-2013|\n|1579.32| 3-2013|\n| 1549.0| 4-2013|\n|1549.36| 5-2013|\n+-------+-------+\nonly showing top 5 rows\n\n"
     ]
    }
   ],
   "source": [
    "# Extraindo mês e ano da coluna de data\n",
    "ifixReg = ifixConcat.withColumn(\"Mes_Ano\", concat(month(\"Data\"), lit(\"-\"), year(\"Data\")))\n",
    "ifixReg = ifixReg.select('IFIX', 'Mes_Ano')\n",
    "ifixReg.show(5)"
   ]
  },
  {
   "cell_type": "code",
   "execution_count": 0,
   "metadata": {
    "application/vnd.databricks.v1+cell": {
     "cellMetadata": {
      "byteLimit": 2048000,
      "rowLimit": 10000
     },
     "inputWidgets": {},
     "nuid": "3bdef034-19da-4b26-b1f5-7a8e3bfbafd8",
     "showTitle": false,
     "title": ""
    }
   },
   "outputs": [
    {
     "output_type": "stream",
     "name": "stdout",
     "output_type": "stream",
     "text": [
      "+----+-------+\n| CDI|Mes_Ano|\n+----+-------+\n|6.95| 1-2013|\n|6.98| 2-2013|\n|7.23| 4-2013|\n|7.72| 5-2013|\n|8.22| 7-2013|\n+----+-------+\nonly showing top 5 rows\n\n"
     ]
    }
   ],
   "source": [
    "# Extraindo mês e ano da coluna de data\n",
    "cdiReg = cdiConcat.withColumn(\"Mes_Ano\", concat(month(\"Data\"), lit(\"-\"), year(\"Data\")))\n",
    "cdiReg = cdiReg.select('CDI', 'Mes_Ano')\n",
    "cdiReg.show(5)"
   ]
  },
  {
   "cell_type": "code",
   "execution_count": 0,
   "metadata": {
    "application/vnd.databricks.v1+cell": {
     "cellMetadata": {
      "byteLimit": 2048000,
      "rowLimit": 10000
     },
     "inputWidgets": {},
     "nuid": "415b4f00-c1bc-4b55-bbbe-596648503b45",
     "showTitle": false,
     "title": ""
    }
   },
   "outputs": [
    {
     "output_type": "stream",
     "name": "stdout",
     "output_type": "stream",
     "text": [
      "+-----+-------+\n|SELIC|Mes_Ano|\n+-----+-------+\n| 10.4| 1-2014|\n|10.65| 2-2014|\n|10.65| 3-2014|\n| 10.9| 4-2014|\n| 10.9| 6-2014|\n+-----+-------+\nonly showing top 5 rows\n\n"
     ]
    }
   ],
   "source": [
    "# Extraindo mês e ano da coluna de data\n",
    "selicReg = selicConcat.withColumn(\"Mes_Ano\", concat(month(\"Data\"), lit(\"-\"), year(\"Data\")))\n",
    "selicReg = selicReg.select('SELIC', 'Mes_Ano')\n",
    "selicReg.show(5)"
   ]
  },
  {
   "cell_type": "code",
   "execution_count": 0,
   "metadata": {
    "application/vnd.databricks.v1+cell": {
     "cellMetadata": {
      "byteLimit": 2048000,
      "rowLimit": 10000
     },
     "inputWidgets": {},
     "nuid": "4fc8ed73-5d15-41e0-9663-aa162a2c8886",
     "showTitle": false,
     "title": ""
    }
   },
   "outputs": [
    {
     "output_type": "stream",
     "name": "stdout",
     "output_type": "stream",
     "text": [
      "root\n |-- SELIC: double (nullable = true)\n |-- Mes_Ano: string (nullable = true)\n\n"
     ]
    }
   ],
   "source": [
    "selicReg.printSchema()"
   ]
  },
  {
   "cell_type": "code",
   "execution_count": 0,
   "metadata": {
    "application/vnd.databricks.v1+cell": {
     "cellMetadata": {
      "byteLimit": 2048000,
      "rowLimit": 10000
     },
     "inputWidgets": {},
     "nuid": "4a0d6359-5fdf-4064-8671-42d458a8b866",
     "showTitle": false,
     "title": ""
    }
   },
   "outputs": [
    {
     "output_type": "stream",
     "name": "stdout",
     "output_type": "stream",
     "text": [
      "+-------+-------+\n|  IGP-M|Mes_Ano|\n+-------+-------+\n|511.977| 1-2013|\n|513.467| 2-2013|\n|514.526| 3-2013|\n|515.276| 4-2013|\n|515.299| 5-2013|\n+-------+-------+\nonly showing top 5 rows\n\n"
     ]
    }
   ],
   "source": [
    "igpmReg = igpmFinal.withColumn(\"Mes_Ano\", concat(month(\"Data\"), lit(\"-\"), year(\"Data\")))\n",
    "igpmReg = igpmReg.select('IGP-M', 'Mes_Ano')\n",
    "igpmReg.show(5)"
   ]
  },
  {
   "cell_type": "code",
   "execution_count": 0,
   "metadata": {
    "application/vnd.databricks.v1+cell": {
     "cellMetadata": {
      "byteLimit": 2048000,
      "rowLimit": 10000
     },
     "inputWidgets": {},
     "nuid": "68fd71c2-04dc-412f-b910-5bae728a140f",
     "showTitle": false,
     "title": ""
    }
   },
   "outputs": [
    {
     "output_type": "stream",
     "name": "stdout",
     "output_type": "stream",
     "text": [
      "root\n |-- IGP-M: float (nullable = true)\n |-- Mes_Ano: string (nullable = true)\n\n"
     ]
    }
   ],
   "source": [
    "igpmReg.printSchema()"
   ]
  },
  {
   "cell_type": "code",
   "execution_count": 0,
   "metadata": {
    "application/vnd.databricks.v1+cell": {
     "cellMetadata": {
      "byteLimit": 2048000,
      "rowLimit": 10000
     },
     "inputWidgets": {},
     "nuid": "4ba0299c-4f4c-4da5-8f1e-398681ad0dda",
     "showTitle": false,
     "title": ""
    }
   },
   "outputs": [
    {
     "output_type": "stream",
     "name": "stdout",
     "output_type": "stream",
     "text": [
      "+-------+-------+\n|   INCC|Mes_Ano|\n+-------+-------+\n|149.224| 7-1996|\n|150.334| 8-1996|\n|150.564| 9-1996|\n|150.915|10-1996|\n|151.345|11-1996|\n+-------+-------+\nonly showing top 5 rows\n\n"
     ]
    }
   ],
   "source": [
    "inccReg = inccFinal.withColumn('Mes_Ano', concat(month('Data'), lit('-'), year('Data')))\n",
    "inccReg = inccReg.select('INCC', 'Mes_Ano')\n",
    "inccReg.show(5)"
   ]
  },
  {
   "cell_type": "code",
   "execution_count": 0,
   "metadata": {
    "application/vnd.databricks.v1+cell": {
     "cellMetadata": {
      "byteLimit": 2048000,
      "rowLimit": 10000
     },
     "inputWidgets": {},
     "nuid": "e0f1a6dd-825a-4054-af3e-b6dddb14aebc",
     "showTitle": false,
     "title": ""
    }
   },
   "outputs": [
    {
     "output_type": "stream",
     "name": "stdout",
     "output_type": "stream",
     "text": [
      "root\n |-- INCC: float (nullable = true)\n |-- Mes_Ano: string (nullable = true)\n\n"
     ]
    }
   ],
   "source": [
    "inccReg.printSchema()"
   ]
  },
  {
   "cell_type": "markdown",
   "metadata": {
    "application/vnd.databricks.v1+cell": {
     "cellMetadata": {
      "byteLimit": 2048000,
      "rowLimit": 10000
     },
     "inputWidgets": {},
     "nuid": "dabc331b-83e6-42bb-820b-079d04247d8a",
     "showTitle": false,
     "title": ""
    }
   },
   "source": [
    "#### Dataset dos Indices"
   ]
  },
  {
   "cell_type": "code",
   "execution_count": 0,
   "metadata": {
    "application/vnd.databricks.v1+cell": {
     "cellMetadata": {
      "byteLimit": 2048000,
      "rowLimit": 10000
     },
     "inputWidgets": {},
     "nuid": "04e3f57f-028b-46d5-9864-40749531c8de",
     "showTitle": false,
     "title": ""
    }
   },
   "outputs": [
    {
     "output_type": "stream",
     "name": "stdout",
     "output_type": "stream",
     "text": [
      "+-------+-------+-----+-----+-------+-------+\n|Mes_Ano|   IFIX|  CDI|SELIC|  IGP-M|   INCC|\n+-------+-------+-----+-----+-------+-------+\n| 1-2014|1282.04|10.27| 10.4|540.959|569.745|\n| 2-2014|1330.42|10.59|10.65|543.038|572.254|\n| 3-2014|1336.07|10.55|10.65|552.087|573.505|\n| 4-2014|1350.76| 10.8| 10.9| 556.42|577.322|\n| 6-2014|1387.63| 10.8| 10.9|551.554| 592.51|\n+-------+-------+-----+-----+-------+-------+\nonly showing top 5 rows\n\n"
     ]
    }
   ],
   "source": [
    "indices = ifixReg.join(cdiReg, \"Mes_Ano\", \"inner\").join(selicReg, \"Mes_Ano\", \"inner\").join(igpmReg, 'Mes_Ano', 'inner').join(inccReg, 'Mes_Ano', 'inner')\n",
    "indices.show(5)"
   ]
  },
  {
   "cell_type": "code",
   "execution_count": 0,
   "metadata": {
    "application/vnd.databricks.v1+cell": {
     "cellMetadata": {
      "byteLimit": 2048000,
      "rowLimit": 10000
     },
     "inputWidgets": {},
     "nuid": "6aebcfbc-0ecb-4e99-b78e-3a626746ff85",
     "showTitle": false,
     "title": ""
    }
   },
   "outputs": [
    {
     "output_type": "stream",
     "name": "stdout",
     "output_type": "stream",
     "text": [
      "root\n |-- Mes_Ano: string (nullable = true)\n |-- IFIX: double (nullable = true)\n |-- CDI: double (nullable = true)\n |-- SELIC: double (nullable = true)\n |-- IGP-M: float (nullable = true)\n |-- INCC: float (nullable = true)\n\n"
     ]
    }
   ],
   "source": [
    "indices.printSchema()"
   ]
  },
  {
   "cell_type": "code",
   "execution_count": 0,
   "metadata": {
    "application/vnd.databricks.v1+cell": {
     "cellMetadata": {
      "byteLimit": 2048000,
      "rowLimit": 10000
     },
     "inputWidgets": {},
     "nuid": "69b22cb2-7c9b-4417-975f-9a6c2144c264",
     "showTitle": false,
     "title": ""
    }
   },
   "outputs": [
    {
     "output_type": "stream",
     "name": "stdout",
     "output_type": "stream",
     "text": [
      "root\n |-- Mes_Ano: string (nullable = true)\n |-- IFIX: double (nullable = true)\n |-- CDI: double (nullable = true)\n |-- SELIC: double (nullable = true)\n |-- IGP-M: float (nullable = true)\n |-- INCC: float (nullable = true)\n |-- Data: date (nullable = true)\n\n"
     ]
    }
   ],
   "source": [
    "indices_date = indices.withColumn(\"Data\", to_date(\"Mes_Ano\", \"M-yyyy\"))\n",
    "indices_date.printSchema()\n"
   ]
  },
  {
   "cell_type": "code",
   "execution_count": 0,
   "metadata": {
    "application/vnd.databricks.v1+cell": {
     "cellMetadata": {
      "byteLimit": 2048000,
      "rowLimit": 10000
     },
     "inputWidgets": {},
     "nuid": "20a8dc89-8b2d-470e-a18f-b1f9c521b772",
     "showTitle": false,
     "title": ""
    }
   },
   "outputs": [
    {
     "output_type": "stream",
     "name": "stdout",
     "output_type": "stream",
     "text": [
      "+----------+-------+-----+-----+-------+-------+\n|      Data|   IFIX|  CDI|SELIC|   INCC|  IGP-M|\n+----------+-------+-----+-----+-------+-------+\n|2014-01-01|1282.04|10.27| 10.4|569.745|540.959|\n|2014-02-01|1330.42|10.59|10.65|572.254|543.038|\n|2014-03-01|1336.07|10.55|10.65|573.505|552.087|\n|2014-04-01|1350.76| 10.8| 10.9|577.322| 556.42|\n|2014-06-01|1387.63| 10.8| 10.9| 592.51|551.554|\n+----------+-------+-----+-----+-------+-------+\nonly showing top 5 rows\n\n"
     ]
    }
   ],
   "source": [
    "indicesFinal = indices_date.select('Data', 'IFIX', 'CDI', 'SELIC', 'INCC', 'IGP-M')\n",
    "indicesFinal.show(5)"
   ]
  },
  {
   "cell_type": "code",
   "execution_count": 0,
   "metadata": {
    "application/vnd.databricks.v1+cell": {
     "cellMetadata": {
      "byteLimit": 2048000,
      "rowLimit": 10000
     },
     "inputWidgets": {},
     "nuid": "a29e4ed1-9603-4087-bcae-7989cb0c390e",
     "showTitle": false,
     "title": ""
    }
   },
   "outputs": [
    {
     "output_type": "stream",
     "name": "stdout",
     "output_type": "stream",
     "text": [
      "root\n |-- Data: date (nullable = true)\n |-- IFIX: double (nullable = true)\n |-- CDI: double (nullable = true)\n |-- SELIC: double (nullable = true)\n |-- INCC: float (nullable = true)\n |-- IGP-M: float (nullable = true)\n\n"
     ]
    }
   ],
   "source": [
    "indicesFinal.printSchema()"
   ]
  },
  {
   "cell_type": "code",
   "execution_count": 0,
   "metadata": {
    "application/vnd.databricks.v1+cell": {
     "cellMetadata": {
      "byteLimit": 2048000,
      "rowLimit": 10000
     },
     "inputWidgets": {},
     "nuid": "69e9d3d7-ce41-4d05-891b-e1ef63cf359d",
     "showTitle": false,
     "title": ""
    }
   },
   "outputs": [
    {
     "output_type": "stream",
     "name": "stdout",
     "output_type": "stream",
     "text": [
      "Out[131]: 85"
     ]
    }
   ],
   "source": [
    "indicesFinal.count()"
   ]
  },
  {
   "cell_type": "code",
   "execution_count": 0,
   "metadata": {
    "application/vnd.databricks.v1+cell": {
     "cellMetadata": {
      "byteLimit": 2048000,
      "rowLimit": 10000
     },
     "inputWidgets": {},
     "nuid": "93a82d7b-4d17-436d-bc56-e1eba87e298d",
     "showTitle": false,
     "title": ""
    }
   },
   "outputs": [
    {
     "output_type": "display_data",
     "data": {
      "text/html": [
       "<style scoped>\n",
       "  .table-result-container {\n",
       "    max-height: 300px;\n",
       "    overflow: auto;\n",
       "  }\n",
       "  table, th, td {\n",
       "    border: 1px solid black;\n",
       "    border-collapse: collapse;\n",
       "  }\n",
       "  th, td {\n",
       "    padding: 5px;\n",
       "  }\n",
       "  th {\n",
       "    text-align: left;\n",
       "  }\n",
       "</style><div class='table-result-container'><table class='table-result'><thead style='background-color: white'><tr><th>Data</th><th>IFIX</th><th>CDI</th><th>SELIC</th><th>INCC</th><th>IGP-M</th></tr></thead><tbody><tr><td>2014-01-01</td><td>1282.04</td><td>10.27</td><td>10.4</td><td>569.745</td><td>540.959</td></tr><tr><td>2014-02-01</td><td>1330.42</td><td>10.59</td><td>10.65</td><td>572.254</td><td>543.038</td></tr><tr><td>2014-03-01</td><td>1336.07</td><td>10.55</td><td>10.65</td><td>573.505</td><td>552.087</td></tr><tr><td>2014-04-01</td><td>1350.76</td><td>10.8</td><td>10.9</td><td>577.322</td><td>556.42</td></tr><tr><td>2014-06-01</td><td>1387.63</td><td>10.8</td><td>10.9</td><td>592.51</td><td>551.554</td></tr><tr><td>2014-07-01</td><td>1409.42</td><td>10.8</td><td>10.9</td><td>597.251</td><td>548.202</td></tr><tr><td>2014-09-01</td><td>1421.44</td><td>10.81</td><td>10.9</td><td>599.333</td><td>547.839</td></tr><tr><td>2014-10-01</td><td>1402.46</td><td>11.06</td><td>11.15</td><td>600.549</td><td>549.396</td></tr><tr><td>2014-12-01</td><td>1336.72</td><td>11.57</td><td>11.65</td><td>603.895</td><td>558.213</td></tr><tr><td>2015-03-01</td><td>1347.63</td><td>12.6</td><td>12.65</td><td>613.374</td><td>569.536</td></tr><tr><td>2015-04-01</td><td>1397.06</td><td>13.11</td><td>13.15</td><td>617.36</td><td>576.175</td></tr><tr><td>2015-06-01</td><td>1460.46</td><td>13.64</td><td>13.65</td><td>631.747</td><td>582.401</td></tr><tr><td>2015-07-01</td><td>1470.73</td><td>14.13</td><td>14.15</td><td>635.935</td><td>586.426</td></tr><tr><td>2015-08-01</td><td>1458.12</td><td>14.13</td><td>14.15</td><td>641.019</td><td>588.042</td></tr><tr><td>2015-09-01</td><td>1400.42</td><td>14.13</td><td>14.15</td><td>642.407</td><td>593.606</td></tr><tr><td>2015-11-01</td><td>1452.66</td><td>14.14</td><td>14.15</td><td>646.721</td><td>614.051</td></tr><tr><td>2015-12-01</td><td>1409.01</td><td>14.14</td><td>14.15</td><td>647.492</td><td>617.044</td></tr><tr><td>2016-02-01</td><td>1361.05</td><td>14.13</td><td>14.15</td><td>652.975</td><td>632.114</td></tr><tr><td>2016-03-01</td><td>1485.75</td><td>14.13</td><td>14.15</td><td>658.149</td><td>635.349</td></tr><tr><td>2016-05-01</td><td>1612.36</td><td>14.13</td><td>14.15</td><td>662.089</td><td>642.651</td></tr><tr><td>2016-06-01</td><td>1638.16</td><td>14.13</td><td>14.15</td><td>672.156</td><td>653.496</td></tr><tr><td>2016-08-01</td><td>1767.11</td><td>14.13</td><td>14.15</td><td>681.23</td><td>655.602</td></tr><tr><td>2016-09-01</td><td>1816.05</td><td>14.13</td><td>14.15</td><td>683.764</td><td>656.894</td></tr><tr><td>2016-10-01</td><td>1885.92</td><td>13.88</td><td>13.9</td><td>684.955</td><td>657.927</td></tr><tr><td>2016-11-01</td><td>1837.13</td><td>13.88</td><td>13.9</td><td>686.118</td><td>657.752</td></tr><tr><td>2017-01-01</td><td>1934.69</td><td>12.88</td><td>12.9</td><td>690.614</td><td>665.542</td></tr><tr><td>2017-03-01</td><td>2032.81</td><td>12.13</td><td>12.15</td><td>696.782</td><td>666.197</td></tr><tr><td>2017-05-01</td><td>2056.75</td><td>11.13</td><td>11.15</td><td>697.117</td><td>652.758</td></tr><tr><td>2017-06-01</td><td>2074.14</td><td>10.14</td><td>10.15</td><td>706.596</td><td>648.409</td></tr><tr><td>2017-07-01</td><td>2066.19</td><td>9.14</td><td>9.15</td><td>708.135</td><td>643.766</td></tr><tr><td>2017-08-01</td><td>2084.0</td><td>9.14</td><td>9.15</td><td>710.954</td><td>644.383</td></tr><tr><td>2017-10-01</td><td>2226.25</td><td>7.39</td><td>7.4</td><td>713.354</td><td>648.672</td></tr><tr><td>2017-11-01</td><td>2213.08</td><td>7.39</td><td>7.4</td><td>715.318</td><td>652.073</td></tr><tr><td>2018-01-01</td><td>2285.23</td><td>6.89</td><td>6.9</td><td>718.303</td><td>662.826</td></tr><tr><td>2018-02-01</td><td>2311.41</td><td>6.64</td><td>6.65</td><td>719.332</td><td>663.311</td></tr><tr><td>2018-04-01</td><td>2337.25</td><td>6.39</td><td>6.4</td><td>722.983</td><td>671.327</td></tr><tr><td>2018-07-01</td><td>2154.45</td><td>6.39</td><td>6.4</td><td>735.987</td><td>696.8</td></tr><tr><td>2018-08-01</td><td>2139.4</td><td>6.39</td><td>6.4</td><td>738.158</td><td>701.677</td></tr><tr><td>2018-10-01</td><td>2242.45</td><td>6.4</td><td>6.4</td><td>741.859</td><td>718.684</td></tr><tr><td>2018-11-01</td><td>2300.48</td><td>6.4</td><td>6.4</td><td>743.755</td><td>715.166</td></tr><tr><td>2018-12-01</td><td>2351.59</td><td>6.4</td><td>6.4</td><td>744.699</td><td>707.441</td></tr><tr><td>2019-01-01</td><td>2409.69</td><td>6.4</td><td>6.4</td><td>747.656</td><td>707.488</td></tr><tr><td>2019-02-01</td><td>2434.56</td><td>6.4</td><td>6.4</td><td>749.111</td><td>713.747</td></tr><tr><td>2019-04-01</td><td>2508.45</td><td>6.4</td><td>6.4</td><td>754.203</td><td>729.346</td></tr><tr><td>2019-05-01</td><td>2552.69</td><td>6.4</td><td>6.4</td><td>754.859</td><td>732.595</td></tr><tr><td>2019-07-01</td><td>2659.55</td><td>6.4</td><td>6.4</td><td>765.053</td><td>741.346</td></tr><tr><td>2019-09-01</td><td>2684.26</td><td>5.4</td><td>5.4</td><td>772.31</td><td>736.362</td></tr><tr><td>2019-10-01</td><td>2791.98</td><td>4.9</td><td>4.9</td><td>773.273</td><td>741.333</td></tr><tr><td>2019-12-01</td><td>3197.58</td><td>4.4</td><td>4.4</td><td>775.49</td><td>759.112</td></tr><tr><td>2020-01-01</td><td>3077.28</td><td>4.4</td><td>4.4</td><td>777.47</td><td>762.733</td></tr><tr><td>2020-03-01</td><td>2494.1</td><td>3.65</td><td>3.65</td><td>783.15</td><td>771.908</td></tr><tr><td>2020-04-01</td><td>2603.62</td><td>3.65</td><td>3.65</td><td>784.523</td><td>778.101</td></tr><tr><td>2020-06-01</td><td>2806.28</td><td>2.15</td><td>2.15</td><td>788.616</td><td>792.429</td></tr><tr><td>2020-07-01</td><td>2733.12</td><td>2.15</td><td>2.15</td><td>795.235</td><td>810.083</td></tr><tr><td>2020-08-01</td><td>2782.1</td><td>1.9</td><td>1.9</td><td>801.777</td><td>832.313</td></tr><tr><td>2020-09-01</td><td>2794.88</td><td>1.9</td><td>1.9</td><td>810.965</td><td>868.442</td></tr><tr><td>2020-11-01</td><td>2808.56</td><td>1.9</td><td>1.9</td><td>835.305</td><td>925.887</td></tr><tr><td>2020-12-01</td><td>2870.15</td><td>1.9</td><td>1.9</td><td>842.683</td><td>934.758</td></tr><tr><td>2021-03-01</td><td>2846.77</td><td>2.65</td><td>2.65</td><td>876.75</td><td>1011.948</td></tr><tr><td>2021-04-01</td><td>2861.15</td><td>2.65</td><td>2.65</td><td>885.093</td><td>1027.211</td></tr><tr><td>2021-05-01</td><td>2816.46</td><td>3.4</td><td>3.4</td><td>901.032</td><td>1069.289</td></tr><tr><td>2021-06-01</td><td>2754.89</td><td>4.15</td><td>4.15</td><td>921.762</td><td>1075.733</td></tr><tr><td>2021-08-01</td><td>2749.84</td><td>5.15</td><td>5.15</td><td>938.475</td><td>1091.29</td></tr><tr><td>2021-09-01</td><td>2715.67</td><td>6.15</td><td>6.15</td><td>943.736</td><td>1084.312</td></tr><tr><td>2021-11-01</td><td>2578.4</td><td>7.65</td><td>7.65</td><td>957.984</td><td>1091.483</td></tr><tr><td>2021-12-01</td><td>2804.79</td><td>9.15</td><td>9.15</td><td>960.894</td><td>1100.988</td></tr><tr><td>2022-01-01</td><td>2776.92</td><td>9.15</td><td>9.15</td><td>967.003</td><td>1120.999</td></tr><tr><td>2022-03-01</td><td>2779.97</td><td>11.65</td><td>11.65</td><td>978.717</td><td>1161.418</td></tr><tr><td>2022-05-01</td><td>2820.45</td><td>12.65</td><td>12.65</td><td>1001.923</td><td>1183.953</td></tr><tr><td>2022-06-01</td><td>2795.62</td><td>13.15</td><td>13.15</td><td>1030.105</td><td>1190.882</td></tr><tr><td>2022-08-01</td><td>2976.23</td><td>13.65</td><td>13.65</td><td>1045.469</td><td>1185.004</td></tr><tr><td>2022-09-01</td><td>2990.8</td><td>13.65</td><td>13.65</td><td>1046.507</td><td>1173.793</td></tr><tr><td>2022-10-01</td><td>2991.45</td><td>13.65</td><td>13.65</td><td>1046.956</td><td>1162.391</td></tr><tr><td>2022-11-01</td><td>2867.21</td><td>13.65</td><td>13.65</td><td>1048.429</td><td>1155.829</td></tr><tr><td>2023-01-01</td><td>2821.14</td><td>13.65</td><td>13.65</td><td>1054.561</td><td>1163.465</td></tr><tr><td>2023-02-01</td><td>2808.39</td><td>13.65</td><td>13.65</td><td>1056.775</td><td>1162.761</td></tr><tr><td>2023-03-01</td><td>2760.96</td><td>13.65</td><td>13.65</td><td>1058.65</td><td>1163.359</td></tr><tr><td>2023-05-01</td><td>3013.46</td><td>13.65</td><td>13.65</td><td>1065.289</td><td>1131.058</td></tr><tr><td>2023-06-01</td><td>3155.32</td><td>13.65</td><td>13.65</td><td>1074.292</td><td>1109.23</td></tr><tr><td>2023-07-01</td><td>3197.18</td><td>13.65</td><td>13.65</td><td>1074.895</td><td>1101.204</td></tr><tr><td>2023-08-01</td><td>3212.81</td><td>13.15</td><td>13.15</td><td>1077.497</td><td>1099.71</td></tr><tr><td>2023-10-01</td><td>3155.7</td><td>12.65</td><td>12.65</td><td>1082.251</td><td>1109.236</td></tr><tr><td>2023-11-01</td><td>3176.56</td><td>12.15</td><td>12.15</td><td>1083.335</td><td>1115.815</td></tr><tr><td>2024-01-01</td><td>3333.51</td><td>11.65</td><td>11.65</td><td>1088.663</td><td>1124.879</td></tr><tr><td>2024-02-01</td><td>3360.0</td><td>11.15</td><td>11.15</td><td>1090.871</td><td>1119.061</td></tr></tbody></table></div>"
      ]
     },
     "metadata": {
      "application/vnd.databricks.v1+output": {
       "addedWidgets": {},
       "aggData": [],
       "aggError": "",
       "aggOverflow": false,
       "aggSchema": [],
       "aggSeriesLimitReached": false,
       "aggType": "",
       "arguments": {},
       "columnCustomDisplayInfos": {},
       "data": [
        [
         "2014-01-01",
         1282.04,
         10.27,
         10.4,
         569.745,
         540.959
        ],
        [
         "2014-02-01",
         1330.42,
         10.59,
         10.65,
         572.254,
         543.038
        ],
        [
         "2014-03-01",
         1336.07,
         10.55,
         10.65,
         573.505,
         552.087
        ],
        [
         "2014-04-01",
         1350.76,
         10.8,
         10.9,
         577.322,
         556.42
        ],
        [
         "2014-06-01",
         1387.63,
         10.8,
         10.9,
         592.51,
         551.554
        ],
        [
         "2014-07-01",
         1409.42,
         10.8,
         10.9,
         597.251,
         548.202
        ],
        [
         "2014-09-01",
         1421.44,
         10.81,
         10.9,
         599.333,
         547.839
        ],
        [
         "2014-10-01",
         1402.46,
         11.06,
         11.15,
         600.549,
         549.396
        ],
        [
         "2014-12-01",
         1336.72,
         11.57,
         11.65,
         603.895,
         558.213
        ],
        [
         "2015-03-01",
         1347.63,
         12.6,
         12.65,
         613.374,
         569.536
        ],
        [
         "2015-04-01",
         1397.06,
         13.11,
         13.15,
         617.36,
         576.175
        ],
        [
         "2015-06-01",
         1460.46,
         13.64,
         13.65,
         631.747,
         582.401
        ],
        [
         "2015-07-01",
         1470.73,
         14.13,
         14.15,
         635.935,
         586.426
        ],
        [
         "2015-08-01",
         1458.12,
         14.13,
         14.15,
         641.019,
         588.042
        ],
        [
         "2015-09-01",
         1400.42,
         14.13,
         14.15,
         642.407,
         593.606
        ],
        [
         "2015-11-01",
         1452.66,
         14.14,
         14.15,
         646.721,
         614.051
        ],
        [
         "2015-12-01",
         1409.01,
         14.14,
         14.15,
         647.492,
         617.044
        ],
        [
         "2016-02-01",
         1361.05,
         14.13,
         14.15,
         652.975,
         632.114
        ],
        [
         "2016-03-01",
         1485.75,
         14.13,
         14.15,
         658.149,
         635.349
        ],
        [
         "2016-05-01",
         1612.36,
         14.13,
         14.15,
         662.089,
         642.651
        ],
        [
         "2016-06-01",
         1638.16,
         14.13,
         14.15,
         672.156,
         653.496
        ],
        [
         "2016-08-01",
         1767.11,
         14.13,
         14.15,
         681.23,
         655.602
        ],
        [
         "2016-09-01",
         1816.05,
         14.13,
         14.15,
         683.764,
         656.894
        ],
        [
         "2016-10-01",
         1885.92,
         13.88,
         13.9,
         684.955,
         657.927
        ],
        [
         "2016-11-01",
         1837.13,
         13.88,
         13.9,
         686.118,
         657.752
        ],
        [
         "2017-01-01",
         1934.69,
         12.88,
         12.9,
         690.614,
         665.542
        ],
        [
         "2017-03-01",
         2032.81,
         12.13,
         12.15,
         696.782,
         666.197
        ],
        [
         "2017-05-01",
         2056.75,
         11.13,
         11.15,
         697.117,
         652.758
        ],
        [
         "2017-06-01",
         2074.14,
         10.14,
         10.15,
         706.596,
         648.409
        ],
        [
         "2017-07-01",
         2066.19,
         9.14,
         9.15,
         708.135,
         643.766
        ],
        [
         "2017-08-01",
         2084.0,
         9.14,
         9.15,
         710.954,
         644.383
        ],
        [
         "2017-10-01",
         2226.25,
         7.39,
         7.4,
         713.354,
         648.672
        ],
        [
         "2017-11-01",
         2213.08,
         7.39,
         7.4,
         715.318,
         652.073
        ],
        [
         "2018-01-01",
         2285.23,
         6.89,
         6.9,
         718.303,
         662.826
        ],
        [
         "2018-02-01",
         2311.41,
         6.64,
         6.65,
         719.332,
         663.311
        ],
        [
         "2018-04-01",
         2337.25,
         6.39,
         6.4,
         722.983,
         671.327
        ],
        [
         "2018-07-01",
         2154.45,
         6.39,
         6.4,
         735.987,
         696.8
        ],
        [
         "2018-08-01",
         2139.4,
         6.39,
         6.4,
         738.158,
         701.677
        ],
        [
         "2018-10-01",
         2242.45,
         6.4,
         6.4,
         741.859,
         718.684
        ],
        [
         "2018-11-01",
         2300.48,
         6.4,
         6.4,
         743.755,
         715.166
        ],
        [
         "2018-12-01",
         2351.59,
         6.4,
         6.4,
         744.699,
         707.441
        ],
        [
         "2019-01-01",
         2409.69,
         6.4,
         6.4,
         747.656,
         707.488
        ],
        [
         "2019-02-01",
         2434.56,
         6.4,
         6.4,
         749.111,
         713.747
        ],
        [
         "2019-04-01",
         2508.45,
         6.4,
         6.4,
         754.203,
         729.346
        ],
        [
         "2019-05-01",
         2552.69,
         6.4,
         6.4,
         754.859,
         732.595
        ],
        [
         "2019-07-01",
         2659.55,
         6.4,
         6.4,
         765.053,
         741.346
        ],
        [
         "2019-09-01",
         2684.26,
         5.4,
         5.4,
         772.31,
         736.362
        ],
        [
         "2019-10-01",
         2791.98,
         4.9,
         4.9,
         773.273,
         741.333
        ],
        [
         "2019-12-01",
         3197.58,
         4.4,
         4.4,
         775.49,
         759.112
        ],
        [
         "2020-01-01",
         3077.28,
         4.4,
         4.4,
         777.47,
         762.733
        ],
        [
         "2020-03-01",
         2494.1,
         3.65,
         3.65,
         783.15,
         771.908
        ],
        [
         "2020-04-01",
         2603.62,
         3.65,
         3.65,
         784.523,
         778.101
        ],
        [
         "2020-06-01",
         2806.28,
         2.15,
         2.15,
         788.616,
         792.429
        ],
        [
         "2020-07-01",
         2733.12,
         2.15,
         2.15,
         795.235,
         810.083
        ],
        [
         "2020-08-01",
         2782.1,
         1.9,
         1.9,
         801.777,
         832.313
        ],
        [
         "2020-09-01",
         2794.88,
         1.9,
         1.9,
         810.965,
         868.442
        ],
        [
         "2020-11-01",
         2808.56,
         1.9,
         1.9,
         835.305,
         925.887
        ],
        [
         "2020-12-01",
         2870.15,
         1.9,
         1.9,
         842.683,
         934.758
        ],
        [
         "2021-03-01",
         2846.77,
         2.65,
         2.65,
         876.75,
         1011.948
        ],
        [
         "2021-04-01",
         2861.15,
         2.65,
         2.65,
         885.093,
         1027.211
        ],
        [
         "2021-05-01",
         2816.46,
         3.4,
         3.4,
         901.032,
         1069.289
        ],
        [
         "2021-06-01",
         2754.89,
         4.15,
         4.15,
         921.762,
         1075.733
        ],
        [
         "2021-08-01",
         2749.84,
         5.15,
         5.15,
         938.475,
         1091.29
        ],
        [
         "2021-09-01",
         2715.67,
         6.15,
         6.15,
         943.736,
         1084.312
        ],
        [
         "2021-11-01",
         2578.4,
         7.65,
         7.65,
         957.984,
         1091.483
        ],
        [
         "2021-12-01",
         2804.79,
         9.15,
         9.15,
         960.894,
         1100.988
        ],
        [
         "2022-01-01",
         2776.92,
         9.15,
         9.15,
         967.003,
         1120.999
        ],
        [
         "2022-03-01",
         2779.97,
         11.65,
         11.65,
         978.717,
         1161.418
        ],
        [
         "2022-05-01",
         2820.45,
         12.65,
         12.65,
         1001.923,
         1183.953
        ],
        [
         "2022-06-01",
         2795.62,
         13.15,
         13.15,
         1030.105,
         1190.882
        ],
        [
         "2022-08-01",
         2976.23,
         13.65,
         13.65,
         1045.469,
         1185.004
        ],
        [
         "2022-09-01",
         2990.8,
         13.65,
         13.65,
         1046.507,
         1173.793
        ],
        [
         "2022-10-01",
         2991.45,
         13.65,
         13.65,
         1046.956,
         1162.391
        ],
        [
         "2022-11-01",
         2867.21,
         13.65,
         13.65,
         1048.429,
         1155.829
        ],
        [
         "2023-01-01",
         2821.14,
         13.65,
         13.65,
         1054.561,
         1163.465
        ],
        [
         "2023-02-01",
         2808.39,
         13.65,
         13.65,
         1056.775,
         1162.761
        ],
        [
         "2023-03-01",
         2760.96,
         13.65,
         13.65,
         1058.65,
         1163.359
        ],
        [
         "2023-05-01",
         3013.46,
         13.65,
         13.65,
         1065.289,
         1131.058
        ],
        [
         "2023-06-01",
         3155.32,
         13.65,
         13.65,
         1074.292,
         1109.23
        ],
        [
         "2023-07-01",
         3197.18,
         13.65,
         13.65,
         1074.895,
         1101.204
        ],
        [
         "2023-08-01",
         3212.81,
         13.15,
         13.15,
         1077.497,
         1099.71
        ],
        [
         "2023-10-01",
         3155.7,
         12.65,
         12.65,
         1082.251,
         1109.236
        ],
        [
         "2023-11-01",
         3176.56,
         12.15,
         12.15,
         1083.335,
         1115.815
        ],
        [
         "2024-01-01",
         3333.51,
         11.65,
         11.65,
         1088.663,
         1124.879
        ],
        [
         "2024-02-01",
         3360.0,
         11.15,
         11.15,
         1090.871,
         1119.061
        ]
       ],
       "datasetInfos": [],
       "dbfsResultPath": null,
       "isJsonSchema": true,
       "metadata": {},
       "overflow": false,
       "plotOptions": {
        "customPlotOptions": {},
        "displayType": "table",
        "pivotAggregation": null,
        "pivotColumns": null,
        "xColumns": null,
        "yColumns": null
       },
       "removedWidgets": [],
       "schema": [
        {
         "metadata": "{}",
         "name": "Data",
         "type": "\"date\""
        },
        {
         "metadata": "{}",
         "name": "IFIX",
         "type": "\"double\""
        },
        {
         "metadata": "{}",
         "name": "CDI",
         "type": "\"double\""
        },
        {
         "metadata": "{}",
         "name": "SELIC",
         "type": "\"double\""
        },
        {
         "metadata": "{}",
         "name": "INCC",
         "type": "\"float\""
        },
        {
         "metadata": "{}",
         "name": "IGP-M",
         "type": "\"float\""
        }
       ],
       "type": "table"
      }
     },
     "output_type": "display_data"
    }
   ],
   "source": [
    "display(indicesFinal)"
   ]
  },
  {
   "cell_type": "code",
   "execution_count": 0,
   "metadata": {
    "application/vnd.databricks.v1+cell": {
     "cellMetadata": {
      "byteLimit": 2048000,
      "rowLimit": 10000
     },
     "inputWidgets": {},
     "nuid": "0cd35a0f-f707-4ed3-a901-e0c5932840bc",
     "showTitle": false,
     "title": ""
    }
   },
   "outputs": [
    {
     "output_type": "stream",
     "name": "stdout",
     "output_type": "stream",
     "text": [
      "root\n |-- Data: date (nullable = true)\n |-- IFIX: double (nullable = true)\n |-- CDI: double (nullable = true)\n |-- SELIC: double (nullable = true)\n |-- INCC: float (nullable = true)\n |-- IGP-M: float (nullable = true)\n\n"
     ]
    }
   ],
   "source": [
    "indicesFinal.printSchema()"
   ]
  },
  {
   "cell_type": "markdown",
   "metadata": {
    "application/vnd.databricks.v1+cell": {
     "cellMetadata": {
      "byteLimit": 2048000,
      "rowLimit": 10000
     },
     "inputWidgets": {},
     "nuid": "2bc2bfd7-1fe1-4016-b0c6-46d2f635b88b",
     "showTitle": false,
     "title": ""
    }
   },
   "source": [
    "# Iniciando o Processo de Regressão"
   ]
  },
  {
   "cell_type": "code",
   "execution_count": 0,
   "metadata": {
    "application/vnd.databricks.v1+cell": {
     "cellMetadata": {
      "byteLimit": 2048000,
      "rowLimit": 10000
     },
     "inputWidgets": {},
     "nuid": "9a3fca64-073e-4c99-9ba0-ccf5c98eb044",
     "showTitle": false,
     "title": ""
    }
   },
   "outputs": [
    {
     "output_type": "stream",
     "name": "stdout",
     "output_type": "stream",
     "text": [
      "+-------+------------------+-----------------+-----------------+-----------------+-----------------+\n|summary|              IFIX|              CDI|            SELIC|             INCC|            IGP-M|\n+-------+------------------+-----------------+-----------------+-----------------+-----------------+\n|  count|                85|               85|               85|               85|               85|\n|   mean|2319.9676470588242|9.484117647058808|9.499999999999984| 799.028160903033|814.7069407743567|\n| stddev| 630.6641043992679| 4.09802893797379|4.105418892843248|163.1581881050782|225.7878608758626|\n|    min|           1282.04|              1.9|              1.9|          569.745|          540.959|\n|    max|            3360.0|            14.14|            14.15|         1090.871|         1190.882|\n+-------+------------------+-----------------+-----------------+-----------------+-----------------+\n\n"
     ]
    }
   ],
   "source": [
    "indicesFinal.describe().show()"
   ]
  },
  {
   "cell_type": "markdown",
   "metadata": {
    "application/vnd.databricks.v1+cell": {
     "cellMetadata": {},
     "inputWidgets": {},
     "nuid": "af1a104e-30eb-45ea-a625-48cb429a1582",
     "showTitle": false,
     "title": ""
    }
   },
   "source": [
    "#### Assembler incial contendo apenas as variáveis CDI e SELIC"
   ]
  },
  {
   "cell_type": "code",
   "execution_count": 0,
   "metadata": {
    "application/vnd.databricks.v1+cell": {
     "cellMetadata": {
      "byteLimit": 2048000,
      "rowLimit": 10000
     },
     "inputWidgets": {},
     "nuid": "3fcc1c58-ed00-49c0-81ca-f8202d50cab3",
     "showTitle": false,
     "title": ""
    }
   },
   "outputs": [
    {
     "output_type": "stream",
     "name": "stdout",
     "output_type": "stream",
     "text": [
      "root\n |-- Data: date (nullable = true)\n |-- IFIX: double (nullable = true)\n |-- CDI: double (nullable = true)\n |-- SELIC: double (nullable = true)\n |-- INCC: float (nullable = true)\n |-- IGP-M: float (nullable = true)\n |-- features: vector (nullable = true)\n\n"
     ]
    }
   ],
   "source": [
    "#transformando os dados (linhas) em vetores\n",
    "from pyspark.ml.feature import VectorAssembler  #importando a biblioteca responsável por criar o vetor a partir da coluna\n",
    "\n",
    "assembler = VectorAssembler(inputCols=['CDI', 'SELIC'], outputCol='features')  #define o objeto para transformação\n",
    "indicesRegression = assembler.transform(indicesFinal) #aplica a transformação\n",
    "indicesRegression.printSchema()"
   ]
  },
  {
   "cell_type": "code",
   "execution_count": 0,
   "metadata": {
    "application/vnd.databricks.v1+cell": {
     "cellMetadata": {
      "byteLimit": 2048000,
      "rowLimit": 10000
     },
     "inputWidgets": {},
     "nuid": "0890118e-2153-4b3e-a164-c16ddbc5b171",
     "showTitle": false,
     "title": ""
    }
   },
   "outputs": [
    {
     "output_type": "display_data",
     "data": {
      "text/html": [
       "<style scoped>\n",
       "  .table-result-container {\n",
       "    max-height: 300px;\n",
       "    overflow: auto;\n",
       "  }\n",
       "  table, th, td {\n",
       "    border: 1px solid black;\n",
       "    border-collapse: collapse;\n",
       "  }\n",
       "  th, td {\n",
       "    padding: 5px;\n",
       "  }\n",
       "  th {\n",
       "    text-align: left;\n",
       "  }\n",
       "</style><div class='table-result-container'><table class='table-result'><thead style='background-color: white'><tr><th>features</th><th>IFIX</th></tr></thead><tbody><tr><td>Map(vectorType -> dense, length -> 2, values -> List(10.27, 10.4))</td><td>1282.04</td></tr><tr><td>Map(vectorType -> dense, length -> 2, values -> List(10.59, 10.65))</td><td>1330.42</td></tr><tr><td>Map(vectorType -> dense, length -> 2, values -> List(10.55, 10.65))</td><td>1336.07</td></tr><tr><td>Map(vectorType -> dense, length -> 2, values -> List(10.8, 10.9))</td><td>1350.76</td></tr><tr><td>Map(vectorType -> dense, length -> 2, values -> List(10.8, 10.9))</td><td>1387.63</td></tr><tr><td>Map(vectorType -> dense, length -> 2, values -> List(10.8, 10.9))</td><td>1409.42</td></tr><tr><td>Map(vectorType -> dense, length -> 2, values -> List(10.81, 10.9))</td><td>1421.44</td></tr><tr><td>Map(vectorType -> dense, length -> 2, values -> List(11.06, 11.15))</td><td>1402.46</td></tr><tr><td>Map(vectorType -> dense, length -> 2, values -> List(11.57, 11.65))</td><td>1336.72</td></tr><tr><td>Map(vectorType -> dense, length -> 2, values -> List(12.6, 12.65))</td><td>1347.63</td></tr><tr><td>Map(vectorType -> dense, length -> 2, values -> List(13.11, 13.15))</td><td>1397.06</td></tr><tr><td>Map(vectorType -> dense, length -> 2, values -> List(13.64, 13.65))</td><td>1460.46</td></tr><tr><td>Map(vectorType -> dense, length -> 2, values -> List(14.13, 14.15))</td><td>1470.73</td></tr><tr><td>Map(vectorType -> dense, length -> 2, values -> List(14.13, 14.15))</td><td>1458.12</td></tr><tr><td>Map(vectorType -> dense, length -> 2, values -> List(14.13, 14.15))</td><td>1400.42</td></tr><tr><td>Map(vectorType -> dense, length -> 2, values -> List(14.14, 14.15))</td><td>1452.66</td></tr><tr><td>Map(vectorType -> dense, length -> 2, values -> List(14.14, 14.15))</td><td>1409.01</td></tr><tr><td>Map(vectorType -> dense, length -> 2, values -> List(14.13, 14.15))</td><td>1361.05</td></tr><tr><td>Map(vectorType -> dense, length -> 2, values -> List(14.13, 14.15))</td><td>1485.75</td></tr><tr><td>Map(vectorType -> dense, length -> 2, values -> List(14.13, 14.15))</td><td>1612.36</td></tr><tr><td>Map(vectorType -> dense, length -> 2, values -> List(14.13, 14.15))</td><td>1638.16</td></tr><tr><td>Map(vectorType -> dense, length -> 2, values -> List(14.13, 14.15))</td><td>1767.11</td></tr><tr><td>Map(vectorType -> dense, length -> 2, values -> List(14.13, 14.15))</td><td>1816.05</td></tr><tr><td>Map(vectorType -> dense, length -> 2, values -> List(13.88, 13.9))</td><td>1885.92</td></tr><tr><td>Map(vectorType -> dense, length -> 2, values -> List(13.88, 13.9))</td><td>1837.13</td></tr><tr><td>Map(vectorType -> dense, length -> 2, values -> List(12.88, 12.9))</td><td>1934.69</td></tr><tr><td>Map(vectorType -> dense, length -> 2, values -> List(12.13, 12.15))</td><td>2032.81</td></tr><tr><td>Map(vectorType -> dense, length -> 2, values -> List(11.13, 11.15))</td><td>2056.75</td></tr><tr><td>Map(vectorType -> dense, length -> 2, values -> List(10.14, 10.15))</td><td>2074.14</td></tr><tr><td>Map(vectorType -> dense, length -> 2, values -> List(9.14, 9.15))</td><td>2066.19</td></tr><tr><td>Map(vectorType -> dense, length -> 2, values -> List(9.14, 9.15))</td><td>2084.0</td></tr><tr><td>Map(vectorType -> dense, length -> 2, values -> List(7.39, 7.4))</td><td>2226.25</td></tr><tr><td>Map(vectorType -> dense, length -> 2, values -> List(7.39, 7.4))</td><td>2213.08</td></tr><tr><td>Map(vectorType -> dense, length -> 2, values -> List(6.89, 6.9))</td><td>2285.23</td></tr><tr><td>Map(vectorType -> dense, length -> 2, values -> List(6.64, 6.65))</td><td>2311.41</td></tr><tr><td>Map(vectorType -> dense, length -> 2, values -> List(6.39, 6.4))</td><td>2337.25</td></tr><tr><td>Map(vectorType -> dense, length -> 2, values -> List(6.39, 6.4))</td><td>2154.45</td></tr><tr><td>Map(vectorType -> dense, length -> 2, values -> List(6.39, 6.4))</td><td>2139.4</td></tr><tr><td>Map(vectorType -> dense, length -> 2, values -> List(6.4, 6.4))</td><td>2242.45</td></tr><tr><td>Map(vectorType -> dense, length -> 2, values -> List(6.4, 6.4))</td><td>2300.48</td></tr><tr><td>Map(vectorType -> dense, length -> 2, values -> List(6.4, 6.4))</td><td>2351.59</td></tr><tr><td>Map(vectorType -> dense, length -> 2, values -> List(6.4, 6.4))</td><td>2409.69</td></tr><tr><td>Map(vectorType -> dense, length -> 2, values -> List(6.4, 6.4))</td><td>2434.56</td></tr><tr><td>Map(vectorType -> dense, length -> 2, values -> List(6.4, 6.4))</td><td>2508.45</td></tr><tr><td>Map(vectorType -> dense, length -> 2, values -> List(6.4, 6.4))</td><td>2552.69</td></tr><tr><td>Map(vectorType -> dense, length -> 2, values -> List(6.4, 6.4))</td><td>2659.55</td></tr><tr><td>Map(vectorType -> dense, length -> 2, values -> List(5.4, 5.4))</td><td>2684.26</td></tr><tr><td>Map(vectorType -> dense, length -> 2, values -> List(4.9, 4.9))</td><td>2791.98</td></tr><tr><td>Map(vectorType -> dense, length -> 2, values -> List(4.4, 4.4))</td><td>3197.58</td></tr><tr><td>Map(vectorType -> dense, length -> 2, values -> List(4.4, 4.4))</td><td>3077.28</td></tr><tr><td>Map(vectorType -> dense, length -> 2, values -> List(3.65, 3.65))</td><td>2494.1</td></tr><tr><td>Map(vectorType -> dense, length -> 2, values -> List(3.65, 3.65))</td><td>2603.62</td></tr><tr><td>Map(vectorType -> dense, length -> 2, values -> List(2.15, 2.15))</td><td>2806.28</td></tr><tr><td>Map(vectorType -> dense, length -> 2, values -> List(2.15, 2.15))</td><td>2733.12</td></tr><tr><td>Map(vectorType -> dense, length -> 2, values -> List(1.9, 1.9))</td><td>2782.1</td></tr><tr><td>Map(vectorType -> dense, length -> 2, values -> List(1.9, 1.9))</td><td>2794.88</td></tr><tr><td>Map(vectorType -> dense, length -> 2, values -> List(1.9, 1.9))</td><td>2808.56</td></tr><tr><td>Map(vectorType -> dense, length -> 2, values -> List(1.9, 1.9))</td><td>2870.15</td></tr><tr><td>Map(vectorType -> dense, length -> 2, values -> List(2.65, 2.65))</td><td>2846.77</td></tr><tr><td>Map(vectorType -> dense, length -> 2, values -> List(2.65, 2.65))</td><td>2861.15</td></tr><tr><td>Map(vectorType -> dense, length -> 2, values -> List(3.4, 3.4))</td><td>2816.46</td></tr><tr><td>Map(vectorType -> dense, length -> 2, values -> List(4.15, 4.15))</td><td>2754.89</td></tr><tr><td>Map(vectorType -> dense, length -> 2, values -> List(5.15, 5.15))</td><td>2749.84</td></tr><tr><td>Map(vectorType -> dense, length -> 2, values -> List(6.15, 6.15))</td><td>2715.67</td></tr><tr><td>Map(vectorType -> dense, length -> 2, values -> List(7.65, 7.65))</td><td>2578.4</td></tr><tr><td>Map(vectorType -> dense, length -> 2, values -> List(9.15, 9.15))</td><td>2804.79</td></tr><tr><td>Map(vectorType -> dense, length -> 2, values -> List(9.15, 9.15))</td><td>2776.92</td></tr><tr><td>Map(vectorType -> dense, length -> 2, values -> List(11.65, 11.65))</td><td>2779.97</td></tr><tr><td>Map(vectorType -> dense, length -> 2, values -> List(12.65, 12.65))</td><td>2820.45</td></tr><tr><td>Map(vectorType -> dense, length -> 2, values -> List(13.15, 13.15))</td><td>2795.62</td></tr><tr><td>Map(vectorType -> dense, length -> 2, values -> List(13.65, 13.65))</td><td>2976.23</td></tr><tr><td>Map(vectorType -> dense, length -> 2, values -> List(13.65, 13.65))</td><td>2990.8</td></tr><tr><td>Map(vectorType -> dense, length -> 2, values -> List(13.65, 13.65))</td><td>2991.45</td></tr><tr><td>Map(vectorType -> dense, length -> 2, values -> List(13.65, 13.65))</td><td>2867.21</td></tr><tr><td>Map(vectorType -> dense, length -> 2, values -> List(13.65, 13.65))</td><td>2821.14</td></tr><tr><td>Map(vectorType -> dense, length -> 2, values -> List(13.65, 13.65))</td><td>2808.39</td></tr><tr><td>Map(vectorType -> dense, length -> 2, values -> List(13.65, 13.65))</td><td>2760.96</td></tr><tr><td>Map(vectorType -> dense, length -> 2, values -> List(13.65, 13.65))</td><td>3013.46</td></tr><tr><td>Map(vectorType -> dense, length -> 2, values -> List(13.65, 13.65))</td><td>3155.32</td></tr><tr><td>Map(vectorType -> dense, length -> 2, values -> List(13.65, 13.65))</td><td>3197.18</td></tr><tr><td>Map(vectorType -> dense, length -> 2, values -> List(13.15, 13.15))</td><td>3212.81</td></tr><tr><td>Map(vectorType -> dense, length -> 2, values -> List(12.65, 12.65))</td><td>3155.7</td></tr><tr><td>Map(vectorType -> dense, length -> 2, values -> List(12.15, 12.15))</td><td>3176.56</td></tr><tr><td>Map(vectorType -> dense, length -> 2, values -> List(11.65, 11.65))</td><td>3333.51</td></tr><tr><td>Map(vectorType -> dense, length -> 2, values -> List(11.15, 11.15))</td><td>3360.0</td></tr></tbody></table></div>"
      ]
     },
     "metadata": {
      "application/vnd.databricks.v1+output": {
       "addedWidgets": {},
       "aggData": [],
       "aggError": "",
       "aggOverflow": false,
       "aggSchema": [],
       "aggSeriesLimitReached": false,
       "aggType": "",
       "arguments": {},
       "columnCustomDisplayInfos": {},
       "data": [
        [
         {
          "length": 2,
          "values": [
           10.27,
           10.4
          ],
          "vectorType": "dense"
         },
         1282.04
        ],
        [
         {
          "length": 2,
          "values": [
           10.59,
           10.65
          ],
          "vectorType": "dense"
         },
         1330.42
        ],
        [
         {
          "length": 2,
          "values": [
           10.55,
           10.65
          ],
          "vectorType": "dense"
         },
         1336.07
        ],
        [
         {
          "length": 2,
          "values": [
           10.8,
           10.9
          ],
          "vectorType": "dense"
         },
         1350.76
        ],
        [
         {
          "length": 2,
          "values": [
           10.8,
           10.9
          ],
          "vectorType": "dense"
         },
         1387.63
        ],
        [
         {
          "length": 2,
          "values": [
           10.8,
           10.9
          ],
          "vectorType": "dense"
         },
         1409.42
        ],
        [
         {
          "length": 2,
          "values": [
           10.81,
           10.9
          ],
          "vectorType": "dense"
         },
         1421.44
        ],
        [
         {
          "length": 2,
          "values": [
           11.06,
           11.15
          ],
          "vectorType": "dense"
         },
         1402.46
        ],
        [
         {
          "length": 2,
          "values": [
           11.57,
           11.65
          ],
          "vectorType": "dense"
         },
         1336.72
        ],
        [
         {
          "length": 2,
          "values": [
           12.6,
           12.65
          ],
          "vectorType": "dense"
         },
         1347.63
        ],
        [
         {
          "length": 2,
          "values": [
           13.11,
           13.15
          ],
          "vectorType": "dense"
         },
         1397.06
        ],
        [
         {
          "length": 2,
          "values": [
           13.64,
           13.65
          ],
          "vectorType": "dense"
         },
         1460.46
        ],
        [
         {
          "length": 2,
          "values": [
           14.13,
           14.15
          ],
          "vectorType": "dense"
         },
         1470.73
        ],
        [
         {
          "length": 2,
          "values": [
           14.13,
           14.15
          ],
          "vectorType": "dense"
         },
         1458.12
        ],
        [
         {
          "length": 2,
          "values": [
           14.13,
           14.15
          ],
          "vectorType": "dense"
         },
         1400.42
        ],
        [
         {
          "length": 2,
          "values": [
           14.14,
           14.15
          ],
          "vectorType": "dense"
         },
         1452.66
        ],
        [
         {
          "length": 2,
          "values": [
           14.14,
           14.15
          ],
          "vectorType": "dense"
         },
         1409.01
        ],
        [
         {
          "length": 2,
          "values": [
           14.13,
           14.15
          ],
          "vectorType": "dense"
         },
         1361.05
        ],
        [
         {
          "length": 2,
          "values": [
           14.13,
           14.15
          ],
          "vectorType": "dense"
         },
         1485.75
        ],
        [
         {
          "length": 2,
          "values": [
           14.13,
           14.15
          ],
          "vectorType": "dense"
         },
         1612.36
        ],
        [
         {
          "length": 2,
          "values": [
           14.13,
           14.15
          ],
          "vectorType": "dense"
         },
         1638.16
        ],
        [
         {
          "length": 2,
          "values": [
           14.13,
           14.15
          ],
          "vectorType": "dense"
         },
         1767.11
        ],
        [
         {
          "length": 2,
          "values": [
           14.13,
           14.15
          ],
          "vectorType": "dense"
         },
         1816.05
        ],
        [
         {
          "length": 2,
          "values": [
           13.88,
           13.9
          ],
          "vectorType": "dense"
         },
         1885.92
        ],
        [
         {
          "length": 2,
          "values": [
           13.88,
           13.9
          ],
          "vectorType": "dense"
         },
         1837.13
        ],
        [
         {
          "length": 2,
          "values": [
           12.88,
           12.9
          ],
          "vectorType": "dense"
         },
         1934.69
        ],
        [
         {
          "length": 2,
          "values": [
           12.13,
           12.15
          ],
          "vectorType": "dense"
         },
         2032.81
        ],
        [
         {
          "length": 2,
          "values": [
           11.13,
           11.15
          ],
          "vectorType": "dense"
         },
         2056.75
        ],
        [
         {
          "length": 2,
          "values": [
           10.14,
           10.15
          ],
          "vectorType": "dense"
         },
         2074.14
        ],
        [
         {
          "length": 2,
          "values": [
           9.14,
           9.15
          ],
          "vectorType": "dense"
         },
         2066.19
        ],
        [
         {
          "length": 2,
          "values": [
           9.14,
           9.15
          ],
          "vectorType": "dense"
         },
         2084.0
        ],
        [
         {
          "length": 2,
          "values": [
           7.39,
           7.4
          ],
          "vectorType": "dense"
         },
         2226.25
        ],
        [
         {
          "length": 2,
          "values": [
           7.39,
           7.4
          ],
          "vectorType": "dense"
         },
         2213.08
        ],
        [
         {
          "length": 2,
          "values": [
           6.89,
           6.9
          ],
          "vectorType": "dense"
         },
         2285.23
        ],
        [
         {
          "length": 2,
          "values": [
           6.64,
           6.65
          ],
          "vectorType": "dense"
         },
         2311.41
        ],
        [
         {
          "length": 2,
          "values": [
           6.39,
           6.4
          ],
          "vectorType": "dense"
         },
         2337.25
        ],
        [
         {
          "length": 2,
          "values": [
           6.39,
           6.4
          ],
          "vectorType": "dense"
         },
         2154.45
        ],
        [
         {
          "length": 2,
          "values": [
           6.39,
           6.4
          ],
          "vectorType": "dense"
         },
         2139.4
        ],
        [
         {
          "length": 2,
          "values": [
           6.4,
           6.4
          ],
          "vectorType": "dense"
         },
         2242.45
        ],
        [
         {
          "length": 2,
          "values": [
           6.4,
           6.4
          ],
          "vectorType": "dense"
         },
         2300.48
        ],
        [
         {
          "length": 2,
          "values": [
           6.4,
           6.4
          ],
          "vectorType": "dense"
         },
         2351.59
        ],
        [
         {
          "length": 2,
          "values": [
           6.4,
           6.4
          ],
          "vectorType": "dense"
         },
         2409.69
        ],
        [
         {
          "length": 2,
          "values": [
           6.4,
           6.4
          ],
          "vectorType": "dense"
         },
         2434.56
        ],
        [
         {
          "length": 2,
          "values": [
           6.4,
           6.4
          ],
          "vectorType": "dense"
         },
         2508.45
        ],
        [
         {
          "length": 2,
          "values": [
           6.4,
           6.4
          ],
          "vectorType": "dense"
         },
         2552.69
        ],
        [
         {
          "length": 2,
          "values": [
           6.4,
           6.4
          ],
          "vectorType": "dense"
         },
         2659.55
        ],
        [
         {
          "length": 2,
          "values": [
           5.4,
           5.4
          ],
          "vectorType": "dense"
         },
         2684.26
        ],
        [
         {
          "length": 2,
          "values": [
           4.9,
           4.9
          ],
          "vectorType": "dense"
         },
         2791.98
        ],
        [
         {
          "length": 2,
          "values": [
           4.4,
           4.4
          ],
          "vectorType": "dense"
         },
         3197.58
        ],
        [
         {
          "length": 2,
          "values": [
           4.4,
           4.4
          ],
          "vectorType": "dense"
         },
         3077.28
        ],
        [
         {
          "length": 2,
          "values": [
           3.65,
           3.65
          ],
          "vectorType": "dense"
         },
         2494.1
        ],
        [
         {
          "length": 2,
          "values": [
           3.65,
           3.65
          ],
          "vectorType": "dense"
         },
         2603.62
        ],
        [
         {
          "length": 2,
          "values": [
           2.15,
           2.15
          ],
          "vectorType": "dense"
         },
         2806.28
        ],
        [
         {
          "length": 2,
          "values": [
           2.15,
           2.15
          ],
          "vectorType": "dense"
         },
         2733.12
        ],
        [
         {
          "length": 2,
          "values": [
           1.9,
           1.9
          ],
          "vectorType": "dense"
         },
         2782.1
        ],
        [
         {
          "length": 2,
          "values": [
           1.9,
           1.9
          ],
          "vectorType": "dense"
         },
         2794.88
        ],
        [
         {
          "length": 2,
          "values": [
           1.9,
           1.9
          ],
          "vectorType": "dense"
         },
         2808.56
        ],
        [
         {
          "length": 2,
          "values": [
           1.9,
           1.9
          ],
          "vectorType": "dense"
         },
         2870.15
        ],
        [
         {
          "length": 2,
          "values": [
           2.65,
           2.65
          ],
          "vectorType": "dense"
         },
         2846.77
        ],
        [
         {
          "length": 2,
          "values": [
           2.65,
           2.65
          ],
          "vectorType": "dense"
         },
         2861.15
        ],
        [
         {
          "length": 2,
          "values": [
           3.4,
           3.4
          ],
          "vectorType": "dense"
         },
         2816.46
        ],
        [
         {
          "length": 2,
          "values": [
           4.15,
           4.15
          ],
          "vectorType": "dense"
         },
         2754.89
        ],
        [
         {
          "length": 2,
          "values": [
           5.15,
           5.15
          ],
          "vectorType": "dense"
         },
         2749.84
        ],
        [
         {
          "length": 2,
          "values": [
           6.15,
           6.15
          ],
          "vectorType": "dense"
         },
         2715.67
        ],
        [
         {
          "length": 2,
          "values": [
           7.65,
           7.65
          ],
          "vectorType": "dense"
         },
         2578.4
        ],
        [
         {
          "length": 2,
          "values": [
           9.15,
           9.15
          ],
          "vectorType": "dense"
         },
         2804.79
        ],
        [
         {
          "length": 2,
          "values": [
           9.15,
           9.15
          ],
          "vectorType": "dense"
         },
         2776.92
        ],
        [
         {
          "length": 2,
          "values": [
           11.65,
           11.65
          ],
          "vectorType": "dense"
         },
         2779.97
        ],
        [
         {
          "length": 2,
          "values": [
           12.65,
           12.65
          ],
          "vectorType": "dense"
         },
         2820.45
        ],
        [
         {
          "length": 2,
          "values": [
           13.15,
           13.15
          ],
          "vectorType": "dense"
         },
         2795.62
        ],
        [
         {
          "length": 2,
          "values": [
           13.65,
           13.65
          ],
          "vectorType": "dense"
         },
         2976.23
        ],
        [
         {
          "length": 2,
          "values": [
           13.65,
           13.65
          ],
          "vectorType": "dense"
         },
         2990.8
        ],
        [
         {
          "length": 2,
          "values": [
           13.65,
           13.65
          ],
          "vectorType": "dense"
         },
         2991.45
        ],
        [
         {
          "length": 2,
          "values": [
           13.65,
           13.65
          ],
          "vectorType": "dense"
         },
         2867.21
        ],
        [
         {
          "length": 2,
          "values": [
           13.65,
           13.65
          ],
          "vectorType": "dense"
         },
         2821.14
        ],
        [
         {
          "length": 2,
          "values": [
           13.65,
           13.65
          ],
          "vectorType": "dense"
         },
         2808.39
        ],
        [
         {
          "length": 2,
          "values": [
           13.65,
           13.65
          ],
          "vectorType": "dense"
         },
         2760.96
        ],
        [
         {
          "length": 2,
          "values": [
           13.65,
           13.65
          ],
          "vectorType": "dense"
         },
         3013.46
        ],
        [
         {
          "length": 2,
          "values": [
           13.65,
           13.65
          ],
          "vectorType": "dense"
         },
         3155.32
        ],
        [
         {
          "length": 2,
          "values": [
           13.65,
           13.65
          ],
          "vectorType": "dense"
         },
         3197.18
        ],
        [
         {
          "length": 2,
          "values": [
           13.15,
           13.15
          ],
          "vectorType": "dense"
         },
         3212.81
        ],
        [
         {
          "length": 2,
          "values": [
           12.65,
           12.65
          ],
          "vectorType": "dense"
         },
         3155.7
        ],
        [
         {
          "length": 2,
          "values": [
           12.15,
           12.15
          ],
          "vectorType": "dense"
         },
         3176.56
        ],
        [
         {
          "length": 2,
          "values": [
           11.65,
           11.65
          ],
          "vectorType": "dense"
         },
         3333.51
        ],
        [
         {
          "length": 2,
          "values": [
           11.15,
           11.15
          ],
          "vectorType": "dense"
         },
         3360.0
        ]
       ],
       "datasetInfos": [],
       "dbfsResultPath": null,
       "isJsonSchema": true,
       "metadata": {},
       "overflow": false,
       "plotOptions": {
        "customPlotOptions": {},
        "displayType": "table",
        "pivotAggregation": null,
        "pivotColumns": null,
        "xColumns": null,
        "yColumns": null
       },
       "removedWidgets": [],
       "schema": [
        {
         "metadata": "{\"ml_attr\":{\"attrs\":{\"numeric\":[{\"idx\":0,\"name\":\"CDI\"},{\"idx\":1,\"name\":\"SELIC\"}]},\"num_attrs\":2}}",
         "name": "features",
         "type": "{\"type\":\"udt\",\"class\":\"org.apache.spark.ml.linalg.VectorUDT\",\"pyClass\":\"pyspark.ml.linalg.VectorUDT\",\"sqlType\":{\"type\":\"struct\",\"fields\":[{\"name\":\"type\",\"type\":\"byte\",\"nullable\":false,\"metadata\":{}},{\"name\":\"size\",\"type\":\"integer\",\"nullable\":true,\"metadata\":{}},{\"name\":\"indices\",\"type\":{\"type\":\"array\",\"elementType\":\"integer\",\"containsNull\":false},\"nullable\":true,\"metadata\":{}},{\"name\":\"values\",\"type\":{\"type\":\"array\",\"elementType\":\"double\",\"containsNull\":false},\"nullable\":true,\"metadata\":{}}]}}"
        },
        {
         "metadata": "{}",
         "name": "IFIX",
         "type": "\"double\""
        }
       ],
       "type": "table"
      }
     },
     "output_type": "display_data"
    }
   ],
   "source": [
    "indicesRegression = indicesRegression.select(['features','IFIX'])\n",
    "display(indicesRegression)"
   ]
  },
  {
   "cell_type": "code",
   "execution_count": 0,
   "metadata": {
    "application/vnd.databricks.v1+cell": {
     "cellMetadata": {
      "byteLimit": 2048000,
      "rowLimit": 10000
     },
     "inputWidgets": {},
     "nuid": "5a92bae4-a554-4920-b70c-8a96bde6e987",
     "showTitle": false,
     "title": ""
    }
   },
   "outputs": [],
   "source": [
    "train, test = indicesRegression.randomSplit([0.7, 0.3], seed=123)"
   ]
  },
  {
   "cell_type": "markdown",
   "metadata": {
    "application/vnd.databricks.v1+cell": {
     "cellMetadata": {
      "byteLimit": 2048000,
      "rowLimit": 10000
     },
     "inputWidgets": {},
     "nuid": "132449c6-9b2e-4d00-9a9d-598ded214a81",
     "showTitle": false,
     "title": ""
    }
   },
   "source": [
    "Criando o Modelo de Regressão"
   ]
  },
  {
   "cell_type": "code",
   "execution_count": 0,
   "metadata": {
    "application/vnd.databricks.v1+cell": {
     "cellMetadata": {
      "byteLimit": 2048000,
      "rowLimit": 10000
     },
     "inputWidgets": {},
     "nuid": "8b7f6c02-65af-459a-95ab-e8d94cf3933a",
     "showTitle": false,
     "title": ""
    }
   },
   "outputs": [
    {
     "output_type": "stream",
     "name": "stdout",
     "output_type": "stream",
     "text": [
      "+-----------+-------+\n|   features|   IFIX|\n+-----------+-------+\n|  [1.9,1.9]| 2782.1|\n|  [1.9,1.9]|2794.88|\n|  [1.9,1.9]|2870.15|\n|[2.15,2.15]|2733.12|\n|[2.15,2.15]|2806.28|\n+-----------+-------+\nonly showing top 5 rows\n\n"
     ]
    }
   ],
   "source": [
    "train.show(5)"
   ]
  },
  {
   "cell_type": "code",
   "execution_count": 0,
   "metadata": {
    "application/vnd.databricks.v1+cell": {
     "cellMetadata": {
      "byteLimit": 2048000,
      "rowLimit": 10000
     },
     "inputWidgets": {},
     "nuid": "0d79fdfb-5ead-4bea-937f-d8ab1c998f2c",
     "showTitle": false,
     "title": ""
    }
   },
   "outputs": [],
   "source": [
    "from pyspark.ml.regression import LinearRegression  #biblioteca que contém o modelo de regressão\n",
    "\n",
    "lr = LinearRegression(maxIter=10, labelCol='IFIX') # define o objeto a ser utilizado para regressão\n",
    "lrModel = lr.fit(train)"
   ]
  },
  {
   "cell_type": "code",
   "execution_count": 0,
   "metadata": {
    "application/vnd.databricks.v1+cell": {
     "cellMetadata": {
      "byteLimit": 2048000,
      "rowLimit": 10000
     },
     "inputWidgets": {},
     "nuid": "021c3677-6e6c-44b7-852d-e557e16f70f0",
     "showTitle": false,
     "title": ""
    }
   },
   "outputs": [
    {
     "output_type": "stream",
     "name": "stdout",
     "output_type": "stream",
     "text": [
      "Intercepto: 2812.8810682940625\nCoeficiente Angular: [ 14296.34076984 -14320.67830101]\n"
     ]
    }
   ],
   "source": [
    "#Coeficientes angulares e lineares (a e b) da reta de regressão\n",
    "print(f'Intercepto: {lrModel.intercept}\\nCoeficiente Angular: {lrModel.coefficients.values}')"
   ]
  },
  {
   "cell_type": "code",
   "execution_count": 0,
   "metadata": {
    "application/vnd.databricks.v1+cell": {
     "cellMetadata": {
      "byteLimit": 2048000,
      "rowLimit": 10000
     },
     "inputWidgets": {},
     "nuid": "57764335-8602-4b55-9f37-d73055d3ff32",
     "showTitle": false,
     "title": ""
    }
   },
   "outputs": [
    {
     "output_type": "stream",
     "name": "stdout",
     "output_type": "stream",
     "text": [
      "Variância Explicada: 227253.48827756057\nR_2:  0.5567481728946275\nErro médio quadrático:  180926.54592828883\n+------------------+\n|         residuals|\n+------------------+\n|15.460240941359189|\n| 28.24024094135939|\n|103.51024094135937|\n|-27.43537626450916|\n| 45.72462373549115|\n+------------------+\nonly showing top 5 rows\n\n"
     ]
    }
   ],
   "source": [
    "#print das estatísticas do modelo\n",
    "modelsummary = lrModel.summary\n",
    "\n",
    "print(\"Variância Explicada:\", modelsummary.explainedVariance)\n",
    "print('R_2: ', modelsummary.r2)\n",
    "print('Erro médio quadrático: ',modelsummary.meanSquaredError)\n",
    "\n",
    "modelsummary.residuals.show(5)\n"
   ]
  },
  {
   "cell_type": "markdown",
   "metadata": {
    "application/vnd.databricks.v1+cell": {
     "cellMetadata": {
      "byteLimit": 2048000,
      "rowLimit": 10000
     },
     "inputWidgets": {},
     "nuid": "052ced0e-9686-43b3-9df2-69dc35873f68",
     "showTitle": false,
     "title": ""
    }
   },
   "source": [
    "Realizando a Previsão Através do Modelo"
   ]
  },
  {
   "cell_type": "code",
   "execution_count": 0,
   "metadata": {
    "application/vnd.databricks.v1+cell": {
     "cellMetadata": {
      "byteLimit": 2048000,
      "rowLimit": 10000
     },
     "inputWidgets": {},
     "nuid": "d1a1aec9-6f5b-475e-b7cb-86586229c64d",
     "showTitle": false,
     "title": ""
    }
   },
   "outputs": [
    {
     "output_type": "stream",
     "name": "stdout",
     "output_type": "stream",
     "text": [
      "+-----------+-------+------------------+\n|   features|   IFIX|        prediction|\n+-----------+-------+------------------+\n|  [1.9,1.9]| 2782.1|2766.6397590586407|\n|  [1.9,1.9]|2794.88|2766.6397590586407|\n|  [1.9,1.9]|2870.15|2766.6397590586407|\n|[2.15,2.15]|2733.12| 2760.555376264509|\n|[2.15,2.15]|2806.28| 2760.555376264509|\n+-----------+-------+------------------+\nonly showing top 5 rows\n\n"
     ]
    }
   ],
   "source": [
    "modelsummary.predictions.show(5)"
   ]
  },
  {
   "cell_type": "code",
   "execution_count": 0,
   "metadata": {
    "application/vnd.databricks.v1+cell": {
     "cellMetadata": {
      "byteLimit": 2048000,
      "rowLimit": 10000
     },
     "inputWidgets": {},
     "nuid": "aba8ca3c-5faa-46cd-8e74-db0a15597db2",
     "showTitle": false,
     "title": ""
    }
   },
   "outputs": [
    {
     "output_type": "display_data",
     "data": {
      "text/html": [
       "<style scoped>\n",
       "  .table-result-container {\n",
       "    max-height: 300px;\n",
       "    overflow: auto;\n",
       "  }\n",
       "  table, th, td {\n",
       "    border: 1px solid black;\n",
       "    border-collapse: collapse;\n",
       "  }\n",
       "  th, td {\n",
       "    padding: 5px;\n",
       "  }\n",
       "  th {\n",
       "    text-align: left;\n",
       "  }\n",
       "</style><div class='table-result-container'><table class='table-result'><thead style='background-color: white'><tr><th>features</th><th>IFIX</th><th>prediction</th></tr></thead><tbody><tr><td>Map(vectorType -> dense, length -> 2, values -> List(1.9, 1.9))</td><td>2782.1</td><td>2766.6397590586407</td></tr><tr><td>Map(vectorType -> dense, length -> 2, values -> List(1.9, 1.9))</td><td>2794.88</td><td>2766.6397590586407</td></tr><tr><td>Map(vectorType -> dense, length -> 2, values -> List(1.9, 1.9))</td><td>2870.15</td><td>2766.6397590586407</td></tr><tr><td>Map(vectorType -> dense, length -> 2, values -> List(2.15, 2.15))</td><td>2733.12</td><td>2760.555376264509</td></tr><tr><td>Map(vectorType -> dense, length -> 2, values -> List(2.15, 2.15))</td><td>2806.28</td><td>2760.555376264509</td></tr><tr><td>Map(vectorType -> dense, length -> 2, values -> List(2.65, 2.65))</td><td>2861.15</td><td>2748.3866106762384</td></tr><tr><td>Map(vectorType -> dense, length -> 2, values -> List(3.4, 3.4))</td><td>2816.46</td><td>2730.1334622938325</td></tr><tr><td>Map(vectorType -> dense, length -> 2, values -> List(3.65, 3.65))</td><td>2603.62</td><td>2724.0490794997045</td></tr><tr><td>Map(vectorType -> dense, length -> 2, values -> List(4.15, 4.15))</td><td>2754.89</td><td>2711.880313911434</td></tr><tr><td>Map(vectorType -> dense, length -> 2, values -> List(4.9, 4.9))</td><td>2791.98</td><td>2693.627165529028</td></tr><tr><td>Map(vectorType -> dense, length -> 2, values -> List(5.15, 5.15))</td><td>2749.84</td><td>2687.5427827349</td></tr><tr><td>Map(vectorType -> dense, length -> 2, values -> List(5.4, 5.4))</td><td>2684.26</td><td>2681.4583999407573</td></tr><tr><td>Map(vectorType -> dense, length -> 2, values -> List(6.15, 6.15))</td><td>2715.67</td><td>2663.2052515583587</td></tr><tr><td>Map(vectorType -> dense, length -> 2, values -> List(6.39, 6.4))</td><td>2154.45</td><td>2514.1574610658377</td></tr><tr><td>Map(vectorType -> dense, length -> 2, values -> List(6.39, 6.4))</td><td>2337.25</td><td>2514.1574610658377</td></tr><tr><td>Map(vectorType -> dense, length -> 2, values -> List(6.4, 6.4))</td><td>2242.45</td><td>2657.1208687642306</td></tr><tr><td>Map(vectorType -> dense, length -> 2, values -> List(6.4, 6.4))</td><td>2300.48</td><td>2657.1208687642306</td></tr><tr><td>Map(vectorType -> dense, length -> 2, values -> List(6.4, 6.4))</td><td>2409.69</td><td>2657.1208687642306</td></tr><tr><td>Map(vectorType -> dense, length -> 2, values -> List(6.4, 6.4))</td><td>2434.56</td><td>2657.1208687642306</td></tr><tr><td>Map(vectorType -> dense, length -> 2, values -> List(6.4, 6.4))</td><td>2508.45</td><td>2657.1208687642306</td></tr><tr><td>Map(vectorType -> dense, length -> 2, values -> List(6.4, 6.4))</td><td>2552.69</td><td>2657.1208687642306</td></tr><tr><td>Map(vectorType -> dense, length -> 2, values -> List(6.4, 6.4))</td><td>2659.55</td><td>2657.1208687642306</td></tr><tr><td>Map(vectorType -> dense, length -> 2, values -> List(7.39, 7.4))</td><td>2213.08</td><td>2489.8199298892964</td></tr><tr><td>Map(vectorType -> dense, length -> 2, values -> List(7.39, 7.4))</td><td>2226.25</td><td>2489.8199298892964</td></tr><tr><td>Map(vectorType -> dense, length -> 2, values -> List(9.15, 9.15))</td><td>2776.92</td><td>2590.192658028735</td></tr><tr><td>Map(vectorType -> dense, length -> 2, values -> List(9.15, 9.15))</td><td>2804.79</td><td>2590.192658028735</td></tr><tr><td>Map(vectorType -> dense, length -> 2, values -> List(10.27, 10.4))</td><td>1282.04</td><td>701.2464439792188</td></tr><tr><td>Map(vectorType -> dense, length -> 2, values -> List(10.59, 10.65))</td><td>1330.42</td><td>1695.9059150736816</td></tr><tr><td>Map(vectorType -> dense, length -> 2, values -> List(10.8, 10.9))</td><td>1350.76</td><td>1117.967901486098</td></tr><tr><td>Map(vectorType -> dense, length -> 2, values -> List(10.8, 10.9))</td><td>1387.63</td><td>1117.967901486098</td></tr><tr><td>Map(vectorType -> dense, length -> 2, values -> List(10.8, 10.9))</td><td>1409.42</td><td>1117.967901486098</td></tr><tr><td>Map(vectorType -> dense, length -> 2, values -> List(10.81, 10.9))</td><td>1421.44</td><td>1260.9313091844474</td></tr><tr><td>Map(vectorType -> dense, length -> 2, values -> List(11.15, 11.15))</td><td>3360.0</td><td>2541.517595675667</td></tr><tr><td>Map(vectorType -> dense, length -> 2, values -> List(11.57, 11.65))</td><td>1336.72</td><td>1385.6415685004126</td></tr><tr><td>Map(vectorType -> dense, length -> 2, values -> List(11.65, 11.65))</td><td>2779.97</td><td>2529.348830087382</td></tr><tr><td>Map(vectorType -> dense, length -> 2, values -> List(11.65, 11.65))</td><td>3333.51</td><td>2529.348830087382</td></tr><tr><td>Map(vectorType -> dense, length -> 2, values -> List(12.13, 12.15))</td><td>2032.81</td><td>2231.253249102398</td></tr><tr><td>Map(vectorType -> dense, length -> 2, values -> List(12.15, 12.15))</td><td>3176.56</td><td>2517.180064499126</td></tr><tr><td>Map(vectorType -> dense, length -> 2, values -> List(12.6, 12.65))</td><td>1347.63</td><td>1790.1942604189776</td></tr><tr><td>Map(vectorType -> dense, length -> 2, values -> List(12.65, 12.65))</td><td>3155.7</td><td>2505.0112989108407</td></tr><tr><td>Map(vectorType -> dense, length -> 2, values -> List(12.88, 12.9))</td><td>1934.69</td><td>2213.000100719985</td></tr><tr><td>Map(vectorType -> dense, length -> 2, values -> List(13.15, 13.15))</td><td>2795.62</td><td>2492.8425333225846</td></tr><tr><td>Map(vectorType -> dense, length -> 2, values -> List(13.65, 13.65))</td><td>2760.96</td><td>2480.6737677343285</td></tr><tr><td>Map(vectorType -> dense, length -> 2, values -> List(13.65, 13.65))</td><td>2808.39</td><td>2480.6737677343285</td></tr><tr><td>Map(vectorType -> dense, length -> 2, values -> List(13.65, 13.65))</td><td>2867.21</td><td>2480.6737677343285</td></tr><tr><td>Map(vectorType -> dense, length -> 2, values -> List(13.65, 13.65))</td><td>2976.23</td><td>2480.6737677343285</td></tr><tr><td>Map(vectorType -> dense, length -> 2, values -> List(13.65, 13.65))</td><td>2991.45</td><td>2480.6737677343285</td></tr><tr><td>Map(vectorType -> dense, length -> 2, values -> List(13.65, 13.65))</td><td>3013.46</td><td>2480.6737677343285</td></tr><tr><td>Map(vectorType -> dense, length -> 2, values -> List(13.65, 13.65))</td><td>3155.32</td><td>2480.6737677343285</td></tr><tr><td>Map(vectorType -> dense, length -> 2, values -> List(13.65, 13.65))</td><td>3197.18</td><td>2480.6737677343285</td></tr><tr><td>Map(vectorType -> dense, length -> 2, values -> List(13.88, 13.9))</td><td>1837.13</td><td>2188.6625695434436</td></tr><tr><td>Map(vectorType -> dense, length -> 2, values -> List(14.13, 14.15))</td><td>1361.05</td><td>2182.5781867493156</td></tr><tr><td>Map(vectorType -> dense, length -> 2, values -> List(14.13, 14.15))</td><td>1400.42</td><td>2182.5781867493156</td></tr><tr><td>Map(vectorType -> dense, length -> 2, values -> List(14.13, 14.15))</td><td>1458.12</td><td>2182.5781867493156</td></tr><tr><td>Map(vectorType -> dense, length -> 2, values -> List(14.13, 14.15))</td><td>1485.75</td><td>2182.5781867493156</td></tr><tr><td>Map(vectorType -> dense, length -> 2, values -> List(14.13, 14.15))</td><td>1767.11</td><td>2182.5781867493156</td></tr><tr><td>Map(vectorType -> dense, length -> 2, values -> List(14.13, 14.15))</td><td>1816.05</td><td>2182.5781867493156</td></tr><tr><td>Map(vectorType -> dense, length -> 2, values -> List(14.14, 14.15))</td><td>1409.01</td><td>2325.541594447694</td></tr><tr><td>Map(vectorType -> dense, length -> 2, values -> List(14.14, 14.15))</td><td>1452.66</td><td>2325.541594447694</td></tr></tbody></table></div>"
      ]
     },
     "metadata": {
      "application/vnd.databricks.v1+output": {
       "addedWidgets": {},
       "aggData": [],
       "aggError": "",
       "aggOverflow": false,
       "aggSchema": [],
       "aggSeriesLimitReached": false,
       "aggType": "",
       "arguments": {},
       "columnCustomDisplayInfos": {},
       "data": [
        [
         {
          "length": 2,
          "values": [
           1.9,
           1.9
          ],
          "vectorType": "dense"
         },
         2782.1,
         2766.6397590586407
        ],
        [
         {
          "length": 2,
          "values": [
           1.9,
           1.9
          ],
          "vectorType": "dense"
         },
         2794.88,
         2766.6397590586407
        ],
        [
         {
          "length": 2,
          "values": [
           1.9,
           1.9
          ],
          "vectorType": "dense"
         },
         2870.15,
         2766.6397590586407
        ],
        [
         {
          "length": 2,
          "values": [
           2.15,
           2.15
          ],
          "vectorType": "dense"
         },
         2733.12,
         2760.555376264509
        ],
        [
         {
          "length": 2,
          "values": [
           2.15,
           2.15
          ],
          "vectorType": "dense"
         },
         2806.28,
         2760.555376264509
        ],
        [
         {
          "length": 2,
          "values": [
           2.65,
           2.65
          ],
          "vectorType": "dense"
         },
         2861.15,
         2748.3866106762384
        ],
        [
         {
          "length": 2,
          "values": [
           3.4,
           3.4
          ],
          "vectorType": "dense"
         },
         2816.46,
         2730.1334622938325
        ],
        [
         {
          "length": 2,
          "values": [
           3.65,
           3.65
          ],
          "vectorType": "dense"
         },
         2603.62,
         2724.0490794997045
        ],
        [
         {
          "length": 2,
          "values": [
           4.15,
           4.15
          ],
          "vectorType": "dense"
         },
         2754.89,
         2711.880313911434
        ],
        [
         {
          "length": 2,
          "values": [
           4.9,
           4.9
          ],
          "vectorType": "dense"
         },
         2791.98,
         2693.627165529028
        ],
        [
         {
          "length": 2,
          "values": [
           5.15,
           5.15
          ],
          "vectorType": "dense"
         },
         2749.84,
         2687.5427827349
        ],
        [
         {
          "length": 2,
          "values": [
           5.4,
           5.4
          ],
          "vectorType": "dense"
         },
         2684.26,
         2681.4583999407573
        ],
        [
         {
          "length": 2,
          "values": [
           6.15,
           6.15
          ],
          "vectorType": "dense"
         },
         2715.67,
         2663.2052515583587
        ],
        [
         {
          "length": 2,
          "values": [
           6.39,
           6.4
          ],
          "vectorType": "dense"
         },
         2154.45,
         2514.1574610658377
        ],
        [
         {
          "length": 2,
          "values": [
           6.39,
           6.4
          ],
          "vectorType": "dense"
         },
         2337.25,
         2514.1574610658377
        ],
        [
         {
          "length": 2,
          "values": [
           6.4,
           6.4
          ],
          "vectorType": "dense"
         },
         2242.45,
         2657.1208687642306
        ],
        [
         {
          "length": 2,
          "values": [
           6.4,
           6.4
          ],
          "vectorType": "dense"
         },
         2300.48,
         2657.1208687642306
        ],
        [
         {
          "length": 2,
          "values": [
           6.4,
           6.4
          ],
          "vectorType": "dense"
         },
         2409.69,
         2657.1208687642306
        ],
        [
         {
          "length": 2,
          "values": [
           6.4,
           6.4
          ],
          "vectorType": "dense"
         },
         2434.56,
         2657.1208687642306
        ],
        [
         {
          "length": 2,
          "values": [
           6.4,
           6.4
          ],
          "vectorType": "dense"
         },
         2508.45,
         2657.1208687642306
        ],
        [
         {
          "length": 2,
          "values": [
           6.4,
           6.4
          ],
          "vectorType": "dense"
         },
         2552.69,
         2657.1208687642306
        ],
        [
         {
          "length": 2,
          "values": [
           6.4,
           6.4
          ],
          "vectorType": "dense"
         },
         2659.55,
         2657.1208687642306
        ],
        [
         {
          "length": 2,
          "values": [
           7.39,
           7.4
          ],
          "vectorType": "dense"
         },
         2213.08,
         2489.8199298892964
        ],
        [
         {
          "length": 2,
          "values": [
           7.39,
           7.4
          ],
          "vectorType": "dense"
         },
         2226.25,
         2489.8199298892964
        ],
        [
         {
          "length": 2,
          "values": [
           9.15,
           9.15
          ],
          "vectorType": "dense"
         },
         2776.92,
         2590.192658028735
        ],
        [
         {
          "length": 2,
          "values": [
           9.15,
           9.15
          ],
          "vectorType": "dense"
         },
         2804.79,
         2590.192658028735
        ],
        [
         {
          "length": 2,
          "values": [
           10.27,
           10.4
          ],
          "vectorType": "dense"
         },
         1282.04,
         701.2464439792188
        ],
        [
         {
          "length": 2,
          "values": [
           10.59,
           10.65
          ],
          "vectorType": "dense"
         },
         1330.42,
         1695.9059150736816
        ],
        [
         {
          "length": 2,
          "values": [
           10.8,
           10.9
          ],
          "vectorType": "dense"
         },
         1350.76,
         1117.967901486098
        ],
        [
         {
          "length": 2,
          "values": [
           10.8,
           10.9
          ],
          "vectorType": "dense"
         },
         1387.63,
         1117.967901486098
        ],
        [
         {
          "length": 2,
          "values": [
           10.8,
           10.9
          ],
          "vectorType": "dense"
         },
         1409.42,
         1117.967901486098
        ],
        [
         {
          "length": 2,
          "values": [
           10.81,
           10.9
          ],
          "vectorType": "dense"
         },
         1421.44,
         1260.9313091844474
        ],
        [
         {
          "length": 2,
          "values": [
           11.15,
           11.15
          ],
          "vectorType": "dense"
         },
         3360.0,
         2541.517595675667
        ],
        [
         {
          "length": 2,
          "values": [
           11.57,
           11.65
          ],
          "vectorType": "dense"
         },
         1336.72,
         1385.6415685004126
        ],
        [
         {
          "length": 2,
          "values": [
           11.65,
           11.65
          ],
          "vectorType": "dense"
         },
         2779.97,
         2529.348830087382
        ],
        [
         {
          "length": 2,
          "values": [
           11.65,
           11.65
          ],
          "vectorType": "dense"
         },
         3333.51,
         2529.348830087382
        ],
        [
         {
          "length": 2,
          "values": [
           12.13,
           12.15
          ],
          "vectorType": "dense"
         },
         2032.81,
         2231.253249102398
        ],
        [
         {
          "length": 2,
          "values": [
           12.15,
           12.15
          ],
          "vectorType": "dense"
         },
         3176.56,
         2517.180064499126
        ],
        [
         {
          "length": 2,
          "values": [
           12.6,
           12.65
          ],
          "vectorType": "dense"
         },
         1347.63,
         1790.1942604189776
        ],
        [
         {
          "length": 2,
          "values": [
           12.65,
           12.65
          ],
          "vectorType": "dense"
         },
         3155.7,
         2505.0112989108407
        ],
        [
         {
          "length": 2,
          "values": [
           12.88,
           12.9
          ],
          "vectorType": "dense"
         },
         1934.69,
         2213.000100719985
        ],
        [
         {
          "length": 2,
          "values": [
           13.15,
           13.15
          ],
          "vectorType": "dense"
         },
         2795.62,
         2492.8425333225846
        ],
        [
         {
          "length": 2,
          "values": [
           13.65,
           13.65
          ],
          "vectorType": "dense"
         },
         2760.96,
         2480.6737677343285
        ],
        [
         {
          "length": 2,
          "values": [
           13.65,
           13.65
          ],
          "vectorType": "dense"
         },
         2808.39,
         2480.6737677343285
        ],
        [
         {
          "length": 2,
          "values": [
           13.65,
           13.65
          ],
          "vectorType": "dense"
         },
         2867.21,
         2480.6737677343285
        ],
        [
         {
          "length": 2,
          "values": [
           13.65,
           13.65
          ],
          "vectorType": "dense"
         },
         2976.23,
         2480.6737677343285
        ],
        [
         {
          "length": 2,
          "values": [
           13.65,
           13.65
          ],
          "vectorType": "dense"
         },
         2991.45,
         2480.6737677343285
        ],
        [
         {
          "length": 2,
          "values": [
           13.65,
           13.65
          ],
          "vectorType": "dense"
         },
         3013.46,
         2480.6737677343285
        ],
        [
         {
          "length": 2,
          "values": [
           13.65,
           13.65
          ],
          "vectorType": "dense"
         },
         3155.32,
         2480.6737677343285
        ],
        [
         {
          "length": 2,
          "values": [
           13.65,
           13.65
          ],
          "vectorType": "dense"
         },
         3197.18,
         2480.6737677343285
        ],
        [
         {
          "length": 2,
          "values": [
           13.88,
           13.9
          ],
          "vectorType": "dense"
         },
         1837.13,
         2188.6625695434436
        ],
        [
         {
          "length": 2,
          "values": [
           14.13,
           14.15
          ],
          "vectorType": "dense"
         },
         1361.05,
         2182.5781867493156
        ],
        [
         {
          "length": 2,
          "values": [
           14.13,
           14.15
          ],
          "vectorType": "dense"
         },
         1400.42,
         2182.5781867493156
        ],
        [
         {
          "length": 2,
          "values": [
           14.13,
           14.15
          ],
          "vectorType": "dense"
         },
         1458.12,
         2182.5781867493156
        ],
        [
         {
          "length": 2,
          "values": [
           14.13,
           14.15
          ],
          "vectorType": "dense"
         },
         1485.75,
         2182.5781867493156
        ],
        [
         {
          "length": 2,
          "values": [
           14.13,
           14.15
          ],
          "vectorType": "dense"
         },
         1767.11,
         2182.5781867493156
        ],
        [
         {
          "length": 2,
          "values": [
           14.13,
           14.15
          ],
          "vectorType": "dense"
         },
         1816.05,
         2182.5781867493156
        ],
        [
         {
          "length": 2,
          "values": [
           14.14,
           14.15
          ],
          "vectorType": "dense"
         },
         1409.01,
         2325.541594447694
        ],
        [
         {
          "length": 2,
          "values": [
           14.14,
           14.15
          ],
          "vectorType": "dense"
         },
         1452.66,
         2325.541594447694
        ]
       ],
       "datasetInfos": [],
       "dbfsResultPath": null,
       "isJsonSchema": true,
       "metadata": {},
       "overflow": false,
       "plotOptions": {
        "customPlotOptions": {},
        "displayType": "table",
        "pivotAggregation": null,
        "pivotColumns": null,
        "xColumns": null,
        "yColumns": null
       },
       "removedWidgets": [],
       "schema": [
        {
         "metadata": "{\"ml_attr\":{\"attrs\":{\"numeric\":[{\"idx\":0,\"name\":\"CDI\"},{\"idx\":1,\"name\":\"SELIC\"}]},\"num_attrs\":2}}",
         "name": "features",
         "type": "{\"type\":\"udt\",\"class\":\"org.apache.spark.ml.linalg.VectorUDT\",\"pyClass\":\"pyspark.ml.linalg.VectorUDT\",\"sqlType\":{\"type\":\"struct\",\"fields\":[{\"name\":\"type\",\"type\":\"byte\",\"nullable\":false,\"metadata\":{}},{\"name\":\"size\",\"type\":\"integer\",\"nullable\":true,\"metadata\":{}},{\"name\":\"indices\",\"type\":{\"type\":\"array\",\"elementType\":\"integer\",\"containsNull\":false},\"nullable\":true,\"metadata\":{}},{\"name\":\"values\",\"type\":{\"type\":\"array\",\"elementType\":\"double\",\"containsNull\":false},\"nullable\":true,\"metadata\":{}}]}}"
        },
        {
         "metadata": "{}",
         "name": "IFIX",
         "type": "\"double\""
        },
        {
         "metadata": "{\"ml_attr\":{}}",
         "name": "prediction",
         "type": "\"double\""
        }
       ],
       "type": "table"
      }
     },
     "output_type": "display_data"
    }
   ],
   "source": [
    "display(modelsummary.predictions)"
   ]
  },
  {
   "cell_type": "code",
   "execution_count": 0,
   "metadata": {
    "application/vnd.databricks.v1+cell": {
     "cellMetadata": {
      "byteLimit": 2048000,
      "rowLimit": 10000
     },
     "inputWidgets": {},
     "nuid": "8c2c5dc5-b3d3-4d80-8c3a-c1511d2a5432",
     "showTitle": false,
     "title": ""
    }
   },
   "outputs": [
    {
     "output_type": "display_data",
     "data": {
      "text/html": [
       "<style scoped>\n",
       "  .table-result-container {\n",
       "    max-height: 300px;\n",
       "    overflow: auto;\n",
       "  }\n",
       "  table, th, td {\n",
       "    border: 1px solid black;\n",
       "    border-collapse: collapse;\n",
       "  }\n",
       "  th, td {\n",
       "    padding: 5px;\n",
       "  }\n",
       "  th {\n",
       "    text-align: left;\n",
       "  }\n",
       "</style><div class='table-result-container'><table class='table-result'><thead style='background-color: white'><tr><th>Mes_Ano</th><th>IFIX</th><th>prediction</th></tr></thead><tbody><tr><td>8-2020</td><td>2782.1</td><td>2766.6397590586407</td></tr><tr><td>9-2020</td><td>2794.88</td><td>2766.6397590586407</td></tr><tr><td>12-2020</td><td>2870.15</td><td>2766.6397590586407</td></tr><tr><td>7-2020</td><td>2733.12</td><td>2760.555376264509</td></tr><tr><td>6-2020</td><td>2806.28</td><td>2760.555376264509</td></tr><tr><td>4-2021</td><td>2861.15</td><td>2748.3866106762384</td></tr><tr><td>5-2021</td><td>2816.46</td><td>2730.1334622938325</td></tr><tr><td>4-2020</td><td>2603.62</td><td>2724.0490794997045</td></tr><tr><td>6-2021</td><td>2754.89</td><td>2711.880313911434</td></tr><tr><td>10-2019</td><td>2791.98</td><td>2693.627165529028</td></tr><tr><td>8-2021</td><td>2749.84</td><td>2687.5427827349</td></tr><tr><td>9-2019</td><td>2684.26</td><td>2681.4583999407573</td></tr><tr><td>9-2021</td><td>2715.67</td><td>2663.2052515583587</td></tr><tr><td>7-2018</td><td>2154.45</td><td>2514.1574610658377</td></tr><tr><td>4-2018</td><td>2337.25</td><td>2514.1574610658377</td></tr><tr><td>10-2018</td><td>2242.45</td><td>2657.1208687642306</td></tr><tr><td>11-2018</td><td>2300.48</td><td>2657.1208687642306</td></tr><tr><td>1-2019</td><td>2409.69</td><td>2657.1208687642306</td></tr><tr><td>2-2019</td><td>2434.56</td><td>2657.1208687642306</td></tr><tr><td>4-2019</td><td>2508.45</td><td>2657.1208687642306</td></tr><tr><td>5-2019</td><td>2552.69</td><td>2657.1208687642306</td></tr><tr><td>7-2019</td><td>2659.55</td><td>2657.1208687642306</td></tr><tr><td>11-2017</td><td>2213.08</td><td>2489.8199298892964</td></tr><tr><td>10-2017</td><td>2226.25</td><td>2489.8199298892964</td></tr><tr><td>1-2022</td><td>2776.92</td><td>2590.192658028735</td></tr><tr><td>12-2021</td><td>2804.79</td><td>2590.192658028735</td></tr><tr><td>1-2014</td><td>1282.04</td><td>701.2464439792188</td></tr><tr><td>2-2014</td><td>1330.42</td><td>1695.9059150736816</td></tr><tr><td>4-2014</td><td>1350.76</td><td>1117.967901486098</td></tr><tr><td>6-2014</td><td>1387.63</td><td>1117.967901486098</td></tr><tr><td>7-2014</td><td>1409.42</td><td>1117.967901486098</td></tr><tr><td>9-2014</td><td>1421.44</td><td>1260.9313091844474</td></tr><tr><td>2-2024</td><td>3360.0</td><td>2541.517595675667</td></tr><tr><td>12-2014</td><td>1336.72</td><td>1385.6415685004126</td></tr><tr><td>3-2022</td><td>2779.97</td><td>2529.348830087382</td></tr><tr><td>1-2024</td><td>3333.51</td><td>2529.348830087382</td></tr><tr><td>3-2017</td><td>2032.81</td><td>2231.253249102398</td></tr><tr><td>11-2023</td><td>3176.56</td><td>2517.180064499126</td></tr><tr><td>3-2015</td><td>1347.63</td><td>1790.1942604189776</td></tr><tr><td>10-2023</td><td>3155.7</td><td>2505.0112989108407</td></tr><tr><td>1-2017</td><td>1934.69</td><td>2213.000100719985</td></tr><tr><td>6-2022</td><td>2795.62</td><td>2492.8425333225846</td></tr><tr><td>3-2023</td><td>2760.96</td><td>2480.6737677343285</td></tr><tr><td>2-2023</td><td>2808.39</td><td>2480.6737677343285</td></tr><tr><td>11-2022</td><td>2867.21</td><td>2480.6737677343285</td></tr><tr><td>8-2022</td><td>2976.23</td><td>2480.6737677343285</td></tr><tr><td>10-2022</td><td>2991.45</td><td>2480.6737677343285</td></tr><tr><td>5-2023</td><td>3013.46</td><td>2480.6737677343285</td></tr><tr><td>6-2023</td><td>3155.32</td><td>2480.6737677343285</td></tr><tr><td>7-2023</td><td>3197.18</td><td>2480.6737677343285</td></tr><tr><td>11-2016</td><td>1837.13</td><td>2188.6625695434436</td></tr><tr><td>2-2016</td><td>1361.05</td><td>2182.5781867493156</td></tr><tr><td>9-2015</td><td>1400.42</td><td>2182.5781867493156</td></tr><tr><td>8-2015</td><td>1458.12</td><td>2182.5781867493156</td></tr><tr><td>3-2016</td><td>1485.75</td><td>2182.5781867493156</td></tr><tr><td>8-2016</td><td>1767.11</td><td>2182.5781867493156</td></tr><tr><td>9-2016</td><td>1816.05</td><td>2182.5781867493156</td></tr><tr><td>12-2015</td><td>1409.01</td><td>2325.541594447694</td></tr><tr><td>11-2015</td><td>1452.66</td><td>2325.541594447694</td></tr></tbody></table></div>"
      ]
     },
     "metadata": {
      "application/vnd.databricks.v1+output": {
       "addedWidgets": {},
       "aggData": [],
       "aggError": "",
       "aggOverflow": false,
       "aggSchema": [],
       "aggSeriesLimitReached": false,
       "aggType": "",
       "arguments": {},
       "columnCustomDisplayInfos": {},
       "data": [
        [
         "8-2020",
         2782.1,
         2766.6397590586407
        ],
        [
         "9-2020",
         2794.88,
         2766.6397590586407
        ],
        [
         "12-2020",
         2870.15,
         2766.6397590586407
        ],
        [
         "7-2020",
         2733.12,
         2760.555376264509
        ],
        [
         "6-2020",
         2806.28,
         2760.555376264509
        ],
        [
         "4-2021",
         2861.15,
         2748.3866106762384
        ],
        [
         "5-2021",
         2816.46,
         2730.1334622938325
        ],
        [
         "4-2020",
         2603.62,
         2724.0490794997045
        ],
        [
         "6-2021",
         2754.89,
         2711.880313911434
        ],
        [
         "10-2019",
         2791.98,
         2693.627165529028
        ],
        [
         "8-2021",
         2749.84,
         2687.5427827349
        ],
        [
         "9-2019",
         2684.26,
         2681.4583999407573
        ],
        [
         "9-2021",
         2715.67,
         2663.2052515583587
        ],
        [
         "7-2018",
         2154.45,
         2514.1574610658377
        ],
        [
         "4-2018",
         2337.25,
         2514.1574610658377
        ],
        [
         "10-2018",
         2242.45,
         2657.1208687642306
        ],
        [
         "11-2018",
         2300.48,
         2657.1208687642306
        ],
        [
         "1-2019",
         2409.69,
         2657.1208687642306
        ],
        [
         "2-2019",
         2434.56,
         2657.1208687642306
        ],
        [
         "4-2019",
         2508.45,
         2657.1208687642306
        ],
        [
         "5-2019",
         2552.69,
         2657.1208687642306
        ],
        [
         "7-2019",
         2659.55,
         2657.1208687642306
        ],
        [
         "11-2017",
         2213.08,
         2489.8199298892964
        ],
        [
         "10-2017",
         2226.25,
         2489.8199298892964
        ],
        [
         "1-2022",
         2776.92,
         2590.192658028735
        ],
        [
         "12-2021",
         2804.79,
         2590.192658028735
        ],
        [
         "1-2014",
         1282.04,
         701.2464439792188
        ],
        [
         "2-2014",
         1330.42,
         1695.9059150736816
        ],
        [
         "4-2014",
         1350.76,
         1117.967901486098
        ],
        [
         "6-2014",
         1387.63,
         1117.967901486098
        ],
        [
         "7-2014",
         1409.42,
         1117.967901486098
        ],
        [
         "9-2014",
         1421.44,
         1260.9313091844474
        ],
        [
         "2-2024",
         3360.0,
         2541.517595675667
        ],
        [
         "12-2014",
         1336.72,
         1385.6415685004126
        ],
        [
         "3-2022",
         2779.97,
         2529.348830087382
        ],
        [
         "1-2024",
         3333.51,
         2529.348830087382
        ],
        [
         "3-2017",
         2032.81,
         2231.253249102398
        ],
        [
         "11-2023",
         3176.56,
         2517.180064499126
        ],
        [
         "3-2015",
         1347.63,
         1790.1942604189776
        ],
        [
         "10-2023",
         3155.7,
         2505.0112989108407
        ],
        [
         "1-2017",
         1934.69,
         2213.000100719985
        ],
        [
         "6-2022",
         2795.62,
         2492.8425333225846
        ],
        [
         "3-2023",
         2760.96,
         2480.6737677343285
        ],
        [
         "2-2023",
         2808.39,
         2480.6737677343285
        ],
        [
         "11-2022",
         2867.21,
         2480.6737677343285
        ],
        [
         "8-2022",
         2976.23,
         2480.6737677343285
        ],
        [
         "10-2022",
         2991.45,
         2480.6737677343285
        ],
        [
         "5-2023",
         3013.46,
         2480.6737677343285
        ],
        [
         "6-2023",
         3155.32,
         2480.6737677343285
        ],
        [
         "7-2023",
         3197.18,
         2480.6737677343285
        ],
        [
         "11-2016",
         1837.13,
         2188.6625695434436
        ],
        [
         "2-2016",
         1361.05,
         2182.5781867493156
        ],
        [
         "9-2015",
         1400.42,
         2182.5781867493156
        ],
        [
         "8-2015",
         1458.12,
         2182.5781867493156
        ],
        [
         "3-2016",
         1485.75,
         2182.5781867493156
        ],
        [
         "8-2016",
         1767.11,
         2182.5781867493156
        ],
        [
         "9-2016",
         1816.05,
         2182.5781867493156
        ],
        [
         "12-2015",
         1409.01,
         2325.541594447694
        ],
        [
         "11-2015",
         1452.66,
         2325.541594447694
        ]
       ],
       "datasetInfos": [],
       "dbfsResultPath": null,
       "isJsonSchema": true,
       "metadata": {},
       "overflow": false,
       "plotOptions": {
        "customPlotOptions": {},
        "displayType": "table",
        "pivotAggregation": null,
        "pivotColumns": null,
        "xColumns": null,
        "yColumns": null
       },
       "removedWidgets": [],
       "schema": [
        {
         "metadata": "{}",
         "name": "Mes_Ano",
         "type": "\"string\""
        },
        {
         "metadata": "{}",
         "name": "IFIX",
         "type": "\"double\""
        },
        {
         "metadata": "{\"ml_attr\":{}}",
         "name": "prediction",
         "type": "\"double\""
        }
       ],
       "type": "table"
      }
     },
     "output_type": "display_data"
    },
    {
     "output_type": "display_data",
     "data": {
      "text/plain": [
       "Databricks visualization. Run in Databricks to view."
      ]
     },
     "metadata": {
      "application/vnd.databricks.v1.subcommand+json": {
       "baseErrorDetails": null,
       "bindings": {},
       "collapsed": false,
       "command": "%python\n__backend_agg_display_orig = display\n__backend_agg_dfs = []\ndef __backend_agg_display_new(df):\n    __backend_agg_df_modules = [\"pandas.core.frame\", \"databricks.koalas.frame\", \"pyspark.sql.dataframe\", \"pyspark.pandas.frame\", \"pyspark.sql.connect.dataframe\"]\n    if (type(df).__module__ in __backend_agg_df_modules and type(df).__name__ == 'DataFrame') or isinstance(df, list):\n        __backend_agg_dfs.append(df)\n\ndisplay = __backend_agg_display_new\n\ndef __backend_agg_user_code_fn():\n    import base64\n    exec(base64.standard_b64decode(\"cHJlZGljdGlvbnNERiA9IG1vZGVsc3VtbWFyeS5wcmVkaWN0aW9ucwpwcmVkaWN0aW9uc1Bsb3QgPSBwcmVkaWN0aW9uc0RGLmpvaW4oaWZpeFJlZywgIklGSVgiLCAiaW5uZXIiKQpwcmVkaWN0aW9uc1Bsb3QgPSBwcmVkaWN0aW9uc1Bsb3Quc2VsZWN0KCdNZXNfQW5vJywgJ0lGSVgnLCAncHJlZGljdGlvbicpCmRpc3BsYXkocHJlZGljdGlvbnNQbG90KQ==\").decode())\n\ntry:\n    # run user code\n    __backend_agg_user_code_fn()\n\n    #reset display function\n    display = __backend_agg_display_orig\n\n    if len(__backend_agg_dfs) > 0:\n        # create a temp view\n        if type(__backend_agg_dfs[0]).__module__ == \"databricks.koalas.frame\":\n            # koalas dataframe\n            __backend_agg_dfs[0].to_spark().createOrReplaceTempView(\"DatabricksViewc2d5ea3\")\n        elif type(__backend_agg_dfs[0]).__module__ == \"pandas.core.frame\" or isinstance(__backend_agg_dfs[0], list):\n            # pandas dataframe\n            spark.createDataFrame(__backend_agg_dfs[0]).createOrReplaceTempView(\"DatabricksViewc2d5ea3\")\n        else:\n            __backend_agg_dfs[0].createOrReplaceTempView(\"DatabricksViewc2d5ea3\")\n        #run backend agg\n        display(spark.sql(\"\"\"WITH q AS (select * from DatabricksViewc2d5ea3) SELECT `Mes_Ano`,SUM(`IFIX`) `column_c77865a088`,SUM(`prediction`) `column_c77865a091` FROM q GROUP BY `Mes_Ano`\"\"\"))\n    else:\n        displayHTML(\"dataframe no longer exists. If you're using dataframe.display(), use display(dataframe) instead.\")\n\n\nfinally:\n    spark.sql(\"drop view if exists DatabricksViewc2d5ea3\")\n    display = __backend_agg_display_orig\n    del __backend_agg_display_new\n    del __backend_agg_display_orig\n    del __backend_agg_dfs\n    del __backend_agg_user_code_fn\n\n",
       "commandTitle": "Visualization 1",
       "commandType": "auto",
       "commandVersion": 0,
       "commentThread": [],
       "commentsVisible": false,
       "contentSha256Hex": null,
       "customPlotOptions": {
        "redashChart": [
         {
          "key": "type",
          "value": "CHART"
         },
         {
          "key": "options",
          "value": {
           "alignYAxesAtZero": false,
           "coefficient": 1,
           "columnConfigurationMap": {
            "x": {
             "column": "Mes_Ano",
             "id": "column_c77865a093"
            },
            "y": [
             {
              "column": "IFIX",
              "id": "column_c77865a088",
              "transform": "SUM"
             },
             {
              "column": "prediction",
              "id": "column_c77865a091",
              "transform": "SUM"
             }
            ]
           },
           "dateTimeFormat": "DD/MM/YYYY HH:mm",
           "direction": {
            "type": "counterclockwise"
           },
           "error_y": {
            "type": "data",
            "visible": true
           },
           "globalSeriesType": "line",
           "isAggregationOn": true,
           "legend": {
            "traceorder": "normal"
           },
           "missingValuesAsZero": true,
           "numberFormat": "0,0.[00000]",
           "percentFormat": "0[.]00%",
           "reverseX": false,
           "series": {
            "error_y": {
             "type": "data",
             "visible": true
            },
            "stacking": null
           },
           "seriesOptions": {
            "column_c77865a085": {
             "type": "line",
             "yAxis": 0
            },
            "column_c77865a088": {
             "color": "#356AFF",
             "name": "IFIX",
             "type": "line",
             "yAxis": 0
            },
            "column_c77865a091": {
             "color": "#FB8D3D",
             "name": "Previsão",
             "type": "line",
             "yAxis": 0
            }
           },
           "showDataLabels": false,
           "sizemode": "diameter",
           "sortX": true,
           "sortY": true,
           "swappedAxes": false,
           "textFormat": "",
           "useAggregationsUi": true,
           "valuesOptions": {},
           "version": 2,
           "xAxis": {
            "labels": {
             "enabled": true
            },
            "title": {
             "text": "Período"
            },
            "type": "-"
           },
           "yAxis": [
            {
             "rangeMin": 0,
             "title": {
              "text": "Indices"
             },
             "type": "-"
            },
            {
             "opposite": true,
             "type": "-"
            }
           ]
          }
         }
        ]
       },
       "datasetPreviewNameToCmdIdMap": {},
       "diffDeletes": [],
       "diffInserts": [],
       "displayType": "redashChart",
       "error": null,
       "errorDetails": null,
       "errorSummary": null,
       "errorTraceType": null,
       "finishTime": 0,
       "globalVars": {},
       "guid": "",
       "height": "435",
       "hideCommandCode": false,
       "hideCommandResult": false,
       "iPythonMetadata": null,
       "inputWidgets": {},
       "isLockedInExamMode": false,
       "latestUser": "a user",
       "latestUserId": null,
       "listResultMetadata": null,
       "metadata": {},
       "nuid": "d7c6d8a8-f28d-4a6c-a496-dea0da2273d4",
       "origId": 0,
       "parentHierarchy": [],
       "pivotAggregation": null,
       "pivotColumns": null,
       "position": 29.0,
       "resultDbfsErrorMessage": null,
       "resultDbfsStatus": "INLINED_IN_TREE",
       "results": null,
       "showCommandTitle": false,
       "startTime": 0,
       "state": "input",
       "streamStates": {},
       "subcommandOptions": {
        "queryPlan": {
         "groups": [
          {
           "column": "Mes_Ano",
           "type": "column"
          }
         ],
         "selects": [
          {
           "column": "Mes_Ano",
           "type": "column"
          },
          {
           "alias": "column_c77865a088",
           "args": [
            {
             "column": "IFIX",
             "type": "column"
            }
           ],
           "function": "SUM",
           "type": "function"
          },
          {
           "alias": "column_c77865a091",
           "args": [
            {
             "column": "prediction",
             "type": "column"
            }
           ],
           "function": "SUM",
           "type": "function"
          }
         ]
        }
       },
       "submitTime": 0,
       "subtype": "tableResultSubCmd.visualization",
       "tableResultIndex": 0,
       "useConsistentColors": false,
       "version": "CommandV1",
       "width": "1696",
       "workflows": [],
       "xColumns": null,
       "yColumns": null
      }
     },
     "output_type": "display_data"
    }
   ],
   "source": [
    "# Grafico de linhas do IFIX + predição para comparação\n",
    "predictionsDF = modelsummary.predictions\n",
    "predictionsPlot = predictionsDF.join(ifixReg, \"IFIX\", \"inner\")\n",
    "predictionsPlot = predictionsPlot.select('Mes_Ano', 'IFIX', 'prediction')\n",
    "display(predictionsPlot)"
   ]
  },
  {
   "cell_type": "markdown",
   "metadata": {
    "application/vnd.databricks.v1+cell": {
     "cellMetadata": {},
     "inputWidgets": {},
     "nuid": "486f9f6c-d832-4c1d-82fc-ce14abbac2f5",
     "showTitle": false,
     "title": ""
    }
   },
   "source": [
    "#### Assembler adicionando as variáveis IGP-M e INCC"
   ]
  },
  {
   "cell_type": "code",
   "execution_count": 0,
   "metadata": {
    "application/vnd.databricks.v1+cell": {
     "cellMetadata": {
      "byteLimit": 2048000,
      "rowLimit": 10000
     },
     "inputWidgets": {},
     "nuid": "6dfa5126-513a-444e-b6a6-fb492f3fb34a",
     "showTitle": false,
     "title": ""
    }
   },
   "outputs": [
    {
     "output_type": "stream",
     "name": "stdout",
     "output_type": "stream",
     "text": [
      "root\n |-- Data: date (nullable = true)\n |-- IFIX: double (nullable = true)\n |-- CDI: double (nullable = true)\n |-- SELIC: double (nullable = true)\n |-- INCC: float (nullable = true)\n |-- IGP-M: float (nullable = true)\n |-- features: vector (nullable = true)\n\n"
     ]
    }
   ],
   "source": [
    "from pyspark.ml.feature import VectorAssembler  #importando a biblioteca responsável por criar o vetor a partir da coluna\n",
    "\n",
    "assembler2 = VectorAssembler(inputCols=['CDI', 'SELIC' , 'IGP-M', 'INCC'], outputCol='features')  #define o objeto para transformação\n",
    "indicesRegression = assembler2.transform(indicesFinal) #aplica a transformação\n",
    "indicesRegression.printSchema()"
   ]
  },
  {
   "cell_type": "code",
   "execution_count": 0,
   "metadata": {
    "application/vnd.databricks.v1+cell": {
     "cellMetadata": {
      "byteLimit": 2048000,
      "rowLimit": 10000
     },
     "inputWidgets": {},
     "nuid": "ff413a27-dab1-4a2d-b0a8-499f619ba1b6",
     "showTitle": false,
     "title": ""
    }
   },
   "outputs": [
    {
     "output_type": "display_data",
     "data": {
      "text/html": [
       "<style scoped>\n",
       "  .table-result-container {\n",
       "    max-height: 300px;\n",
       "    overflow: auto;\n",
       "  }\n",
       "  table, th, td {\n",
       "    border: 1px solid black;\n",
       "    border-collapse: collapse;\n",
       "  }\n",
       "  th, td {\n",
       "    padding: 5px;\n",
       "  }\n",
       "  th {\n",
       "    text-align: left;\n",
       "  }\n",
       "</style><div class='table-result-container'><table class='table-result'><thead style='background-color: white'><tr><th>features</th><th>IFIX</th></tr></thead><tbody><tr><td>Map(vectorType -> dense, length -> 4, values -> List(10.27, 10.4, 540.958984375, 569.7449951171875))</td><td>1282.04</td></tr><tr><td>Map(vectorType -> dense, length -> 4, values -> List(10.59, 10.65, 543.0380249023438, 572.2540283203125))</td><td>1330.42</td></tr><tr><td>Map(vectorType -> dense, length -> 4, values -> List(10.55, 10.65, 552.0869750976562, 573.5050048828125))</td><td>1336.07</td></tr><tr><td>Map(vectorType -> dense, length -> 4, values -> List(10.8, 10.9, 556.4199829101562, 577.322021484375))</td><td>1350.76</td></tr><tr><td>Map(vectorType -> dense, length -> 4, values -> List(10.8, 10.9, 551.5540161132812, 592.510009765625))</td><td>1387.63</td></tr><tr><td>Map(vectorType -> dense, length -> 4, values -> List(10.8, 10.9, 548.2020263671875, 597.2509765625))</td><td>1409.42</td></tr><tr><td>Map(vectorType -> dense, length -> 4, values -> List(10.81, 10.9, 547.8389892578125, 599.3330078125))</td><td>1421.44</td></tr><tr><td>Map(vectorType -> dense, length -> 4, values -> List(11.06, 11.15, 549.39599609375, 600.5490112304688))</td><td>1402.46</td></tr><tr><td>Map(vectorType -> dense, length -> 4, values -> List(11.57, 11.65, 558.2130126953125, 603.89501953125))</td><td>1336.72</td></tr><tr><td>Map(vectorType -> dense, length -> 4, values -> List(12.6, 12.65, 569.5360107421875, 613.3740234375))</td><td>1347.63</td></tr><tr><td>Map(vectorType -> dense, length -> 4, values -> List(13.11, 13.15, 576.1749877929688, 617.3599853515625))</td><td>1397.06</td></tr><tr><td>Map(vectorType -> dense, length -> 4, values -> List(13.64, 13.65, 582.4010009765625, 631.7470092773438))</td><td>1460.46</td></tr><tr><td>Map(vectorType -> dense, length -> 4, values -> List(14.13, 14.15, 586.426025390625, 635.9349975585938))</td><td>1470.73</td></tr><tr><td>Map(vectorType -> dense, length -> 4, values -> List(14.13, 14.15, 588.0419921875, 641.0189819335938))</td><td>1458.12</td></tr><tr><td>Map(vectorType -> dense, length -> 4, values -> List(14.13, 14.15, 593.6060180664062, 642.406982421875))</td><td>1400.42</td></tr><tr><td>Map(vectorType -> dense, length -> 4, values -> List(14.14, 14.15, 614.051025390625, 646.7210083007812))</td><td>1452.66</td></tr><tr><td>Map(vectorType -> dense, length -> 4, values -> List(14.14, 14.15, 617.0440063476562, 647.4920043945312))</td><td>1409.01</td></tr><tr><td>Map(vectorType -> dense, length -> 4, values -> List(14.13, 14.15, 632.114013671875, 652.9749755859375))</td><td>1361.05</td></tr><tr><td>Map(vectorType -> dense, length -> 4, values -> List(14.13, 14.15, 635.3489990234375, 658.1489868164062))</td><td>1485.75</td></tr><tr><td>Map(vectorType -> dense, length -> 4, values -> List(14.13, 14.15, 642.6510009765625, 662.0889892578125))</td><td>1612.36</td></tr><tr><td>Map(vectorType -> dense, length -> 4, values -> List(14.13, 14.15, 653.4959716796875, 672.156005859375))</td><td>1638.16</td></tr><tr><td>Map(vectorType -> dense, length -> 4, values -> List(14.13, 14.15, 655.6019897460938, 681.22998046875))</td><td>1767.11</td></tr><tr><td>Map(vectorType -> dense, length -> 4, values -> List(14.13, 14.15, 656.8939819335938, 683.7639770507812))</td><td>1816.05</td></tr><tr><td>Map(vectorType -> dense, length -> 4, values -> List(13.88, 13.9, 657.927001953125, 684.9550170898438))</td><td>1885.92</td></tr><tr><td>Map(vectorType -> dense, length -> 4, values -> List(13.88, 13.9, 657.7520141601562, 686.1179809570312))</td><td>1837.13</td></tr><tr><td>Map(vectorType -> dense, length -> 4, values -> List(12.88, 12.9, 665.5419921875, 690.614013671875))</td><td>1934.69</td></tr><tr><td>Map(vectorType -> dense, length -> 4, values -> List(12.13, 12.15, 666.197021484375, 696.781982421875))</td><td>2032.81</td></tr><tr><td>Map(vectorType -> dense, length -> 4, values -> List(11.13, 11.15, 652.7579956054688, 697.1170043945312))</td><td>2056.75</td></tr><tr><td>Map(vectorType -> dense, length -> 4, values -> List(10.14, 10.15, 648.4089965820312, 706.5960083007812))</td><td>2074.14</td></tr><tr><td>Map(vectorType -> dense, length -> 4, values -> List(9.14, 9.15, 643.7659912109375, 708.135009765625))</td><td>2066.19</td></tr><tr><td>Map(vectorType -> dense, length -> 4, values -> List(9.14, 9.15, 644.3829956054688, 710.9539794921875))</td><td>2084.0</td></tr><tr><td>Map(vectorType -> dense, length -> 4, values -> List(7.39, 7.4, 648.6719970703125, 713.35400390625))</td><td>2226.25</td></tr><tr><td>Map(vectorType -> dense, length -> 4, values -> List(7.39, 7.4, 652.072998046875, 715.3179931640625))</td><td>2213.08</td></tr><tr><td>Map(vectorType -> dense, length -> 4, values -> List(6.89, 6.9, 662.8259887695312, 718.302978515625))</td><td>2285.23</td></tr><tr><td>Map(vectorType -> dense, length -> 4, values -> List(6.64, 6.65, 663.3109741210938, 719.3319702148438))</td><td>2311.41</td></tr><tr><td>Map(vectorType -> dense, length -> 4, values -> List(6.39, 6.4, 671.3270263671875, 722.9829711914062))</td><td>2337.25</td></tr><tr><td>Map(vectorType -> dense, length -> 4, values -> List(6.39, 6.4, 696.7999877929688, 735.9869995117188))</td><td>2154.45</td></tr><tr><td>Map(vectorType -> dense, length -> 4, values -> List(6.39, 6.4, 701.677001953125, 738.1580200195312))</td><td>2139.4</td></tr><tr><td>Map(vectorType -> dense, length -> 4, values -> List(6.4, 6.4, 718.6840209960938, 741.8590087890625))</td><td>2242.45</td></tr><tr><td>Map(vectorType -> dense, length -> 4, values -> List(6.4, 6.4, 715.166015625, 743.7550048828125))</td><td>2300.48</td></tr><tr><td>Map(vectorType -> dense, length -> 4, values -> List(6.4, 6.4, 707.4409790039062, 744.698974609375))</td><td>2351.59</td></tr><tr><td>Map(vectorType -> dense, length -> 4, values -> List(6.4, 6.4, 707.4879760742188, 747.656005859375))</td><td>2409.69</td></tr><tr><td>Map(vectorType -> dense, length -> 4, values -> List(6.4, 6.4, 713.7470092773438, 749.1110229492188))</td><td>2434.56</td></tr><tr><td>Map(vectorType -> dense, length -> 4, values -> List(6.4, 6.4, 729.3460083007812, 754.2030029296875))</td><td>2508.45</td></tr><tr><td>Map(vectorType -> dense, length -> 4, values -> List(6.4, 6.4, 732.594970703125, 754.8590087890625))</td><td>2552.69</td></tr><tr><td>Map(vectorType -> dense, length -> 4, values -> List(6.4, 6.4, 741.3460083007812, 765.052978515625))</td><td>2659.55</td></tr><tr><td>Map(vectorType -> dense, length -> 4, values -> List(5.4, 5.4, 736.3619995117188, 772.3099975585938))</td><td>2684.26</td></tr><tr><td>Map(vectorType -> dense, length -> 4, values -> List(4.9, 4.9, 741.3330078125, 773.2730102539062))</td><td>2791.98</td></tr><tr><td>Map(vectorType -> dense, length -> 4, values -> List(4.4, 4.4, 759.1119995117188, 775.489990234375))</td><td>3197.58</td></tr><tr><td>Map(vectorType -> dense, length -> 4, values -> List(4.4, 4.4, 762.7329711914062, 777.469970703125))</td><td>3077.28</td></tr><tr><td>Map(vectorType -> dense, length -> 4, values -> List(3.65, 3.65, 771.9080200195312, 783.1500244140625))</td><td>2494.1</td></tr><tr><td>Map(vectorType -> dense, length -> 4, values -> List(3.65, 3.65, 778.1010131835938, 784.5230102539062))</td><td>2603.62</td></tr><tr><td>Map(vectorType -> dense, length -> 4, values -> List(2.15, 2.15, 792.4290161132812, 788.6160278320312))</td><td>2806.28</td></tr><tr><td>Map(vectorType -> dense, length -> 4, values -> List(2.15, 2.15, 810.0830078125, 795.2349853515625))</td><td>2733.12</td></tr><tr><td>Map(vectorType -> dense, length -> 4, values -> List(1.9, 1.9, 832.31298828125, 801.7769775390625))</td><td>2782.1</td></tr><tr><td>Map(vectorType -> dense, length -> 4, values -> List(1.9, 1.9, 868.4420166015625, 810.9650268554688))</td><td>2794.88</td></tr><tr><td>Map(vectorType -> dense, length -> 4, values -> List(1.9, 1.9, 925.8870239257812, 835.3049926757812))</td><td>2808.56</td></tr><tr><td>Map(vectorType -> dense, length -> 4, values -> List(1.9, 1.9, 934.7579956054688, 842.6829833984375))</td><td>2870.15</td></tr><tr><td>Map(vectorType -> dense, length -> 4, values -> List(2.65, 2.65, 1011.947998046875, 876.75))</td><td>2846.77</td></tr><tr><td>Map(vectorType -> dense, length -> 4, values -> List(2.65, 2.65, 1027.2110595703125, 885.093017578125))</td><td>2861.15</td></tr><tr><td>Map(vectorType -> dense, length -> 4, values -> List(3.4, 3.4, 1069.2889404296875, 901.031982421875))</td><td>2816.46</td></tr><tr><td>Map(vectorType -> dense, length -> 4, values -> List(4.15, 4.15, 1075.7330322265625, 921.7620239257812))</td><td>2754.89</td></tr><tr><td>Map(vectorType -> dense, length -> 4, values -> List(5.15, 5.15, 1091.2900390625, 938.4749755859375))</td><td>2749.84</td></tr><tr><td>Map(vectorType -> dense, length -> 4, values -> List(6.15, 6.15, 1084.31201171875, 943.7360229492188))</td><td>2715.67</td></tr><tr><td>Map(vectorType -> dense, length -> 4, values -> List(7.65, 7.65, 1091.4830322265625, 957.9840087890625))</td><td>2578.4</td></tr><tr><td>Map(vectorType -> dense, length -> 4, values -> List(9.15, 9.15, 1100.988037109375, 960.8939819335938))</td><td>2804.79</td></tr><tr><td>Map(vectorType -> dense, length -> 4, values -> List(9.15, 9.15, 1120.9990234375, 967.0029907226562))</td><td>2776.92</td></tr><tr><td>Map(vectorType -> dense, length -> 4, values -> List(11.65, 11.65, 1161.41796875, 978.7169799804688))</td><td>2779.97</td></tr><tr><td>Map(vectorType -> dense, length -> 4, values -> List(12.65, 12.65, 1183.9530029296875, 1001.9229736328125))</td><td>2820.45</td></tr><tr><td>Map(vectorType -> dense, length -> 4, values -> List(13.15, 13.15, 1190.8819580078125, 1030.10498046875))</td><td>2795.62</td></tr><tr><td>Map(vectorType -> dense, length -> 4, values -> List(13.65, 13.65, 1185.0040283203125, 1045.468994140625))</td><td>2976.23</td></tr><tr><td>Map(vectorType -> dense, length -> 4, values -> List(13.65, 13.65, 1173.79296875, 1046.5069580078125))</td><td>2990.8</td></tr><tr><td>Map(vectorType -> dense, length -> 4, values -> List(13.65, 13.65, 1162.3909912109375, 1046.9560546875))</td><td>2991.45</td></tr><tr><td>Map(vectorType -> dense, length -> 4, values -> List(13.65, 13.65, 1155.8289794921875, 1048.428955078125))</td><td>2867.21</td></tr><tr><td>Map(vectorType -> dense, length -> 4, values -> List(13.65, 13.65, 1163.4649658203125, 1054.56103515625))</td><td>2821.14</td></tr><tr><td>Map(vectorType -> dense, length -> 4, values -> List(13.65, 13.65, 1162.760986328125, 1056.7750244140625))</td><td>2808.39</td></tr><tr><td>Map(vectorType -> dense, length -> 4, values -> List(13.65, 13.65, 1163.3590087890625, 1058.6500244140625))</td><td>2760.96</td></tr><tr><td>Map(vectorType -> dense, length -> 4, values -> List(13.65, 13.65, 1131.0579833984375, 1065.2889404296875))</td><td>3013.46</td></tr><tr><td>Map(vectorType -> dense, length -> 4, values -> List(13.65, 13.65, 1109.22998046875, 1074.2919921875))</td><td>3155.32</td></tr><tr><td>Map(vectorType -> dense, length -> 4, values -> List(13.65, 13.65, 1101.2039794921875, 1074.89501953125))</td><td>3197.18</td></tr><tr><td>Map(vectorType -> dense, length -> 4, values -> List(13.15, 13.15, 1099.7099609375, 1077.4969482421875))</td><td>3212.81</td></tr><tr><td>Map(vectorType -> dense, length -> 4, values -> List(12.65, 12.65, 1109.2359619140625, 1082.2509765625))</td><td>3155.7</td></tr><tr><td>Map(vectorType -> dense, length -> 4, values -> List(12.15, 12.15, 1115.81494140625, 1083.3349609375))</td><td>3176.56</td></tr><tr><td>Map(vectorType -> dense, length -> 4, values -> List(11.65, 11.65, 1124.8790283203125, 1088.6629638671875))</td><td>3333.51</td></tr><tr><td>Map(vectorType -> dense, length -> 4, values -> List(11.15, 11.15, 1119.06103515625, 1090.8709716796875))</td><td>3360.0</td></tr></tbody></table></div>"
      ]
     },
     "metadata": {
      "application/vnd.databricks.v1+output": {
       "addedWidgets": {},
       "aggData": [],
       "aggError": "",
       "aggOverflow": false,
       "aggSchema": [],
       "aggSeriesLimitReached": false,
       "aggType": "",
       "arguments": {},
       "columnCustomDisplayInfos": {},
       "data": [
        [
         {
          "length": 4,
          "values": [
           10.27,
           10.4,
           540.958984375,
           569.7449951171875
          ],
          "vectorType": "dense"
         },
         1282.04
        ],
        [
         {
          "length": 4,
          "values": [
           10.59,
           10.65,
           543.0380249023438,
           572.2540283203125
          ],
          "vectorType": "dense"
         },
         1330.42
        ],
        [
         {
          "length": 4,
          "values": [
           10.55,
           10.65,
           552.0869750976562,
           573.5050048828125
          ],
          "vectorType": "dense"
         },
         1336.07
        ],
        [
         {
          "length": 4,
          "values": [
           10.8,
           10.9,
           556.4199829101562,
           577.322021484375
          ],
          "vectorType": "dense"
         },
         1350.76
        ],
        [
         {
          "length": 4,
          "values": [
           10.8,
           10.9,
           551.5540161132812,
           592.510009765625
          ],
          "vectorType": "dense"
         },
         1387.63
        ],
        [
         {
          "length": 4,
          "values": [
           10.8,
           10.9,
           548.2020263671875,
           597.2509765625
          ],
          "vectorType": "dense"
         },
         1409.42
        ],
        [
         {
          "length": 4,
          "values": [
           10.81,
           10.9,
           547.8389892578125,
           599.3330078125
          ],
          "vectorType": "dense"
         },
         1421.44
        ],
        [
         {
          "length": 4,
          "values": [
           11.06,
           11.15,
           549.39599609375,
           600.5490112304688
          ],
          "vectorType": "dense"
         },
         1402.46
        ],
        [
         {
          "length": 4,
          "values": [
           11.57,
           11.65,
           558.2130126953125,
           603.89501953125
          ],
          "vectorType": "dense"
         },
         1336.72
        ],
        [
         {
          "length": 4,
          "values": [
           12.6,
           12.65,
           569.5360107421875,
           613.3740234375
          ],
          "vectorType": "dense"
         },
         1347.63
        ],
        [
         {
          "length": 4,
          "values": [
           13.11,
           13.15,
           576.1749877929688,
           617.3599853515625
          ],
          "vectorType": "dense"
         },
         1397.06
        ],
        [
         {
          "length": 4,
          "values": [
           13.64,
           13.65,
           582.4010009765625,
           631.7470092773438
          ],
          "vectorType": "dense"
         },
         1460.46
        ],
        [
         {
          "length": 4,
          "values": [
           14.13,
           14.15,
           586.426025390625,
           635.9349975585938
          ],
          "vectorType": "dense"
         },
         1470.73
        ],
        [
         {
          "length": 4,
          "values": [
           14.13,
           14.15,
           588.0419921875,
           641.0189819335938
          ],
          "vectorType": "dense"
         },
         1458.12
        ],
        [
         {
          "length": 4,
          "values": [
           14.13,
           14.15,
           593.6060180664062,
           642.406982421875
          ],
          "vectorType": "dense"
         },
         1400.42
        ],
        [
         {
          "length": 4,
          "values": [
           14.14,
           14.15,
           614.051025390625,
           646.7210083007812
          ],
          "vectorType": "dense"
         },
         1452.66
        ],
        [
         {
          "length": 4,
          "values": [
           14.14,
           14.15,
           617.0440063476562,
           647.4920043945312
          ],
          "vectorType": "dense"
         },
         1409.01
        ],
        [
         {
          "length": 4,
          "values": [
           14.13,
           14.15,
           632.114013671875,
           652.9749755859375
          ],
          "vectorType": "dense"
         },
         1361.05
        ],
        [
         {
          "length": 4,
          "values": [
           14.13,
           14.15,
           635.3489990234375,
           658.1489868164062
          ],
          "vectorType": "dense"
         },
         1485.75
        ],
        [
         {
          "length": 4,
          "values": [
           14.13,
           14.15,
           642.6510009765625,
           662.0889892578125
          ],
          "vectorType": "dense"
         },
         1612.36
        ],
        [
         {
          "length": 4,
          "values": [
           14.13,
           14.15,
           653.4959716796875,
           672.156005859375
          ],
          "vectorType": "dense"
         },
         1638.16
        ],
        [
         {
          "length": 4,
          "values": [
           14.13,
           14.15,
           655.6019897460938,
           681.22998046875
          ],
          "vectorType": "dense"
         },
         1767.11
        ],
        [
         {
          "length": 4,
          "values": [
           14.13,
           14.15,
           656.8939819335938,
           683.7639770507812
          ],
          "vectorType": "dense"
         },
         1816.05
        ],
        [
         {
          "length": 4,
          "values": [
           13.88,
           13.9,
           657.927001953125,
           684.9550170898438
          ],
          "vectorType": "dense"
         },
         1885.92
        ],
        [
         {
          "length": 4,
          "values": [
           13.88,
           13.9,
           657.7520141601562,
           686.1179809570312
          ],
          "vectorType": "dense"
         },
         1837.13
        ],
        [
         {
          "length": 4,
          "values": [
           12.88,
           12.9,
           665.5419921875,
           690.614013671875
          ],
          "vectorType": "dense"
         },
         1934.69
        ],
        [
         {
          "length": 4,
          "values": [
           12.13,
           12.15,
           666.197021484375,
           696.781982421875
          ],
          "vectorType": "dense"
         },
         2032.81
        ],
        [
         {
          "length": 4,
          "values": [
           11.13,
           11.15,
           652.7579956054688,
           697.1170043945312
          ],
          "vectorType": "dense"
         },
         2056.75
        ],
        [
         {
          "length": 4,
          "values": [
           10.14,
           10.15,
           648.4089965820312,
           706.5960083007812
          ],
          "vectorType": "dense"
         },
         2074.14
        ],
        [
         {
          "length": 4,
          "values": [
           9.14,
           9.15,
           643.7659912109375,
           708.135009765625
          ],
          "vectorType": "dense"
         },
         2066.19
        ],
        [
         {
          "length": 4,
          "values": [
           9.14,
           9.15,
           644.3829956054688,
           710.9539794921875
          ],
          "vectorType": "dense"
         },
         2084.0
        ],
        [
         {
          "length": 4,
          "values": [
           7.39,
           7.4,
           648.6719970703125,
           713.35400390625
          ],
          "vectorType": "dense"
         },
         2226.25
        ],
        [
         {
          "length": 4,
          "values": [
           7.39,
           7.4,
           652.072998046875,
           715.3179931640625
          ],
          "vectorType": "dense"
         },
         2213.08
        ],
        [
         {
          "length": 4,
          "values": [
           6.89,
           6.9,
           662.8259887695312,
           718.302978515625
          ],
          "vectorType": "dense"
         },
         2285.23
        ],
        [
         {
          "length": 4,
          "values": [
           6.64,
           6.65,
           663.3109741210938,
           719.3319702148438
          ],
          "vectorType": "dense"
         },
         2311.41
        ],
        [
         {
          "length": 4,
          "values": [
           6.39,
           6.4,
           671.3270263671875,
           722.9829711914062
          ],
          "vectorType": "dense"
         },
         2337.25
        ],
        [
         {
          "length": 4,
          "values": [
           6.39,
           6.4,
           696.7999877929688,
           735.9869995117188
          ],
          "vectorType": "dense"
         },
         2154.45
        ],
        [
         {
          "length": 4,
          "values": [
           6.39,
           6.4,
           701.677001953125,
           738.1580200195312
          ],
          "vectorType": "dense"
         },
         2139.4
        ],
        [
         {
          "length": 4,
          "values": [
           6.4,
           6.4,
           718.6840209960938,
           741.8590087890625
          ],
          "vectorType": "dense"
         },
         2242.45
        ],
        [
         {
          "length": 4,
          "values": [
           6.4,
           6.4,
           715.166015625,
           743.7550048828125
          ],
          "vectorType": "dense"
         },
         2300.48
        ],
        [
         {
          "length": 4,
          "values": [
           6.4,
           6.4,
           707.4409790039062,
           744.698974609375
          ],
          "vectorType": "dense"
         },
         2351.59
        ],
        [
         {
          "length": 4,
          "values": [
           6.4,
           6.4,
           707.4879760742188,
           747.656005859375
          ],
          "vectorType": "dense"
         },
         2409.69
        ],
        [
         {
          "length": 4,
          "values": [
           6.4,
           6.4,
           713.7470092773438,
           749.1110229492188
          ],
          "vectorType": "dense"
         },
         2434.56
        ],
        [
         {
          "length": 4,
          "values": [
           6.4,
           6.4,
           729.3460083007812,
           754.2030029296875
          ],
          "vectorType": "dense"
         },
         2508.45
        ],
        [
         {
          "length": 4,
          "values": [
           6.4,
           6.4,
           732.594970703125,
           754.8590087890625
          ],
          "vectorType": "dense"
         },
         2552.69
        ],
        [
         {
          "length": 4,
          "values": [
           6.4,
           6.4,
           741.3460083007812,
           765.052978515625
          ],
          "vectorType": "dense"
         },
         2659.55
        ],
        [
         {
          "length": 4,
          "values": [
           5.4,
           5.4,
           736.3619995117188,
           772.3099975585938
          ],
          "vectorType": "dense"
         },
         2684.26
        ],
        [
         {
          "length": 4,
          "values": [
           4.9,
           4.9,
           741.3330078125,
           773.2730102539062
          ],
          "vectorType": "dense"
         },
         2791.98
        ],
        [
         {
          "length": 4,
          "values": [
           4.4,
           4.4,
           759.1119995117188,
           775.489990234375
          ],
          "vectorType": "dense"
         },
         3197.58
        ],
        [
         {
          "length": 4,
          "values": [
           4.4,
           4.4,
           762.7329711914062,
           777.469970703125
          ],
          "vectorType": "dense"
         },
         3077.28
        ],
        [
         {
          "length": 4,
          "values": [
           3.65,
           3.65,
           771.9080200195312,
           783.1500244140625
          ],
          "vectorType": "dense"
         },
         2494.1
        ],
        [
         {
          "length": 4,
          "values": [
           3.65,
           3.65,
           778.1010131835938,
           784.5230102539062
          ],
          "vectorType": "dense"
         },
         2603.62
        ],
        [
         {
          "length": 4,
          "values": [
           2.15,
           2.15,
           792.4290161132812,
           788.6160278320312
          ],
          "vectorType": "dense"
         },
         2806.28
        ],
        [
         {
          "length": 4,
          "values": [
           2.15,
           2.15,
           810.0830078125,
           795.2349853515625
          ],
          "vectorType": "dense"
         },
         2733.12
        ],
        [
         {
          "length": 4,
          "values": [
           1.9,
           1.9,
           832.31298828125,
           801.7769775390625
          ],
          "vectorType": "dense"
         },
         2782.1
        ],
        [
         {
          "length": 4,
          "values": [
           1.9,
           1.9,
           868.4420166015625,
           810.9650268554688
          ],
          "vectorType": "dense"
         },
         2794.88
        ],
        [
         {
          "length": 4,
          "values": [
           1.9,
           1.9,
           925.8870239257812,
           835.3049926757812
          ],
          "vectorType": "dense"
         },
         2808.56
        ],
        [
         {
          "length": 4,
          "values": [
           1.9,
           1.9,
           934.7579956054688,
           842.6829833984375
          ],
          "vectorType": "dense"
         },
         2870.15
        ],
        [
         {
          "length": 4,
          "values": [
           2.65,
           2.65,
           1011.947998046875,
           876.75
          ],
          "vectorType": "dense"
         },
         2846.77
        ],
        [
         {
          "length": 4,
          "values": [
           2.65,
           2.65,
           1027.2110595703125,
           885.093017578125
          ],
          "vectorType": "dense"
         },
         2861.15
        ],
        [
         {
          "length": 4,
          "values": [
           3.4,
           3.4,
           1069.2889404296875,
           901.031982421875
          ],
          "vectorType": "dense"
         },
         2816.46
        ],
        [
         {
          "length": 4,
          "values": [
           4.15,
           4.15,
           1075.7330322265625,
           921.7620239257812
          ],
          "vectorType": "dense"
         },
         2754.89
        ],
        [
         {
          "length": 4,
          "values": [
           5.15,
           5.15,
           1091.2900390625,
           938.4749755859375
          ],
          "vectorType": "dense"
         },
         2749.84
        ],
        [
         {
          "length": 4,
          "values": [
           6.15,
           6.15,
           1084.31201171875,
           943.7360229492188
          ],
          "vectorType": "dense"
         },
         2715.67
        ],
        [
         {
          "length": 4,
          "values": [
           7.65,
           7.65,
           1091.4830322265625,
           957.9840087890625
          ],
          "vectorType": "dense"
         },
         2578.4
        ],
        [
         {
          "length": 4,
          "values": [
           9.15,
           9.15,
           1100.988037109375,
           960.8939819335938
          ],
          "vectorType": "dense"
         },
         2804.79
        ],
        [
         {
          "length": 4,
          "values": [
           9.15,
           9.15,
           1120.9990234375,
           967.0029907226562
          ],
          "vectorType": "dense"
         },
         2776.92
        ],
        [
         {
          "length": 4,
          "values": [
           11.65,
           11.65,
           1161.41796875,
           978.7169799804688
          ],
          "vectorType": "dense"
         },
         2779.97
        ],
        [
         {
          "length": 4,
          "values": [
           12.65,
           12.65,
           1183.9530029296875,
           1001.9229736328125
          ],
          "vectorType": "dense"
         },
         2820.45
        ],
        [
         {
          "length": 4,
          "values": [
           13.15,
           13.15,
           1190.8819580078125,
           1030.10498046875
          ],
          "vectorType": "dense"
         },
         2795.62
        ],
        [
         {
          "length": 4,
          "values": [
           13.65,
           13.65,
           1185.0040283203125,
           1045.468994140625
          ],
          "vectorType": "dense"
         },
         2976.23
        ],
        [
         {
          "length": 4,
          "values": [
           13.65,
           13.65,
           1173.79296875,
           1046.5069580078125
          ],
          "vectorType": "dense"
         },
         2990.8
        ],
        [
         {
          "length": 4,
          "values": [
           13.65,
           13.65,
           1162.3909912109375,
           1046.9560546875
          ],
          "vectorType": "dense"
         },
         2991.45
        ],
        [
         {
          "length": 4,
          "values": [
           13.65,
           13.65,
           1155.8289794921875,
           1048.428955078125
          ],
          "vectorType": "dense"
         },
         2867.21
        ],
        [
         {
          "length": 4,
          "values": [
           13.65,
           13.65,
           1163.4649658203125,
           1054.56103515625
          ],
          "vectorType": "dense"
         },
         2821.14
        ],
        [
         {
          "length": 4,
          "values": [
           13.65,
           13.65,
           1162.760986328125,
           1056.7750244140625
          ],
          "vectorType": "dense"
         },
         2808.39
        ],
        [
         {
          "length": 4,
          "values": [
           13.65,
           13.65,
           1163.3590087890625,
           1058.6500244140625
          ],
          "vectorType": "dense"
         },
         2760.96
        ],
        [
         {
          "length": 4,
          "values": [
           13.65,
           13.65,
           1131.0579833984375,
           1065.2889404296875
          ],
          "vectorType": "dense"
         },
         3013.46
        ],
        [
         {
          "length": 4,
          "values": [
           13.65,
           13.65,
           1109.22998046875,
           1074.2919921875
          ],
          "vectorType": "dense"
         },
         3155.32
        ],
        [
         {
          "length": 4,
          "values": [
           13.65,
           13.65,
           1101.2039794921875,
           1074.89501953125
          ],
          "vectorType": "dense"
         },
         3197.18
        ],
        [
         {
          "length": 4,
          "values": [
           13.15,
           13.15,
           1099.7099609375,
           1077.4969482421875
          ],
          "vectorType": "dense"
         },
         3212.81
        ],
        [
         {
          "length": 4,
          "values": [
           12.65,
           12.65,
           1109.2359619140625,
           1082.2509765625
          ],
          "vectorType": "dense"
         },
         3155.7
        ],
        [
         {
          "length": 4,
          "values": [
           12.15,
           12.15,
           1115.81494140625,
           1083.3349609375
          ],
          "vectorType": "dense"
         },
         3176.56
        ],
        [
         {
          "length": 4,
          "values": [
           11.65,
           11.65,
           1124.8790283203125,
           1088.6629638671875
          ],
          "vectorType": "dense"
         },
         3333.51
        ],
        [
         {
          "length": 4,
          "values": [
           11.15,
           11.15,
           1119.06103515625,
           1090.8709716796875
          ],
          "vectorType": "dense"
         },
         3360.0
        ]
       ],
       "datasetInfos": [],
       "dbfsResultPath": null,
       "isJsonSchema": true,
       "metadata": {},
       "overflow": false,
       "plotOptions": {
        "customPlotOptions": {},
        "displayType": "table",
        "pivotAggregation": null,
        "pivotColumns": null,
        "xColumns": null,
        "yColumns": null
       },
       "removedWidgets": [],
       "schema": [
        {
         "metadata": "{\"ml_attr\":{\"attrs\":{\"numeric\":[{\"idx\":0,\"name\":\"CDI\"},{\"idx\":1,\"name\":\"SELIC\"},{\"idx\":2,\"name\":\"IGP-M\"},{\"idx\":3,\"name\":\"INCC\"}]},\"num_attrs\":4}}",
         "name": "features",
         "type": "{\"type\":\"udt\",\"class\":\"org.apache.spark.ml.linalg.VectorUDT\",\"pyClass\":\"pyspark.ml.linalg.VectorUDT\",\"sqlType\":{\"type\":\"struct\",\"fields\":[{\"name\":\"type\",\"type\":\"byte\",\"nullable\":false,\"metadata\":{}},{\"name\":\"size\",\"type\":\"integer\",\"nullable\":true,\"metadata\":{}},{\"name\":\"indices\",\"type\":{\"type\":\"array\",\"elementType\":\"integer\",\"containsNull\":false},\"nullable\":true,\"metadata\":{}},{\"name\":\"values\",\"type\":{\"type\":\"array\",\"elementType\":\"double\",\"containsNull\":false},\"nullable\":true,\"metadata\":{}}]}}"
        },
        {
         "metadata": "{}",
         "name": "IFIX",
         "type": "\"double\""
        }
       ],
       "type": "table"
      }
     },
     "output_type": "display_data"
    }
   ],
   "source": [
    "indicesRegression = indicesRegression.select(['features','IFIX'])\n",
    "display(indicesRegression)"
   ]
  },
  {
   "cell_type": "code",
   "execution_count": 0,
   "metadata": {
    "application/vnd.databricks.v1+cell": {
     "cellMetadata": {
      "byteLimit": 2048000,
      "rowLimit": 10000
     },
     "inputWidgets": {},
     "nuid": "97256668-a9b7-4dc5-bba8-7bf0bd9126f7",
     "showTitle": false,
     "title": ""
    }
   },
   "outputs": [],
   "source": [
    "train, test = indicesRegression.randomSplit([0.7, 0.3], seed=123)"
   ]
  },
  {
   "cell_type": "code",
   "execution_count": 0,
   "metadata": {
    "application/vnd.databricks.v1+cell": {
     "cellMetadata": {
      "byteLimit": 2048000,
      "rowLimit": 10000
     },
     "inputWidgets": {},
     "nuid": "3a8cda8e-5b6c-4fe6-82e0-2abc99ede06b",
     "showTitle": false,
     "title": ""
    }
   },
   "outputs": [
    {
     "output_type": "stream",
     "name": "stdout",
     "output_type": "stream",
     "text": [
      "root\n |-- Data: date (nullable = true)\n |-- IFIX: double (nullable = true)\n |-- CDI: double (nullable = true)\n |-- SELIC: double (nullable = true)\n |-- INCC: float (nullable = true)\n |-- IGP-M: float (nullable = true)\n |-- features: vector (nullable = true)\n\n"
     ]
    }
   ],
   "source": [
    "from pyspark.ml.feature import VectorAssembler  #importando a biblioteca responsável por criar o vetor a partir da coluna\n",
    "\n",
    "assembler = VectorAssembler(inputCols=['CDI', 'SELIC'], outputCol='features')  #define o objeto para transformação\n",
    "indicesRegression = assembler.transform(indicesFinal) #aplica a transformação\n",
    "indicesRegression.printSchema()"
   ]
  },
  {
   "cell_type": "code",
   "execution_count": 0,
   "metadata": {
    "application/vnd.databricks.v1+cell": {
     "cellMetadata": {
      "byteLimit": 2048000,
      "rowLimit": 10000
     },
     "inputWidgets": {},
     "nuid": "dafad427-7901-4186-a1f8-e99794f36825",
     "showTitle": false,
     "title": ""
    }
   },
   "outputs": [
    {
     "output_type": "stream",
     "name": "stdout",
     "output_type": "stream",
     "text": [
      "+--------------------+-------+\n|            features|   IFIX|\n+--------------------+-------+\n|[1.9,1.9,832.3129...| 2782.1|\n|[1.9,1.9,868.4420...|2794.88|\n|[1.9,1.9,934.7579...|2870.15|\n|[2.15,2.15,792.42...|2806.28|\n|[2.15,2.15,810.08...|2733.12|\n+--------------------+-------+\nonly showing top 5 rows\n\n"
     ]
    }
   ],
   "source": [
    "train.show(5)"
   ]
  },
  {
   "cell_type": "code",
   "execution_count": 0,
   "metadata": {
    "application/vnd.databricks.v1+cell": {
     "cellMetadata": {
      "byteLimit": 2048000,
      "rowLimit": 10000
     },
     "inputWidgets": {},
     "nuid": "85818f2d-274b-496b-a27b-9052b8d912b1",
     "showTitle": false,
     "title": ""
    }
   },
   "outputs": [],
   "source": [
    "from pyspark.ml.regression import LinearRegression  #biblioteca que contém o modelo de regressão\n",
    "\n",
    "lr = LinearRegression(maxIter=10, labelCol='IFIX') # define o objeto a ser utilizado para regressão\n",
    "lrModel = lr.fit(train)"
   ]
  },
  {
   "cell_type": "code",
   "execution_count": 0,
   "metadata": {
    "application/vnd.databricks.v1+cell": {
     "cellMetadata": {
      "byteLimit": 2048000,
      "rowLimit": 10000
     },
     "inputWidgets": {},
     "nuid": "e7865fcd-846f-45f6-8f20-6fc886fcf940",
     "showTitle": false,
     "title": ""
    }
   },
   "outputs": [
    {
     "output_type": "stream",
     "name": "stdout",
     "output_type": "stream",
     "text": [
      "Intercepto: -199.3859719802086\nCoeficiente Angular: [ 1.82857430e+03 -1.88466487e+03 -1.65588574e+00  5.53768299e+00]\n"
     ]
    }
   ],
   "source": [
    "#Coeficientes angulares e lineares (a e b) da reta de regressão\n",
    "print(f'Intercepto: {lrModel.intercept}\\nCoeficiente Angular: {lrModel.coefficients.values}')"
   ]
  },
  {
   "cell_type": "code",
   "execution_count": 0,
   "metadata": {
    "application/vnd.databricks.v1+cell": {
     "cellMetadata": {
      "byteLimit": 2048000,
      "rowLimit": 10000
     },
     "inputWidgets": {},
     "nuid": "ef92b51e-9da1-4f9a-beae-0aeebbac7494",
     "showTitle": false,
     "title": ""
    }
   },
   "outputs": [
    {
     "output_type": "stream",
     "name": "stdout",
     "output_type": "stream",
     "text": [
      "Variância Explicada: 395461.63281228987\nR_2:  0.9715550907042869\nErro médio quadrático:  11578.211449745791\n+-----------------+\n|        residuals|\n+-----------------+\n|26.28653699805045|\n|48.01157548721039|\n|57.44927120809734|\n|71.32704618709658|\n|-9.25364912225723|\n+-----------------+\nonly showing top 5 rows\n\n"
     ]
    }
   ],
   "source": [
    "#print das estatísticas do modelo\n",
    "modelsummary = lrModel.summary\n",
    "\n",
    "print(\"Variância Explicada:\", modelsummary.explainedVariance)\n",
    "print('R_2: ', modelsummary.r2)\n",
    "print('Erro médio quadrático: ',modelsummary.meanSquaredError)\n",
    "\n",
    "modelsummary.residuals.show(5)\n"
   ]
  },
  {
   "cell_type": "code",
   "execution_count": 0,
   "metadata": {
    "application/vnd.databricks.v1+cell": {
     "cellMetadata": {
      "byteLimit": 2048000,
      "rowLimit": 10000
     },
     "inputWidgets": {},
     "nuid": "88a29c43-fd61-4f9f-8773-faf43474e479",
     "showTitle": false,
     "title": ""
    }
   },
   "outputs": [
    {
     "output_type": "stream",
     "name": "stdout",
     "output_type": "stream",
     "text": [
      "+--------------------+-------+------------------+\n|            features|   IFIX|        prediction|\n+--------------------+-------+------------------+\n|[1.9,1.9,832.3129...| 2782.1|2755.8134630019495|\n|[1.9,1.9,868.4420...|2794.88|2746.8684245127897|\n|[1.9,1.9,934.7579...|2870.15|2812.7007287919027|\n|[2.15,2.15,792.42...|2806.28|2734.9529538129036|\n|[2.15,2.15,810.08...|2733.12| 2742.373649122257|\n+--------------------+-------+------------------+\nonly showing top 5 rows\n\n"
     ]
    }
   ],
   "source": [
    "modelsummary.predictions.show(5)"
   ]
  },
  {
   "cell_type": "code",
   "execution_count": 0,
   "metadata": {
    "application/vnd.databricks.v1+cell": {
     "cellMetadata": {
      "byteLimit": 2048000,
      "rowLimit": 10000
     },
     "inputWidgets": {},
     "nuid": "795300e7-fcf8-46bc-8c60-0ca4d716c02c",
     "showTitle": false,
     "title": ""
    }
   },
   "outputs": [
    {
     "output_type": "display_data",
     "data": {
      "text/html": [
       "<style scoped>\n",
       "  .table-result-container {\n",
       "    max-height: 300px;\n",
       "    overflow: auto;\n",
       "  }\n",
       "  table, th, td {\n",
       "    border: 1px solid black;\n",
       "    border-collapse: collapse;\n",
       "  }\n",
       "  th, td {\n",
       "    padding: 5px;\n",
       "  }\n",
       "  th {\n",
       "    text-align: left;\n",
       "  }\n",
       "</style><div class='table-result-container'><table class='table-result'><thead style='background-color: white'><tr><th>features</th><th>IFIX</th><th>prediction</th></tr></thead><tbody><tr><td>Map(vectorType -> dense, length -> 4, values -> List(1.9, 1.9, 832.31298828125, 801.7769775390625))</td><td>2782.1</td><td>2755.8134630019495</td></tr><tr><td>Map(vectorType -> dense, length -> 4, values -> List(1.9, 1.9, 868.4420166015625, 810.9650268554688))</td><td>2794.88</td><td>2746.8684245127897</td></tr><tr><td>Map(vectorType -> dense, length -> 4, values -> List(1.9, 1.9, 934.7579956054688, 842.6829833984375))</td><td>2870.15</td><td>2812.7007287919027</td></tr><tr><td>Map(vectorType -> dense, length -> 4, values -> List(2.15, 2.15, 792.4290161132812, 788.6160278320312))</td><td>2806.28</td><td>2734.9529538129036</td></tr><tr><td>Map(vectorType -> dense, length -> 4, values -> List(2.15, 2.15, 810.0830078125, 795.2349853515625))</td><td>2733.12</td><td>2742.373649122257</td></tr><tr><td>Map(vectorType -> dense, length -> 4, values -> List(2.65, 2.65, 1027.2110595703125, 885.093017578125))</td><td>2861.15</td><td>2852.3944149502286</td></tr><tr><td>Map(vectorType -> dense, length -> 4, values -> List(3.4, 3.4, 1069.2889404296875, 901.031982421875))</td><td>2816.46</td><td>2828.9152582087345</td></tr><tr><td>Map(vectorType -> dense, length -> 4, values -> List(3.65, 3.65, 778.1010131835938, 784.5230102539062))</td><td>2603.62</td><td>2651.876799301356</td></tr><tr><td>Map(vectorType -> dense, length -> 4, values -> List(4.15, 4.15, 1075.7330322265625, 921.7620239257812))</td><td>2754.89</td><td>2890.9730484763695</td></tr><tr><td>Map(vectorType -> dense, length -> 4, values -> List(4.9, 4.9, 741.3330078125, 773.2730102539062))</td><td>2791.98</td><td>2580.3482678287533</td></tr><tr><td>Map(vectorType -> dense, length -> 4, values -> List(5.15, 5.15, 1091.2900390625, 938.4749755859375))</td><td>2749.84</td><td>2901.6728798083223</td></tr><tr><td>Map(vectorType -> dense, length -> 4, values -> List(5.4, 5.4, 736.3619995117188, 772.3099975585938))</td><td>2684.26</td><td>2555.201545091253</td></tr><tr><td>Map(vectorType -> dense, length -> 4, values -> List(6.15, 6.15, 1084.31201171875, 943.7360229492188))</td><td>2715.67</td><td>2886.27113732147</td></tr><tr><td>Map(vectorType -> dense, length -> 4, values -> List(6.39, 6.4, 696.7999877929688, 735.9869995117188))</td><td>2154.45</td><td>2345.1901537958297</td></tr><tr><td>Map(vectorType -> dense, length -> 4, values -> List(6.39, 6.4, 701.677001953125, 738.1580200195312))</td><td>2139.4</td><td>2349.136798917959</td></tr><tr><td>Map(vectorType -> dense, length -> 4, values -> List(6.4, 6.4, 707.4409790039062, 744.698974609375))</td><td>2351.59</td><td>2394.0997875040684</td></tr><tr><td>Map(vectorType -> dense, length -> 4, values -> List(6.4, 6.4, 707.4879760742188, 747.656005859375))</td><td>2409.69</td><td>2410.397067381704</td></tr><tr><td>Map(vectorType -> dense, length -> 4, values -> List(6.4, 6.4, 715.166015625, 743.7550048828125))</td><td>2300.48</td><td>2376.0806043998</td></tr><tr><td>Map(vectorType -> dense, length -> 4, values -> List(6.4, 6.4, 718.6840209960938, 741.8590087890625))</td><td>2242.45</td><td>2359.755764142766</td></tr><tr><td>Map(vectorType -> dense, length -> 4, values -> List(6.4, 6.4, 729.3460083007812, 754.2030029296875))</td><td>2508.45</td><td>2410.4578577628345</td></tr><tr><td>Map(vectorType -> dense, length -> 4, values -> List(6.4, 6.4, 732.594970703125, 754.8590087890625))</td><td>2552.69</td><td>2408.710699730291</td></tr><tr><td>Map(vectorType -> dense, length -> 4, values -> List(6.4, 6.4, 741.3460083007812, 765.052978515625))</td><td>2659.55</td><td>2450.670954098464</td></tr><tr><td>Map(vectorType -> dense, length -> 4, values -> List(7.39, 7.4, 648.6719970703125, 713.35400390625))</td><td>2226.25</td><td>2243.4596817043684</td></tr><tr><td>Map(vectorType -> dense, length -> 4, values -> List(7.39, 7.4, 652.072998046875, 715.3179931640625))</td><td>2213.08</td><td>2248.703962582129</td></tr><tr><td>Map(vectorType -> dense, length -> 4, values -> List(9.15, 9.15, 1100.988037109375, 960.8939819335938))</td><td>2804.79</td><td>2785.4011693174643</td></tr><tr><td>Map(vectorType -> dense, length -> 4, values -> List(9.15, 9.15, 1120.9990234375, 967.0029907226562))</td><td>2776.92</td><td>2786.0950164133983</td></tr><tr><td>Map(vectorType -> dense, length -> 4, values -> List(10.27, 10.4, 540.958984375, 569.7449951171875))</td><td>1282.04</td><td>1238.858329156654</td></tr><tr><td>Map(vectorType -> dense, length -> 4, values -> List(10.59, 10.65, 543.0380249023438, 572.2540283203125))</td><td>1330.42</td><td>1363.2874645621546</td></tr><tr><td>Map(vectorType -> dense, length -> 4, values -> List(10.8, 10.9, 548.2020263671875, 597.2509765625))</td><td>1409.42</td><td>1405.9960283878368</td></tr><tr><td>Map(vectorType -> dense, length -> 4, values -> List(10.8, 10.9, 551.5540161132812, 592.510009765625))</td><td>1387.63</td><td>1374.1915451654033</td></tr><tr><td>Map(vectorType -> dense, length -> 4, values -> List(10.8, 10.9, 556.4199829101562, 577.322021484375))</td><td>1350.76</td><td>1282.027795750876</td></tr><tr><td>Map(vectorType -> dense, length -> 4, values -> List(10.81, 10.9, 547.8389892578125, 599.3330078125))</td><td>1421.44</td><td>1436.412548433167</td></tr><tr><td>Map(vectorType -> dense, length -> 4, values -> List(11.15, 11.15, 1119.06103515625, 1090.8709716796875))</td><td>3360.0</td><td>3363.064572871634</td></tr><tr><td>Map(vectorType -> dense, length -> 4, values -> List(11.57, 11.65, 558.2130126953125, 603.89501953125))</td><td>1336.72</td><td>1420.7151404224019</td></tr><tr><td>Map(vectorType -> dense, length -> 4, values -> List(11.65, 11.65, 1124.8790283203125, 1088.6629638671875))</td><td>3333.51</td><td>3313.1581081423365</td></tr><tr><td>Map(vectorType -> dense, length -> 4, values -> List(11.65, 11.65, 1161.41796875, 978.7169799804688))</td><td>2779.97</td><td>2643.807792743236</td></tr><tr><td>Map(vectorType -> dense, length -> 4, values -> List(12.13, 12.15, 666.197021484375, 696.781982421875))</td><td>2032.81</td><td>1837.9536869573512</td></tr><tr><td>Map(vectorType -> dense, length -> 4, values -> List(12.15, 12.15, 1115.81494140625, 1083.3349609375))</td><td>3176.56</td><td>3270.6171237500657</td></tr><tr><td>Map(vectorType -> dense, length -> 4, values -> List(12.6, 12.65, 569.5360107421875, 613.3740234375))</td><td>1347.63</td><td>1453.2239262081735</td></tr><tr><td>Map(vectorType -> dense, length -> 4, values -> List(12.65, 12.65, 1183.9530029296875, 1001.9229736328125))</td><td>2820.45</td><td>2678.909216280388</td></tr><tr><td>Map(vectorType -> dense, length -> 4, values -> List(12.88, 12.9, 665.5419921875, 690.614013671875))</td><td>1934.69</td><td>1762.8141567636385</td></tr><tr><td>Map(vectorType -> dense, length -> 4, values -> List(13.15, 13.15, 1099.7099609375, 1077.4969482421875))</td><td>3212.81</td><td>3208.865496720563</td></tr><tr><td>Map(vectorType -> dense, length -> 4, values -> List(13.65, 13.65, 1101.2039794921875, 1074.89501953125))</td><td>3197.18</td><td>3163.937630841392</td></tr><tr><td>Map(vectorType -> dense, length -> 4, values -> List(13.65, 13.65, 1109.22998046875, 1074.2919921875))</td><td>3155.32</td><td>3147.308115985865</td></tr><tr><td>Map(vectorType -> dense, length -> 4, values -> List(13.65, 13.65, 1155.8289794921875, 1048.428955078125))</td><td>2867.21</td><td>2926.9241971704423</td></tr><tr><td>Map(vectorType -> dense, length -> 4, values -> List(13.65, 13.65, 1162.3909912109375, 1046.9560546875))</td><td>2991.45</td><td>2907.9018000791357</td></tr><tr><td>Map(vectorType -> dense, length -> 4, values -> List(13.65, 13.65, 1163.3590087890625, 1058.6500244140625))</td><td>2760.96</td><td>2971.056370821959</td></tr><tr><td>Map(vectorType -> dense, length -> 4, values -> List(13.65, 13.65, 1163.4649658203125, 1054.56103515625))</td><td>2821.14</td><td>2948.237391822057</td></tr><tr><td>Map(vectorType -> dense, length -> 4, values -> List(13.65, 13.65, 1173.79296875, 1046.5069580078125))</td><td>2990.8</td><td>2886.5344729849166</td></tr><tr><td>Map(vectorType -> dense, length -> 4, values -> List(13.65, 13.65, 1185.0040283203125, 1045.468994140625))</td><td>2976.23</td><td>2862.222324425202</td></tr><tr><td>Map(vectorType -> dense, length -> 4, values -> List(13.88, 13.9, 657.7520141601562, 686.1179809570312))</td><td>1837.13</td><td>1694.7252954495175</td></tr><tr><td>Map(vectorType -> dense, length -> 4, values -> List(14.13, 14.15, 586.426025390625, 635.9349975585938))</td><td>1470.73</td><td>1520.9128870277787</td></tr><tr><td>Map(vectorType -> dense, length -> 4, values -> List(14.13, 14.15, 588.0419921875, 641.0189819335938))</td><td>1458.12</td><td>1546.390524446371</td></tr><tr><td>Map(vectorType -> dense, length -> 4, values -> List(14.13, 14.15, 593.6060180664062, 642.406982421875))</td><td>1400.42</td><td>1544.863440014491</td></tr><tr><td>Map(vectorType -> dense, length -> 4, values -> List(14.13, 14.15, 635.3489990234375, 658.1489868164062))</td><td>1485.75</td><td>1562.916062950317</td></tr><tr><td>Map(vectorType -> dense, length -> 4, values -> List(14.13, 14.15, 655.6019897460938, 681.22998046875))</td><td>1767.11</td><td>1657.194650316772</td></tr><tr><td>Map(vectorType -> dense, length -> 4, values -> List(14.13, 14.15, 656.8939819335938, 683.7639770507812))</td><td>1816.05</td><td>1669.087728644327</td></tr><tr><td>Map(vectorType -> dense, length -> 4, values -> List(14.14, 14.15, 614.051025390625, 646.7210083007812))</td><td>1452.66</td><td>1553.1842946327888</td></tr><tr><td>Map(vectorType -> dense, length -> 4, values -> List(14.14, 14.15, 617.0440063476562, 647.4920043945312))</td><td>1409.01</td><td>1552.497792091037</td></tr></tbody></table></div>"
      ]
     },
     "metadata": {
      "application/vnd.databricks.v1+output": {
       "addedWidgets": {},
       "aggData": [],
       "aggError": "",
       "aggOverflow": false,
       "aggSchema": [],
       "aggSeriesLimitReached": false,
       "aggType": "",
       "arguments": {},
       "columnCustomDisplayInfos": {},
       "data": [
        [
         {
          "length": 4,
          "values": [
           1.9,
           1.9,
           832.31298828125,
           801.7769775390625
          ],
          "vectorType": "dense"
         },
         2782.1,
         2755.8134630019495
        ],
        [
         {
          "length": 4,
          "values": [
           1.9,
           1.9,
           868.4420166015625,
           810.9650268554688
          ],
          "vectorType": "dense"
         },
         2794.88,
         2746.8684245127897
        ],
        [
         {
          "length": 4,
          "values": [
           1.9,
           1.9,
           934.7579956054688,
           842.6829833984375
          ],
          "vectorType": "dense"
         },
         2870.15,
         2812.7007287919027
        ],
        [
         {
          "length": 4,
          "values": [
           2.15,
           2.15,
           792.4290161132812,
           788.6160278320312
          ],
          "vectorType": "dense"
         },
         2806.28,
         2734.9529538129036
        ],
        [
         {
          "length": 4,
          "values": [
           2.15,
           2.15,
           810.0830078125,
           795.2349853515625
          ],
          "vectorType": "dense"
         },
         2733.12,
         2742.373649122257
        ],
        [
         {
          "length": 4,
          "values": [
           2.65,
           2.65,
           1027.2110595703125,
           885.093017578125
          ],
          "vectorType": "dense"
         },
         2861.15,
         2852.3944149502286
        ],
        [
         {
          "length": 4,
          "values": [
           3.4,
           3.4,
           1069.2889404296875,
           901.031982421875
          ],
          "vectorType": "dense"
         },
         2816.46,
         2828.9152582087345
        ],
        [
         {
          "length": 4,
          "values": [
           3.65,
           3.65,
           778.1010131835938,
           784.5230102539062
          ],
          "vectorType": "dense"
         },
         2603.62,
         2651.876799301356
        ],
        [
         {
          "length": 4,
          "values": [
           4.15,
           4.15,
           1075.7330322265625,
           921.7620239257812
          ],
          "vectorType": "dense"
         },
         2754.89,
         2890.9730484763695
        ],
        [
         {
          "length": 4,
          "values": [
           4.9,
           4.9,
           741.3330078125,
           773.2730102539062
          ],
          "vectorType": "dense"
         },
         2791.98,
         2580.3482678287533
        ],
        [
         {
          "length": 4,
          "values": [
           5.15,
           5.15,
           1091.2900390625,
           938.4749755859375
          ],
          "vectorType": "dense"
         },
         2749.84,
         2901.6728798083223
        ],
        [
         {
          "length": 4,
          "values": [
           5.4,
           5.4,
           736.3619995117188,
           772.3099975585938
          ],
          "vectorType": "dense"
         },
         2684.26,
         2555.201545091253
        ],
        [
         {
          "length": 4,
          "values": [
           6.15,
           6.15,
           1084.31201171875,
           943.7360229492188
          ],
          "vectorType": "dense"
         },
         2715.67,
         2886.27113732147
        ],
        [
         {
          "length": 4,
          "values": [
           6.39,
           6.4,
           696.7999877929688,
           735.9869995117188
          ],
          "vectorType": "dense"
         },
         2154.45,
         2345.1901537958297
        ],
        [
         {
          "length": 4,
          "values": [
           6.39,
           6.4,
           701.677001953125,
           738.1580200195312
          ],
          "vectorType": "dense"
         },
         2139.4,
         2349.136798917959
        ],
        [
         {
          "length": 4,
          "values": [
           6.4,
           6.4,
           707.4409790039062,
           744.698974609375
          ],
          "vectorType": "dense"
         },
         2351.59,
         2394.0997875040684
        ],
        [
         {
          "length": 4,
          "values": [
           6.4,
           6.4,
           707.4879760742188,
           747.656005859375
          ],
          "vectorType": "dense"
         },
         2409.69,
         2410.397067381704
        ],
        [
         {
          "length": 4,
          "values": [
           6.4,
           6.4,
           715.166015625,
           743.7550048828125
          ],
          "vectorType": "dense"
         },
         2300.48,
         2376.0806043998
        ],
        [
         {
          "length": 4,
          "values": [
           6.4,
           6.4,
           718.6840209960938,
           741.8590087890625
          ],
          "vectorType": "dense"
         },
         2242.45,
         2359.755764142766
        ],
        [
         {
          "length": 4,
          "values": [
           6.4,
           6.4,
           729.3460083007812,
           754.2030029296875
          ],
          "vectorType": "dense"
         },
         2508.45,
         2410.4578577628345
        ],
        [
         {
          "length": 4,
          "values": [
           6.4,
           6.4,
           732.594970703125,
           754.8590087890625
          ],
          "vectorType": "dense"
         },
         2552.69,
         2408.710699730291
        ],
        [
         {
          "length": 4,
          "values": [
           6.4,
           6.4,
           741.3460083007812,
           765.052978515625
          ],
          "vectorType": "dense"
         },
         2659.55,
         2450.670954098464
        ],
        [
         {
          "length": 4,
          "values": [
           7.39,
           7.4,
           648.6719970703125,
           713.35400390625
          ],
          "vectorType": "dense"
         },
         2226.25,
         2243.4596817043684
        ],
        [
         {
          "length": 4,
          "values": [
           7.39,
           7.4,
           652.072998046875,
           715.3179931640625
          ],
          "vectorType": "dense"
         },
         2213.08,
         2248.703962582129
        ],
        [
         {
          "length": 4,
          "values": [
           9.15,
           9.15,
           1100.988037109375,
           960.8939819335938
          ],
          "vectorType": "dense"
         },
         2804.79,
         2785.4011693174643
        ],
        [
         {
          "length": 4,
          "values": [
           9.15,
           9.15,
           1120.9990234375,
           967.0029907226562
          ],
          "vectorType": "dense"
         },
         2776.92,
         2786.0950164133983
        ],
        [
         {
          "length": 4,
          "values": [
           10.27,
           10.4,
           540.958984375,
           569.7449951171875
          ],
          "vectorType": "dense"
         },
         1282.04,
         1238.858329156654
        ],
        [
         {
          "length": 4,
          "values": [
           10.59,
           10.65,
           543.0380249023438,
           572.2540283203125
          ],
          "vectorType": "dense"
         },
         1330.42,
         1363.2874645621546
        ],
        [
         {
          "length": 4,
          "values": [
           10.8,
           10.9,
           548.2020263671875,
           597.2509765625
          ],
          "vectorType": "dense"
         },
         1409.42,
         1405.9960283878368
        ],
        [
         {
          "length": 4,
          "values": [
           10.8,
           10.9,
           551.5540161132812,
           592.510009765625
          ],
          "vectorType": "dense"
         },
         1387.63,
         1374.1915451654033
        ],
        [
         {
          "length": 4,
          "values": [
           10.8,
           10.9,
           556.4199829101562,
           577.322021484375
          ],
          "vectorType": "dense"
         },
         1350.76,
         1282.027795750876
        ],
        [
         {
          "length": 4,
          "values": [
           10.81,
           10.9,
           547.8389892578125,
           599.3330078125
          ],
          "vectorType": "dense"
         },
         1421.44,
         1436.412548433167
        ],
        [
         {
          "length": 4,
          "values": [
           11.15,
           11.15,
           1119.06103515625,
           1090.8709716796875
          ],
          "vectorType": "dense"
         },
         3360.0,
         3363.064572871634
        ],
        [
         {
          "length": 4,
          "values": [
           11.57,
           11.65,
           558.2130126953125,
           603.89501953125
          ],
          "vectorType": "dense"
         },
         1336.72,
         1420.7151404224019
        ],
        [
         {
          "length": 4,
          "values": [
           11.65,
           11.65,
           1124.8790283203125,
           1088.6629638671875
          ],
          "vectorType": "dense"
         },
         3333.51,
         3313.1581081423365
        ],
        [
         {
          "length": 4,
          "values": [
           11.65,
           11.65,
           1161.41796875,
           978.7169799804688
          ],
          "vectorType": "dense"
         },
         2779.97,
         2643.807792743236
        ],
        [
         {
          "length": 4,
          "values": [
           12.13,
           12.15,
           666.197021484375,
           696.781982421875
          ],
          "vectorType": "dense"
         },
         2032.81,
         1837.9536869573512
        ],
        [
         {
          "length": 4,
          "values": [
           12.15,
           12.15,
           1115.81494140625,
           1083.3349609375
          ],
          "vectorType": "dense"
         },
         3176.56,
         3270.6171237500657
        ],
        [
         {
          "length": 4,
          "values": [
           12.6,
           12.65,
           569.5360107421875,
           613.3740234375
          ],
          "vectorType": "dense"
         },
         1347.63,
         1453.2239262081735
        ],
        [
         {
          "length": 4,
          "values": [
           12.65,
           12.65,
           1183.9530029296875,
           1001.9229736328125
          ],
          "vectorType": "dense"
         },
         2820.45,
         2678.909216280388
        ],
        [
         {
          "length": 4,
          "values": [
           12.88,
           12.9,
           665.5419921875,
           690.614013671875
          ],
          "vectorType": "dense"
         },
         1934.69,
         1762.8141567636385
        ],
        [
         {
          "length": 4,
          "values": [
           13.15,
           13.15,
           1099.7099609375,
           1077.4969482421875
          ],
          "vectorType": "dense"
         },
         3212.81,
         3208.865496720563
        ],
        [
         {
          "length": 4,
          "values": [
           13.65,
           13.65,
           1101.2039794921875,
           1074.89501953125
          ],
          "vectorType": "dense"
         },
         3197.18,
         3163.937630841392
        ],
        [
         {
          "length": 4,
          "values": [
           13.65,
           13.65,
           1109.22998046875,
           1074.2919921875
          ],
          "vectorType": "dense"
         },
         3155.32,
         3147.308115985865
        ],
        [
         {
          "length": 4,
          "values": [
           13.65,
           13.65,
           1155.8289794921875,
           1048.428955078125
          ],
          "vectorType": "dense"
         },
         2867.21,
         2926.9241971704423
        ],
        [
         {
          "length": 4,
          "values": [
           13.65,
           13.65,
           1162.3909912109375,
           1046.9560546875
          ],
          "vectorType": "dense"
         },
         2991.45,
         2907.9018000791357
        ],
        [
         {
          "length": 4,
          "values": [
           13.65,
           13.65,
           1163.3590087890625,
           1058.6500244140625
          ],
          "vectorType": "dense"
         },
         2760.96,
         2971.056370821959
        ],
        [
         {
          "length": 4,
          "values": [
           13.65,
           13.65,
           1163.4649658203125,
           1054.56103515625
          ],
          "vectorType": "dense"
         },
         2821.14,
         2948.237391822057
        ],
        [
         {
          "length": 4,
          "values": [
           13.65,
           13.65,
           1173.79296875,
           1046.5069580078125
          ],
          "vectorType": "dense"
         },
         2990.8,
         2886.5344729849166
        ],
        [
         {
          "length": 4,
          "values": [
           13.65,
           13.65,
           1185.0040283203125,
           1045.468994140625
          ],
          "vectorType": "dense"
         },
         2976.23,
         2862.222324425202
        ],
        [
         {
          "length": 4,
          "values": [
           13.88,
           13.9,
           657.7520141601562,
           686.1179809570312
          ],
          "vectorType": "dense"
         },
         1837.13,
         1694.7252954495175
        ],
        [
         {
          "length": 4,
          "values": [
           14.13,
           14.15,
           586.426025390625,
           635.9349975585938
          ],
          "vectorType": "dense"
         },
         1470.73,
         1520.9128870277787
        ],
        [
         {
          "length": 4,
          "values": [
           14.13,
           14.15,
           588.0419921875,
           641.0189819335938
          ],
          "vectorType": "dense"
         },
         1458.12,
         1546.390524446371
        ],
        [
         {
          "length": 4,
          "values": [
           14.13,
           14.15,
           593.6060180664062,
           642.406982421875
          ],
          "vectorType": "dense"
         },
         1400.42,
         1544.863440014491
        ],
        [
         {
          "length": 4,
          "values": [
           14.13,
           14.15,
           635.3489990234375,
           658.1489868164062
          ],
          "vectorType": "dense"
         },
         1485.75,
         1562.916062950317
        ],
        [
         {
          "length": 4,
          "values": [
           14.13,
           14.15,
           655.6019897460938,
           681.22998046875
          ],
          "vectorType": "dense"
         },
         1767.11,
         1657.194650316772
        ],
        [
         {
          "length": 4,
          "values": [
           14.13,
           14.15,
           656.8939819335938,
           683.7639770507812
          ],
          "vectorType": "dense"
         },
         1816.05,
         1669.087728644327
        ],
        [
         {
          "length": 4,
          "values": [
           14.14,
           14.15,
           614.051025390625,
           646.7210083007812
          ],
          "vectorType": "dense"
         },
         1452.66,
         1553.1842946327888
        ],
        [
         {
          "length": 4,
          "values": [
           14.14,
           14.15,
           617.0440063476562,
           647.4920043945312
          ],
          "vectorType": "dense"
         },
         1409.01,
         1552.497792091037
        ]
       ],
       "datasetInfos": [],
       "dbfsResultPath": null,
       "isJsonSchema": true,
       "metadata": {},
       "overflow": false,
       "plotOptions": {
        "customPlotOptions": {},
        "displayType": "table",
        "pivotAggregation": null,
        "pivotColumns": null,
        "xColumns": null,
        "yColumns": null
       },
       "removedWidgets": [],
       "schema": [
        {
         "metadata": "{\"ml_attr\":{\"attrs\":{\"numeric\":[{\"idx\":0,\"name\":\"CDI\"},{\"idx\":1,\"name\":\"SELIC\"},{\"idx\":2,\"name\":\"IGP-M\"},{\"idx\":3,\"name\":\"INCC\"}]},\"num_attrs\":4}}",
         "name": "features",
         "type": "{\"type\":\"udt\",\"class\":\"org.apache.spark.ml.linalg.VectorUDT\",\"pyClass\":\"pyspark.ml.linalg.VectorUDT\",\"sqlType\":{\"type\":\"struct\",\"fields\":[{\"name\":\"type\",\"type\":\"byte\",\"nullable\":false,\"metadata\":{}},{\"name\":\"size\",\"type\":\"integer\",\"nullable\":true,\"metadata\":{}},{\"name\":\"indices\",\"type\":{\"type\":\"array\",\"elementType\":\"integer\",\"containsNull\":false},\"nullable\":true,\"metadata\":{}},{\"name\":\"values\",\"type\":{\"type\":\"array\",\"elementType\":\"double\",\"containsNull\":false},\"nullable\":true,\"metadata\":{}}]}}"
        },
        {
         "metadata": "{}",
         "name": "IFIX",
         "type": "\"double\""
        },
        {
         "metadata": "{\"ml_attr\":{}}",
         "name": "prediction",
         "type": "\"double\""
        }
       ],
       "type": "table"
      }
     },
     "output_type": "display_data"
    }
   ],
   "source": [
    "display(modelsummary.predictions)"
   ]
  },
  {
   "cell_type": "code",
   "execution_count": 0,
   "metadata": {
    "application/vnd.databricks.v1+cell": {
     "cellMetadata": {
      "byteLimit": 2048000,
      "rowLimit": 10000
     },
     "inputWidgets": {},
     "nuid": "7bca4eab-004d-4e3d-87e5-638648d61f93",
     "showTitle": false,
     "title": ""
    }
   },
   "outputs": [
    {
     "output_type": "display_data",
     "data": {
      "text/html": [
       "<style scoped>\n",
       "  .table-result-container {\n",
       "    max-height: 300px;\n",
       "    overflow: auto;\n",
       "  }\n",
       "  table, th, td {\n",
       "    border: 1px solid black;\n",
       "    border-collapse: collapse;\n",
       "  }\n",
       "  th, td {\n",
       "    padding: 5px;\n",
       "  }\n",
       "  th {\n",
       "    text-align: left;\n",
       "  }\n",
       "</style><div class='table-result-container'><table class='table-result'><thead style='background-color: white'><tr><th>Mes_Ano</th><th>IFIX</th><th>prediction</th></tr></thead><tbody><tr><td>8-2020</td><td>2782.1</td><td>2755.8134630019495</td></tr><tr><td>9-2020</td><td>2794.88</td><td>2746.8684245127897</td></tr><tr><td>12-2020</td><td>2870.15</td><td>2812.7007287919027</td></tr><tr><td>6-2020</td><td>2806.28</td><td>2734.9529538129036</td></tr><tr><td>7-2020</td><td>2733.12</td><td>2742.373649122257</td></tr><tr><td>4-2021</td><td>2861.15</td><td>2852.3944149502286</td></tr><tr><td>5-2021</td><td>2816.46</td><td>2828.9152582087345</td></tr><tr><td>4-2020</td><td>2603.62</td><td>2651.876799301356</td></tr><tr><td>6-2021</td><td>2754.89</td><td>2890.9730484763695</td></tr><tr><td>10-2019</td><td>2791.98</td><td>2580.3482678287533</td></tr><tr><td>8-2021</td><td>2749.84</td><td>2901.6728798083223</td></tr><tr><td>9-2019</td><td>2684.26</td><td>2555.201545091253</td></tr><tr><td>9-2021</td><td>2715.67</td><td>2886.27113732147</td></tr><tr><td>7-2018</td><td>2154.45</td><td>2345.1901537958297</td></tr><tr><td>8-2018</td><td>2139.4</td><td>2349.136798917959</td></tr><tr><td>12-2018</td><td>2351.59</td><td>2394.0997875040684</td></tr><tr><td>1-2019</td><td>2409.69</td><td>2410.397067381704</td></tr><tr><td>11-2018</td><td>2300.48</td><td>2376.0806043998</td></tr><tr><td>10-2018</td><td>2242.45</td><td>2359.755764142766</td></tr><tr><td>4-2019</td><td>2508.45</td><td>2410.4578577628345</td></tr><tr><td>5-2019</td><td>2552.69</td><td>2408.710699730291</td></tr><tr><td>7-2019</td><td>2659.55</td><td>2450.670954098464</td></tr><tr><td>10-2017</td><td>2226.25</td><td>2243.4596817043684</td></tr><tr><td>11-2017</td><td>2213.08</td><td>2248.703962582129</td></tr><tr><td>12-2021</td><td>2804.79</td><td>2785.4011693174643</td></tr><tr><td>1-2022</td><td>2776.92</td><td>2786.0950164133983</td></tr><tr><td>1-2014</td><td>1282.04</td><td>1238.858329156654</td></tr><tr><td>2-2014</td><td>1330.42</td><td>1363.2874645621546</td></tr><tr><td>7-2014</td><td>1409.42</td><td>1405.9960283878368</td></tr><tr><td>6-2014</td><td>1387.63</td><td>1374.1915451654033</td></tr><tr><td>4-2014</td><td>1350.76</td><td>1282.027795750876</td></tr><tr><td>9-2014</td><td>1421.44</td><td>1436.412548433167</td></tr><tr><td>2-2024</td><td>3360.0</td><td>3363.064572871634</td></tr><tr><td>12-2014</td><td>1336.72</td><td>1420.7151404224019</td></tr><tr><td>1-2024</td><td>3333.51</td><td>3313.1581081423365</td></tr><tr><td>3-2022</td><td>2779.97</td><td>2643.807792743236</td></tr><tr><td>3-2017</td><td>2032.81</td><td>1837.9536869573512</td></tr><tr><td>11-2023</td><td>3176.56</td><td>3270.6171237500657</td></tr><tr><td>3-2015</td><td>1347.63</td><td>1453.2239262081735</td></tr><tr><td>5-2022</td><td>2820.45</td><td>2678.909216280388</td></tr><tr><td>1-2017</td><td>1934.69</td><td>1762.8141567636385</td></tr><tr><td>8-2023</td><td>3212.81</td><td>3208.865496720563</td></tr><tr><td>7-2023</td><td>3197.18</td><td>3163.937630841392</td></tr><tr><td>6-2023</td><td>3155.32</td><td>3147.308115985865</td></tr><tr><td>11-2022</td><td>2867.21</td><td>2926.9241971704423</td></tr><tr><td>10-2022</td><td>2991.45</td><td>2907.9018000791357</td></tr><tr><td>3-2023</td><td>2760.96</td><td>2971.056370821959</td></tr><tr><td>1-2023</td><td>2821.14</td><td>2948.237391822057</td></tr><tr><td>9-2022</td><td>2990.8</td><td>2886.5344729849166</td></tr><tr><td>8-2022</td><td>2976.23</td><td>2862.222324425202</td></tr><tr><td>11-2016</td><td>1837.13</td><td>1694.7252954495175</td></tr><tr><td>7-2015</td><td>1470.73</td><td>1520.9128870277787</td></tr><tr><td>8-2015</td><td>1458.12</td><td>1546.390524446371</td></tr><tr><td>9-2015</td><td>1400.42</td><td>1544.863440014491</td></tr><tr><td>3-2016</td><td>1485.75</td><td>1562.916062950317</td></tr><tr><td>8-2016</td><td>1767.11</td><td>1657.194650316772</td></tr><tr><td>9-2016</td><td>1816.05</td><td>1669.087728644327</td></tr><tr><td>11-2015</td><td>1452.66</td><td>1553.1842946327888</td></tr><tr><td>12-2015</td><td>1409.01</td><td>1552.497792091037</td></tr></tbody></table></div>"
      ]
     },
     "metadata": {
      "application/vnd.databricks.v1+output": {
       "addedWidgets": {},
       "aggData": [],
       "aggError": "",
       "aggOverflow": false,
       "aggSchema": [],
       "aggSeriesLimitReached": false,
       "aggType": "",
       "arguments": {},
       "columnCustomDisplayInfos": {},
       "data": [
        [
         "8-2020",
         2782.1,
         2755.8134630019495
        ],
        [
         "9-2020",
         2794.88,
         2746.8684245127897
        ],
        [
         "12-2020",
         2870.15,
         2812.7007287919027
        ],
        [
         "6-2020",
         2806.28,
         2734.9529538129036
        ],
        [
         "7-2020",
         2733.12,
         2742.373649122257
        ],
        [
         "4-2021",
         2861.15,
         2852.3944149502286
        ],
        [
         "5-2021",
         2816.46,
         2828.9152582087345
        ],
        [
         "4-2020",
         2603.62,
         2651.876799301356
        ],
        [
         "6-2021",
         2754.89,
         2890.9730484763695
        ],
        [
         "10-2019",
         2791.98,
         2580.3482678287533
        ],
        [
         "8-2021",
         2749.84,
         2901.6728798083223
        ],
        [
         "9-2019",
         2684.26,
         2555.201545091253
        ],
        [
         "9-2021",
         2715.67,
         2886.27113732147
        ],
        [
         "7-2018",
         2154.45,
         2345.1901537958297
        ],
        [
         "8-2018",
         2139.4,
         2349.136798917959
        ],
        [
         "12-2018",
         2351.59,
         2394.0997875040684
        ],
        [
         "1-2019",
         2409.69,
         2410.397067381704
        ],
        [
         "11-2018",
         2300.48,
         2376.0806043998
        ],
        [
         "10-2018",
         2242.45,
         2359.755764142766
        ],
        [
         "4-2019",
         2508.45,
         2410.4578577628345
        ],
        [
         "5-2019",
         2552.69,
         2408.710699730291
        ],
        [
         "7-2019",
         2659.55,
         2450.670954098464
        ],
        [
         "10-2017",
         2226.25,
         2243.4596817043684
        ],
        [
         "11-2017",
         2213.08,
         2248.703962582129
        ],
        [
         "12-2021",
         2804.79,
         2785.4011693174643
        ],
        [
         "1-2022",
         2776.92,
         2786.0950164133983
        ],
        [
         "1-2014",
         1282.04,
         1238.858329156654
        ],
        [
         "2-2014",
         1330.42,
         1363.2874645621546
        ],
        [
         "7-2014",
         1409.42,
         1405.9960283878368
        ],
        [
         "6-2014",
         1387.63,
         1374.1915451654033
        ],
        [
         "4-2014",
         1350.76,
         1282.027795750876
        ],
        [
         "9-2014",
         1421.44,
         1436.412548433167
        ],
        [
         "2-2024",
         3360.0,
         3363.064572871634
        ],
        [
         "12-2014",
         1336.72,
         1420.7151404224019
        ],
        [
         "1-2024",
         3333.51,
         3313.1581081423365
        ],
        [
         "3-2022",
         2779.97,
         2643.807792743236
        ],
        [
         "3-2017",
         2032.81,
         1837.9536869573512
        ],
        [
         "11-2023",
         3176.56,
         3270.6171237500657
        ],
        [
         "3-2015",
         1347.63,
         1453.2239262081735
        ],
        [
         "5-2022",
         2820.45,
         2678.909216280388
        ],
        [
         "1-2017",
         1934.69,
         1762.8141567636385
        ],
        [
         "8-2023",
         3212.81,
         3208.865496720563
        ],
        [
         "7-2023",
         3197.18,
         3163.937630841392
        ],
        [
         "6-2023",
         3155.32,
         3147.308115985865
        ],
        [
         "11-2022",
         2867.21,
         2926.9241971704423
        ],
        [
         "10-2022",
         2991.45,
         2907.9018000791357
        ],
        [
         "3-2023",
         2760.96,
         2971.056370821959
        ],
        [
         "1-2023",
         2821.14,
         2948.237391822057
        ],
        [
         "9-2022",
         2990.8,
         2886.5344729849166
        ],
        [
         "8-2022",
         2976.23,
         2862.222324425202
        ],
        [
         "11-2016",
         1837.13,
         1694.7252954495175
        ],
        [
         "7-2015",
         1470.73,
         1520.9128870277787
        ],
        [
         "8-2015",
         1458.12,
         1546.390524446371
        ],
        [
         "9-2015",
         1400.42,
         1544.863440014491
        ],
        [
         "3-2016",
         1485.75,
         1562.916062950317
        ],
        [
         "8-2016",
         1767.11,
         1657.194650316772
        ],
        [
         "9-2016",
         1816.05,
         1669.087728644327
        ],
        [
         "11-2015",
         1452.66,
         1553.1842946327888
        ],
        [
         "12-2015",
         1409.01,
         1552.497792091037
        ]
       ],
       "datasetInfos": [],
       "dbfsResultPath": null,
       "isJsonSchema": true,
       "metadata": {},
       "overflow": false,
       "plotOptions": {
        "customPlotOptions": {},
        "displayType": "table",
        "pivotAggregation": null,
        "pivotColumns": null,
        "xColumns": null,
        "yColumns": null
       },
       "removedWidgets": [],
       "schema": [
        {
         "metadata": "{}",
         "name": "Mes_Ano",
         "type": "\"string\""
        },
        {
         "metadata": "{}",
         "name": "IFIX",
         "type": "\"double\""
        },
        {
         "metadata": "{\"ml_attr\":{}}",
         "name": "prediction",
         "type": "\"double\""
        }
       ],
       "type": "table"
      }
     },
     "output_type": "display_data"
    },
    {
     "output_type": "display_data",
     "data": {
      "text/plain": [
       "Databricks visualization. Run in Databricks to view."
      ]
     },
     "metadata": {
      "application/vnd.databricks.v1.subcommand+json": {
       "baseErrorDetails": null,
       "bindings": {},
       "collapsed": false,
       "command": "%python\n__backend_agg_display_orig = display\n__backend_agg_dfs = []\ndef __backend_agg_display_new(df):\n    __backend_agg_df_modules = [\"pandas.core.frame\", \"databricks.koalas.frame\", \"pyspark.sql.dataframe\", \"pyspark.pandas.frame\", \"pyspark.sql.connect.dataframe\"]\n    if (type(df).__module__ in __backend_agg_df_modules and type(df).__name__ == 'DataFrame') or isinstance(df, list):\n        __backend_agg_dfs.append(df)\n\ndisplay = __backend_agg_display_new\n\ndef __backend_agg_user_code_fn():\n    import base64\n    exec(base64.standard_b64decode(\"IyBHcmFmaWNvIGRlIGxpbmhhcyBkbyBJRklYICsgcHJlZGnDp8OjbyBwYXJhIGNvbXBhcmHDp8OjbwpwcmVkaWN0aW9uc0RGID0gbW9kZWxzdW1tYXJ5LnByZWRpY3Rpb25zCnByZWRpY3Rpb25zUGxvdCA9IHByZWRpY3Rpb25zREYuam9pbihpZml4UmVnLCAiSUZJWCIsICJpbm5lciIpCnByZWRpY3Rpb25zUGxvdCA9IHByZWRpY3Rpb25zUGxvdC5zZWxlY3QoJ01lc19Bbm8nLCAnSUZJWCcsICdwcmVkaWN0aW9uJykKZGlzcGxheShwcmVkaWN0aW9uc1Bsb3Qp\").decode())\n\ntry:\n    # run user code\n    __backend_agg_user_code_fn()\n\n    #reset display function\n    display = __backend_agg_display_orig\n\n    if len(__backend_agg_dfs) > 0:\n        # create a temp view\n        if type(__backend_agg_dfs[0]).__module__ == \"databricks.koalas.frame\":\n            # koalas dataframe\n            __backend_agg_dfs[0].to_spark().createOrReplaceTempView(\"DatabricksView9295d5e\")\n        elif type(__backend_agg_dfs[0]).__module__ == \"pandas.core.frame\" or isinstance(__backend_agg_dfs[0], list):\n            # pandas dataframe\n            spark.createDataFrame(__backend_agg_dfs[0]).createOrReplaceTempView(\"DatabricksView9295d5e\")\n        else:\n            __backend_agg_dfs[0].createOrReplaceTempView(\"DatabricksView9295d5e\")\n        #run backend agg\n        display(spark.sql(\"\"\"WITH q AS (select * from DatabricksView9295d5e) SELECT `Mes_Ano`,SUM(`IFIX`) `column_26f9052964`,SUM(`prediction`) `column_26f9052968` FROM q GROUP BY `Mes_Ano`\"\"\"))\n    else:\n        displayHTML(\"dataframe no longer exists. If you're using dataframe.display(), use display(dataframe) instead.\")\n\n\nfinally:\n    spark.sql(\"drop view if exists DatabricksView9295d5e\")\n    display = __backend_agg_display_orig\n    del __backend_agg_display_new\n    del __backend_agg_display_orig\n    del __backend_agg_dfs\n    del __backend_agg_user_code_fn\n\n",
       "commandTitle": "Visualization 1",
       "commandType": "auto",
       "commandVersion": 0,
       "commentThread": [],
       "commentsVisible": false,
       "contentSha256Hex": null,
       "customPlotOptions": {
        "redashChart": [
         {
          "key": "type",
          "value": "CHART"
         },
         {
          "key": "options",
          "value": {
           "alignYAxesAtZero": true,
           "coefficient": 1,
           "columnConfigurationMap": {
            "x": {
             "column": "Mes_Ano",
             "id": "column_26f9052966"
            },
            "y": [
             {
              "column": "IFIX",
              "id": "column_26f9052964",
              "transform": "SUM"
             },
             {
              "column": "prediction",
              "id": "column_26f9052968",
              "transform": "SUM"
             }
            ]
           },
           "dateTimeFormat": "DD/MM/YYYY HH:mm",
           "direction": {
            "type": "counterclockwise"
           },
           "error_y": {
            "type": "data",
            "visible": true
           },
           "globalSeriesType": "line",
           "isAggregationOn": true,
           "legend": {
            "traceorder": "normal"
           },
           "missingValuesAsZero": true,
           "numberFormat": "0,0.[00000]",
           "percentFormat": "0[.]00%",
           "series": {
            "error_y": {
             "type": "data",
             "visible": true
            },
            "stacking": null
           },
           "seriesOptions": {
            "column_26f9052964": {
             "type": "line",
             "yAxis": 0
            },
            "column_26f9052968": {
             "type": "line",
             "yAxis": 0
            }
           },
           "showDataLabels": false,
           "sizemode": "diameter",
           "sortX": true,
           "sortY": true,
           "swappedAxes": false,
           "textFormat": "",
           "useAggregationsUi": true,
           "valuesOptions": {},
           "version": 2,
           "xAxis": {
            "labels": {
             "enabled": true
            },
            "type": "-"
           },
           "yAxis": [
            {
             "type": "-"
            },
            {
             "opposite": true,
             "type": "-"
            }
           ]
          }
         }
        ]
       },
       "datasetPreviewNameToCmdIdMap": {},
       "diffDeletes": [],
       "diffInserts": [],
       "displayType": "redashChart",
       "error": null,
       "errorDetails": null,
       "errorSummary": null,
       "errorTraceType": null,
       "finishTime": 0,
       "globalVars": {},
       "guid": "",
       "height": "auto",
       "hideCommandCode": false,
       "hideCommandResult": false,
       "iPythonMetadata": null,
       "inputWidgets": {},
       "isLockedInExamMode": false,
       "latestUser": "a user",
       "latestUserId": null,
       "listResultMetadata": null,
       "metadata": {},
       "nuid": "eaddb48a-2ea5-4772-a5d9-f569e5de04f7",
       "origId": 0,
       "parentHierarchy": [],
       "pivotAggregation": null,
       "pivotColumns": null,
       "position": 30.999755859375,
       "resultDbfsErrorMessage": null,
       "resultDbfsStatus": "INLINED_IN_TREE",
       "results": null,
       "showCommandTitle": false,
       "startTime": 0,
       "state": "input",
       "streamStates": {},
       "subcommandOptions": {
        "queryPlan": {
         "groups": [
          {
           "column": "Mes_Ano",
           "type": "column"
          }
         ],
         "selects": [
          {
           "column": "Mes_Ano",
           "type": "column"
          },
          {
           "alias": "column_26f9052964",
           "args": [
            {
             "column": "IFIX",
             "type": "column"
            }
           ],
           "function": "SUM",
           "type": "function"
          },
          {
           "alias": "column_26f9052968",
           "args": [
            {
             "column": "prediction",
             "type": "column"
            }
           ],
           "function": "SUM",
           "type": "function"
          }
         ]
        }
       },
       "submitTime": 0,
       "subtype": "tableResultSubCmd.visualization",
       "tableResultIndex": 0,
       "useConsistentColors": false,
       "version": "CommandV1",
       "width": "auto",
       "workflows": [],
       "xColumns": null,
       "yColumns": null
      }
     },
     "output_type": "display_data"
    }
   ],
   "source": [
    "# Grafico de linhas do IFIX + predição para comparação\n",
    "predictionsDF = modelsummary.predictions\n",
    "predictionsPlot = predictionsDF.join(ifixReg, \"IFIX\", \"inner\")\n",
    "predictionsPlot = predictionsPlot.select('Mes_Ano', 'IFIX', 'prediction')\n",
    "display(predictionsPlot)"
   ]
  },
  {
   "cell_type": "code",
   "execution_count": 0,
   "metadata": {
    "application/vnd.databricks.v1+cell": {
     "cellMetadata": {},
     "inputWidgets": {},
     "nuid": "b047949a-0162-4442-8eec-8e4791e1c8a0",
     "showTitle": false,
     "title": ""
    }
   },
   "outputs": [],
   "source": []
  },
  {
   "cell_type": "markdown",
   "metadata": {
    "application/vnd.databricks.v1+cell": {
     "cellMetadata": {},
     "inputWidgets": {},
     "nuid": "370c41e1-c7b9-49be-982b-fe478fcc79ee",
     "showTitle": false,
     "title": ""
    }
   },
   "source": [
    "# Conclusão\n",
    "\n",
    "Analisando as variáveis podemos concluir que adicionando as variáveis IGP-M e INCC ao conjunto, acaba melhorando o fit do modelo. Temos então, que o resultado de R² indica que aproximadamente 97% da variabilidade na variável dependente (IFIX) pode ser explicada pelas variáveis independentes (indices) incluídas no modelo."
   ]
  }
 ],
 "metadata": {
  "application/vnd.databricks.v1+notebook": {
   "dashboards": [
    {
     "elements": [
      {
       "dashboardResultIndex": 0,
       "elementNUID": "7bca4eab-004d-4e3d-87e5-638648d61f93",
       "elementType": "command",
       "guid": "1867c6d0-eb19-4b02-8e3f-2374e44f22e5",
       "options": null,
       "position": {
        "height": 6,
        "width": 12,
        "x": 0,
        "y": 0,
        "z": null
       },
       "resultIndex": null
      },
      {
       "dashboardResultIndex": 0,
       "elementNUID": "8c2c5dc5-b3d3-4d80-8c3a-c1511d2a5432",
       "elementType": "command",
       "guid": "e5798457-54e4-4921-8d10-a3abe5ef2472",
       "options": {
        "autoScaleImg": false,
        "scale": 0,
        "showTitle": false,
        "titleAlign": "center"
       },
       "position": {
        "height": 6,
        "width": 12,
        "x": 0,
        "y": 6,
        "z": null
       },
       "resultIndex": null
      }
     ],
     "globalVars": {},
     "guid": "",
     "layoutOption": {
      "grid": true,
      "stack": true
     },
     "nuid": "ad815e2b-d42d-4959-9412-4424c557770b",
     "origId": 766315610315180,
     "title": "RegressionIfixDash",
     "version": "DashboardViewV1",
     "width": 1920
    },
    {
     "elements": [],
     "globalVars": {},
     "guid": "",
     "layoutOption": {
      "grid": true,
      "stack": true
     },
     "nuid": "ac1cfb07-d5c3-441b-ae1f-702d44278943",
     "origId": 152042064885960,
     "title": "Untitled",
     "version": "DashboardViewV1",
     "width": 1024
    }
   ],
   "language": "python",
   "notebookMetadata": {
    "mostRecentlyExecutedCommandWithImplicitDF": {
     "commandId": 766315610315074,
     "dataframes": [
      "_sqldf"
     ]
    },
    "pythonIndentUnit": 4
   },
   "notebookName": "RegressaoIfix",
   "widgets": {}
  },
  "name": "regressao",
  "notebookId": 3364351409033085
 },
 "nbformat": 4,
 "nbformat_minor": 0
}
