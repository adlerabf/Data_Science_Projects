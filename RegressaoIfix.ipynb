{
 "cells": [
  {
   "cell_type": "markdown",
   "metadata": {
    "application/vnd.databricks.v1+cell": {
     "cellMetadata": {
      "byteLimit": 2048000,
      "rowLimit": 10000
     },
     "inputWidgets": {},
     "nuid": "de69806e-4e4e-43a6-a948-3eaa1cac336f",
     "showTitle": false,
     "title": ""
    }
   },
   "source": [
    "### Projeto de Predição da Evolução do Índice IFIX\n",
    "\n",
    "O Índice IFIX é o resultado de uma carteira teórica de ativos de fundos imobiliários. Seu objetivo é ser o indicador do desempenho médio das cotações dos fundos imobiliários negociados nos mercados de bolsa e de balcão organizado da B3.\n",
    "\n",
    "> Os dados do índice foram coletados do site da B3 e podem ser acessados [neste link](https://www.b3.com.br/pt_br/market-data-e-indices/indices/indices-de-segmentos-e-setoriais/indice-fundos-de-investimentos-imobiliarios-ifix-estatisticas-historicas.htm).\n",
    "\n",
    "Para as variáveis preditoras, foram usados os dados históricos das taxas CDI e SELIC. \n",
    "\n",
    "* Taxa SELIC: é gerada através da média ponderada das operações diárias titulos públicos, sendo as taxas praticadas balizadas pela SELIC meta.\n",
    "\n",
    "* CDI: de forma semelhante, é a estabelecido pela média das taxas praticadas entre dos empréstimos diários interbancários. É também balizada pela SELIC meta.\n",
    "\n",
    "> Dados da SELIC e CDI podem ser obitidos também no site da B3 [neste link](http://estatisticas.cetip.com.br/astec/series_v05/paginas/lum_web_v05_template_informacoes_di.asp?str_Modulo=completo&int_Idioma=1&int_Titulo=6&int_NivelBD=2).\n",
    "\n",
    "\n"
   ]
  },
  {
   "cell_type": "code",
   "execution_count": 0,
   "metadata": {
    "application/vnd.databricks.v1+cell": {
     "cellMetadata": {
      "byteLimit": 2048000,
      "rowLimit": 10000
     },
     "inputWidgets": {},
     "nuid": "f2ffd431-f36e-402f-b4c8-d9e09807c6fb",
     "showTitle": false,
     "title": ""
    }
   },
   "outputs": [],
   "source": [
    "from pyspark.sql import SparkSession #importa a biblioteca que cria a seção do spark"
   ]
  },
  {
   "cell_type": "code",
   "execution_count": 0,
   "metadata": {
    "application/vnd.databricks.v1+cell": {
     "cellMetadata": {
      "byteLimit": 2048000,
      "rowLimit": 10000
     },
     "inputWidgets": {},
     "nuid": "cfd8a60a-32b8-4895-8e28-d1fa5b87b2c8",
     "showTitle": false,
     "title": ""
    }
   },
   "outputs": [],
   "source": [
    "#inicia a seção para a utilização do spark\n",
    "spark = SparkSession.builder.appName(\"Regressao IFIX\").getOrCreate() #cria a seção caso não exista ou obtém a já criada"
   ]
  },
  {
   "cell_type": "code",
   "execution_count": 0,
   "metadata": {
    "application/vnd.databricks.v1+cell": {
     "cellMetadata": {
      "byteLimit": 2048000,
      "rowLimit": 10000
     },
     "inputWidgets": {},
     "nuid": "7fe8b352-6222-442b-96a4-9781da09b0ea",
     "showTitle": false,
     "title": ""
    }
   },
   "outputs": [
    {
     "output_type": "display_data",
     "data": {
      "text/html": [
       "<style scoped>\n",
       "  .table-result-container {\n",
       "    max-height: 300px;\n",
       "    overflow: auto;\n",
       "  }\n",
       "  table, th, td {\n",
       "    border: 1px solid black;\n",
       "    border-collapse: collapse;\n",
       "  }\n",
       "  th, td {\n",
       "    padding: 5px;\n",
       "  }\n",
       "  th {\n",
       "    text-align: left;\n",
       "  }\n",
       "</style><div class='table-result-container'><table class='table-result'><thead style='background-color: white'><tr><th>path</th><th>name</th><th>size</th><th>modificationTime</th></tr></thead><tbody><tr><td>dbfs:/FileStore/tables/HisoricoCDI.csv</td><td>HisoricoCDI.csv</td><td>115462</td><td>1710016875000</td></tr><tr><td>dbfs:/FileStore/tables/HistoricoCDI.csv</td><td>HistoricoCDI.csv</td><td>115462</td><td>1710017252000</td></tr><tr><td>dbfs:/FileStore/tables/HistoricoSELIC.csv</td><td>HistoricoSELIC.csv</td><td>43851</td><td>1710016875000</td></tr><tr><td>dbfs:/FileStore/tables/IfixEvolucaoMensal.csv</td><td>IfixEvolucaoMensal.csv</td><td>2347</td><td>1710016875000</td></tr><tr><td>dbfs:/FileStore/tables/adult_data.csv</td><td>adult_data.csv</td><td>5608318</td><td>1709852380000</td></tr><tr><td>dbfs:/FileStore/tables/iris_bezdekIris.csv</td><td>iris_bezdekIris.csv</td><td>4551</td><td>1709994811000</td></tr><tr><td>dbfs:/FileStore/tables/regressaoLinear.csv</td><td>regressaoLinear.csv</td><td>564</td><td>1709993226000</td></tr><tr><td>dbfs:/FileStore/tables/temperature.csv</td><td>temperature.csv</td><td>4075992</td><td>1709677144000</td></tr><tr><td>dbfs:/FileStore/tables/temperatureAmericas.csv</td><td>temperatureAmericas.csv</td><td>14644660</td><td>1709685210000</td></tr><tr><td>dbfs:/FileStore/tables/temperatureMajorCity.csv</td><td>temperatureMajorCity.csv</td><td>14138385</td><td>1709678535000</td></tr></tbody></table></div>"
      ]
     },
     "metadata": {
      "application/vnd.databricks.v1+output": {
       "addedWidgets": {},
       "aggData": [],
       "aggError": "",
       "aggOverflow": false,
       "aggSchema": [],
       "aggSeriesLimitReached": false,
       "aggType": "",
       "arguments": {},
       "columnCustomDisplayInfos": {},
       "data": [
        [
         "dbfs:/FileStore/tables/HisoricoCDI.csv",
         "HisoricoCDI.csv",
         115462,
         1710016875000
        ],
        [
         "dbfs:/FileStore/tables/HistoricoCDI.csv",
         "HistoricoCDI.csv",
         115462,
         1710017252000
        ],
        [
         "dbfs:/FileStore/tables/HistoricoSELIC.csv",
         "HistoricoSELIC.csv",
         43851,
         1710016875000
        ],
        [
         "dbfs:/FileStore/tables/IfixEvolucaoMensal.csv",
         "IfixEvolucaoMensal.csv",
         2347,
         1710016875000
        ],
        [
         "dbfs:/FileStore/tables/adult_data.csv",
         "adult_data.csv",
         5608318,
         1709852380000
        ],
        [
         "dbfs:/FileStore/tables/iris_bezdekIris.csv",
         "iris_bezdekIris.csv",
         4551,
         1709994811000
        ],
        [
         "dbfs:/FileStore/tables/regressaoLinear.csv",
         "regressaoLinear.csv",
         564,
         1709993226000
        ],
        [
         "dbfs:/FileStore/tables/temperature.csv",
         "temperature.csv",
         4075992,
         1709677144000
        ],
        [
         "dbfs:/FileStore/tables/temperatureAmericas.csv",
         "temperatureAmericas.csv",
         14644660,
         1709685210000
        ],
        [
         "dbfs:/FileStore/tables/temperatureMajorCity.csv",
         "temperatureMajorCity.csv",
         14138385,
         1709678535000
        ]
       ],
       "datasetInfos": [],
       "dbfsResultPath": null,
       "isJsonSchema": true,
       "metadata": {
        "isDbfsCommandResult": false
       },
       "overflow": false,
       "plotOptions": {
        "customPlotOptions": {},
        "displayType": "table",
        "pivotAggregation": null,
        "pivotColumns": null,
        "xColumns": null,
        "yColumns": null
       },
       "removedWidgets": [],
       "schema": [
        {
         "metadata": "{}",
         "name": "path",
         "type": "\"string\""
        },
        {
         "metadata": "{}",
         "name": "name",
         "type": "\"string\""
        },
        {
         "metadata": "{}",
         "name": "size",
         "type": "\"long\""
        },
        {
         "metadata": "{}",
         "name": "modificationTime",
         "type": "\"long\""
        }
       ],
       "type": "table"
      }
     },
     "output_type": "display_data"
    }
   ],
   "source": [
    "%fs ls /FileStore/tables"
   ]
  },
  {
   "cell_type": "code",
   "execution_count": 0,
   "metadata": {
    "application/vnd.databricks.v1+cell": {
     "cellMetadata": {
      "byteLimit": 2048000,
      "rowLimit": 10000
     },
     "inputWidgets": {},
     "nuid": "bb0fa27c-7cfd-4d1f-a15a-2f6b5ffbe516",
     "showTitle": false,
     "title": ""
    }
   },
   "outputs": [],
   "source": [
    " # diretórios dos arquivos a serem utilizados\n",
    "historicoCDI=\"/FileStore/tables/HistoricoCDI.csv\"\n",
    "historicoSELIC=\"/FileStore/tables/HistoricoSELIC.csv\"\n",
    "historicoIFIX=\"/FileStore/tables/IfixEvolucaoMensal.csv\""
   ]
  },
  {
   "cell_type": "markdown",
   "metadata": {
    "application/vnd.databricks.v1+cell": {
     "cellMetadata": {
      "byteLimit": 2048000,
      "rowLimit": 10000
     },
     "inputWidgets": {},
     "nuid": "1b2543ba-5510-4500-8f68-280d750b863d",
     "showTitle": false,
     "title": ""
    }
   },
   "source": [
    "#### Dataset CDI"
   ]
  },
  {
   "cell_type": "code",
   "execution_count": 0,
   "metadata": {
    "application/vnd.databricks.v1+cell": {
     "cellMetadata": {
      "byteLimit": 2048000,
      "rowLimit": 10000
     },
     "inputWidgets": {},
     "nuid": "09804875-b1cd-4c09-b178-0b97398786c1",
     "showTitle": false,
     "title": ""
    }
   },
   "outputs": [],
   "source": [
    "#lendo arquivos armazenados CSV com o esquema definido\n",
    "cdi = spark.read.format('csv').options(inferSchema=True, header='true',delimiter=';').load(historicoCDI)"
   ]
  },
  {
   "cell_type": "code",
   "execution_count": 0,
   "metadata": {
    "application/vnd.databricks.v1+cell": {
     "cellMetadata": {
      "byteLimit": 2048000,
      "rowLimit": 10000
     },
     "inputWidgets": {},
     "nuid": "6fda640a-d589-4b67-b56b-a1895d7df2cf",
     "showTitle": false,
     "title": ""
    }
   },
   "outputs": [
    {
     "output_type": "stream",
     "name": "stdout",
     "output_type": "stream",
     "text": [
      "+----------+-------------+-------+-----+------------+\n|      Data|Nr. Operações| Volume|Média|Fator Diário|\n+----------+-------------+-------+-----+------------+\n|2013-01-02|           15|1892473| 6,92|  1,00026555|\n|2013-01-03|           16|2007587| 6,92|  1,00026555|\n|2013-01-04|           17|2138985| 6,93|  1,00026593|\n|2013-01-07|           18|2208986| 6,92|  1,00026555|\n|2013-01-08|           18|2246656| 6,91|  1,00026518|\n+----------+-------------+-------+-----+------------+\nonly showing top 5 rows\n\n"
     ]
    }
   ],
   "source": [
    "cdi.show(5)"
   ]
  },
  {
   "cell_type": "code",
   "execution_count": 0,
   "metadata": {
    "application/vnd.databricks.v1+cell": {
     "cellMetadata": {
      "byteLimit": 2048000,
      "rowLimit": 10000
     },
     "inputWidgets": {},
     "nuid": "5bf47c58-a4f8-44bc-a884-caffeb175187",
     "showTitle": false,
     "title": ""
    }
   },
   "outputs": [
    {
     "output_type": "stream",
     "name": "stdout",
     "output_type": "stream",
     "text": [
      "root\n |-- Data: date (nullable = true)\n |-- Nr. Operações: integer (nullable = true)\n |-- Volume: string (nullable = true)\n |-- Média: string (nullable = true)\n |-- Fator Diário: string (nullable = true)\n\n"
     ]
    }
   ],
   "source": [
    "cdi.printSchema()"
   ]
  },
  {
   "cell_type": "code",
   "execution_count": 0,
   "metadata": {
    "application/vnd.databricks.v1+cell": {
     "cellMetadata": {
      "byteLimit": 2048000,
      "rowLimit": 10000
     },
     "inputWidgets": {},
     "nuid": "634f1a13-e72c-4c08-959c-456f6dae7382",
     "showTitle": false,
     "title": ""
    }
   },
   "outputs": [],
   "source": [
    "import pyspark.sql.functions as F\n",
    "cdi = cdi.select(F.col('Média').alias(\"CDI\"), F.col('Data').alias(\"Data\"))  # trocando nomes do cabaçalho e selecionando as colunas que preciso"
   ]
  },
  {
   "cell_type": "code",
   "execution_count": 0,
   "metadata": {
    "application/vnd.databricks.v1+cell": {
     "cellMetadata": {
      "byteLimit": 2048000,
      "rowLimit": 10000
     },
     "inputWidgets": {},
     "nuid": "1ed1a4a5-75a8-41e6-899f-b358566add54",
     "showTitle": false,
     "title": ""
    }
   },
   "outputs": [
    {
     "output_type": "stream",
     "name": "stdout",
     "output_type": "stream",
     "text": [
      "+----+----------+----------+\n| CDI|      Data|ultimo_dia|\n+----+----------+----------+\n|6,95|2013-01-31|2013-01-31|\n|6,98|2013-02-28|2013-02-28|\n|7,23|2013-04-30|2013-04-30|\n|7,72|2013-05-31|2013-05-31|\n|8,22|2013-07-31|2013-07-31|\n+----+----------+----------+\nonly showing top 5 rows\n\n"
     ]
    }
   ],
   "source": [
    "from pyspark.sql.functions import dayofmonth, month, year, last_day\n",
    "# Adicione uma nova coluna contendo o último dia de cada mês\n",
    "cdiData = cdi.withColumn(\"ultimo_dia\", last_day(\"Data\"))\n",
    "# Filtrando pelo último dia de cada mês\n",
    "cdiData = cdiData.filter(dayofmonth(\"Data\") == dayofmonth(\"ultimo_dia\"))\n",
    "\n",
    "cdiData.show(5)"
   ]
  },
  {
   "cell_type": "code",
   "execution_count": 0,
   "metadata": {
    "application/vnd.databricks.v1+cell": {
     "cellMetadata": {
      "byteLimit": 2048000,
      "rowLimit": 10000
     },
     "inputWidgets": {},
     "nuid": "fd0bdc18-8a5e-457f-95f2-06c002bbb1c7",
     "showTitle": false,
     "title": ""
    }
   },
   "outputs": [
    {
     "output_type": "stream",
     "name": "stdout",
     "output_type": "stream",
     "text": [
      "+----------+----+\n|      Data| CDI|\n+----------+----+\n|2013-01-31|6,95|\n|2013-02-28|6,98|\n|2013-04-30|7,23|\n|2013-05-31|7,72|\n|2013-07-31|8,22|\n+----------+----+\nonly showing top 5 rows\n\n"
     ]
    }
   ],
   "source": [
    "cdiData = cdiData.select('Data', \"CDI\")\n",
    "cdiData.show(5)"
   ]
  },
  {
   "cell_type": "code",
   "execution_count": 0,
   "metadata": {
    "application/vnd.databricks.v1+cell": {
     "cellMetadata": {
      "byteLimit": 2048000,
      "rowLimit": 10000
     },
     "inputWidgets": {},
     "nuid": "612b52f9-0ab9-44a9-84d1-d6bcb8c70296",
     "showTitle": false,
     "title": ""
    }
   },
   "outputs": [],
   "source": [
    "cdiFinal = cdiData.withColumn(\"CDI\", F.regexp_replace(F.col(\"CDI\"), \"[,]\", \".\"))  #troca o valor de \",\" para \".\" "
   ]
  },
  {
   "cell_type": "code",
   "execution_count": 0,
   "metadata": {
    "application/vnd.databricks.v1+cell": {
     "cellMetadata": {
      "byteLimit": 2048000,
      "rowLimit": 10000
     },
     "inputWidgets": {},
     "nuid": "701861f1-0738-479c-8a69-72bb247ecf1f",
     "showTitle": false,
     "title": ""
    }
   },
   "outputs": [
    {
     "output_type": "stream",
     "name": "stdout",
     "output_type": "stream",
     "text": [
      "+----------+----+\n|      Data| CDI|\n+----------+----+\n|2013-01-31|6.95|\n|2013-02-28|6.98|\n|2013-04-30|7.23|\n|2013-05-31|7.72|\n|2013-07-31|8.22|\n+----------+----+\nonly showing top 5 rows\n\n"
     ]
    }
   ],
   "source": [
    "cdiFinal.show(5)"
   ]
  },
  {
   "cell_type": "code",
   "execution_count": 0,
   "metadata": {
    "application/vnd.databricks.v1+cell": {
     "cellMetadata": {
      "byteLimit": 2048000,
      "rowLimit": 10000
     },
     "inputWidgets": {},
     "nuid": "05a5cfe2-0612-46c4-9c91-bfe35bbd5668",
     "showTitle": false,
     "title": ""
    }
   },
   "outputs": [
    {
     "output_type": "stream",
     "name": "stdout",
     "output_type": "stream",
     "text": [
      "root\n |-- Data: date (nullable = true)\n |-- CDI: string (nullable = true)\n\n"
     ]
    }
   ],
   "source": [
    "cdiFinal.printSchema()"
   ]
  },
  {
   "cell_type": "code",
   "execution_count": 0,
   "metadata": {
    "application/vnd.databricks.v1+cell": {
     "cellMetadata": {
      "byteLimit": 2048000,
      "rowLimit": 10000
     },
     "inputWidgets": {},
     "nuid": "8ca17e24-a8f0-4d02-a923-c7c3b80d53e7",
     "showTitle": false,
     "title": ""
    }
   },
   "outputs": [],
   "source": [
    "# Trocando CDI para tipo double\n",
    "from pyspark.sql.functions import col\n",
    "cdiConcat = cdiFinal.withColumn(\"CDI\", col(\"CDI\").cast(\"double\"))"
   ]
  },
  {
   "cell_type": "code",
   "execution_count": 0,
   "metadata": {
    "application/vnd.databricks.v1+cell": {
     "cellMetadata": {
      "byteLimit": 2048000,
      "rowLimit": 10000
     },
     "inputWidgets": {},
     "nuid": "1ef5725f-c236-421c-a042-562c6f5db641",
     "showTitle": false,
     "title": ""
    }
   },
   "outputs": [
    {
     "output_type": "stream",
     "name": "stdout",
     "output_type": "stream",
     "text": [
      "root\n |-- Data: date (nullable = true)\n |-- CDI: double (nullable = true)\n\n"
     ]
    }
   ],
   "source": [
    "cdiConcat.printSchema()"
   ]
  },
  {
   "cell_type": "code",
   "execution_count": 0,
   "metadata": {
    "application/vnd.databricks.v1+cell": {
     "cellMetadata": {
      "byteLimit": 2048000,
      "rowLimit": 10000
     },
     "inputWidgets": {},
     "nuid": "04d87021-4950-4b86-b4e4-917bac5e2d50",
     "showTitle": false,
     "title": ""
    }
   },
   "outputs": [
    {
     "output_type": "display_data",
     "data": {
      "text/html": [
       "<style scoped>\n",
       "  .table-result-container {\n",
       "    max-height: 300px;\n",
       "    overflow: auto;\n",
       "  }\n",
       "  table, th, td {\n",
       "    border: 1px solid black;\n",
       "    border-collapse: collapse;\n",
       "  }\n",
       "  th, td {\n",
       "    padding: 5px;\n",
       "  }\n",
       "  th {\n",
       "    text-align: left;\n",
       "  }\n",
       "</style><div class='table-result-container'><table class='table-result'><thead style='background-color: white'><tr><th>Data</th><th>CDI</th></tr></thead><tbody><tr><td>2013-01-31</td><td>6.95</td></tr><tr><td>2013-02-28</td><td>6.98</td></tr><tr><td>2013-04-30</td><td>7.23</td></tr><tr><td>2013-05-31</td><td>7.72</td></tr><tr><td>2013-07-31</td><td>8.22</td></tr><tr><td>2013-09-30</td><td>8.71</td></tr><tr><td>2013-10-31</td><td>9.32</td></tr><tr><td>2013-12-31</td><td>9.77</td></tr><tr><td>2014-01-31</td><td>10.27</td></tr><tr><td>2014-02-28</td><td>10.59</td></tr><tr><td>2014-03-31</td><td>10.55</td></tr><tr><td>2014-04-30</td><td>10.8</td></tr><tr><td>2014-06-30</td><td>10.8</td></tr><tr><td>2014-07-31</td><td>10.8</td></tr><tr><td>2014-09-30</td><td>10.81</td></tr><tr><td>2014-10-31</td><td>11.06</td></tr><tr><td>2014-12-31</td><td>11.57</td></tr><tr><td>2015-03-31</td><td>12.6</td></tr><tr><td>2015-04-30</td><td>13.11</td></tr><tr><td>2015-06-30</td><td>13.64</td></tr><tr><td>2015-07-31</td><td>14.13</td></tr><tr><td>2015-08-31</td><td>14.13</td></tr><tr><td>2015-09-30</td><td>14.13</td></tr><tr><td>2015-11-30</td><td>14.14</td></tr><tr><td>2015-12-31</td><td>14.14</td></tr><tr><td>2016-02-29</td><td>14.13</td></tr><tr><td>2016-03-31</td><td>14.13</td></tr><tr><td>2016-05-31</td><td>14.13</td></tr><tr><td>2016-06-30</td><td>14.13</td></tr><tr><td>2016-08-31</td><td>14.13</td></tr><tr><td>2016-09-30</td><td>14.13</td></tr><tr><td>2016-10-31</td><td>13.88</td></tr><tr><td>2016-11-30</td><td>13.88</td></tr><tr><td>2017-01-31</td><td>12.88</td></tr><tr><td>2017-03-31</td><td>12.13</td></tr><tr><td>2017-05-31</td><td>11.13</td></tr><tr><td>2017-06-30</td><td>10.14</td></tr><tr><td>2017-07-31</td><td>9.14</td></tr><tr><td>2017-08-31</td><td>9.14</td></tr><tr><td>2017-10-31</td><td>7.39</td></tr><tr><td>2017-11-30</td><td>7.39</td></tr><tr><td>2018-01-31</td><td>6.89</td></tr><tr><td>2018-02-28</td><td>6.64</td></tr><tr><td>2018-04-30</td><td>6.39</td></tr><tr><td>2018-07-31</td><td>6.39</td></tr><tr><td>2018-08-31</td><td>6.39</td></tr><tr><td>2018-10-31</td><td>6.4</td></tr><tr><td>2018-11-30</td><td>6.4</td></tr><tr><td>2018-12-31</td><td>6.4</td></tr><tr><td>2019-01-31</td><td>6.4</td></tr><tr><td>2019-02-28</td><td>6.4</td></tr><tr><td>2019-04-30</td><td>6.4</td></tr><tr><td>2019-05-31</td><td>6.4</td></tr><tr><td>2019-07-31</td><td>6.4</td></tr><tr><td>2019-09-30</td><td>5.4</td></tr><tr><td>2019-10-31</td><td>4.9</td></tr><tr><td>2019-12-31</td><td>4.4</td></tr><tr><td>2020-01-31</td><td>4.4</td></tr><tr><td>2020-03-31</td><td>3.65</td></tr><tr><td>2020-04-30</td><td>3.65</td></tr><tr><td>2020-06-30</td><td>2.15</td></tr><tr><td>2020-07-31</td><td>2.15</td></tr><tr><td>2020-08-31</td><td>1.9</td></tr><tr><td>2020-09-30</td><td>1.9</td></tr><tr><td>2020-11-30</td><td>1.9</td></tr><tr><td>2020-12-31</td><td>1.9</td></tr><tr><td>2021-03-31</td><td>2.65</td></tr><tr><td>2021-04-30</td><td>2.65</td></tr><tr><td>2021-05-31</td><td>3.4</td></tr><tr><td>2021-06-30</td><td>4.15</td></tr><tr><td>2021-08-31</td><td>5.15</td></tr><tr><td>2021-09-30</td><td>6.15</td></tr><tr><td>2021-11-30</td><td>7.65</td></tr><tr><td>2021-12-31</td><td>9.15</td></tr><tr><td>2022-01-31</td><td>9.15</td></tr><tr><td>2022-03-31</td><td>11.65</td></tr><tr><td>2022-05-31</td><td>12.65</td></tr><tr><td>2022-06-30</td><td>13.15</td></tr><tr><td>2022-08-31</td><td>13.65</td></tr><tr><td>2022-09-30</td><td>13.65</td></tr><tr><td>2022-10-31</td><td>13.65</td></tr><tr><td>2022-11-30</td><td>13.65</td></tr><tr><td>2023-01-31</td><td>13.65</td></tr><tr><td>2023-02-28</td><td>13.65</td></tr><tr><td>2023-03-31</td><td>13.65</td></tr><tr><td>2023-05-31</td><td>13.65</td></tr><tr><td>2023-06-30</td><td>13.65</td></tr><tr><td>2023-07-31</td><td>13.65</td></tr><tr><td>2023-08-31</td><td>13.15</td></tr><tr><td>2023-10-31</td><td>12.65</td></tr><tr><td>2023-11-30</td><td>12.15</td></tr><tr><td>2024-01-31</td><td>11.65</td></tr><tr><td>2024-02-29</td><td>11.15</td></tr></tbody></table></div>"
      ]
     },
     "metadata": {
      "application/vnd.databricks.v1+output": {
       "addedWidgets": {},
       "aggData": [],
       "aggError": "",
       "aggOverflow": false,
       "aggSchema": [],
       "aggSeriesLimitReached": false,
       "aggType": "",
       "arguments": {},
       "columnCustomDisplayInfos": {},
       "data": [
        [
         "2013-01-31",
         6.95
        ],
        [
         "2013-02-28",
         6.98
        ],
        [
         "2013-04-30",
         7.23
        ],
        [
         "2013-05-31",
         7.72
        ],
        [
         "2013-07-31",
         8.22
        ],
        [
         "2013-09-30",
         8.71
        ],
        [
         "2013-10-31",
         9.32
        ],
        [
         "2013-12-31",
         9.77
        ],
        [
         "2014-01-31",
         10.27
        ],
        [
         "2014-02-28",
         10.59
        ],
        [
         "2014-03-31",
         10.55
        ],
        [
         "2014-04-30",
         10.8
        ],
        [
         "2014-06-30",
         10.8
        ],
        [
         "2014-07-31",
         10.8
        ],
        [
         "2014-09-30",
         10.81
        ],
        [
         "2014-10-31",
         11.06
        ],
        [
         "2014-12-31",
         11.57
        ],
        [
         "2015-03-31",
         12.6
        ],
        [
         "2015-04-30",
         13.11
        ],
        [
         "2015-06-30",
         13.64
        ],
        [
         "2015-07-31",
         14.13
        ],
        [
         "2015-08-31",
         14.13
        ],
        [
         "2015-09-30",
         14.13
        ],
        [
         "2015-11-30",
         14.14
        ],
        [
         "2015-12-31",
         14.14
        ],
        [
         "2016-02-29",
         14.13
        ],
        [
         "2016-03-31",
         14.13
        ],
        [
         "2016-05-31",
         14.13
        ],
        [
         "2016-06-30",
         14.13
        ],
        [
         "2016-08-31",
         14.13
        ],
        [
         "2016-09-30",
         14.13
        ],
        [
         "2016-10-31",
         13.88
        ],
        [
         "2016-11-30",
         13.88
        ],
        [
         "2017-01-31",
         12.88
        ],
        [
         "2017-03-31",
         12.13
        ],
        [
         "2017-05-31",
         11.13
        ],
        [
         "2017-06-30",
         10.14
        ],
        [
         "2017-07-31",
         9.14
        ],
        [
         "2017-08-31",
         9.14
        ],
        [
         "2017-10-31",
         7.39
        ],
        [
         "2017-11-30",
         7.39
        ],
        [
         "2018-01-31",
         6.89
        ],
        [
         "2018-02-28",
         6.64
        ],
        [
         "2018-04-30",
         6.39
        ],
        [
         "2018-07-31",
         6.39
        ],
        [
         "2018-08-31",
         6.39
        ],
        [
         "2018-10-31",
         6.4
        ],
        [
         "2018-11-30",
         6.4
        ],
        [
         "2018-12-31",
         6.4
        ],
        [
         "2019-01-31",
         6.4
        ],
        [
         "2019-02-28",
         6.4
        ],
        [
         "2019-04-30",
         6.4
        ],
        [
         "2019-05-31",
         6.4
        ],
        [
         "2019-07-31",
         6.4
        ],
        [
         "2019-09-30",
         5.4
        ],
        [
         "2019-10-31",
         4.9
        ],
        [
         "2019-12-31",
         4.4
        ],
        [
         "2020-01-31",
         4.4
        ],
        [
         "2020-03-31",
         3.65
        ],
        [
         "2020-04-30",
         3.65
        ],
        [
         "2020-06-30",
         2.15
        ],
        [
         "2020-07-31",
         2.15
        ],
        [
         "2020-08-31",
         1.9
        ],
        [
         "2020-09-30",
         1.9
        ],
        [
         "2020-11-30",
         1.9
        ],
        [
         "2020-12-31",
         1.9
        ],
        [
         "2021-03-31",
         2.65
        ],
        [
         "2021-04-30",
         2.65
        ],
        [
         "2021-05-31",
         3.4
        ],
        [
         "2021-06-30",
         4.15
        ],
        [
         "2021-08-31",
         5.15
        ],
        [
         "2021-09-30",
         6.15
        ],
        [
         "2021-11-30",
         7.65
        ],
        [
         "2021-12-31",
         9.15
        ],
        [
         "2022-01-31",
         9.15
        ],
        [
         "2022-03-31",
         11.65
        ],
        [
         "2022-05-31",
         12.65
        ],
        [
         "2022-06-30",
         13.15
        ],
        [
         "2022-08-31",
         13.65
        ],
        [
         "2022-09-30",
         13.65
        ],
        [
         "2022-10-31",
         13.65
        ],
        [
         "2022-11-30",
         13.65
        ],
        [
         "2023-01-31",
         13.65
        ],
        [
         "2023-02-28",
         13.65
        ],
        [
         "2023-03-31",
         13.65
        ],
        [
         "2023-05-31",
         13.65
        ],
        [
         "2023-06-30",
         13.65
        ],
        [
         "2023-07-31",
         13.65
        ],
        [
         "2023-08-31",
         13.15
        ],
        [
         "2023-10-31",
         12.65
        ],
        [
         "2023-11-30",
         12.15
        ],
        [
         "2024-01-31",
         11.65
        ],
        [
         "2024-02-29",
         11.15
        ]
       ],
       "datasetInfos": [],
       "dbfsResultPath": null,
       "isJsonSchema": true,
       "metadata": {},
       "overflow": false,
       "plotOptions": {
        "customPlotOptions": {},
        "displayType": "table",
        "pivotAggregation": null,
        "pivotColumns": null,
        "xColumns": null,
        "yColumns": null
       },
       "removedWidgets": [],
       "schema": [
        {
         "metadata": "{\"__detected_date_formats\":\"d/M/yyyy\"}",
         "name": "Data",
         "type": "\"date\""
        },
        {
         "metadata": "{}",
         "name": "CDI",
         "type": "\"double\""
        }
       ],
       "type": "table"
      }
     },
     "output_type": "display_data"
    },
    {
     "output_type": "display_data",
     "data": {
      "text/plain": [
       "Databricks visualization. Run in Databricks to view."
      ]
     },
     "metadata": {
      "application/vnd.databricks.v1.subcommand+json": {
       "baseErrorDetails": null,
       "bindings": {},
       "collapsed": false,
       "command": "%python\n__backend_agg_display_orig = display\n__backend_agg_dfs = []\ndef __backend_agg_display_new(df):\n    __backend_agg_df_modules = [\"pandas.core.frame\", \"databricks.koalas.frame\", \"pyspark.sql.dataframe\", \"pyspark.pandas.frame\", \"pyspark.sql.connect.dataframe\"]\n    if (type(df).__module__ in __backend_agg_df_modules and type(df).__name__ == 'DataFrame') or isinstance(df, list):\n        __backend_agg_dfs.append(df)\n\ndisplay = __backend_agg_display_new\n\ndef __backend_agg_user_code_fn():\n    import base64\n    exec(base64.standard_b64decode(\"ZGlzcGxheShjZGkp\").decode())\n\ntry:\n    # run user code\n    __backend_agg_user_code_fn()\n\n    #reset display function\n    display = __backend_agg_display_orig\n\n    if len(__backend_agg_dfs) > 0:\n        # create a temp view\n        if type(__backend_agg_dfs[0]).__module__ == \"databricks.koalas.frame\":\n            # koalas dataframe\n            __backend_agg_dfs[0].to_spark().createOrReplaceTempView(\"DatabricksViewe076b87\")\n        elif type(__backend_agg_dfs[0]).__module__ == \"pandas.core.frame\" or isinstance(__backend_agg_dfs[0], list):\n            # pandas dataframe\n            spark.createDataFrame(__backend_agg_dfs[0]).createOrReplaceTempView(\"DatabricksViewe076b87\")\n        else:\n            __backend_agg_dfs[0].createOrReplaceTempView(\"DatabricksViewe076b87\")\n        #run backend agg\n        display(spark.sql(\"\"\"WITH q AS (select * from DatabricksViewe076b87) SELECT `CDI` FROM q\"\"\"))\n    else:\n        displayHTML(\"dataframe no longer exists. If you're using dataframe.display(), use display(dataframe) instead.\")\n\n\nfinally:\n    spark.sql(\"drop view if exists DatabricksViewe076b87\")\n    display = __backend_agg_display_orig\n    del __backend_agg_display_new\n    del __backend_agg_display_orig\n    del __backend_agg_dfs\n    del __backend_agg_user_code_fn\n\n",
       "commandTitle": "Visualization 2",
       "commandType": "auto",
       "commandVersion": 0,
       "commentThread": [],
       "commentsVisible": false,
       "contentSha256Hex": null,
       "customPlotOptions": {
        "redashChart": [
         {
          "key": "type",
          "value": "CHART"
         },
         {
          "key": "options",
          "value": {
           "alignYAxesAtZero": true,
           "coefficient": 1,
           "columnConfigurationMap": {
            "y": [
             {
              "column": "CDI",
              "id": "column_c77865a012"
             }
            ]
           },
           "dateTimeFormat": "DD/MM/YYYY HH:mm",
           "direction": {
            "type": "counterclockwise"
           },
           "error_y": {
            "type": "data",
            "visible": true
           },
           "globalSeriesType": "box",
           "legend": {
            "traceorder": "normal"
           },
           "missingValuesAsZero": true,
           "numberFormat": "0,0.[00000]",
           "percentFormat": "0[.]00%",
           "series": {
            "error_y": {
             "type": "data",
             "visible": true
            },
            "stacking": null
           },
           "seriesOptions": {
            "CDI": {
             "name": "CDI",
             "type": "box",
             "yAxis": 0
            },
            "Data": {
             "type": "box",
             "yAxis": 0
            },
            "column_c77865a02": {
             "name": "CDI",
             "type": "box",
             "yAxis": 0
            }
           },
           "showDataLabels": false,
           "sizemode": "diameter",
           "sortX": true,
           "sortY": true,
           "swappedAxes": true,
           "textFormat": "",
           "useAggregationsUi": true,
           "valuesOptions": {},
           "version": 2,
           "xAxis": {
            "labels": {
             "enabled": true
            },
            "type": "-"
           },
           "yAxis": [
            {
             "type": "-"
            },
            {
             "opposite": true,
             "type": "-"
            }
           ]
          }
         }
        ]
       },
       "datasetPreviewNameToCmdIdMap": {},
       "diffDeletes": [],
       "diffInserts": [],
       "displayType": "redashChart",
       "error": null,
       "errorDetails": null,
       "errorSummary": null,
       "errorTraceType": null,
       "finishTime": 0,
       "globalVars": {},
       "guid": "",
       "height": "468",
       "hideCommandCode": false,
       "hideCommandResult": false,
       "iPythonMetadata": null,
       "inputWidgets": {},
       "isLockedInExamMode": false,
       "latestUser": "a user",
       "latestUserId": null,
       "listResultMetadata": null,
       "metadata": {
        "byteLimit": 2048000,
        "rowLimit": 10000
       },
       "nuid": "abb98718-78f4-4c12-8cf5-a3247e66eca6",
       "origId": 0,
       "parentHierarchy": [],
       "pivotAggregation": null,
       "pivotColumns": null,
       "position": 15.0,
       "resultDbfsErrorMessage": null,
       "resultDbfsStatus": "INLINED_IN_TREE",
       "results": null,
       "showCommandTitle": false,
       "startTime": 0,
       "state": "input",
       "streamStates": {},
       "subcommandOptions": {
        "queryPlan": {
         "selects": [
          {
           "column": "CDI",
           "type": "column"
          }
         ]
        }
       },
       "submitTime": 0,
       "subtype": "tableResultSubCmd.visualization",
       "tableResultIndex": 0,
       "useConsistentColors": false,
       "version": "CommandV1",
       "width": "820",
       "workflows": [],
       "xColumns": null,
       "yColumns": null
      }
     },
     "output_type": "display_data"
    }
   ],
   "source": [
    "display(cdiConcat)"
   ]
  },
  {
   "cell_type": "markdown",
   "metadata": {
    "application/vnd.databricks.v1+cell": {
     "cellMetadata": {
      "byteLimit": 2048000,
      "rowLimit": 10000
     },
     "inputWidgets": {},
     "nuid": "25fcd04c-3604-462c-a5be-22c4eccf83cc",
     "showTitle": false,
     "title": ""
    }
   },
   "source": [
    "#### Dataset IFIX"
   ]
  },
  {
   "cell_type": "code",
   "execution_count": 0,
   "metadata": {
    "application/vnd.databricks.v1+cell": {
     "cellMetadata": {
      "byteLimit": 2048000,
      "rowLimit": 10000
     },
     "inputWidgets": {},
     "nuid": "11bc38a4-6cf9-4776-81d4-2115aa55a507",
     "showTitle": false,
     "title": ""
    }
   },
   "outputs": [],
   "source": [
    "# Importanto dataset do IFIX\n",
    "ifix = spark.read.format('csv').options(inferSchema=True, header='true',delimiter=';').load(historicoIFIX)"
   ]
  },
  {
   "cell_type": "code",
   "execution_count": 0,
   "metadata": {
    "application/vnd.databricks.v1+cell": {
     "cellMetadata": {
      "byteLimit": 2048000,
      "rowLimit": 10000
     },
     "inputWidgets": {},
     "nuid": "9428bb33-12dc-4e7d-ace9-a18648796a1f",
     "showTitle": false,
     "title": ""
    }
   },
   "outputs": [
    {
     "output_type": "stream",
     "name": "stdout",
     "output_type": "stream",
     "text": [
      "+---+----+--------+\n|Mês| Ano|   Valor|\n+---+----+--------+\n|  1|2013|1.613,76|\n|  2|2013|1.597,88|\n|  3|2013|1.579,32|\n|  4|2013|1.549,00|\n|  5|2013|1.549,36|\n+---+----+--------+\nonly showing top 5 rows\n\n"
     ]
    }
   ],
   "source": [
    "ifix.show(5)"
   ]
  },
  {
   "cell_type": "code",
   "execution_count": 0,
   "metadata": {
    "application/vnd.databricks.v1+cell": {
     "cellMetadata": {
      "byteLimit": 2048000,
      "rowLimit": 10000
     },
     "inputWidgets": {},
     "nuid": "4fa782ff-1947-43df-8363-b5976994bee8",
     "showTitle": false,
     "title": ""
    }
   },
   "outputs": [],
   "source": [
    "# Concatenando das colunas Mês e Ano e ajustando ao modelo yyyy-MM-dd\n",
    "from pyspark.sql.functions import concat, lit, to_date\n",
    "ifixData = ifix.withColumn(\"Data\", to_date(concat(col(\"Ano\"), lit(\"-\"), col(\"Mês\"), lit(\"-01\"))))\n"
   ]
  },
  {
   "cell_type": "code",
   "execution_count": 0,
   "metadata": {
    "application/vnd.databricks.v1+cell": {
     "cellMetadata": {
      "byteLimit": 2048000,
      "rowLimit": 10000
     },
     "inputWidgets": {},
     "nuid": "7816bf4d-e470-4891-9fe0-d4f647d0cbab",
     "showTitle": false,
     "title": ""
    }
   },
   "outputs": [
    {
     "output_type": "stream",
     "name": "stdout",
     "output_type": "stream",
     "text": [
      "+---+----+--------+----------+\n|Mês| Ano|   Valor|      Data|\n+---+----+--------+----------+\n|  1|2013|1.613,76|2013-01-01|\n|  2|2013|1.597,88|2013-02-01|\n|  3|2013|1.579,32|2013-03-01|\n|  4|2013|1.549,00|2013-04-01|\n|  5|2013|1.549,36|2013-05-01|\n+---+----+--------+----------+\nonly showing top 5 rows\n\n"
     ]
    }
   ],
   "source": [
    "ifixData.show(5)"
   ]
  },
  {
   "cell_type": "code",
   "execution_count": 0,
   "metadata": {
    "application/vnd.databricks.v1+cell": {
     "cellMetadata": {
      "byteLimit": 2048000,
      "rowLimit": 10000
     },
     "inputWidgets": {},
     "nuid": "139145d8-d226-45fe-9f1c-b67af63f9dda",
     "showTitle": false,
     "title": ""
    }
   },
   "outputs": [
    {
     "output_type": "stream",
     "name": "stdout",
     "output_type": "stream",
     "text": [
      "+--------+----------+\n|    IFIX|      Data|\n+--------+----------+\n|1.613,76|2013-01-01|\n|1.597,88|2013-02-01|\n|1.579,32|2013-03-01|\n|1.549,00|2013-04-01|\n|1.549,36|2013-05-01|\n+--------+----------+\nonly showing top 5 rows\n\n"
     ]
    }
   ],
   "source": [
    "# Alterando a coluna Valor para nome IFIX\n",
    "ifixData = ifixData.select(F.col('Valor').alias(\"IFIX\"), F.col('Data').alias(\"Data\"))\n",
    "ifixData.show(5)"
   ]
  },
  {
   "cell_type": "code",
   "execution_count": 0,
   "metadata": {
    "application/vnd.databricks.v1+cell": {
     "cellMetadata": {
      "byteLimit": 2048000,
      "rowLimit": 10000
     },
     "inputWidgets": {},
     "nuid": "81a3466b-c24e-4200-9a08-931278a77a1c",
     "showTitle": false,
     "title": ""
    }
   },
   "outputs": [
    {
     "output_type": "stream",
     "name": "stdout",
     "output_type": "stream",
     "text": [
      "+-------+----------+\n|   IFIX|      Data|\n+-------+----------+\n|1613,76|2013-01-01|\n|1597,88|2013-02-01|\n|1579,32|2013-03-01|\n|1549,00|2013-04-01|\n|1549,36|2013-05-01|\n+-------+----------+\nonly showing top 5 rows\n\n"
     ]
    }
   ],
   "source": [
    "# Retirando o ponto da casa de milhares\n",
    "from pyspark.sql.functions import regexp_replace\n",
    "ifixFinal = ifixData.withColumn(\"IFIX\", regexp_replace(\"IFIX\", \"\\.\", \"\"))\n",
    "ifixFinal.show(5)"
   ]
  },
  {
   "cell_type": "code",
   "execution_count": 0,
   "metadata": {
    "application/vnd.databricks.v1+cell": {
     "cellMetadata": {
      "byteLimit": 2048000,
      "rowLimit": 10000
     },
     "inputWidgets": {},
     "nuid": "c0e64582-5ea0-445a-9fd1-fed5622bfe89",
     "showTitle": false,
     "title": ""
    }
   },
   "outputs": [
    {
     "output_type": "stream",
     "name": "stdout",
     "output_type": "stream",
     "text": [
      "+-------+----------+\n|   IFIX|      Data|\n+-------+----------+\n|1613.76|2013-01-01|\n|1597.88|2013-02-01|\n|1579.32|2013-03-01|\n|1549.00|2013-04-01|\n|1549.36|2013-05-01|\n+-------+----------+\nonly showing top 5 rows\n\n"
     ]
    }
   ],
   "source": [
    "# Trocando virgula por ponto\n",
    "ifixFinal = ifixFinal.withColumn(\"IFIX\", F.regexp_replace(F.col(\"IFIX\"), \"[,]\", \".\"))\n",
    "ifixFinal.show(5)"
   ]
  },
  {
   "cell_type": "code",
   "execution_count": 0,
   "metadata": {
    "application/vnd.databricks.v1+cell": {
     "cellMetadata": {
      "byteLimit": 2048000,
      "rowLimit": 10000
     },
     "inputWidgets": {},
     "nuid": "b5f73d2a-6b36-4b56-9ed5-996e834517ee",
     "showTitle": false,
     "title": ""
    }
   },
   "outputs": [
    {
     "output_type": "stream",
     "name": "stdout",
     "output_type": "stream",
     "text": [
      "root\n |-- Mês: integer (nullable = true)\n |-- Ano: integer (nullable = true)\n |-- Valor: string (nullable = true)\n |-- Data: date (nullable = true)\n\n"
     ]
    }
   ],
   "source": [
    "ifixFinal.printSchema()"
   ]
  },
  {
   "cell_type": "code",
   "execution_count": 0,
   "metadata": {
    "application/vnd.databricks.v1+cell": {
     "cellMetadata": {
      "byteLimit": 2048000,
      "rowLimit": 10000
     },
     "inputWidgets": {},
     "nuid": "ed037269-43e8-40b3-bc43-23df7f210b29",
     "showTitle": false,
     "title": ""
    }
   },
   "outputs": [],
   "source": [
    "ifixConcat = ifixFinal.withColumn(\"IFIX\", col(\"IFIX\").cast(\"Double\")) # trocando valor string para float"
   ]
  },
  {
   "cell_type": "code",
   "execution_count": 0,
   "metadata": {
    "application/vnd.databricks.v1+cell": {
     "cellMetadata": {
      "byteLimit": 2048000,
      "rowLimit": 10000
     },
     "inputWidgets": {},
     "nuid": "985059a5-b5f0-4fc6-9059-d0115fd2cafc",
     "showTitle": false,
     "title": ""
    }
   },
   "outputs": [
    {
     "output_type": "stream",
     "name": "stdout",
     "output_type": "stream",
     "text": [
      "root\n |-- IFIX: double (nullable = true)\n |-- Data: date (nullable = true)\n\n"
     ]
    }
   ],
   "source": [
    "ifixConcat.printSchema()"
   ]
  },
  {
   "cell_type": "code",
   "execution_count": 0,
   "metadata": {
    "application/vnd.databricks.v1+cell": {
     "cellMetadata": {
      "byteLimit": 2048000,
      "rowLimit": 10000
     },
     "inputWidgets": {},
     "nuid": "fa8a7906-68c7-4a57-8392-10b87c13929c",
     "showTitle": false,
     "title": ""
    }
   },
   "outputs": [
    {
     "output_type": "stream",
     "name": "stdout",
     "output_type": "stream",
     "text": [
      "+-------+----------+\n|   IFIX|      Data|\n+-------+----------+\n|1613.76|2013-01-01|\n|1597.88|2013-02-01|\n|1579.32|2013-03-01|\n| 1549.0|2013-04-01|\n|1549.36|2013-05-01|\n+-------+----------+\nonly showing top 5 rows\n\n"
     ]
    }
   ],
   "source": [
    "ifixConcat.show(5)"
   ]
  },
  {
   "cell_type": "code",
   "execution_count": 0,
   "metadata": {
    "application/vnd.databricks.v1+cell": {
     "cellMetadata": {
      "byteLimit": 2048000,
      "rowLimit": 10000
     },
     "inputWidgets": {},
     "nuid": "0988243c-fe94-461f-8c34-6c8b72b10600",
     "showTitle": false,
     "title": ""
    }
   },
   "outputs": [
    {
     "output_type": "display_data",
     "data": {
      "text/html": [
       "<style scoped>\n",
       "  .table-result-container {\n",
       "    max-height: 300px;\n",
       "    overflow: auto;\n",
       "  }\n",
       "  table, th, td {\n",
       "    border: 1px solid black;\n",
       "    border-collapse: collapse;\n",
       "  }\n",
       "  th, td {\n",
       "    padding: 5px;\n",
       "  }\n",
       "  th {\n",
       "    text-align: left;\n",
       "  }\n",
       "</style><div class='table-result-container'><table class='table-result'><thead style='background-color: white'><tr><th>IFIX</th><th>Data</th></tr></thead><tbody><tr><td>1613.76</td><td>2013-01-01</td></tr><tr><td>1597.88</td><td>2013-02-01</td></tr><tr><td>1579.32</td><td>2013-03-01</td></tr><tr><td>1549.0</td><td>2013-04-01</td></tr><tr><td>1549.36</td><td>2013-05-01</td></tr><tr><td>1437.76</td><td>2013-06-01</td></tr><tr><td>1427.11</td><td>2013-07-01</td></tr><tr><td>1375.07</td><td>2013-08-01</td></tr><tr><td>1400.93</td><td>2013-09-01</td></tr><tr><td>1423.1</td><td>2013-10-01</td></tr><tr><td>1411.67</td><td>2013-11-01</td></tr><tr><td>1374.7</td><td>2013-12-01</td></tr><tr><td>1282.04</td><td>2014-01-01</td></tr><tr><td>1330.42</td><td>2014-02-01</td></tr><tr><td>1336.07</td><td>2014-03-01</td></tr><tr><td>1350.76</td><td>2014-04-01</td></tr><tr><td>1369.25</td><td>2014-05-01</td></tr><tr><td>1387.63</td><td>2014-06-01</td></tr><tr><td>1409.42</td><td>2014-07-01</td></tr><tr><td>1413.1</td><td>2014-08-01</td></tr><tr><td>1421.44</td><td>2014-09-01</td></tr><tr><td>1402.46</td><td>2014-10-01</td></tr><tr><td>1361.51</td><td>2014-11-01</td></tr><tr><td>1336.72</td><td>2014-12-01</td></tr><tr><td>1372.06</td><td>2015-01-01</td></tr><tr><td>1369.42</td><td>2015-02-01</td></tr><tr><td>1347.63</td><td>2015-03-01</td></tr><tr><td>1397.06</td><td>2015-04-01</td></tr><tr><td>1417.54</td><td>2015-05-01</td></tr><tr><td>1460.46</td><td>2015-06-01</td></tr><tr><td>1470.73</td><td>2015-07-01</td></tr><tr><td>1458.12</td><td>2015-08-01</td></tr><tr><td>1400.42</td><td>2015-09-01</td></tr><tr><td>1430.17</td><td>2015-10-01</td></tr><tr><td>1452.66</td><td>2015-11-01</td></tr><tr><td>1409.01</td><td>2015-12-01</td></tr><tr><td>1322.95</td><td>2016-01-01</td></tr><tr><td>1361.05</td><td>2016-02-01</td></tr><tr><td>1485.75</td><td>2016-03-01</td></tr><tr><td>1554.17</td><td>2016-04-01</td></tr><tr><td>1612.36</td><td>2016-05-01</td></tr><tr><td>1638.16</td><td>2016-06-01</td></tr><tr><td>1735.99</td><td>2016-07-01</td></tr><tr><td>1767.11</td><td>2016-08-01</td></tr><tr><td>1816.05</td><td>2016-09-01</td></tr><tr><td>1885.92</td><td>2016-10-01</td></tr><tr><td>1837.13</td><td>2016-11-01</td></tr><tr><td>1864.61</td><td>2016-12-01</td></tr><tr><td>1934.69</td><td>2017-01-01</td></tr><tr><td>2028.86</td><td>2017-02-01</td></tr><tr><td>2032.81</td><td>2017-03-01</td></tr><tr><td>2035.85</td><td>2017-04-01</td></tr><tr><td>2056.75</td><td>2017-05-01</td></tr><tr><td>2074.14</td><td>2017-06-01</td></tr><tr><td>2066.19</td><td>2017-07-01</td></tr><tr><td>2084.0</td><td>2017-08-01</td></tr><tr><td>2221.05</td><td>2017-09-01</td></tr><tr><td>2226.25</td><td>2017-10-01</td></tr><tr><td>2213.08</td><td>2017-11-01</td></tr><tr><td>2226.46</td><td>2017-12-01</td></tr><tr><td>2285.23</td><td>2018-01-01</td></tr><tr><td>2311.41</td><td>2018-02-01</td></tr><tr><td>2357.54</td><td>2018-03-01</td></tr><tr><td>2337.25</td><td>2018-04-01</td></tr><tr><td>2214.11</td><td>2018-05-01</td></tr><tr><td>2125.22</td><td>2018-06-01</td></tr><tr><td>2154.45</td><td>2018-07-01</td></tr><tr><td>2139.4</td><td>2018-08-01</td></tr><tr><td>2134.81</td><td>2018-09-01</td></tr><tr><td>2242.45</td><td>2018-10-01</td></tr><tr><td>2300.48</td><td>2018-11-01</td></tr><tr><td>2351.59</td><td>2018-12-01</td></tr><tr><td>2409.69</td><td>2019-01-01</td></tr><tr><td>2434.56</td><td>2019-02-01</td></tr><tr><td>2482.93</td><td>2019-03-01</td></tr><tr><td>2508.45</td><td>2019-04-01</td></tr><tr><td>2552.69</td><td>2019-05-01</td></tr><tr><td>2626.1</td><td>2019-06-01</td></tr><tr><td>2659.55</td><td>2019-07-01</td></tr><tr><td>2656.69</td><td>2019-08-01</td></tr><tr><td>2684.26</td><td>2019-09-01</td></tr><tr><td>2791.98</td><td>2019-10-01</td></tr><tr><td>2890.26</td><td>2019-11-01</td></tr><tr><td>3197.58</td><td>2019-12-01</td></tr><tr><td>3077.28</td><td>2020-01-01</td></tr><tr><td>2963.81</td><td>2020-02-01</td></tr><tr><td>2494.1</td><td>2020-03-01</td></tr><tr><td>2603.62</td><td>2020-04-01</td></tr><tr><td>2657.68</td><td>2020-05-01</td></tr><tr><td>2806.28</td><td>2020-06-01</td></tr><tr><td>2733.12</td><td>2020-07-01</td></tr><tr><td>2782.1</td><td>2020-08-01</td></tr><tr><td>2794.88</td><td>2020-09-01</td></tr><tr><td>2766.76</td><td>2020-10-01</td></tr><tr><td>2808.56</td><td>2020-11-01</td></tr><tr><td>2870.15</td><td>2020-12-01</td></tr><tr><td>2879.45</td><td>2021-01-01</td></tr><tr><td>2886.53</td><td>2021-02-01</td></tr><tr><td>2846.77</td><td>2021-03-01</td></tr><tr><td>2861.15</td><td>2021-04-01</td></tr><tr><td>2816.46</td><td>2021-05-01</td></tr><tr><td>2754.89</td><td>2021-06-01</td></tr><tr><td>2824.12</td><td>2021-07-01</td></tr><tr><td>2749.84</td><td>2021-08-01</td></tr><tr><td>2715.67</td><td>2021-09-01</td></tr><tr><td>2675.68</td><td>2021-10-01</td></tr><tr><td>2578.4</td><td>2021-11-01</td></tr><tr><td>2804.79</td><td>2021-12-01</td></tr><tr><td>2776.92</td><td>2022-01-01</td></tr><tr><td>2741.15</td><td>2022-02-01</td></tr><tr><td>2779.97</td><td>2022-03-01</td></tr><tr><td>2813.06</td><td>2022-04-01</td></tr><tr><td>2820.45</td><td>2022-05-01</td></tr><tr><td>2795.62</td><td>2022-06-01</td></tr><tr><td>2814.1</td><td>2022-07-01</td></tr><tr><td>2976.23</td><td>2022-08-01</td></tr><tr><td>2990.8</td><td>2022-09-01</td></tr><tr><td>2991.45</td><td>2022-10-01</td></tr><tr><td>2867.21</td><td>2022-11-01</td></tr><tr><td>2867.13</td><td>2022-12-01</td></tr><tr><td>2821.14</td><td>2023-01-01</td></tr><tr><td>2808.39</td><td>2023-02-01</td></tr><tr><td>2760.96</td><td>2023-03-01</td></tr><tr><td>2858.23</td><td>2023-04-01</td></tr><tr><td>3013.46</td><td>2023-05-01</td></tr><tr><td>3155.32</td><td>2023-06-01</td></tr><tr><td>3197.18</td><td>2023-07-01</td></tr><tr><td>3212.81</td><td>2023-08-01</td></tr><tr><td>3219.28</td><td>2023-09-01</td></tr><tr><td>3155.7</td><td>2023-10-01</td></tr><tr><td>3176.56</td><td>2023-11-01</td></tr><tr><td>3311.43</td><td>2023-12-01</td></tr><tr><td>3333.51</td><td>2024-01-01</td></tr><tr><td>3360.0</td><td>2024-02-01</td></tr><tr><td>3382.28</td><td>2024-03-01</td></tr></tbody></table></div>"
      ]
     },
     "metadata": {
      "application/vnd.databricks.v1+output": {
       "addedWidgets": {},
       "aggData": [],
       "aggError": "",
       "aggOverflow": false,
       "aggSchema": [],
       "aggSeriesLimitReached": false,
       "aggType": "",
       "arguments": {},
       "columnCustomDisplayInfos": {},
       "data": [
        [
         1613.76,
         "2013-01-01"
        ],
        [
         1597.88,
         "2013-02-01"
        ],
        [
         1579.32,
         "2013-03-01"
        ],
        [
         1549.0,
         "2013-04-01"
        ],
        [
         1549.36,
         "2013-05-01"
        ],
        [
         1437.76,
         "2013-06-01"
        ],
        [
         1427.11,
         "2013-07-01"
        ],
        [
         1375.07,
         "2013-08-01"
        ],
        [
         1400.93,
         "2013-09-01"
        ],
        [
         1423.1,
         "2013-10-01"
        ],
        [
         1411.67,
         "2013-11-01"
        ],
        [
         1374.7,
         "2013-12-01"
        ],
        [
         1282.04,
         "2014-01-01"
        ],
        [
         1330.42,
         "2014-02-01"
        ],
        [
         1336.07,
         "2014-03-01"
        ],
        [
         1350.76,
         "2014-04-01"
        ],
        [
         1369.25,
         "2014-05-01"
        ],
        [
         1387.63,
         "2014-06-01"
        ],
        [
         1409.42,
         "2014-07-01"
        ],
        [
         1413.1,
         "2014-08-01"
        ],
        [
         1421.44,
         "2014-09-01"
        ],
        [
         1402.46,
         "2014-10-01"
        ],
        [
         1361.51,
         "2014-11-01"
        ],
        [
         1336.72,
         "2014-12-01"
        ],
        [
         1372.06,
         "2015-01-01"
        ],
        [
         1369.42,
         "2015-02-01"
        ],
        [
         1347.63,
         "2015-03-01"
        ],
        [
         1397.06,
         "2015-04-01"
        ],
        [
         1417.54,
         "2015-05-01"
        ],
        [
         1460.46,
         "2015-06-01"
        ],
        [
         1470.73,
         "2015-07-01"
        ],
        [
         1458.12,
         "2015-08-01"
        ],
        [
         1400.42,
         "2015-09-01"
        ],
        [
         1430.17,
         "2015-10-01"
        ],
        [
         1452.66,
         "2015-11-01"
        ],
        [
         1409.01,
         "2015-12-01"
        ],
        [
         1322.95,
         "2016-01-01"
        ],
        [
         1361.05,
         "2016-02-01"
        ],
        [
         1485.75,
         "2016-03-01"
        ],
        [
         1554.17,
         "2016-04-01"
        ],
        [
         1612.36,
         "2016-05-01"
        ],
        [
         1638.16,
         "2016-06-01"
        ],
        [
         1735.99,
         "2016-07-01"
        ],
        [
         1767.11,
         "2016-08-01"
        ],
        [
         1816.05,
         "2016-09-01"
        ],
        [
         1885.92,
         "2016-10-01"
        ],
        [
         1837.13,
         "2016-11-01"
        ],
        [
         1864.61,
         "2016-12-01"
        ],
        [
         1934.69,
         "2017-01-01"
        ],
        [
         2028.86,
         "2017-02-01"
        ],
        [
         2032.81,
         "2017-03-01"
        ],
        [
         2035.85,
         "2017-04-01"
        ],
        [
         2056.75,
         "2017-05-01"
        ],
        [
         2074.14,
         "2017-06-01"
        ],
        [
         2066.19,
         "2017-07-01"
        ],
        [
         2084.0,
         "2017-08-01"
        ],
        [
         2221.05,
         "2017-09-01"
        ],
        [
         2226.25,
         "2017-10-01"
        ],
        [
         2213.08,
         "2017-11-01"
        ],
        [
         2226.46,
         "2017-12-01"
        ],
        [
         2285.23,
         "2018-01-01"
        ],
        [
         2311.41,
         "2018-02-01"
        ],
        [
         2357.54,
         "2018-03-01"
        ],
        [
         2337.25,
         "2018-04-01"
        ],
        [
         2214.11,
         "2018-05-01"
        ],
        [
         2125.22,
         "2018-06-01"
        ],
        [
         2154.45,
         "2018-07-01"
        ],
        [
         2139.4,
         "2018-08-01"
        ],
        [
         2134.81,
         "2018-09-01"
        ],
        [
         2242.45,
         "2018-10-01"
        ],
        [
         2300.48,
         "2018-11-01"
        ],
        [
         2351.59,
         "2018-12-01"
        ],
        [
         2409.69,
         "2019-01-01"
        ],
        [
         2434.56,
         "2019-02-01"
        ],
        [
         2482.93,
         "2019-03-01"
        ],
        [
         2508.45,
         "2019-04-01"
        ],
        [
         2552.69,
         "2019-05-01"
        ],
        [
         2626.1,
         "2019-06-01"
        ],
        [
         2659.55,
         "2019-07-01"
        ],
        [
         2656.69,
         "2019-08-01"
        ],
        [
         2684.26,
         "2019-09-01"
        ],
        [
         2791.98,
         "2019-10-01"
        ],
        [
         2890.26,
         "2019-11-01"
        ],
        [
         3197.58,
         "2019-12-01"
        ],
        [
         3077.28,
         "2020-01-01"
        ],
        [
         2963.81,
         "2020-02-01"
        ],
        [
         2494.1,
         "2020-03-01"
        ],
        [
         2603.62,
         "2020-04-01"
        ],
        [
         2657.68,
         "2020-05-01"
        ],
        [
         2806.28,
         "2020-06-01"
        ],
        [
         2733.12,
         "2020-07-01"
        ],
        [
         2782.1,
         "2020-08-01"
        ],
        [
         2794.88,
         "2020-09-01"
        ],
        [
         2766.76,
         "2020-10-01"
        ],
        [
         2808.56,
         "2020-11-01"
        ],
        [
         2870.15,
         "2020-12-01"
        ],
        [
         2879.45,
         "2021-01-01"
        ],
        [
         2886.53,
         "2021-02-01"
        ],
        [
         2846.77,
         "2021-03-01"
        ],
        [
         2861.15,
         "2021-04-01"
        ],
        [
         2816.46,
         "2021-05-01"
        ],
        [
         2754.89,
         "2021-06-01"
        ],
        [
         2824.12,
         "2021-07-01"
        ],
        [
         2749.84,
         "2021-08-01"
        ],
        [
         2715.67,
         "2021-09-01"
        ],
        [
         2675.68,
         "2021-10-01"
        ],
        [
         2578.4,
         "2021-11-01"
        ],
        [
         2804.79,
         "2021-12-01"
        ],
        [
         2776.92,
         "2022-01-01"
        ],
        [
         2741.15,
         "2022-02-01"
        ],
        [
         2779.97,
         "2022-03-01"
        ],
        [
         2813.06,
         "2022-04-01"
        ],
        [
         2820.45,
         "2022-05-01"
        ],
        [
         2795.62,
         "2022-06-01"
        ],
        [
         2814.1,
         "2022-07-01"
        ],
        [
         2976.23,
         "2022-08-01"
        ],
        [
         2990.8,
         "2022-09-01"
        ],
        [
         2991.45,
         "2022-10-01"
        ],
        [
         2867.21,
         "2022-11-01"
        ],
        [
         2867.13,
         "2022-12-01"
        ],
        [
         2821.14,
         "2023-01-01"
        ],
        [
         2808.39,
         "2023-02-01"
        ],
        [
         2760.96,
         "2023-03-01"
        ],
        [
         2858.23,
         "2023-04-01"
        ],
        [
         3013.46,
         "2023-05-01"
        ],
        [
         3155.32,
         "2023-06-01"
        ],
        [
         3197.18,
         "2023-07-01"
        ],
        [
         3212.81,
         "2023-08-01"
        ],
        [
         3219.28,
         "2023-09-01"
        ],
        [
         3155.7,
         "2023-10-01"
        ],
        [
         3176.56,
         "2023-11-01"
        ],
        [
         3311.43,
         "2023-12-01"
        ],
        [
         3333.51,
         "2024-01-01"
        ],
        [
         3360.0,
         "2024-02-01"
        ],
        [
         3382.28,
         "2024-03-01"
        ]
       ],
       "datasetInfos": [],
       "dbfsResultPath": null,
       "isJsonSchema": true,
       "metadata": {},
       "overflow": false,
       "plotOptions": {
        "customPlotOptions": {},
        "displayType": "table",
        "pivotAggregation": null,
        "pivotColumns": null,
        "xColumns": null,
        "yColumns": null
       },
       "removedWidgets": [],
       "schema": [
        {
         "metadata": "{}",
         "name": "IFIX",
         "type": "\"double\""
        },
        {
         "metadata": "{}",
         "name": "Data",
         "type": "\"date\""
        }
       ],
       "type": "table"
      }
     },
     "output_type": "display_data"
    },
    {
     "output_type": "display_data",
     "data": {
      "text/plain": [
       "Databricks visualization. Run in Databricks to view."
      ]
     },
     "metadata": {
      "application/vnd.databricks.v1.subcommand+json": {
       "baseErrorDetails": null,
       "bindings": {},
       "collapsed": false,
       "command": "display(ifix)",
       "commandTitle": "Visualization 1",
       "commandType": "auto",
       "commandVersion": 0,
       "commentThread": [],
       "commentsVisible": false,
       "contentSha256Hex": null,
       "customPlotOptions": {
        "boxPlot": [],
        "plotlyBar": [
         {
          "key": "grouped",
          "value": true
         },
         {
          "key": "stacked",
          "value": false
         },
         {
          "key": "100_stacked",
          "value": false
         }
        ]
       },
       "datasetPreviewNameToCmdIdMap": {},
       "diffDeletes": [],
       "diffInserts": [],
       "displayType": "boxPlot",
       "error": null,
       "errorDetails": null,
       "errorSummary": null,
       "errorTraceType": null,
       "finishTime": 0,
       "globalVars": {},
       "guid": "",
       "height": "251",
       "hideCommandCode": false,
       "hideCommandResult": false,
       "iPythonMetadata": null,
       "inputWidgets": {},
       "isLockedInExamMode": false,
       "latestUser": "a user",
       "latestUserId": null,
       "listResultMetadata": null,
       "metadata": {
        "byteLimit": 2048000,
        "rowLimit": 10000
       },
       "nuid": "bab02fb9-13cd-4625-9a2a-4bb50bc77519",
       "origId": 0,
       "parentHierarchy": [],
       "pivotAggregation": "sum",
       "pivotColumns": [],
       "position": 17.375,
       "resultDbfsErrorMessage": null,
       "resultDbfsStatus": "INLINED_IN_TREE",
       "results": null,
       "showCommandTitle": false,
       "startTime": 0,
       "state": "input",
       "streamStates": {},
       "subcommandOptions": null,
       "submitTime": 0,
       "subtype": "tableResultSubCmd.visualization",
       "tableResultIndex": 0,
       "useConsistentColors": false,
       "version": "CommandV1",
       "width": "744",
       "workflows": [],
       "xColumns": [],
       "yColumns": [
        "IFIX"
       ]
      }
     },
     "output_type": "display_data"
    }
   ],
   "source": [
    "display(ifixConcat)"
   ]
  },
  {
   "cell_type": "code",
   "execution_count": 0,
   "metadata": {
    "application/vnd.databricks.v1+cell": {
     "cellMetadata": {
      "byteLimit": 2048000,
      "rowLimit": 10000
     },
     "inputWidgets": {},
     "nuid": "77044907-4132-4670-ad53-91327b723c07",
     "showTitle": false,
     "title": ""
    }
   },
   "outputs": [
    {
     "output_type": "stream",
     "name": "stdout",
     "output_type": "stream",
     "text": [
      "+-------+-----------------+\n|summary|             IFIX|\n+-------+-----------------+\n|  count|              135|\n|   mean|2243.024074074075|\n| stddev|647.2107060950273|\n|    min|          1282.04|\n|    max|          3382.28|\n+-------+-----------------+\n\n"
     ]
    }
   ],
   "source": [
    "ifixConcat.describe().show()"
   ]
  },
  {
   "cell_type": "markdown",
   "metadata": {
    "application/vnd.databricks.v1+cell": {
     "cellMetadata": {
      "byteLimit": 2048000,
      "rowLimit": 10000
     },
     "inputWidgets": {},
     "nuid": "2f7e44a9-aa7e-4002-8115-79e2ae1ac7a6",
     "showTitle": false,
     "title": ""
    }
   },
   "source": [
    "#### Dataset SELIC  "
   ]
  },
  {
   "cell_type": "code",
   "execution_count": 0,
   "metadata": {
    "application/vnd.databricks.v1+cell": {
     "cellMetadata": {
      "byteLimit": 2048000,
      "rowLimit": 10000
     },
     "inputWidgets": {},
     "nuid": "6bdefe70-1a80-4fed-bc3a-3034c969513b",
     "showTitle": false,
     "title": ""
    }
   },
   "outputs": [],
   "source": [
    "selic = spark.read.format('csv').options(inferSchema=True, header='true',delimiter=';').load(historicoSELIC)"
   ]
  },
  {
   "cell_type": "code",
   "execution_count": 0,
   "metadata": {
    "application/vnd.databricks.v1+cell": {
     "cellMetadata": {
      "byteLimit": 2048000,
      "rowLimit": 10000
     },
     "inputWidgets": {},
     "nuid": "41d017e2-a9cf-4a0c-b712-ba0be1347f15",
     "showTitle": false,
     "title": ""
    }
   },
   "outputs": [
    {
     "output_type": "stream",
     "name": "stdout",
     "output_type": "stream",
     "text": [
      "+----------+----------+\n|      Data|Taxa SELIC|\n+----------+----------+\n|2014-01-02|       9,9|\n|2014-01-03|       9,9|\n|2014-01-06|       9,9|\n|2014-01-07|       9,9|\n|2014-01-08|       9,9|\n+----------+----------+\nonly showing top 5 rows\n\n"
     ]
    }
   ],
   "source": [
    "selic.show(5)"
   ]
  },
  {
   "cell_type": "code",
   "execution_count": 0,
   "metadata": {
    "application/vnd.databricks.v1+cell": {
     "cellMetadata": {
      "byteLimit": 2048000,
      "rowLimit": 10000
     },
     "inputWidgets": {},
     "nuid": "d1cfc8a7-69a2-41e3-90b2-d23a4e4bf9e8",
     "showTitle": false,
     "title": ""
    }
   },
   "outputs": [
    {
     "output_type": "stream",
     "name": "stdout",
     "output_type": "stream",
     "text": [
      "root\n |-- Data: date (nullable = true)\n |-- Taxa SELIC: string (nullable = true)\n\n"
     ]
    }
   ],
   "source": [
    "selic.printSchema()"
   ]
  },
  {
   "cell_type": "code",
   "execution_count": 0,
   "metadata": {
    "application/vnd.databricks.v1+cell": {
     "cellMetadata": {
      "byteLimit": 2048000,
      "rowLimit": 10000
     },
     "inputWidgets": {},
     "nuid": "7467bae3-188f-4dca-ac74-a20afb57890c",
     "showTitle": false,
     "title": ""
    }
   },
   "outputs": [
    {
     "output_type": "stream",
     "name": "stdout",
     "output_type": "stream",
     "text": [
      "+-----+----------+\n|SELIC|      Data|\n+-----+----------+\n|  9,9|2014-01-02|\n|  9,9|2014-01-03|\n|  9,9|2014-01-06|\n|  9,9|2014-01-07|\n|  9,9|2014-01-08|\n+-----+----------+\nonly showing top 5 rows\n\n"
     ]
    }
   ],
   "source": [
    "# Renomeando a coluna Taxa SELIC para apenas SELIC\n",
    "selic = selic.select(F.col('Taxa SELIC').alias(\"SELIC\"), F.col('Data').alias(\"Data\"))\n",
    "selic.show(5)"
   ]
  },
  {
   "cell_type": "code",
   "execution_count": 0,
   "metadata": {
    "application/vnd.databricks.v1+cell": {
     "cellMetadata": {
      "byteLimit": 2048000,
      "rowLimit": 10000
     },
     "inputWidgets": {},
     "nuid": "84a847be-390e-4713-9417-e17b3f7b6ad9",
     "showTitle": false,
     "title": ""
    }
   },
   "outputs": [
    {
     "output_type": "stream",
     "name": "stdout",
     "output_type": "stream",
     "text": [
      "+-----+----------+\n|SELIC|      Data|\n+-----+----------+\n|  9.9|2014-01-02|\n|  9.9|2014-01-03|\n|  9.9|2014-01-06|\n|  9.9|2014-01-07|\n|  9.9|2014-01-08|\n+-----+----------+\nonly showing top 5 rows\n\n"
     ]
    }
   ],
   "source": [
    "# Trocando virgula por ponto\n",
    "selic = selic.withColumn(\"SELIC\", F.regexp_replace(F.col(\"SELIC\"), \"[,]\", \".\")) # trocando ',' por '.'\n",
    "selic.show(5)"
   ]
  },
  {
   "cell_type": "code",
   "execution_count": 0,
   "metadata": {
    "application/vnd.databricks.v1+cell": {
     "cellMetadata": {
      "byteLimit": 2048000,
      "rowLimit": 10000
     },
     "inputWidgets": {},
     "nuid": "5612bc7e-5130-49c6-acbe-10b3ae335278",
     "showTitle": false,
     "title": ""
    }
   },
   "outputs": [
    {
     "output_type": "stream",
     "name": "stdout",
     "output_type": "stream",
     "text": [
      "+-----+----------+----------+\n|SELIC|      Data|ultimo_dia|\n+-----+----------+----------+\n| 10.4|2014-01-31|2014-01-31|\n|10.65|2014-02-28|2014-02-28|\n|10.65|2014-03-31|2014-03-31|\n| 10.9|2014-04-30|2014-04-30|\n| 10.9|2014-06-30|2014-06-30|\n+-----+----------+----------+\nonly showing top 5 rows\n\n"
     ]
    }
   ],
   "source": [
    "# Adicione uma nova coluna contendo o último dia de cada mês\n",
    "selicData = selic.withColumn(\"ultimo_dia\", last_day(\"Data\"))\n",
    "# Filtrando pelo último dia de cada mês\n",
    "selicData = selicData.filter(dayofmonth(\"Data\") == dayofmonth(\"ultimo_dia\"))\n",
    "selicData.show(5)"
   ]
  },
  {
   "cell_type": "code",
   "execution_count": 0,
   "metadata": {
    "application/vnd.databricks.v1+cell": {
     "cellMetadata": {
      "byteLimit": 2048000,
      "rowLimit": 10000
     },
     "inputWidgets": {},
     "nuid": "584de447-06d2-47a6-9185-b35d47db9080",
     "showTitle": false,
     "title": ""
    }
   },
   "outputs": [
    {
     "output_type": "stream",
     "name": "stdout",
     "output_type": "stream",
     "text": [
      "root\n |-- Data: date (nullable = true)\n |-- SELIC: string (nullable = true)\n\n"
     ]
    }
   ],
   "source": [
    "# Selecionando as colunas neessárias\n",
    "selicFinal = selicData.select('Data', 'SELIC')\n",
    "selicFinal.printSchema()"
   ]
  },
  {
   "cell_type": "code",
   "execution_count": 0,
   "metadata": {
    "application/vnd.databricks.v1+cell": {
     "cellMetadata": {
      "byteLimit": 2048000,
      "rowLimit": 10000
     },
     "inputWidgets": {},
     "nuid": "b3e8af20-1d3f-44c9-83cc-7314189f431b",
     "showTitle": false,
     "title": ""
    }
   },
   "outputs": [
    {
     "output_type": "display_data",
     "data": {
      "text/html": [
       "<style scoped>\n",
       "  .table-result-container {\n",
       "    max-height: 300px;\n",
       "    overflow: auto;\n",
       "  }\n",
       "  table, th, td {\n",
       "    border: 1px solid black;\n",
       "    border-collapse: collapse;\n",
       "  }\n",
       "  th, td {\n",
       "    padding: 5px;\n",
       "  }\n",
       "  th {\n",
       "    text-align: left;\n",
       "  }\n",
       "</style><div class='table-result-container'><table class='table-result'><thead style='background-color: white'><tr><th>Data</th><th>SELIC</th></tr></thead><tbody><tr><td>2014-01-31</td><td>10.4</td></tr><tr><td>2014-02-28</td><td>10.65</td></tr><tr><td>2014-03-31</td><td>10.65</td></tr><tr><td>2014-04-30</td><td>10.9</td></tr><tr><td>2014-06-30</td><td>10.9</td></tr><tr><td>2014-07-31</td><td>10.9</td></tr><tr><td>2014-09-30</td><td>10.9</td></tr><tr><td>2014-10-31</td><td>11.15</td></tr><tr><td>2014-12-31</td><td>11.65</td></tr><tr><td>2015-03-31</td><td>12.65</td></tr><tr><td>2015-04-30</td><td>13.15</td></tr><tr><td>2015-06-30</td><td>13.65</td></tr><tr><td>2015-07-31</td><td>14.15</td></tr><tr><td>2015-08-31</td><td>14.15</td></tr><tr><td>2015-09-30</td><td>14.15</td></tr><tr><td>2015-11-30</td><td>14.15</td></tr><tr><td>2015-12-31</td><td>14.15</td></tr><tr><td>2016-02-29</td><td>14.15</td></tr><tr><td>2016-03-31</td><td>14.15</td></tr><tr><td>2016-05-31</td><td>14.15</td></tr><tr><td>2016-06-30</td><td>14.15</td></tr><tr><td>2016-08-31</td><td>14.15</td></tr><tr><td>2016-09-30</td><td>14.15</td></tr><tr><td>2016-10-31</td><td>13.9</td></tr><tr><td>2016-11-30</td><td>13.9</td></tr><tr><td>2017-01-31</td><td>12.9</td></tr><tr><td>2017-03-31</td><td>12.15</td></tr><tr><td>2017-05-31</td><td>11.15</td></tr><tr><td>2017-06-30</td><td>10.15</td></tr><tr><td>2017-07-31</td><td>9.15</td></tr><tr><td>2017-08-31</td><td>9.15</td></tr><tr><td>2017-10-31</td><td>7.4</td></tr><tr><td>2017-11-30</td><td>7.4</td></tr><tr><td>2018-01-31</td><td>6.9</td></tr><tr><td>2018-02-28</td><td>6.65</td></tr><tr><td>2018-04-30</td><td>6.4</td></tr><tr><td>2018-07-31</td><td>6.4</td></tr><tr><td>2018-08-31</td><td>6.4</td></tr><tr><td>2018-10-31</td><td>6.4</td></tr><tr><td>2018-11-30</td><td>6.4</td></tr><tr><td>2018-12-31</td><td>6.4</td></tr><tr><td>2019-01-31</td><td>6.4</td></tr><tr><td>2019-02-28</td><td>6.4</td></tr><tr><td>2019-04-30</td><td>6.4</td></tr><tr><td>2019-05-31</td><td>6.4</td></tr><tr><td>2019-07-31</td><td>6.4</td></tr><tr><td>2019-09-30</td><td>5.4</td></tr><tr><td>2019-10-31</td><td>4.9</td></tr><tr><td>2019-12-31</td><td>4.4</td></tr><tr><td>2020-01-31</td><td>4.4</td></tr><tr><td>2020-03-31</td><td>3.65</td></tr><tr><td>2020-04-30</td><td>3.65</td></tr><tr><td>2020-06-30</td><td>2.15</td></tr><tr><td>2020-07-31</td><td>2.15</td></tr><tr><td>2020-08-31</td><td>1.9</td></tr><tr><td>2020-09-30</td><td>1.9</td></tr><tr><td>2020-11-30</td><td>1.9</td></tr><tr><td>2020-12-31</td><td>1.9</td></tr><tr><td>2021-03-31</td><td>2.65</td></tr><tr><td>2021-04-30</td><td>2.65</td></tr><tr><td>2021-05-31</td><td>3.4</td></tr><tr><td>2021-06-30</td><td>4.15</td></tr><tr><td>2021-08-31</td><td>5.15</td></tr><tr><td>2021-09-30</td><td>6.15</td></tr><tr><td>2021-11-30</td><td>7.65</td></tr><tr><td>2021-12-31</td><td>9.15</td></tr><tr><td>2022-01-31</td><td>9.15</td></tr><tr><td>2022-03-31</td><td>11.65</td></tr><tr><td>2022-05-31</td><td>12.65</td></tr><tr><td>2022-06-30</td><td>13.15</td></tr><tr><td>2022-08-31</td><td>13.65</td></tr><tr><td>2022-09-30</td><td>13.65</td></tr><tr><td>2022-10-31</td><td>13.65</td></tr><tr><td>2022-11-30</td><td>13.65</td></tr><tr><td>2023-01-31</td><td>13.65</td></tr><tr><td>2023-02-28</td><td>13.65</td></tr><tr><td>2023-03-31</td><td>13.65</td></tr><tr><td>2023-05-31</td><td>13.65</td></tr><tr><td>2023-06-30</td><td>13.65</td></tr><tr><td>2023-07-31</td><td>13.65</td></tr><tr><td>2023-08-31</td><td>13.15</td></tr><tr><td>2023-10-31</td><td>12.65</td></tr><tr><td>2023-11-30</td><td>12.15</td></tr><tr><td>2024-01-31</td><td>11.65</td></tr><tr><td>2024-02-29</td><td>11.15</td></tr></tbody></table></div>"
      ]
     },
     "metadata": {
      "application/vnd.databricks.v1+output": {
       "addedWidgets": {},
       "aggData": [],
       "aggError": "",
       "aggOverflow": false,
       "aggSchema": [],
       "aggSeriesLimitReached": false,
       "aggType": "",
       "arguments": {},
       "columnCustomDisplayInfos": {},
       "data": [
        [
         "2014-01-31",
         10.4
        ],
        [
         "2014-02-28",
         10.65
        ],
        [
         "2014-03-31",
         10.65
        ],
        [
         "2014-04-30",
         10.9
        ],
        [
         "2014-06-30",
         10.9
        ],
        [
         "2014-07-31",
         10.9
        ],
        [
         "2014-09-30",
         10.9
        ],
        [
         "2014-10-31",
         11.15
        ],
        [
         "2014-12-31",
         11.65
        ],
        [
         "2015-03-31",
         12.65
        ],
        [
         "2015-04-30",
         13.15
        ],
        [
         "2015-06-30",
         13.65
        ],
        [
         "2015-07-31",
         14.15
        ],
        [
         "2015-08-31",
         14.15
        ],
        [
         "2015-09-30",
         14.15
        ],
        [
         "2015-11-30",
         14.15
        ],
        [
         "2015-12-31",
         14.15
        ],
        [
         "2016-02-29",
         14.15
        ],
        [
         "2016-03-31",
         14.15
        ],
        [
         "2016-05-31",
         14.15
        ],
        [
         "2016-06-30",
         14.15
        ],
        [
         "2016-08-31",
         14.15
        ],
        [
         "2016-09-30",
         14.15
        ],
        [
         "2016-10-31",
         13.9
        ],
        [
         "2016-11-30",
         13.9
        ],
        [
         "2017-01-31",
         12.9
        ],
        [
         "2017-03-31",
         12.15
        ],
        [
         "2017-05-31",
         11.15
        ],
        [
         "2017-06-30",
         10.15
        ],
        [
         "2017-07-31",
         9.15
        ],
        [
         "2017-08-31",
         9.15
        ],
        [
         "2017-10-31",
         7.4
        ],
        [
         "2017-11-30",
         7.4
        ],
        [
         "2018-01-31",
         6.9
        ],
        [
         "2018-02-28",
         6.65
        ],
        [
         "2018-04-30",
         6.4
        ],
        [
         "2018-07-31",
         6.4
        ],
        [
         "2018-08-31",
         6.4
        ],
        [
         "2018-10-31",
         6.4
        ],
        [
         "2018-11-30",
         6.4
        ],
        [
         "2018-12-31",
         6.4
        ],
        [
         "2019-01-31",
         6.4
        ],
        [
         "2019-02-28",
         6.4
        ],
        [
         "2019-04-30",
         6.4
        ],
        [
         "2019-05-31",
         6.4
        ],
        [
         "2019-07-31",
         6.4
        ],
        [
         "2019-09-30",
         5.4
        ],
        [
         "2019-10-31",
         4.9
        ],
        [
         "2019-12-31",
         4.4
        ],
        [
         "2020-01-31",
         4.4
        ],
        [
         "2020-03-31",
         3.65
        ],
        [
         "2020-04-30",
         3.65
        ],
        [
         "2020-06-30",
         2.15
        ],
        [
         "2020-07-31",
         2.15
        ],
        [
         "2020-08-31",
         1.9
        ],
        [
         "2020-09-30",
         1.9
        ],
        [
         "2020-11-30",
         1.9
        ],
        [
         "2020-12-31",
         1.9
        ],
        [
         "2021-03-31",
         2.65
        ],
        [
         "2021-04-30",
         2.65
        ],
        [
         "2021-05-31",
         3.4
        ],
        [
         "2021-06-30",
         4.15
        ],
        [
         "2021-08-31",
         5.15
        ],
        [
         "2021-09-30",
         6.15
        ],
        [
         "2021-11-30",
         7.65
        ],
        [
         "2021-12-31",
         9.15
        ],
        [
         "2022-01-31",
         9.15
        ],
        [
         "2022-03-31",
         11.65
        ],
        [
         "2022-05-31",
         12.65
        ],
        [
         "2022-06-30",
         13.15
        ],
        [
         "2022-08-31",
         13.65
        ],
        [
         "2022-09-30",
         13.65
        ],
        [
         "2022-10-31",
         13.65
        ],
        [
         "2022-11-30",
         13.65
        ],
        [
         "2023-01-31",
         13.65
        ],
        [
         "2023-02-28",
         13.65
        ],
        [
         "2023-03-31",
         13.65
        ],
        [
         "2023-05-31",
         13.65
        ],
        [
         "2023-06-30",
         13.65
        ],
        [
         "2023-07-31",
         13.65
        ],
        [
         "2023-08-31",
         13.15
        ],
        [
         "2023-10-31",
         12.65
        ],
        [
         "2023-11-30",
         12.15
        ],
        [
         "2024-01-31",
         11.65
        ],
        [
         "2024-02-29",
         11.15
        ]
       ],
       "datasetInfos": [],
       "dbfsResultPath": null,
       "isJsonSchema": true,
       "metadata": {},
       "overflow": false,
       "plotOptions": {
        "customPlotOptions": {},
        "displayType": "table",
        "pivotAggregation": null,
        "pivotColumns": null,
        "xColumns": null,
        "yColumns": null
       },
       "removedWidgets": [],
       "schema": [
        {
         "metadata": "{\"__detected_date_formats\":\"d/M/yyyy\"}",
         "name": "Data",
         "type": "\"date\""
        },
        {
         "metadata": "{}",
         "name": "SELIC",
         "type": "\"double\""
        }
       ],
       "type": "table"
      }
     },
     "output_type": "display_data"
    },
    {
     "output_type": "display_data",
     "data": {
      "text/plain": [
       "Databricks visualization. Run in Databricks to view."
      ]
     },
     "metadata": {
      "application/vnd.databricks.v1.subcommand+json": {
       "baseErrorDetails": null,
       "bindings": {},
       "collapsed": false,
       "command": "%python\n__backend_agg_display_orig = display\n__backend_agg_dfs = []\ndef __backend_agg_display_new(df):\n    __backend_agg_df_modules = [\"pandas.core.frame\", \"databricks.koalas.frame\", \"pyspark.sql.dataframe\", \"pyspark.pandas.frame\", \"pyspark.sql.connect.dataframe\"]\n    if (type(df).__module__ in __backend_agg_df_modules and type(df).__name__ == 'DataFrame') or isinstance(df, list):\n        __backend_agg_dfs.append(df)\n\ndisplay = __backend_agg_display_new\n\ndef __backend_agg_user_code_fn():\n    import base64\n    exec(base64.standard_b64decode(\"c2VsaWMgPSBzZWxpYy53aXRoQ29sdW1uKCJTRUxJQyIsIGNvbCgiU0VMSUMiKS5jYXN0KCJmbG9hdCIpKSAjIHRyb2NhbmRvIHZhbG9yIHN0cmluZyBwYXJhIGZsb2F0CmRpc3BsYXkoc2VsaWMp\").decode())\n\ntry:\n    # run user code\n    __backend_agg_user_code_fn()\n\n    #reset display function\n    display = __backend_agg_display_orig\n\n    if len(__backend_agg_dfs) > 0:\n        # create a temp view\n        if type(__backend_agg_dfs[0]).__module__ == \"databricks.koalas.frame\":\n            # koalas dataframe\n            __backend_agg_dfs[0].to_spark().createOrReplaceTempView(\"DatabricksViewad2a972\")\n        elif type(__backend_agg_dfs[0]).__module__ == \"pandas.core.frame\" or isinstance(__backend_agg_dfs[0], list):\n            # pandas dataframe\n            spark.createDataFrame(__backend_agg_dfs[0]).createOrReplaceTempView(\"DatabricksViewad2a972\")\n        else:\n            __backend_agg_dfs[0].createOrReplaceTempView(\"DatabricksViewad2a972\")\n        #run backend agg\n        display(spark.sql(\"\"\"WITH q AS (select * from DatabricksViewad2a972) SELECT `SELIC` FROM q\"\"\"))\n    else:\n        displayHTML(\"dataframe no longer exists. If you're using dataframe.display(), use display(dataframe) instead.\")\n\n\nfinally:\n    spark.sql(\"drop view if exists DatabricksViewad2a972\")\n    display = __backend_agg_display_orig\n    del __backend_agg_display_new\n    del __backend_agg_display_orig\n    del __backend_agg_dfs\n    del __backend_agg_user_code_fn\n\n",
       "commandTitle": "Visualization 1",
       "commandType": "auto",
       "commandVersion": 0,
       "commentThread": [],
       "commentsVisible": false,
       "contentSha256Hex": null,
       "customPlotOptions": {
        "redashChart": [
         {
          "key": "type",
          "value": "CHART"
         },
         {
          "key": "options",
          "value": {
           "alignYAxesAtZero": true,
           "coefficient": 1,
           "columnConfigurationMap": {
            "y": [
             {
              "column": "SELIC",
              "id": "column_c77865a019"
             }
            ]
           },
           "dateTimeFormat": "DD/MM/YYYY HH:mm",
           "direction": {
            "type": "counterclockwise"
           },
           "error_y": {
            "type": "data",
            "visible": true
           },
           "globalSeriesType": "box",
           "legend": {
            "traceorder": "normal"
           },
           "missingValuesAsZero": true,
           "numberFormat": "0,0.[00000]",
           "percentFormat": "0[.]00%",
           "series": {
            "error_y": {
             "type": "data",
             "visible": true
            },
            "stacking": null
           },
           "seriesOptions": {
            "SELIC": {
             "name": "SELIC",
             "type": "box",
             "yAxis": 0
            },
            "column_c77865a019": {
             "name": "SELIC",
             "type": "box",
             "yAxis": 0
            }
           },
           "showDataLabels": false,
           "sizemode": "diameter",
           "sortX": true,
           "sortY": true,
           "swappedAxes": true,
           "textFormat": "",
           "useAggregationsUi": true,
           "valuesOptions": {},
           "version": 2,
           "xAxis": {
            "labels": {
             "enabled": true
            },
            "type": "-"
           },
           "yAxis": [
            {
             "type": "-"
            },
            {
             "opposite": true,
             "type": "-"
            }
           ]
          }
         }
        ]
       },
       "datasetPreviewNameToCmdIdMap": {},
       "diffDeletes": [],
       "diffInserts": [],
       "displayType": "redashChart",
       "error": null,
       "errorDetails": null,
       "errorSummary": null,
       "errorTraceType": null,
       "finishTime": 0,
       "globalVars": {},
       "guid": "",
       "height": "auto",
       "hideCommandCode": false,
       "hideCommandResult": false,
       "iPythonMetadata": null,
       "inputWidgets": {},
       "isLockedInExamMode": false,
       "latestUser": "a user",
       "latestUserId": null,
       "listResultMetadata": null,
       "metadata": {
        "byteLimit": 2048000,
        "rowLimit": 10000
       },
       "nuid": "566a1708-1650-4376-9de0-a6c07dc73c7a",
       "origId": 0,
       "parentHierarchy": [],
       "pivotAggregation": null,
       "pivotColumns": null,
       "position": 17.9921875,
       "resultDbfsErrorMessage": null,
       "resultDbfsStatus": "INLINED_IN_TREE",
       "results": null,
       "showCommandTitle": false,
       "startTime": 0,
       "state": "input",
       "streamStates": {},
       "subcommandOptions": {
        "queryPlan": {
         "selects": [
          {
           "column": "SELIC",
           "type": "column"
          }
         ]
        }
       },
       "submitTime": 0,
       "subtype": "tableResultSubCmd.visualization",
       "tableResultIndex": 0,
       "useConsistentColors": false,
       "version": "CommandV1",
       "width": "auto",
       "workflows": [],
       "xColumns": null,
       "yColumns": null
      }
     },
     "output_type": "display_data"
    }
   ],
   "source": [
    "# trocando valor string para double\n",
    "selicConcat = selicFinal.withColumn(\"SELIC\", col(\"SELIC\").cast(\"double\")) \n",
    "display(selicConcat)"
   ]
  },
  {
   "cell_type": "code",
   "execution_count": 0,
   "metadata": {
    "application/vnd.databricks.v1+cell": {
     "cellMetadata": {
      "byteLimit": 2048000,
      "rowLimit": 10000
     },
     "inputWidgets": {},
     "nuid": "f3fcf044-53e5-4966-b275-6001f22d3c6f",
     "showTitle": false,
     "title": ""
    }
   },
   "outputs": [
    {
     "output_type": "stream",
     "name": "stdout",
     "output_type": "stream",
     "text": [
      "root\n |-- Data: date (nullable = true)\n |-- SELIC: double (nullable = true)\n\n"
     ]
    }
   ],
   "source": [
    "selicConcat.printSchema()"
   ]
  },
  {
   "cell_type": "markdown",
   "metadata": {
    "application/vnd.databricks.v1+cell": {
     "cellMetadata": {
      "byteLimit": 2048000,
      "rowLimit": 10000
     },
     "inputWidgets": {},
     "nuid": "7be14e01-dbdb-40e7-9a2a-015ee3b0025a",
     "showTitle": false,
     "title": ""
    }
   },
   "source": [
    "# Concatenando Datasets"
   ]
  },
  {
   "cell_type": "markdown",
   "metadata": {
    "application/vnd.databricks.v1+cell": {
     "cellMetadata": {},
     "inputWidgets": {},
     "nuid": "43b4d774-938c-45b3-acb6-155f9f13c9d9",
     "showTitle": false,
     "title": ""
    }
   },
   "source": [
    "#### Ajustando os datasets"
   ]
  },
  {
   "cell_type": "code",
   "execution_count": 0,
   "metadata": {
    "application/vnd.databricks.v1+cell": {
     "cellMetadata": {
      "byteLimit": 2048000,
      "rowLimit": 10000
     },
     "inputWidgets": {},
     "nuid": "a013b1a6-3ab5-4ce9-9554-8895c247daae",
     "showTitle": false,
     "title": ""
    }
   },
   "outputs": [
    {
     "output_type": "stream",
     "name": "stdout",
     "output_type": "stream",
     "text": [
      "+-------+-------+\n|   IFIX|Mes_Ano|\n+-------+-------+\n|1613.76| 1-2013|\n|1597.88| 2-2013|\n|1579.32| 3-2013|\n| 1549.0| 4-2013|\n|1549.36| 5-2013|\n+-------+-------+\nonly showing top 5 rows\n\n"
     ]
    }
   ],
   "source": [
    "# Extraindo mês e ano da coluna de data\n",
    "ifixReg = ifixConcat.withColumn(\"Mes_Ano\", concat(month(\"Data\"), lit(\"-\"), year(\"Data\")))\n",
    "ifixReg = ifixReg.select('IFIX', 'Mes_Ano')\n",
    "ifixReg.show(5)"
   ]
  },
  {
   "cell_type": "code",
   "execution_count": 0,
   "metadata": {
    "application/vnd.databricks.v1+cell": {
     "cellMetadata": {
      "byteLimit": 2048000,
      "rowLimit": 10000
     },
     "inputWidgets": {},
     "nuid": "3bdef034-19da-4b26-b1f5-7a8e3bfbafd8",
     "showTitle": false,
     "title": ""
    }
   },
   "outputs": [
    {
     "output_type": "stream",
     "name": "stdout",
     "output_type": "stream",
     "text": [
      "+----+-------+\n| CDI|Mes_Ano|\n+----+-------+\n|6.95| 1-2013|\n|6.98| 2-2013|\n|7.23| 4-2013|\n|7.72| 5-2013|\n|8.22| 7-2013|\n+----+-------+\nonly showing top 5 rows\n\n"
     ]
    }
   ],
   "source": [
    "# Extraindo mês e ano da coluna de data\n",
    "cdiReg = cdiConcat.withColumn(\"Mes_Ano\", concat(month(\"Data\"), lit(\"-\"), year(\"Data\")))\n",
    "cdiReg = cdiReg.select('CDI', 'Mes_Ano')\n",
    "cdiReg.show(5)"
   ]
  },
  {
   "cell_type": "code",
   "execution_count": 0,
   "metadata": {
    "application/vnd.databricks.v1+cell": {
     "cellMetadata": {
      "byteLimit": 2048000,
      "rowLimit": 10000
     },
     "inputWidgets": {},
     "nuid": "415b4f00-c1bc-4b55-bbbe-596648503b45",
     "showTitle": false,
     "title": ""
    }
   },
   "outputs": [
    {
     "output_type": "stream",
     "name": "stdout",
     "output_type": "stream",
     "text": [
      "+-----+-------+\n|SELIC|Mes_Ano|\n+-----+-------+\n| 10.4| 1-2014|\n|10.65| 2-2014|\n|10.65| 3-2014|\n| 10.9| 4-2014|\n| 10.9| 6-2014|\n+-----+-------+\nonly showing top 5 rows\n\n"
     ]
    }
   ],
   "source": [
    "# Extraindo mês e ano da coluna de data\n",
    "selicReg = selicConcat.withColumn(\"Mes_Ano\", concat(month(\"Data\"), lit(\"-\"), year(\"Data\")))\n",
    "selicReg = selicReg.select('SELIC', 'Mes_Ano')\n",
    "selicReg.show(5)"
   ]
  },
  {
   "cell_type": "code",
   "execution_count": 0,
   "metadata": {
    "application/vnd.databricks.v1+cell": {
     "cellMetadata": {
      "byteLimit": 2048000,
      "rowLimit": 10000
     },
     "inputWidgets": {},
     "nuid": "4fc8ed73-5d15-41e0-9663-aa162a2c8886",
     "showTitle": false,
     "title": ""
    }
   },
   "outputs": [
    {
     "output_type": "stream",
     "name": "stdout",
     "output_type": "stream",
     "text": [
      "root\n |-- SELIC: double (nullable = true)\n |-- Mes_Ano: date (nullable = true)\n\n"
     ]
    }
   ],
   "source": [
    "selicReg.printSchema()"
   ]
  },
  {
   "cell_type": "markdown",
   "metadata": {
    "application/vnd.databricks.v1+cell": {
     "cellMetadata": {},
     "inputWidgets": {},
     "nuid": "dabc331b-83e6-42bb-820b-079d04247d8a",
     "showTitle": false,
     "title": ""
    }
   },
   "source": [
    "#### Dataset dos Indices"
   ]
  },
  {
   "cell_type": "code",
   "execution_count": 0,
   "metadata": {
    "application/vnd.databricks.v1+cell": {
     "cellMetadata": {
      "byteLimit": 2048000,
      "rowLimit": 10000
     },
     "inputWidgets": {},
     "nuid": "04e3f57f-028b-46d5-9864-40749531c8de",
     "showTitle": false,
     "title": ""
    }
   },
   "outputs": [
    {
     "output_type": "stream",
     "name": "stdout",
     "output_type": "stream",
     "text": [
      "+-------+-------+-----+-----+\n|Mes_Ano|   IFIX|  CDI|SELIC|\n+-------+-------+-----+-----+\n| 1-2014|1282.04|10.27| 10.4|\n| 2-2014|1330.42|10.59|10.65|\n| 3-2014|1336.07|10.55|10.65|\n| 4-2014|1350.76| 10.8| 10.9|\n| 6-2014|1387.63| 10.8| 10.9|\n+-------+-------+-----+-----+\nonly showing top 5 rows\n\n"
     ]
    }
   ],
   "source": [
    "indices = ifixReg.join(cdiReg, \"Mes_Ano\", \"inner\").join(selicReg, \"Mes_Ano\", \"inner\")\n",
    "indices.show(5)"
   ]
  },
  {
   "cell_type": "code",
   "execution_count": 0,
   "metadata": {
    "application/vnd.databricks.v1+cell": {
     "cellMetadata": {
      "byteLimit": 2048000,
      "rowLimit": 10000
     },
     "inputWidgets": {},
     "nuid": "6aebcfbc-0ecb-4e99-b78e-3a626746ff85",
     "showTitle": false,
     "title": ""
    }
   },
   "outputs": [
    {
     "output_type": "stream",
     "name": "stdout",
     "output_type": "stream",
     "text": [
      "root\n |-- Mes_Ano: string (nullable = true)\n |-- IFIX: double (nullable = true)\n |-- CDI: double (nullable = true)\n |-- SELIC: double (nullable = true)\n\n"
     ]
    }
   ],
   "source": [
    "indices.printSchema()"
   ]
  },
  {
   "cell_type": "code",
   "execution_count": 0,
   "metadata": {
    "application/vnd.databricks.v1+cell": {
     "cellMetadata": {
      "byteLimit": 2048000,
      "rowLimit": 10000
     },
     "inputWidgets": {},
     "nuid": "69b22cb2-7c9b-4417-975f-9a6c2144c264",
     "showTitle": false,
     "title": ""
    }
   },
   "outputs": [
    {
     "output_type": "stream",
     "name": "stdout",
     "output_type": "stream",
     "text": [
      "root\n |-- Mes_Ano: string (nullable = true)\n |-- IFIX: double (nullable = true)\n |-- CDI: double (nullable = true)\n |-- SELIC: double (nullable = true)\n |-- Data: date (nullable = true)\n\n"
     ]
    }
   ],
   "source": [
    "indices_date = indices.withColumn(\"Data\", to_date(\"Mes_Ano\", \"M-yyyy\"))\n",
    "indices_date.printSchema()\n"
   ]
  },
  {
   "cell_type": "code",
   "execution_count": 0,
   "metadata": {
    "application/vnd.databricks.v1+cell": {
     "cellMetadata": {
      "byteLimit": 2048000,
      "rowLimit": 10000
     },
     "inputWidgets": {},
     "nuid": "20a8dc89-8b2d-470e-a18f-b1f9c521b772",
     "showTitle": false,
     "title": ""
    }
   },
   "outputs": [
    {
     "output_type": "stream",
     "name": "stdout",
     "output_type": "stream",
     "text": [
      "+----------+-------+-----+-----+\n|      Data|   IFIX|  CDI|SELIC|\n+----------+-------+-----+-----+\n|2014-01-01|1282.04|10.27| 10.4|\n|2014-02-01|1330.42|10.59|10.65|\n|2014-03-01|1336.07|10.55|10.65|\n|2014-04-01|1350.76| 10.8| 10.9|\n|2014-06-01|1387.63| 10.8| 10.9|\n+----------+-------+-----+-----+\nonly showing top 5 rows\n\n"
     ]
    }
   ],
   "source": [
    "indicesFinal = indices_date.select('Data', 'IFIX', 'CDI', 'SELIC')\n",
    "indicesFinal.show(5)"
   ]
  },
  {
   "cell_type": "code",
   "execution_count": 0,
   "metadata": {
    "application/vnd.databricks.v1+cell": {
     "cellMetadata": {
      "byteLimit": 2048000,
      "rowLimit": 10000
     },
     "inputWidgets": {},
     "nuid": "a29e4ed1-9603-4087-bcae-7989cb0c390e",
     "showTitle": false,
     "title": ""
    }
   },
   "outputs": [
    {
     "output_type": "stream",
     "name": "stdout",
     "output_type": "stream",
     "text": [
      "root\n |-- Data: date (nullable = true)\n |-- IFIX: double (nullable = true)\n |-- CDI: double (nullable = true)\n |-- SELIC: double (nullable = true)\n\n"
     ]
    }
   ],
   "source": [
    "indicesFinal.printSchema()"
   ]
  },
  {
   "cell_type": "code",
   "execution_count": 0,
   "metadata": {
    "application/vnd.databricks.v1+cell": {
     "cellMetadata": {
      "byteLimit": 2048000,
      "rowLimit": 10000
     },
     "inputWidgets": {},
     "nuid": "69e9d3d7-ce41-4d05-891b-e1ef63cf359d",
     "showTitle": false,
     "title": ""
    }
   },
   "outputs": [
    {
     "output_type": "stream",
     "name": "stdout",
     "output_type": "stream",
     "text": [
      "Out[276]: 85"
     ]
    }
   ],
   "source": [
    "indicesFinal.count()"
   ]
  },
  {
   "cell_type": "code",
   "execution_count": 0,
   "metadata": {
    "application/vnd.databricks.v1+cell": {
     "cellMetadata": {
      "byteLimit": 2048000,
      "rowLimit": 10000
     },
     "inputWidgets": {},
     "nuid": "93a82d7b-4d17-436d-bc56-e1eba87e298d",
     "showTitle": false,
     "title": ""
    }
   },
   "outputs": [
    {
     "output_type": "display_data",
     "data": {
      "text/html": [
       "<style scoped>\n",
       "  .table-result-container {\n",
       "    max-height: 300px;\n",
       "    overflow: auto;\n",
       "  }\n",
       "  table, th, td {\n",
       "    border: 1px solid black;\n",
       "    border-collapse: collapse;\n",
       "  }\n",
       "  th, td {\n",
       "    padding: 5px;\n",
       "  }\n",
       "  th {\n",
       "    text-align: left;\n",
       "  }\n",
       "</style><div class='table-result-container'><table class='table-result'><thead style='background-color: white'><tr><th>Data</th><th>IFIX</th><th>CDI</th><th>SELIC</th></tr></thead><tbody><tr><td>2014-01-01</td><td>1282.04</td><td>10.27</td><td>10.4</td></tr><tr><td>2014-02-01</td><td>1330.42</td><td>10.59</td><td>10.65</td></tr><tr><td>2014-03-01</td><td>1336.07</td><td>10.55</td><td>10.65</td></tr><tr><td>2014-04-01</td><td>1350.76</td><td>10.8</td><td>10.9</td></tr><tr><td>2014-06-01</td><td>1387.63</td><td>10.8</td><td>10.9</td></tr><tr><td>2014-07-01</td><td>1409.42</td><td>10.8</td><td>10.9</td></tr><tr><td>2014-09-01</td><td>1421.44</td><td>10.81</td><td>10.9</td></tr><tr><td>2014-10-01</td><td>1402.46</td><td>11.06</td><td>11.15</td></tr><tr><td>2014-12-01</td><td>1336.72</td><td>11.57</td><td>11.65</td></tr><tr><td>2015-03-01</td><td>1347.63</td><td>12.6</td><td>12.65</td></tr><tr><td>2015-04-01</td><td>1397.06</td><td>13.11</td><td>13.15</td></tr><tr><td>2015-06-01</td><td>1460.46</td><td>13.64</td><td>13.65</td></tr><tr><td>2015-07-01</td><td>1470.73</td><td>14.13</td><td>14.15</td></tr><tr><td>2015-08-01</td><td>1458.12</td><td>14.13</td><td>14.15</td></tr><tr><td>2015-09-01</td><td>1400.42</td><td>14.13</td><td>14.15</td></tr><tr><td>2015-11-01</td><td>1452.66</td><td>14.14</td><td>14.15</td></tr><tr><td>2015-12-01</td><td>1409.01</td><td>14.14</td><td>14.15</td></tr><tr><td>2016-02-01</td><td>1361.05</td><td>14.13</td><td>14.15</td></tr><tr><td>2016-03-01</td><td>1485.75</td><td>14.13</td><td>14.15</td></tr><tr><td>2016-05-01</td><td>1612.36</td><td>14.13</td><td>14.15</td></tr><tr><td>2016-06-01</td><td>1638.16</td><td>14.13</td><td>14.15</td></tr><tr><td>2016-08-01</td><td>1767.11</td><td>14.13</td><td>14.15</td></tr><tr><td>2016-09-01</td><td>1816.05</td><td>14.13</td><td>14.15</td></tr><tr><td>2016-10-01</td><td>1885.92</td><td>13.88</td><td>13.9</td></tr><tr><td>2016-11-01</td><td>1837.13</td><td>13.88</td><td>13.9</td></tr><tr><td>2017-01-01</td><td>1934.69</td><td>12.88</td><td>12.9</td></tr><tr><td>2017-03-01</td><td>2032.81</td><td>12.13</td><td>12.15</td></tr><tr><td>2017-05-01</td><td>2056.75</td><td>11.13</td><td>11.15</td></tr><tr><td>2017-06-01</td><td>2074.14</td><td>10.14</td><td>10.15</td></tr><tr><td>2017-07-01</td><td>2066.19</td><td>9.14</td><td>9.15</td></tr><tr><td>2017-08-01</td><td>2084.0</td><td>9.14</td><td>9.15</td></tr><tr><td>2017-10-01</td><td>2226.25</td><td>7.39</td><td>7.4</td></tr><tr><td>2017-11-01</td><td>2213.08</td><td>7.39</td><td>7.4</td></tr><tr><td>2018-01-01</td><td>2285.23</td><td>6.89</td><td>6.9</td></tr><tr><td>2018-02-01</td><td>2311.41</td><td>6.64</td><td>6.65</td></tr><tr><td>2018-04-01</td><td>2337.25</td><td>6.39</td><td>6.4</td></tr><tr><td>2018-07-01</td><td>2154.45</td><td>6.39</td><td>6.4</td></tr><tr><td>2018-08-01</td><td>2139.4</td><td>6.39</td><td>6.4</td></tr><tr><td>2018-10-01</td><td>2242.45</td><td>6.4</td><td>6.4</td></tr><tr><td>2018-11-01</td><td>2300.48</td><td>6.4</td><td>6.4</td></tr><tr><td>2018-12-01</td><td>2351.59</td><td>6.4</td><td>6.4</td></tr><tr><td>2019-01-01</td><td>2409.69</td><td>6.4</td><td>6.4</td></tr><tr><td>2019-02-01</td><td>2434.56</td><td>6.4</td><td>6.4</td></tr><tr><td>2019-04-01</td><td>2508.45</td><td>6.4</td><td>6.4</td></tr><tr><td>2019-05-01</td><td>2552.69</td><td>6.4</td><td>6.4</td></tr><tr><td>2019-07-01</td><td>2659.55</td><td>6.4</td><td>6.4</td></tr><tr><td>2019-09-01</td><td>2684.26</td><td>5.4</td><td>5.4</td></tr><tr><td>2019-10-01</td><td>2791.98</td><td>4.9</td><td>4.9</td></tr><tr><td>2019-12-01</td><td>3197.58</td><td>4.4</td><td>4.4</td></tr><tr><td>2020-01-01</td><td>3077.28</td><td>4.4</td><td>4.4</td></tr><tr><td>2020-03-01</td><td>2494.1</td><td>3.65</td><td>3.65</td></tr><tr><td>2020-04-01</td><td>2603.62</td><td>3.65</td><td>3.65</td></tr><tr><td>2020-06-01</td><td>2806.28</td><td>2.15</td><td>2.15</td></tr><tr><td>2020-07-01</td><td>2733.12</td><td>2.15</td><td>2.15</td></tr><tr><td>2020-08-01</td><td>2782.1</td><td>1.9</td><td>1.9</td></tr><tr><td>2020-09-01</td><td>2794.88</td><td>1.9</td><td>1.9</td></tr><tr><td>2020-11-01</td><td>2808.56</td><td>1.9</td><td>1.9</td></tr><tr><td>2020-12-01</td><td>2870.15</td><td>1.9</td><td>1.9</td></tr><tr><td>2021-03-01</td><td>2846.77</td><td>2.65</td><td>2.65</td></tr><tr><td>2021-04-01</td><td>2861.15</td><td>2.65</td><td>2.65</td></tr><tr><td>2021-05-01</td><td>2816.46</td><td>3.4</td><td>3.4</td></tr><tr><td>2021-06-01</td><td>2754.89</td><td>4.15</td><td>4.15</td></tr><tr><td>2021-08-01</td><td>2749.84</td><td>5.15</td><td>5.15</td></tr><tr><td>2021-09-01</td><td>2715.67</td><td>6.15</td><td>6.15</td></tr><tr><td>2021-11-01</td><td>2578.4</td><td>7.65</td><td>7.65</td></tr><tr><td>2021-12-01</td><td>2804.79</td><td>9.15</td><td>9.15</td></tr><tr><td>2022-01-01</td><td>2776.92</td><td>9.15</td><td>9.15</td></tr><tr><td>2022-03-01</td><td>2779.97</td><td>11.65</td><td>11.65</td></tr><tr><td>2022-05-01</td><td>2820.45</td><td>12.65</td><td>12.65</td></tr><tr><td>2022-06-01</td><td>2795.62</td><td>13.15</td><td>13.15</td></tr><tr><td>2022-08-01</td><td>2976.23</td><td>13.65</td><td>13.65</td></tr><tr><td>2022-09-01</td><td>2990.8</td><td>13.65</td><td>13.65</td></tr><tr><td>2022-10-01</td><td>2991.45</td><td>13.65</td><td>13.65</td></tr><tr><td>2022-11-01</td><td>2867.21</td><td>13.65</td><td>13.65</td></tr><tr><td>2023-01-01</td><td>2821.14</td><td>13.65</td><td>13.65</td></tr><tr><td>2023-02-01</td><td>2808.39</td><td>13.65</td><td>13.65</td></tr><tr><td>2023-03-01</td><td>2760.96</td><td>13.65</td><td>13.65</td></tr><tr><td>2023-05-01</td><td>3013.46</td><td>13.65</td><td>13.65</td></tr><tr><td>2023-06-01</td><td>3155.32</td><td>13.65</td><td>13.65</td></tr><tr><td>2023-07-01</td><td>3197.18</td><td>13.65</td><td>13.65</td></tr><tr><td>2023-08-01</td><td>3212.81</td><td>13.15</td><td>13.15</td></tr><tr><td>2023-10-01</td><td>3155.7</td><td>12.65</td><td>12.65</td></tr><tr><td>2023-11-01</td><td>3176.56</td><td>12.15</td><td>12.15</td></tr><tr><td>2024-01-01</td><td>3333.51</td><td>11.65</td><td>11.65</td></tr><tr><td>2024-02-01</td><td>3360.0</td><td>11.15</td><td>11.15</td></tr></tbody></table></div>"
      ]
     },
     "metadata": {
      "application/vnd.databricks.v1+output": {
       "addedWidgets": {},
       "aggData": [],
       "aggError": "",
       "aggOverflow": false,
       "aggSchema": [],
       "aggSeriesLimitReached": false,
       "aggType": "",
       "arguments": {},
       "columnCustomDisplayInfos": {},
       "data": [
        [
         "2014-01-01",
         1282.04,
         10.27,
         10.4
        ],
        [
         "2014-02-01",
         1330.42,
         10.59,
         10.65
        ],
        [
         "2014-03-01",
         1336.07,
         10.55,
         10.65
        ],
        [
         "2014-04-01",
         1350.76,
         10.8,
         10.9
        ],
        [
         "2014-06-01",
         1387.63,
         10.8,
         10.9
        ],
        [
         "2014-07-01",
         1409.42,
         10.8,
         10.9
        ],
        [
         "2014-09-01",
         1421.44,
         10.81,
         10.9
        ],
        [
         "2014-10-01",
         1402.46,
         11.06,
         11.15
        ],
        [
         "2014-12-01",
         1336.72,
         11.57,
         11.65
        ],
        [
         "2015-03-01",
         1347.63,
         12.6,
         12.65
        ],
        [
         "2015-04-01",
         1397.06,
         13.11,
         13.15
        ],
        [
         "2015-06-01",
         1460.46,
         13.64,
         13.65
        ],
        [
         "2015-07-01",
         1470.73,
         14.13,
         14.15
        ],
        [
         "2015-08-01",
         1458.12,
         14.13,
         14.15
        ],
        [
         "2015-09-01",
         1400.42,
         14.13,
         14.15
        ],
        [
         "2015-11-01",
         1452.66,
         14.14,
         14.15
        ],
        [
         "2015-12-01",
         1409.01,
         14.14,
         14.15
        ],
        [
         "2016-02-01",
         1361.05,
         14.13,
         14.15
        ],
        [
         "2016-03-01",
         1485.75,
         14.13,
         14.15
        ],
        [
         "2016-05-01",
         1612.36,
         14.13,
         14.15
        ],
        [
         "2016-06-01",
         1638.16,
         14.13,
         14.15
        ],
        [
         "2016-08-01",
         1767.11,
         14.13,
         14.15
        ],
        [
         "2016-09-01",
         1816.05,
         14.13,
         14.15
        ],
        [
         "2016-10-01",
         1885.92,
         13.88,
         13.9
        ],
        [
         "2016-11-01",
         1837.13,
         13.88,
         13.9
        ],
        [
         "2017-01-01",
         1934.69,
         12.88,
         12.9
        ],
        [
         "2017-03-01",
         2032.81,
         12.13,
         12.15
        ],
        [
         "2017-05-01",
         2056.75,
         11.13,
         11.15
        ],
        [
         "2017-06-01",
         2074.14,
         10.14,
         10.15
        ],
        [
         "2017-07-01",
         2066.19,
         9.14,
         9.15
        ],
        [
         "2017-08-01",
         2084.0,
         9.14,
         9.15
        ],
        [
         "2017-10-01",
         2226.25,
         7.39,
         7.4
        ],
        [
         "2017-11-01",
         2213.08,
         7.39,
         7.4
        ],
        [
         "2018-01-01",
         2285.23,
         6.89,
         6.9
        ],
        [
         "2018-02-01",
         2311.41,
         6.64,
         6.65
        ],
        [
         "2018-04-01",
         2337.25,
         6.39,
         6.4
        ],
        [
         "2018-07-01",
         2154.45,
         6.39,
         6.4
        ],
        [
         "2018-08-01",
         2139.4,
         6.39,
         6.4
        ],
        [
         "2018-10-01",
         2242.45,
         6.4,
         6.4
        ],
        [
         "2018-11-01",
         2300.48,
         6.4,
         6.4
        ],
        [
         "2018-12-01",
         2351.59,
         6.4,
         6.4
        ],
        [
         "2019-01-01",
         2409.69,
         6.4,
         6.4
        ],
        [
         "2019-02-01",
         2434.56,
         6.4,
         6.4
        ],
        [
         "2019-04-01",
         2508.45,
         6.4,
         6.4
        ],
        [
         "2019-05-01",
         2552.69,
         6.4,
         6.4
        ],
        [
         "2019-07-01",
         2659.55,
         6.4,
         6.4
        ],
        [
         "2019-09-01",
         2684.26,
         5.4,
         5.4
        ],
        [
         "2019-10-01",
         2791.98,
         4.9,
         4.9
        ],
        [
         "2019-12-01",
         3197.58,
         4.4,
         4.4
        ],
        [
         "2020-01-01",
         3077.28,
         4.4,
         4.4
        ],
        [
         "2020-03-01",
         2494.1,
         3.65,
         3.65
        ],
        [
         "2020-04-01",
         2603.62,
         3.65,
         3.65
        ],
        [
         "2020-06-01",
         2806.28,
         2.15,
         2.15
        ],
        [
         "2020-07-01",
         2733.12,
         2.15,
         2.15
        ],
        [
         "2020-08-01",
         2782.1,
         1.9,
         1.9
        ],
        [
         "2020-09-01",
         2794.88,
         1.9,
         1.9
        ],
        [
         "2020-11-01",
         2808.56,
         1.9,
         1.9
        ],
        [
         "2020-12-01",
         2870.15,
         1.9,
         1.9
        ],
        [
         "2021-03-01",
         2846.77,
         2.65,
         2.65
        ],
        [
         "2021-04-01",
         2861.15,
         2.65,
         2.65
        ],
        [
         "2021-05-01",
         2816.46,
         3.4,
         3.4
        ],
        [
         "2021-06-01",
         2754.89,
         4.15,
         4.15
        ],
        [
         "2021-08-01",
         2749.84,
         5.15,
         5.15
        ],
        [
         "2021-09-01",
         2715.67,
         6.15,
         6.15
        ],
        [
         "2021-11-01",
         2578.4,
         7.65,
         7.65
        ],
        [
         "2021-12-01",
         2804.79,
         9.15,
         9.15
        ],
        [
         "2022-01-01",
         2776.92,
         9.15,
         9.15
        ],
        [
         "2022-03-01",
         2779.97,
         11.65,
         11.65
        ],
        [
         "2022-05-01",
         2820.45,
         12.65,
         12.65
        ],
        [
         "2022-06-01",
         2795.62,
         13.15,
         13.15
        ],
        [
         "2022-08-01",
         2976.23,
         13.65,
         13.65
        ],
        [
         "2022-09-01",
         2990.8,
         13.65,
         13.65
        ],
        [
         "2022-10-01",
         2991.45,
         13.65,
         13.65
        ],
        [
         "2022-11-01",
         2867.21,
         13.65,
         13.65
        ],
        [
         "2023-01-01",
         2821.14,
         13.65,
         13.65
        ],
        [
         "2023-02-01",
         2808.39,
         13.65,
         13.65
        ],
        [
         "2023-03-01",
         2760.96,
         13.65,
         13.65
        ],
        [
         "2023-05-01",
         3013.46,
         13.65,
         13.65
        ],
        [
         "2023-06-01",
         3155.32,
         13.65,
         13.65
        ],
        [
         "2023-07-01",
         3197.18,
         13.65,
         13.65
        ],
        [
         "2023-08-01",
         3212.81,
         13.15,
         13.15
        ],
        [
         "2023-10-01",
         3155.7,
         12.65,
         12.65
        ],
        [
         "2023-11-01",
         3176.56,
         12.15,
         12.15
        ],
        [
         "2024-01-01",
         3333.51,
         11.65,
         11.65
        ],
        [
         "2024-02-01",
         3360.0,
         11.15,
         11.15
        ]
       ],
       "datasetInfos": [],
       "dbfsResultPath": null,
       "isJsonSchema": true,
       "metadata": {},
       "overflow": false,
       "plotOptions": {
        "customPlotOptions": {},
        "displayType": "table",
        "pivotAggregation": null,
        "pivotColumns": null,
        "xColumns": null,
        "yColumns": null
       },
       "removedWidgets": [],
       "schema": [
        {
         "metadata": "{}",
         "name": "Data",
         "type": "\"date\""
        },
        {
         "metadata": "{}",
         "name": "IFIX",
         "type": "\"double\""
        },
        {
         "metadata": "{}",
         "name": "CDI",
         "type": "\"double\""
        },
        {
         "metadata": "{}",
         "name": "SELIC",
         "type": "\"double\""
        }
       ],
       "type": "table"
      }
     },
     "output_type": "display_data"
    }
   ],
   "source": [
    "display(indicesFinal)"
   ]
  },
  {
   "cell_type": "code",
   "execution_count": 0,
   "metadata": {
    "application/vnd.databricks.v1+cell": {
     "cellMetadata": {
      "byteLimit": 2048000,
      "rowLimit": 10000
     },
     "inputWidgets": {},
     "nuid": "0cd35a0f-f707-4ed3-a901-e0c5932840bc",
     "showTitle": false,
     "title": ""
    }
   },
   "outputs": [
    {
     "output_type": "stream",
     "name": "stdout",
     "output_type": "stream",
     "text": [
      "root\n |-- Data: date (nullable = true)\n |-- IFIX: float (nullable = true)\n |-- CDI: float (nullable = true)\n |-- SELIC: float (nullable = true)\n\n"
     ]
    }
   ],
   "source": [
    "indicesFinal.printSchema()"
   ]
  },
  {
   "cell_type": "markdown",
   "metadata": {
    "application/vnd.databricks.v1+cell": {
     "cellMetadata": {
      "byteLimit": 2048000,
      "rowLimit": 10000
     },
     "inputWidgets": {},
     "nuid": "2bc2bfd7-1fe1-4016-b0c6-46d2f635b88b",
     "showTitle": false,
     "title": ""
    }
   },
   "source": [
    "# Iniciando o Processo de Regressão"
   ]
  },
  {
   "cell_type": "code",
   "execution_count": 0,
   "metadata": {
    "application/vnd.databricks.v1+cell": {
     "cellMetadata": {
      "byteLimit": 2048000,
      "rowLimit": 10000
     },
     "inputWidgets": {},
     "nuid": "9a3fca64-073e-4c99-9ba0-ccf5c98eb044",
     "showTitle": false,
     "title": ""
    }
   },
   "outputs": [
    {
     "output_type": "stream",
     "name": "stdout",
     "output_type": "stream",
     "text": [
      "+-------+------------------+-----------------+-----------------+\n|summary|              IFIX|              CDI|            SELIC|\n+-------+------------------+-----------------+-----------------+\n|  count|                85|               85|               85|\n|   mean|2319.9676470588242|9.484117647058808|9.499999999999984|\n| stddev| 630.6641043992679| 4.09802893797379|4.105418892843248|\n|    min|           1282.04|              1.9|              1.9|\n|    max|            3360.0|            14.14|            14.15|\n+-------+------------------+-----------------+-----------------+\n\n"
     ]
    }
   ],
   "source": [
    "indicesFinal.describe().show()"
   ]
  },
  {
   "cell_type": "code",
   "execution_count": 0,
   "metadata": {
    "application/vnd.databricks.v1+cell": {
     "cellMetadata": {
      "byteLimit": 2048000,
      "rowLimit": 10000
     },
     "inputWidgets": {},
     "nuid": "3fcc1c58-ed00-49c0-81ca-f8202d50cab3",
     "showTitle": false,
     "title": ""
    }
   },
   "outputs": [
    {
     "output_type": "stream",
     "name": "stdout",
     "output_type": "stream",
     "text": [
      "root\n |-- Data: date (nullable = true)\n |-- IFIX: double (nullable = true)\n |-- CDI: double (nullable = true)\n |-- SELIC: double (nullable = true)\n |-- features: vector (nullable = true)\n\n"
     ]
    }
   ],
   "source": [
    "#transformando os dados (linhas) em vetores\n",
    "from pyspark.ml.feature import VectorAssembler  #importando a biblioteca responsável por criar o vetor a partir da coluna\n",
    "\n",
    "assembler = VectorAssembler(inputCols=['CDI', 'SELIC'], outputCol='features')  #define o objeto para transformação\n",
    "indicesRegression = assembler.transform(indicesFinal) #aplica a transformação\n",
    "indicesRegression.printSchema()"
   ]
  },
  {
   "cell_type": "code",
   "execution_count": 0,
   "metadata": {
    "application/vnd.databricks.v1+cell": {
     "cellMetadata": {
      "byteLimit": 2048000,
      "rowLimit": 10000
     },
     "inputWidgets": {},
     "nuid": "0890118e-2153-4b3e-a164-c16ddbc5b171",
     "showTitle": false,
     "title": ""
    }
   },
   "outputs": [
    {
     "output_type": "display_data",
     "data": {
      "text/html": [
       "<style scoped>\n",
       "  .table-result-container {\n",
       "    max-height: 300px;\n",
       "    overflow: auto;\n",
       "  }\n",
       "  table, th, td {\n",
       "    border: 1px solid black;\n",
       "    border-collapse: collapse;\n",
       "  }\n",
       "  th, td {\n",
       "    padding: 5px;\n",
       "  }\n",
       "  th {\n",
       "    text-align: left;\n",
       "  }\n",
       "</style><div class='table-result-container'><table class='table-result'><thead style='background-color: white'><tr><th>features</th><th>IFIX</th></tr></thead><tbody><tr><td>Map(vectorType -> dense, length -> 2, values -> List(10.27, 10.4))</td><td>1282.04</td></tr><tr><td>Map(vectorType -> dense, length -> 2, values -> List(10.59, 10.65))</td><td>1330.42</td></tr><tr><td>Map(vectorType -> dense, length -> 2, values -> List(10.55, 10.65))</td><td>1336.07</td></tr><tr><td>Map(vectorType -> dense, length -> 2, values -> List(10.8, 10.9))</td><td>1350.76</td></tr><tr><td>Map(vectorType -> dense, length -> 2, values -> List(10.8, 10.9))</td><td>1387.63</td></tr><tr><td>Map(vectorType -> dense, length -> 2, values -> List(10.8, 10.9))</td><td>1409.42</td></tr><tr><td>Map(vectorType -> dense, length -> 2, values -> List(10.81, 10.9))</td><td>1421.44</td></tr><tr><td>Map(vectorType -> dense, length -> 2, values -> List(11.06, 11.15))</td><td>1402.46</td></tr><tr><td>Map(vectorType -> dense, length -> 2, values -> List(11.57, 11.65))</td><td>1336.72</td></tr><tr><td>Map(vectorType -> dense, length -> 2, values -> List(12.6, 12.65))</td><td>1347.63</td></tr><tr><td>Map(vectorType -> dense, length -> 2, values -> List(13.11, 13.15))</td><td>1397.06</td></tr><tr><td>Map(vectorType -> dense, length -> 2, values -> List(13.64, 13.65))</td><td>1460.46</td></tr><tr><td>Map(vectorType -> dense, length -> 2, values -> List(14.13, 14.15))</td><td>1470.73</td></tr><tr><td>Map(vectorType -> dense, length -> 2, values -> List(14.13, 14.15))</td><td>1458.12</td></tr><tr><td>Map(vectorType -> dense, length -> 2, values -> List(14.13, 14.15))</td><td>1400.42</td></tr><tr><td>Map(vectorType -> dense, length -> 2, values -> List(14.14, 14.15))</td><td>1452.66</td></tr><tr><td>Map(vectorType -> dense, length -> 2, values -> List(14.14, 14.15))</td><td>1409.01</td></tr><tr><td>Map(vectorType -> dense, length -> 2, values -> List(14.13, 14.15))</td><td>1361.05</td></tr><tr><td>Map(vectorType -> dense, length -> 2, values -> List(14.13, 14.15))</td><td>1485.75</td></tr><tr><td>Map(vectorType -> dense, length -> 2, values -> List(14.13, 14.15))</td><td>1612.36</td></tr><tr><td>Map(vectorType -> dense, length -> 2, values -> List(14.13, 14.15))</td><td>1638.16</td></tr><tr><td>Map(vectorType -> dense, length -> 2, values -> List(14.13, 14.15))</td><td>1767.11</td></tr><tr><td>Map(vectorType -> dense, length -> 2, values -> List(14.13, 14.15))</td><td>1816.05</td></tr><tr><td>Map(vectorType -> dense, length -> 2, values -> List(13.88, 13.9))</td><td>1885.92</td></tr><tr><td>Map(vectorType -> dense, length -> 2, values -> List(13.88, 13.9))</td><td>1837.13</td></tr><tr><td>Map(vectorType -> dense, length -> 2, values -> List(12.88, 12.9))</td><td>1934.69</td></tr><tr><td>Map(vectorType -> dense, length -> 2, values -> List(12.13, 12.15))</td><td>2032.81</td></tr><tr><td>Map(vectorType -> dense, length -> 2, values -> List(11.13, 11.15))</td><td>2056.75</td></tr><tr><td>Map(vectorType -> dense, length -> 2, values -> List(10.14, 10.15))</td><td>2074.14</td></tr><tr><td>Map(vectorType -> dense, length -> 2, values -> List(9.14, 9.15))</td><td>2066.19</td></tr><tr><td>Map(vectorType -> dense, length -> 2, values -> List(9.14, 9.15))</td><td>2084.0</td></tr><tr><td>Map(vectorType -> dense, length -> 2, values -> List(7.39, 7.4))</td><td>2226.25</td></tr><tr><td>Map(vectorType -> dense, length -> 2, values -> List(7.39, 7.4))</td><td>2213.08</td></tr><tr><td>Map(vectorType -> dense, length -> 2, values -> List(6.89, 6.9))</td><td>2285.23</td></tr><tr><td>Map(vectorType -> dense, length -> 2, values -> List(6.64, 6.65))</td><td>2311.41</td></tr><tr><td>Map(vectorType -> dense, length -> 2, values -> List(6.39, 6.4))</td><td>2337.25</td></tr><tr><td>Map(vectorType -> dense, length -> 2, values -> List(6.39, 6.4))</td><td>2154.45</td></tr><tr><td>Map(vectorType -> dense, length -> 2, values -> List(6.39, 6.4))</td><td>2139.4</td></tr><tr><td>Map(vectorType -> dense, length -> 2, values -> List(6.4, 6.4))</td><td>2242.45</td></tr><tr><td>Map(vectorType -> dense, length -> 2, values -> List(6.4, 6.4))</td><td>2300.48</td></tr><tr><td>Map(vectorType -> dense, length -> 2, values -> List(6.4, 6.4))</td><td>2351.59</td></tr><tr><td>Map(vectorType -> dense, length -> 2, values -> List(6.4, 6.4))</td><td>2409.69</td></tr><tr><td>Map(vectorType -> dense, length -> 2, values -> List(6.4, 6.4))</td><td>2434.56</td></tr><tr><td>Map(vectorType -> dense, length -> 2, values -> List(6.4, 6.4))</td><td>2508.45</td></tr><tr><td>Map(vectorType -> dense, length -> 2, values -> List(6.4, 6.4))</td><td>2552.69</td></tr><tr><td>Map(vectorType -> dense, length -> 2, values -> List(6.4, 6.4))</td><td>2659.55</td></tr><tr><td>Map(vectorType -> dense, length -> 2, values -> List(5.4, 5.4))</td><td>2684.26</td></tr><tr><td>Map(vectorType -> dense, length -> 2, values -> List(4.9, 4.9))</td><td>2791.98</td></tr><tr><td>Map(vectorType -> dense, length -> 2, values -> List(4.4, 4.4))</td><td>3197.58</td></tr><tr><td>Map(vectorType -> dense, length -> 2, values -> List(4.4, 4.4))</td><td>3077.28</td></tr><tr><td>Map(vectorType -> dense, length -> 2, values -> List(3.65, 3.65))</td><td>2494.1</td></tr><tr><td>Map(vectorType -> dense, length -> 2, values -> List(3.65, 3.65))</td><td>2603.62</td></tr><tr><td>Map(vectorType -> dense, length -> 2, values -> List(2.15, 2.15))</td><td>2806.28</td></tr><tr><td>Map(vectorType -> dense, length -> 2, values -> List(2.15, 2.15))</td><td>2733.12</td></tr><tr><td>Map(vectorType -> dense, length -> 2, values -> List(1.9, 1.9))</td><td>2782.1</td></tr><tr><td>Map(vectorType -> dense, length -> 2, values -> List(1.9, 1.9))</td><td>2794.88</td></tr><tr><td>Map(vectorType -> dense, length -> 2, values -> List(1.9, 1.9))</td><td>2808.56</td></tr><tr><td>Map(vectorType -> dense, length -> 2, values -> List(1.9, 1.9))</td><td>2870.15</td></tr><tr><td>Map(vectorType -> dense, length -> 2, values -> List(2.65, 2.65))</td><td>2846.77</td></tr><tr><td>Map(vectorType -> dense, length -> 2, values -> List(2.65, 2.65))</td><td>2861.15</td></tr><tr><td>Map(vectorType -> dense, length -> 2, values -> List(3.4, 3.4))</td><td>2816.46</td></tr><tr><td>Map(vectorType -> dense, length -> 2, values -> List(4.15, 4.15))</td><td>2754.89</td></tr><tr><td>Map(vectorType -> dense, length -> 2, values -> List(5.15, 5.15))</td><td>2749.84</td></tr><tr><td>Map(vectorType -> dense, length -> 2, values -> List(6.15, 6.15))</td><td>2715.67</td></tr><tr><td>Map(vectorType -> dense, length -> 2, values -> List(7.65, 7.65))</td><td>2578.4</td></tr><tr><td>Map(vectorType -> dense, length -> 2, values -> List(9.15, 9.15))</td><td>2804.79</td></tr><tr><td>Map(vectorType -> dense, length -> 2, values -> List(9.15, 9.15))</td><td>2776.92</td></tr><tr><td>Map(vectorType -> dense, length -> 2, values -> List(11.65, 11.65))</td><td>2779.97</td></tr><tr><td>Map(vectorType -> dense, length -> 2, values -> List(12.65, 12.65))</td><td>2820.45</td></tr><tr><td>Map(vectorType -> dense, length -> 2, values -> List(13.15, 13.15))</td><td>2795.62</td></tr><tr><td>Map(vectorType -> dense, length -> 2, values -> List(13.65, 13.65))</td><td>2976.23</td></tr><tr><td>Map(vectorType -> dense, length -> 2, values -> List(13.65, 13.65))</td><td>2990.8</td></tr><tr><td>Map(vectorType -> dense, length -> 2, values -> List(13.65, 13.65))</td><td>2991.45</td></tr><tr><td>Map(vectorType -> dense, length -> 2, values -> List(13.65, 13.65))</td><td>2867.21</td></tr><tr><td>Map(vectorType -> dense, length -> 2, values -> List(13.65, 13.65))</td><td>2821.14</td></tr><tr><td>Map(vectorType -> dense, length -> 2, values -> List(13.65, 13.65))</td><td>2808.39</td></tr><tr><td>Map(vectorType -> dense, length -> 2, values -> List(13.65, 13.65))</td><td>2760.96</td></tr><tr><td>Map(vectorType -> dense, length -> 2, values -> List(13.65, 13.65))</td><td>3013.46</td></tr><tr><td>Map(vectorType -> dense, length -> 2, values -> List(13.65, 13.65))</td><td>3155.32</td></tr><tr><td>Map(vectorType -> dense, length -> 2, values -> List(13.65, 13.65))</td><td>3197.18</td></tr><tr><td>Map(vectorType -> dense, length -> 2, values -> List(13.15, 13.15))</td><td>3212.81</td></tr><tr><td>Map(vectorType -> dense, length -> 2, values -> List(12.65, 12.65))</td><td>3155.7</td></tr><tr><td>Map(vectorType -> dense, length -> 2, values -> List(12.15, 12.15))</td><td>3176.56</td></tr><tr><td>Map(vectorType -> dense, length -> 2, values -> List(11.65, 11.65))</td><td>3333.51</td></tr><tr><td>Map(vectorType -> dense, length -> 2, values -> List(11.15, 11.15))</td><td>3360.0</td></tr></tbody></table></div>"
      ]
     },
     "metadata": {
      "application/vnd.databricks.v1+output": {
       "addedWidgets": {},
       "aggData": [],
       "aggError": "",
       "aggOverflow": false,
       "aggSchema": [],
       "aggSeriesLimitReached": false,
       "aggType": "",
       "arguments": {},
       "columnCustomDisplayInfos": {},
       "data": [
        [
         {
          "length": 2,
          "values": [
           10.27,
           10.4
          ],
          "vectorType": "dense"
         },
         1282.04
        ],
        [
         {
          "length": 2,
          "values": [
           10.59,
           10.65
          ],
          "vectorType": "dense"
         },
         1330.42
        ],
        [
         {
          "length": 2,
          "values": [
           10.55,
           10.65
          ],
          "vectorType": "dense"
         },
         1336.07
        ],
        [
         {
          "length": 2,
          "values": [
           10.8,
           10.9
          ],
          "vectorType": "dense"
         },
         1350.76
        ],
        [
         {
          "length": 2,
          "values": [
           10.8,
           10.9
          ],
          "vectorType": "dense"
         },
         1387.63
        ],
        [
         {
          "length": 2,
          "values": [
           10.8,
           10.9
          ],
          "vectorType": "dense"
         },
         1409.42
        ],
        [
         {
          "length": 2,
          "values": [
           10.81,
           10.9
          ],
          "vectorType": "dense"
         },
         1421.44
        ],
        [
         {
          "length": 2,
          "values": [
           11.06,
           11.15
          ],
          "vectorType": "dense"
         },
         1402.46
        ],
        [
         {
          "length": 2,
          "values": [
           11.57,
           11.65
          ],
          "vectorType": "dense"
         },
         1336.72
        ],
        [
         {
          "length": 2,
          "values": [
           12.6,
           12.65
          ],
          "vectorType": "dense"
         },
         1347.63
        ],
        [
         {
          "length": 2,
          "values": [
           13.11,
           13.15
          ],
          "vectorType": "dense"
         },
         1397.06
        ],
        [
         {
          "length": 2,
          "values": [
           13.64,
           13.65
          ],
          "vectorType": "dense"
         },
         1460.46
        ],
        [
         {
          "length": 2,
          "values": [
           14.13,
           14.15
          ],
          "vectorType": "dense"
         },
         1470.73
        ],
        [
         {
          "length": 2,
          "values": [
           14.13,
           14.15
          ],
          "vectorType": "dense"
         },
         1458.12
        ],
        [
         {
          "length": 2,
          "values": [
           14.13,
           14.15
          ],
          "vectorType": "dense"
         },
         1400.42
        ],
        [
         {
          "length": 2,
          "values": [
           14.14,
           14.15
          ],
          "vectorType": "dense"
         },
         1452.66
        ],
        [
         {
          "length": 2,
          "values": [
           14.14,
           14.15
          ],
          "vectorType": "dense"
         },
         1409.01
        ],
        [
         {
          "length": 2,
          "values": [
           14.13,
           14.15
          ],
          "vectorType": "dense"
         },
         1361.05
        ],
        [
         {
          "length": 2,
          "values": [
           14.13,
           14.15
          ],
          "vectorType": "dense"
         },
         1485.75
        ],
        [
         {
          "length": 2,
          "values": [
           14.13,
           14.15
          ],
          "vectorType": "dense"
         },
         1612.36
        ],
        [
         {
          "length": 2,
          "values": [
           14.13,
           14.15
          ],
          "vectorType": "dense"
         },
         1638.16
        ],
        [
         {
          "length": 2,
          "values": [
           14.13,
           14.15
          ],
          "vectorType": "dense"
         },
         1767.11
        ],
        [
         {
          "length": 2,
          "values": [
           14.13,
           14.15
          ],
          "vectorType": "dense"
         },
         1816.05
        ],
        [
         {
          "length": 2,
          "values": [
           13.88,
           13.9
          ],
          "vectorType": "dense"
         },
         1885.92
        ],
        [
         {
          "length": 2,
          "values": [
           13.88,
           13.9
          ],
          "vectorType": "dense"
         },
         1837.13
        ],
        [
         {
          "length": 2,
          "values": [
           12.88,
           12.9
          ],
          "vectorType": "dense"
         },
         1934.69
        ],
        [
         {
          "length": 2,
          "values": [
           12.13,
           12.15
          ],
          "vectorType": "dense"
         },
         2032.81
        ],
        [
         {
          "length": 2,
          "values": [
           11.13,
           11.15
          ],
          "vectorType": "dense"
         },
         2056.75
        ],
        [
         {
          "length": 2,
          "values": [
           10.14,
           10.15
          ],
          "vectorType": "dense"
         },
         2074.14
        ],
        [
         {
          "length": 2,
          "values": [
           9.14,
           9.15
          ],
          "vectorType": "dense"
         },
         2066.19
        ],
        [
         {
          "length": 2,
          "values": [
           9.14,
           9.15
          ],
          "vectorType": "dense"
         },
         2084.0
        ],
        [
         {
          "length": 2,
          "values": [
           7.39,
           7.4
          ],
          "vectorType": "dense"
         },
         2226.25
        ],
        [
         {
          "length": 2,
          "values": [
           7.39,
           7.4
          ],
          "vectorType": "dense"
         },
         2213.08
        ],
        [
         {
          "length": 2,
          "values": [
           6.89,
           6.9
          ],
          "vectorType": "dense"
         },
         2285.23
        ],
        [
         {
          "length": 2,
          "values": [
           6.64,
           6.65
          ],
          "vectorType": "dense"
         },
         2311.41
        ],
        [
         {
          "length": 2,
          "values": [
           6.39,
           6.4
          ],
          "vectorType": "dense"
         },
         2337.25
        ],
        [
         {
          "length": 2,
          "values": [
           6.39,
           6.4
          ],
          "vectorType": "dense"
         },
         2154.45
        ],
        [
         {
          "length": 2,
          "values": [
           6.39,
           6.4
          ],
          "vectorType": "dense"
         },
         2139.4
        ],
        [
         {
          "length": 2,
          "values": [
           6.4,
           6.4
          ],
          "vectorType": "dense"
         },
         2242.45
        ],
        [
         {
          "length": 2,
          "values": [
           6.4,
           6.4
          ],
          "vectorType": "dense"
         },
         2300.48
        ],
        [
         {
          "length": 2,
          "values": [
           6.4,
           6.4
          ],
          "vectorType": "dense"
         },
         2351.59
        ],
        [
         {
          "length": 2,
          "values": [
           6.4,
           6.4
          ],
          "vectorType": "dense"
         },
         2409.69
        ],
        [
         {
          "length": 2,
          "values": [
           6.4,
           6.4
          ],
          "vectorType": "dense"
         },
         2434.56
        ],
        [
         {
          "length": 2,
          "values": [
           6.4,
           6.4
          ],
          "vectorType": "dense"
         },
         2508.45
        ],
        [
         {
          "length": 2,
          "values": [
           6.4,
           6.4
          ],
          "vectorType": "dense"
         },
         2552.69
        ],
        [
         {
          "length": 2,
          "values": [
           6.4,
           6.4
          ],
          "vectorType": "dense"
         },
         2659.55
        ],
        [
         {
          "length": 2,
          "values": [
           5.4,
           5.4
          ],
          "vectorType": "dense"
         },
         2684.26
        ],
        [
         {
          "length": 2,
          "values": [
           4.9,
           4.9
          ],
          "vectorType": "dense"
         },
         2791.98
        ],
        [
         {
          "length": 2,
          "values": [
           4.4,
           4.4
          ],
          "vectorType": "dense"
         },
         3197.58
        ],
        [
         {
          "length": 2,
          "values": [
           4.4,
           4.4
          ],
          "vectorType": "dense"
         },
         3077.28
        ],
        [
         {
          "length": 2,
          "values": [
           3.65,
           3.65
          ],
          "vectorType": "dense"
         },
         2494.1
        ],
        [
         {
          "length": 2,
          "values": [
           3.65,
           3.65
          ],
          "vectorType": "dense"
         },
         2603.62
        ],
        [
         {
          "length": 2,
          "values": [
           2.15,
           2.15
          ],
          "vectorType": "dense"
         },
         2806.28
        ],
        [
         {
          "length": 2,
          "values": [
           2.15,
           2.15
          ],
          "vectorType": "dense"
         },
         2733.12
        ],
        [
         {
          "length": 2,
          "values": [
           1.9,
           1.9
          ],
          "vectorType": "dense"
         },
         2782.1
        ],
        [
         {
          "length": 2,
          "values": [
           1.9,
           1.9
          ],
          "vectorType": "dense"
         },
         2794.88
        ],
        [
         {
          "length": 2,
          "values": [
           1.9,
           1.9
          ],
          "vectorType": "dense"
         },
         2808.56
        ],
        [
         {
          "length": 2,
          "values": [
           1.9,
           1.9
          ],
          "vectorType": "dense"
         },
         2870.15
        ],
        [
         {
          "length": 2,
          "values": [
           2.65,
           2.65
          ],
          "vectorType": "dense"
         },
         2846.77
        ],
        [
         {
          "length": 2,
          "values": [
           2.65,
           2.65
          ],
          "vectorType": "dense"
         },
         2861.15
        ],
        [
         {
          "length": 2,
          "values": [
           3.4,
           3.4
          ],
          "vectorType": "dense"
         },
         2816.46
        ],
        [
         {
          "length": 2,
          "values": [
           4.15,
           4.15
          ],
          "vectorType": "dense"
         },
         2754.89
        ],
        [
         {
          "length": 2,
          "values": [
           5.15,
           5.15
          ],
          "vectorType": "dense"
         },
         2749.84
        ],
        [
         {
          "length": 2,
          "values": [
           6.15,
           6.15
          ],
          "vectorType": "dense"
         },
         2715.67
        ],
        [
         {
          "length": 2,
          "values": [
           7.65,
           7.65
          ],
          "vectorType": "dense"
         },
         2578.4
        ],
        [
         {
          "length": 2,
          "values": [
           9.15,
           9.15
          ],
          "vectorType": "dense"
         },
         2804.79
        ],
        [
         {
          "length": 2,
          "values": [
           9.15,
           9.15
          ],
          "vectorType": "dense"
         },
         2776.92
        ],
        [
         {
          "length": 2,
          "values": [
           11.65,
           11.65
          ],
          "vectorType": "dense"
         },
         2779.97
        ],
        [
         {
          "length": 2,
          "values": [
           12.65,
           12.65
          ],
          "vectorType": "dense"
         },
         2820.45
        ],
        [
         {
          "length": 2,
          "values": [
           13.15,
           13.15
          ],
          "vectorType": "dense"
         },
         2795.62
        ],
        [
         {
          "length": 2,
          "values": [
           13.65,
           13.65
          ],
          "vectorType": "dense"
         },
         2976.23
        ],
        [
         {
          "length": 2,
          "values": [
           13.65,
           13.65
          ],
          "vectorType": "dense"
         },
         2990.8
        ],
        [
         {
          "length": 2,
          "values": [
           13.65,
           13.65
          ],
          "vectorType": "dense"
         },
         2991.45
        ],
        [
         {
          "length": 2,
          "values": [
           13.65,
           13.65
          ],
          "vectorType": "dense"
         },
         2867.21
        ],
        [
         {
          "length": 2,
          "values": [
           13.65,
           13.65
          ],
          "vectorType": "dense"
         },
         2821.14
        ],
        [
         {
          "length": 2,
          "values": [
           13.65,
           13.65
          ],
          "vectorType": "dense"
         },
         2808.39
        ],
        [
         {
          "length": 2,
          "values": [
           13.65,
           13.65
          ],
          "vectorType": "dense"
         },
         2760.96
        ],
        [
         {
          "length": 2,
          "values": [
           13.65,
           13.65
          ],
          "vectorType": "dense"
         },
         3013.46
        ],
        [
         {
          "length": 2,
          "values": [
           13.65,
           13.65
          ],
          "vectorType": "dense"
         },
         3155.32
        ],
        [
         {
          "length": 2,
          "values": [
           13.65,
           13.65
          ],
          "vectorType": "dense"
         },
         3197.18
        ],
        [
         {
          "length": 2,
          "values": [
           13.15,
           13.15
          ],
          "vectorType": "dense"
         },
         3212.81
        ],
        [
         {
          "length": 2,
          "values": [
           12.65,
           12.65
          ],
          "vectorType": "dense"
         },
         3155.7
        ],
        [
         {
          "length": 2,
          "values": [
           12.15,
           12.15
          ],
          "vectorType": "dense"
         },
         3176.56
        ],
        [
         {
          "length": 2,
          "values": [
           11.65,
           11.65
          ],
          "vectorType": "dense"
         },
         3333.51
        ],
        [
         {
          "length": 2,
          "values": [
           11.15,
           11.15
          ],
          "vectorType": "dense"
         },
         3360.0
        ]
       ],
       "datasetInfos": [],
       "dbfsResultPath": null,
       "isJsonSchema": true,
       "metadata": {},
       "overflow": false,
       "plotOptions": {
        "customPlotOptions": {},
        "displayType": "table",
        "pivotAggregation": null,
        "pivotColumns": null,
        "xColumns": null,
        "yColumns": null
       },
       "removedWidgets": [],
       "schema": [
        {
         "metadata": "{\"ml_attr\":{\"attrs\":{\"numeric\":[{\"idx\":0,\"name\":\"CDI\"},{\"idx\":1,\"name\":\"SELIC\"}]},\"num_attrs\":2}}",
         "name": "features",
         "type": "{\"type\":\"udt\",\"class\":\"org.apache.spark.ml.linalg.VectorUDT\",\"pyClass\":\"pyspark.ml.linalg.VectorUDT\",\"sqlType\":{\"type\":\"struct\",\"fields\":[{\"name\":\"type\",\"type\":\"byte\",\"nullable\":false,\"metadata\":{}},{\"name\":\"size\",\"type\":\"integer\",\"nullable\":true,\"metadata\":{}},{\"name\":\"indices\",\"type\":{\"type\":\"array\",\"elementType\":\"integer\",\"containsNull\":false},\"nullable\":true,\"metadata\":{}},{\"name\":\"values\",\"type\":{\"type\":\"array\",\"elementType\":\"double\",\"containsNull\":false},\"nullable\":true,\"metadata\":{}}]}}"
        },
        {
         "metadata": "{}",
         "name": "IFIX",
         "type": "\"double\""
        }
       ],
       "type": "table"
      }
     },
     "output_type": "display_data"
    }
   ],
   "source": [
    "indicesRegression = indicesRegression.select(['features','IFIX'])\n",
    "display(indicesRegression)"
   ]
  },
  {
   "cell_type": "markdown",
   "metadata": {
    "application/vnd.databricks.v1+cell": {
     "cellMetadata": {
      "byteLimit": 2048000,
      "rowLimit": 10000
     },
     "inputWidgets": {},
     "nuid": "132449c6-9b2e-4d00-9a9d-598ded214a81",
     "showTitle": false,
     "title": ""
    }
   },
   "source": [
    "Criando o Modelo de Regressão"
   ]
  },
  {
   "cell_type": "code",
   "execution_count": 0,
   "metadata": {
    "application/vnd.databricks.v1+cell": {
     "cellMetadata": {
      "byteLimit": 2048000,
      "rowLimit": 10000
     },
     "inputWidgets": {},
     "nuid": "5a92bae4-a554-4920-b70c-8a96bde6e987",
     "showTitle": false,
     "title": ""
    }
   },
   "outputs": [],
   "source": [
    "train, test = indicesRegression.randomSplit([0.7, 0.3], seed=123)"
   ]
  },
  {
   "cell_type": "code",
   "execution_count": 0,
   "metadata": {
    "application/vnd.databricks.v1+cell": {
     "cellMetadata": {
      "byteLimit": 2048000,
      "rowLimit": 10000
     },
     "inputWidgets": {},
     "nuid": "8b7f6c02-65af-459a-95ab-e8d94cf3933a",
     "showTitle": false,
     "title": ""
    }
   },
   "outputs": [
    {
     "output_type": "stream",
     "name": "stdout",
     "output_type": "stream",
     "text": [
      "+-----------+-------+\n|   features|   IFIX|\n+-----------+-------+\n|  [1.9,1.9]| 2782.1|\n|  [1.9,1.9]|2794.88|\n|  [1.9,1.9]|2870.15|\n|[2.15,2.15]|2733.12|\n|[2.15,2.15]|2806.28|\n+-----------+-------+\nonly showing top 5 rows\n\n"
     ]
    }
   ],
   "source": [
    "train.show(5)"
   ]
  },
  {
   "cell_type": "code",
   "execution_count": 0,
   "metadata": {
    "application/vnd.databricks.v1+cell": {
     "cellMetadata": {
      "byteLimit": 2048000,
      "rowLimit": 10000
     },
     "inputWidgets": {},
     "nuid": "0d79fdfb-5ead-4bea-937f-d8ab1c998f2c",
     "showTitle": false,
     "title": ""
    }
   },
   "outputs": [],
   "source": [
    "from pyspark.ml.regression import LinearRegression  #biblioteca que contém o modelo de regressão\n",
    "\n",
    "lr = LinearRegression(maxIter=10, labelCol='IFIX') # define o objeto a ser utilizado para regressão\n",
    "lrModel = lr.fit(train)"
   ]
  },
  {
   "cell_type": "code",
   "execution_count": 0,
   "metadata": {
    "application/vnd.databricks.v1+cell": {
     "cellMetadata": {
      "byteLimit": 2048000,
      "rowLimit": 10000
     },
     "inputWidgets": {},
     "nuid": "021c3677-6e6c-44b7-852d-e557e16f70f0",
     "showTitle": false,
     "title": ""
    }
   },
   "outputs": [
    {
     "output_type": "stream",
     "name": "stdout",
     "output_type": "stream",
     "text": [
      "Intercepto: 2812.8810682940625\nCoeficiente Angular: [ 14296.34076984 -14320.67830101]\n"
     ]
    }
   ],
   "source": [
    "#Coeficientes angulares e lineares (a e b) da reta de regressão\n",
    "print(f'Intercepto: {lrModel.intercept}\\nCoeficiente Angular: {lrModel.coefficients.values}')"
   ]
  },
  {
   "cell_type": "code",
   "execution_count": 0,
   "metadata": {
    "application/vnd.databricks.v1+cell": {
     "cellMetadata": {
      "byteLimit": 2048000,
      "rowLimit": 10000
     },
     "inputWidgets": {},
     "nuid": "57764335-8602-4b55-9f37-d73055d3ff32",
     "showTitle": false,
     "title": ""
    }
   },
   "outputs": [
    {
     "output_type": "stream",
     "name": "stdout",
     "output_type": "stream",
     "text": [
      "Variância Explicada: 227253.48827756057\nR_2:  0.5567481728946275\nErro médio quadrático:  180926.54592828883\n+------------------+\n|         residuals|\n+------------------+\n|15.460240941359189|\n| 28.24024094135939|\n|103.51024094135937|\n|-27.43537626450916|\n| 45.72462373549115|\n+------------------+\nonly showing top 5 rows\n\n"
     ]
    }
   ],
   "source": [
    "#print das estatísticas do modelo\n",
    "modelsummary = lrModel.summary\n",
    "\n",
    "print(\"Variância Explicada:\", modelsummary.explainedVariance)\n",
    "print('R_2: ', modelsummary.r2)\n",
    "print('Erro médio quadrático: ',modelsummary.meanSquaredError)\n",
    "\n",
    "modelsummary.residuals.show(5)\n"
   ]
  },
  {
   "cell_type": "markdown",
   "metadata": {
    "application/vnd.databricks.v1+cell": {
     "cellMetadata": {
      "byteLimit": 2048000,
      "rowLimit": 10000
     },
     "inputWidgets": {},
     "nuid": "052ced0e-9686-43b3-9df2-69dc35873f68",
     "showTitle": false,
     "title": ""
    }
   },
   "source": [
    "Realizando a Previsão Através do Modelo"
   ]
  },
  {
   "cell_type": "code",
   "execution_count": 0,
   "metadata": {
    "application/vnd.databricks.v1+cell": {
     "cellMetadata": {
      "byteLimit": 2048000,
      "rowLimit": 10000
     },
     "inputWidgets": {},
     "nuid": "d1a1aec9-6f5b-475e-b7cb-86586229c64d",
     "showTitle": false,
     "title": ""
    }
   },
   "outputs": [
    {
     "output_type": "stream",
     "name": "stdout",
     "output_type": "stream",
     "text": [
      "+-----------+-------+------------------+\n|   features|   IFIX|        prediction|\n+-----------+-------+------------------+\n|  [1.9,1.9]| 2782.1|2766.6397590586407|\n|  [1.9,1.9]|2794.88|2766.6397590586407|\n|  [1.9,1.9]|2870.15|2766.6397590586407|\n|[2.15,2.15]|2733.12| 2760.555376264509|\n|[2.15,2.15]|2806.28| 2760.555376264509|\n+-----------+-------+------------------+\nonly showing top 5 rows\n\n"
     ]
    }
   ],
   "source": [
    "modelsummary.predictions.show(5)"
   ]
  },
  {
   "cell_type": "code",
   "execution_count": 0,
   "metadata": {
    "application/vnd.databricks.v1+cell": {
     "cellMetadata": {
      "byteLimit": 2048000,
      "rowLimit": 10000
     },
     "inputWidgets": {},
     "nuid": "aba8ca3c-5faa-46cd-8e74-db0a15597db2",
     "showTitle": false,
     "title": ""
    }
   },
   "outputs": [
    {
     "output_type": "display_data",
     "data": {
      "text/html": [
       "<style scoped>\n",
       "  .table-result-container {\n",
       "    max-height: 300px;\n",
       "    overflow: auto;\n",
       "  }\n",
       "  table, th, td {\n",
       "    border: 1px solid black;\n",
       "    border-collapse: collapse;\n",
       "  }\n",
       "  th, td {\n",
       "    padding: 5px;\n",
       "  }\n",
       "  th {\n",
       "    text-align: left;\n",
       "  }\n",
       "</style><div class='table-result-container'><table class='table-result'><thead style='background-color: white'><tr><th>features</th><th>IFIX</th><th>prediction</th></tr></thead><tbody><tr><td>Map(vectorType -> dense, length -> 2, values -> List(1.9, 1.9))</td><td>2782.1</td><td>2766.6397590586407</td></tr><tr><td>Map(vectorType -> dense, length -> 2, values -> List(1.9, 1.9))</td><td>2794.88</td><td>2766.6397590586407</td></tr><tr><td>Map(vectorType -> dense, length -> 2, values -> List(1.9, 1.9))</td><td>2870.15</td><td>2766.6397590586407</td></tr><tr><td>Map(vectorType -> dense, length -> 2, values -> List(2.15, 2.15))</td><td>2733.12</td><td>2760.555376264509</td></tr><tr><td>Map(vectorType -> dense, length -> 2, values -> List(2.15, 2.15))</td><td>2806.28</td><td>2760.555376264509</td></tr><tr><td>Map(vectorType -> dense, length -> 2, values -> List(2.65, 2.65))</td><td>2861.15</td><td>2748.3866106762384</td></tr><tr><td>Map(vectorType -> dense, length -> 2, values -> List(3.4, 3.4))</td><td>2816.46</td><td>2730.1334622938325</td></tr><tr><td>Map(vectorType -> dense, length -> 2, values -> List(3.65, 3.65))</td><td>2603.62</td><td>2724.0490794997045</td></tr><tr><td>Map(vectorType -> dense, length -> 2, values -> List(4.15, 4.15))</td><td>2754.89</td><td>2711.880313911434</td></tr><tr><td>Map(vectorType -> dense, length -> 2, values -> List(4.9, 4.9))</td><td>2791.98</td><td>2693.627165529028</td></tr><tr><td>Map(vectorType -> dense, length -> 2, values -> List(5.15, 5.15))</td><td>2749.84</td><td>2687.5427827349</td></tr><tr><td>Map(vectorType -> dense, length -> 2, values -> List(5.4, 5.4))</td><td>2684.26</td><td>2681.4583999407573</td></tr><tr><td>Map(vectorType -> dense, length -> 2, values -> List(6.15, 6.15))</td><td>2715.67</td><td>2663.2052515583587</td></tr><tr><td>Map(vectorType -> dense, length -> 2, values -> List(6.39, 6.4))</td><td>2154.45</td><td>2514.1574610658377</td></tr><tr><td>Map(vectorType -> dense, length -> 2, values -> List(6.39, 6.4))</td><td>2337.25</td><td>2514.1574610658377</td></tr><tr><td>Map(vectorType -> dense, length -> 2, values -> List(6.4, 6.4))</td><td>2242.45</td><td>2657.1208687642306</td></tr><tr><td>Map(vectorType -> dense, length -> 2, values -> List(6.4, 6.4))</td><td>2300.48</td><td>2657.1208687642306</td></tr><tr><td>Map(vectorType -> dense, length -> 2, values -> List(6.4, 6.4))</td><td>2409.69</td><td>2657.1208687642306</td></tr><tr><td>Map(vectorType -> dense, length -> 2, values -> List(6.4, 6.4))</td><td>2434.56</td><td>2657.1208687642306</td></tr><tr><td>Map(vectorType -> dense, length -> 2, values -> List(6.4, 6.4))</td><td>2508.45</td><td>2657.1208687642306</td></tr><tr><td>Map(vectorType -> dense, length -> 2, values -> List(6.4, 6.4))</td><td>2552.69</td><td>2657.1208687642306</td></tr><tr><td>Map(vectorType -> dense, length -> 2, values -> List(6.4, 6.4))</td><td>2659.55</td><td>2657.1208687642306</td></tr><tr><td>Map(vectorType -> dense, length -> 2, values -> List(7.39, 7.4))</td><td>2213.08</td><td>2489.8199298892964</td></tr><tr><td>Map(vectorType -> dense, length -> 2, values -> List(7.39, 7.4))</td><td>2226.25</td><td>2489.8199298892964</td></tr><tr><td>Map(vectorType -> dense, length -> 2, values -> List(9.15, 9.15))</td><td>2776.92</td><td>2590.192658028735</td></tr><tr><td>Map(vectorType -> dense, length -> 2, values -> List(9.15, 9.15))</td><td>2804.79</td><td>2590.192658028735</td></tr><tr><td>Map(vectorType -> dense, length -> 2, values -> List(10.27, 10.4))</td><td>1282.04</td><td>701.2464439792188</td></tr><tr><td>Map(vectorType -> dense, length -> 2, values -> List(10.59, 10.65))</td><td>1330.42</td><td>1695.9059150736816</td></tr><tr><td>Map(vectorType -> dense, length -> 2, values -> List(10.8, 10.9))</td><td>1350.76</td><td>1117.967901486098</td></tr><tr><td>Map(vectorType -> dense, length -> 2, values -> List(10.8, 10.9))</td><td>1387.63</td><td>1117.967901486098</td></tr><tr><td>Map(vectorType -> dense, length -> 2, values -> List(10.8, 10.9))</td><td>1409.42</td><td>1117.967901486098</td></tr><tr><td>Map(vectorType -> dense, length -> 2, values -> List(10.81, 10.9))</td><td>1421.44</td><td>1260.9313091844474</td></tr><tr><td>Map(vectorType -> dense, length -> 2, values -> List(11.15, 11.15))</td><td>3360.0</td><td>2541.517595675667</td></tr><tr><td>Map(vectorType -> dense, length -> 2, values -> List(11.57, 11.65))</td><td>1336.72</td><td>1385.6415685004126</td></tr><tr><td>Map(vectorType -> dense, length -> 2, values -> List(11.65, 11.65))</td><td>2779.97</td><td>2529.348830087382</td></tr><tr><td>Map(vectorType -> dense, length -> 2, values -> List(11.65, 11.65))</td><td>3333.51</td><td>2529.348830087382</td></tr><tr><td>Map(vectorType -> dense, length -> 2, values -> List(12.13, 12.15))</td><td>2032.81</td><td>2231.253249102398</td></tr><tr><td>Map(vectorType -> dense, length -> 2, values -> List(12.15, 12.15))</td><td>3176.56</td><td>2517.180064499126</td></tr><tr><td>Map(vectorType -> dense, length -> 2, values -> List(12.6, 12.65))</td><td>1347.63</td><td>1790.1942604189776</td></tr><tr><td>Map(vectorType -> dense, length -> 2, values -> List(12.65, 12.65))</td><td>3155.7</td><td>2505.0112989108407</td></tr><tr><td>Map(vectorType -> dense, length -> 2, values -> List(12.88, 12.9))</td><td>1934.69</td><td>2213.000100719985</td></tr><tr><td>Map(vectorType -> dense, length -> 2, values -> List(13.15, 13.15))</td><td>2795.62</td><td>2492.8425333225846</td></tr><tr><td>Map(vectorType -> dense, length -> 2, values -> List(13.65, 13.65))</td><td>2760.96</td><td>2480.6737677343285</td></tr><tr><td>Map(vectorType -> dense, length -> 2, values -> List(13.65, 13.65))</td><td>2808.39</td><td>2480.6737677343285</td></tr><tr><td>Map(vectorType -> dense, length -> 2, values -> List(13.65, 13.65))</td><td>2867.21</td><td>2480.6737677343285</td></tr><tr><td>Map(vectorType -> dense, length -> 2, values -> List(13.65, 13.65))</td><td>2976.23</td><td>2480.6737677343285</td></tr><tr><td>Map(vectorType -> dense, length -> 2, values -> List(13.65, 13.65))</td><td>2991.45</td><td>2480.6737677343285</td></tr><tr><td>Map(vectorType -> dense, length -> 2, values -> List(13.65, 13.65))</td><td>3013.46</td><td>2480.6737677343285</td></tr><tr><td>Map(vectorType -> dense, length -> 2, values -> List(13.65, 13.65))</td><td>3155.32</td><td>2480.6737677343285</td></tr><tr><td>Map(vectorType -> dense, length -> 2, values -> List(13.65, 13.65))</td><td>3197.18</td><td>2480.6737677343285</td></tr><tr><td>Map(vectorType -> dense, length -> 2, values -> List(13.88, 13.9))</td><td>1837.13</td><td>2188.6625695434436</td></tr><tr><td>Map(vectorType -> dense, length -> 2, values -> List(14.13, 14.15))</td><td>1361.05</td><td>2182.5781867493156</td></tr><tr><td>Map(vectorType -> dense, length -> 2, values -> List(14.13, 14.15))</td><td>1400.42</td><td>2182.5781867493156</td></tr><tr><td>Map(vectorType -> dense, length -> 2, values -> List(14.13, 14.15))</td><td>1458.12</td><td>2182.5781867493156</td></tr><tr><td>Map(vectorType -> dense, length -> 2, values -> List(14.13, 14.15))</td><td>1485.75</td><td>2182.5781867493156</td></tr><tr><td>Map(vectorType -> dense, length -> 2, values -> List(14.13, 14.15))</td><td>1767.11</td><td>2182.5781867493156</td></tr><tr><td>Map(vectorType -> dense, length -> 2, values -> List(14.13, 14.15))</td><td>1816.05</td><td>2182.5781867493156</td></tr><tr><td>Map(vectorType -> dense, length -> 2, values -> List(14.14, 14.15))</td><td>1409.01</td><td>2325.541594447694</td></tr><tr><td>Map(vectorType -> dense, length -> 2, values -> List(14.14, 14.15))</td><td>1452.66</td><td>2325.541594447694</td></tr></tbody></table></div>"
      ]
     },
     "metadata": {
      "application/vnd.databricks.v1+output": {
       "addedWidgets": {},
       "aggData": [],
       "aggError": "",
       "aggOverflow": false,
       "aggSchema": [],
       "aggSeriesLimitReached": false,
       "aggType": "",
       "arguments": {},
       "columnCustomDisplayInfos": {},
       "data": [
        [
         {
          "length": 2,
          "values": [
           1.9,
           1.9
          ],
          "vectorType": "dense"
         },
         2782.1,
         2766.6397590586407
        ],
        [
         {
          "length": 2,
          "values": [
           1.9,
           1.9
          ],
          "vectorType": "dense"
         },
         2794.88,
         2766.6397590586407
        ],
        [
         {
          "length": 2,
          "values": [
           1.9,
           1.9
          ],
          "vectorType": "dense"
         },
         2870.15,
         2766.6397590586407
        ],
        [
         {
          "length": 2,
          "values": [
           2.15,
           2.15
          ],
          "vectorType": "dense"
         },
         2733.12,
         2760.555376264509
        ],
        [
         {
          "length": 2,
          "values": [
           2.15,
           2.15
          ],
          "vectorType": "dense"
         },
         2806.28,
         2760.555376264509
        ],
        [
         {
          "length": 2,
          "values": [
           2.65,
           2.65
          ],
          "vectorType": "dense"
         },
         2861.15,
         2748.3866106762384
        ],
        [
         {
          "length": 2,
          "values": [
           3.4,
           3.4
          ],
          "vectorType": "dense"
         },
         2816.46,
         2730.1334622938325
        ],
        [
         {
          "length": 2,
          "values": [
           3.65,
           3.65
          ],
          "vectorType": "dense"
         },
         2603.62,
         2724.0490794997045
        ],
        [
         {
          "length": 2,
          "values": [
           4.15,
           4.15
          ],
          "vectorType": "dense"
         },
         2754.89,
         2711.880313911434
        ],
        [
         {
          "length": 2,
          "values": [
           4.9,
           4.9
          ],
          "vectorType": "dense"
         },
         2791.98,
         2693.627165529028
        ],
        [
         {
          "length": 2,
          "values": [
           5.15,
           5.15
          ],
          "vectorType": "dense"
         },
         2749.84,
         2687.5427827349
        ],
        [
         {
          "length": 2,
          "values": [
           5.4,
           5.4
          ],
          "vectorType": "dense"
         },
         2684.26,
         2681.4583999407573
        ],
        [
         {
          "length": 2,
          "values": [
           6.15,
           6.15
          ],
          "vectorType": "dense"
         },
         2715.67,
         2663.2052515583587
        ],
        [
         {
          "length": 2,
          "values": [
           6.39,
           6.4
          ],
          "vectorType": "dense"
         },
         2154.45,
         2514.1574610658377
        ],
        [
         {
          "length": 2,
          "values": [
           6.39,
           6.4
          ],
          "vectorType": "dense"
         },
         2337.25,
         2514.1574610658377
        ],
        [
         {
          "length": 2,
          "values": [
           6.4,
           6.4
          ],
          "vectorType": "dense"
         },
         2242.45,
         2657.1208687642306
        ],
        [
         {
          "length": 2,
          "values": [
           6.4,
           6.4
          ],
          "vectorType": "dense"
         },
         2300.48,
         2657.1208687642306
        ],
        [
         {
          "length": 2,
          "values": [
           6.4,
           6.4
          ],
          "vectorType": "dense"
         },
         2409.69,
         2657.1208687642306
        ],
        [
         {
          "length": 2,
          "values": [
           6.4,
           6.4
          ],
          "vectorType": "dense"
         },
         2434.56,
         2657.1208687642306
        ],
        [
         {
          "length": 2,
          "values": [
           6.4,
           6.4
          ],
          "vectorType": "dense"
         },
         2508.45,
         2657.1208687642306
        ],
        [
         {
          "length": 2,
          "values": [
           6.4,
           6.4
          ],
          "vectorType": "dense"
         },
         2552.69,
         2657.1208687642306
        ],
        [
         {
          "length": 2,
          "values": [
           6.4,
           6.4
          ],
          "vectorType": "dense"
         },
         2659.55,
         2657.1208687642306
        ],
        [
         {
          "length": 2,
          "values": [
           7.39,
           7.4
          ],
          "vectorType": "dense"
         },
         2213.08,
         2489.8199298892964
        ],
        [
         {
          "length": 2,
          "values": [
           7.39,
           7.4
          ],
          "vectorType": "dense"
         },
         2226.25,
         2489.8199298892964
        ],
        [
         {
          "length": 2,
          "values": [
           9.15,
           9.15
          ],
          "vectorType": "dense"
         },
         2776.92,
         2590.192658028735
        ],
        [
         {
          "length": 2,
          "values": [
           9.15,
           9.15
          ],
          "vectorType": "dense"
         },
         2804.79,
         2590.192658028735
        ],
        [
         {
          "length": 2,
          "values": [
           10.27,
           10.4
          ],
          "vectorType": "dense"
         },
         1282.04,
         701.2464439792188
        ],
        [
         {
          "length": 2,
          "values": [
           10.59,
           10.65
          ],
          "vectorType": "dense"
         },
         1330.42,
         1695.9059150736816
        ],
        [
         {
          "length": 2,
          "values": [
           10.8,
           10.9
          ],
          "vectorType": "dense"
         },
         1350.76,
         1117.967901486098
        ],
        [
         {
          "length": 2,
          "values": [
           10.8,
           10.9
          ],
          "vectorType": "dense"
         },
         1387.63,
         1117.967901486098
        ],
        [
         {
          "length": 2,
          "values": [
           10.8,
           10.9
          ],
          "vectorType": "dense"
         },
         1409.42,
         1117.967901486098
        ],
        [
         {
          "length": 2,
          "values": [
           10.81,
           10.9
          ],
          "vectorType": "dense"
         },
         1421.44,
         1260.9313091844474
        ],
        [
         {
          "length": 2,
          "values": [
           11.15,
           11.15
          ],
          "vectorType": "dense"
         },
         3360.0,
         2541.517595675667
        ],
        [
         {
          "length": 2,
          "values": [
           11.57,
           11.65
          ],
          "vectorType": "dense"
         },
         1336.72,
         1385.6415685004126
        ],
        [
         {
          "length": 2,
          "values": [
           11.65,
           11.65
          ],
          "vectorType": "dense"
         },
         2779.97,
         2529.348830087382
        ],
        [
         {
          "length": 2,
          "values": [
           11.65,
           11.65
          ],
          "vectorType": "dense"
         },
         3333.51,
         2529.348830087382
        ],
        [
         {
          "length": 2,
          "values": [
           12.13,
           12.15
          ],
          "vectorType": "dense"
         },
         2032.81,
         2231.253249102398
        ],
        [
         {
          "length": 2,
          "values": [
           12.15,
           12.15
          ],
          "vectorType": "dense"
         },
         3176.56,
         2517.180064499126
        ],
        [
         {
          "length": 2,
          "values": [
           12.6,
           12.65
          ],
          "vectorType": "dense"
         },
         1347.63,
         1790.1942604189776
        ],
        [
         {
          "length": 2,
          "values": [
           12.65,
           12.65
          ],
          "vectorType": "dense"
         },
         3155.7,
         2505.0112989108407
        ],
        [
         {
          "length": 2,
          "values": [
           12.88,
           12.9
          ],
          "vectorType": "dense"
         },
         1934.69,
         2213.000100719985
        ],
        [
         {
          "length": 2,
          "values": [
           13.15,
           13.15
          ],
          "vectorType": "dense"
         },
         2795.62,
         2492.8425333225846
        ],
        [
         {
          "length": 2,
          "values": [
           13.65,
           13.65
          ],
          "vectorType": "dense"
         },
         2760.96,
         2480.6737677343285
        ],
        [
         {
          "length": 2,
          "values": [
           13.65,
           13.65
          ],
          "vectorType": "dense"
         },
         2808.39,
         2480.6737677343285
        ],
        [
         {
          "length": 2,
          "values": [
           13.65,
           13.65
          ],
          "vectorType": "dense"
         },
         2867.21,
         2480.6737677343285
        ],
        [
         {
          "length": 2,
          "values": [
           13.65,
           13.65
          ],
          "vectorType": "dense"
         },
         2976.23,
         2480.6737677343285
        ],
        [
         {
          "length": 2,
          "values": [
           13.65,
           13.65
          ],
          "vectorType": "dense"
         },
         2991.45,
         2480.6737677343285
        ],
        [
         {
          "length": 2,
          "values": [
           13.65,
           13.65
          ],
          "vectorType": "dense"
         },
         3013.46,
         2480.6737677343285
        ],
        [
         {
          "length": 2,
          "values": [
           13.65,
           13.65
          ],
          "vectorType": "dense"
         },
         3155.32,
         2480.6737677343285
        ],
        [
         {
          "length": 2,
          "values": [
           13.65,
           13.65
          ],
          "vectorType": "dense"
         },
         3197.18,
         2480.6737677343285
        ],
        [
         {
          "length": 2,
          "values": [
           13.88,
           13.9
          ],
          "vectorType": "dense"
         },
         1837.13,
         2188.6625695434436
        ],
        [
         {
          "length": 2,
          "values": [
           14.13,
           14.15
          ],
          "vectorType": "dense"
         },
         1361.05,
         2182.5781867493156
        ],
        [
         {
          "length": 2,
          "values": [
           14.13,
           14.15
          ],
          "vectorType": "dense"
         },
         1400.42,
         2182.5781867493156
        ],
        [
         {
          "length": 2,
          "values": [
           14.13,
           14.15
          ],
          "vectorType": "dense"
         },
         1458.12,
         2182.5781867493156
        ],
        [
         {
          "length": 2,
          "values": [
           14.13,
           14.15
          ],
          "vectorType": "dense"
         },
         1485.75,
         2182.5781867493156
        ],
        [
         {
          "length": 2,
          "values": [
           14.13,
           14.15
          ],
          "vectorType": "dense"
         },
         1767.11,
         2182.5781867493156
        ],
        [
         {
          "length": 2,
          "values": [
           14.13,
           14.15
          ],
          "vectorType": "dense"
         },
         1816.05,
         2182.5781867493156
        ],
        [
         {
          "length": 2,
          "values": [
           14.14,
           14.15
          ],
          "vectorType": "dense"
         },
         1409.01,
         2325.541594447694
        ],
        [
         {
          "length": 2,
          "values": [
           14.14,
           14.15
          ],
          "vectorType": "dense"
         },
         1452.66,
         2325.541594447694
        ]
       ],
       "datasetInfos": [],
       "dbfsResultPath": null,
       "isJsonSchema": true,
       "metadata": {},
       "overflow": false,
       "plotOptions": {
        "customPlotOptions": {},
        "displayType": "table",
        "pivotAggregation": null,
        "pivotColumns": null,
        "xColumns": null,
        "yColumns": null
       },
       "removedWidgets": [],
       "schema": [
        {
         "metadata": "{\"ml_attr\":{\"attrs\":{\"numeric\":[{\"idx\":0,\"name\":\"CDI\"},{\"idx\":1,\"name\":\"SELIC\"}]},\"num_attrs\":2}}",
         "name": "features",
         "type": "{\"type\":\"udt\",\"class\":\"org.apache.spark.ml.linalg.VectorUDT\",\"pyClass\":\"pyspark.ml.linalg.VectorUDT\",\"sqlType\":{\"type\":\"struct\",\"fields\":[{\"name\":\"type\",\"type\":\"byte\",\"nullable\":false,\"metadata\":{}},{\"name\":\"size\",\"type\":\"integer\",\"nullable\":true,\"metadata\":{}},{\"name\":\"indices\",\"type\":{\"type\":\"array\",\"elementType\":\"integer\",\"containsNull\":false},\"nullable\":true,\"metadata\":{}},{\"name\":\"values\",\"type\":{\"type\":\"array\",\"elementType\":\"double\",\"containsNull\":false},\"nullable\":true,\"metadata\":{}}]}}"
        },
        {
         "metadata": "{}",
         "name": "IFIX",
         "type": "\"double\""
        },
        {
         "metadata": "{\"ml_attr\":{}}",
         "name": "prediction",
         "type": "\"double\""
        }
       ],
       "type": "table"
      }
     },
     "output_type": "display_data"
    }
   ],
   "source": [
    "display(modelsummary.predictions)"
   ]
  },
  {
   "cell_type": "code",
   "execution_count": 0,
   "metadata": {
    "application/vnd.databricks.v1+cell": {
     "cellMetadata": {
      "byteLimit": 2048000,
      "rowLimit": 10000
     },
     "inputWidgets": {},
     "nuid": "8c2c5dc5-b3d3-4d80-8c3a-c1511d2a5432",
     "showTitle": false,
     "title": ""
    }
   },
   "outputs": [
    {
     "output_type": "display_data",
     "data": {
      "text/html": [
       "<style scoped>\n",
       "  .table-result-container {\n",
       "    max-height: 300px;\n",
       "    overflow: auto;\n",
       "  }\n",
       "  table, th, td {\n",
       "    border: 1px solid black;\n",
       "    border-collapse: collapse;\n",
       "  }\n",
       "  th, td {\n",
       "    padding: 5px;\n",
       "  }\n",
       "  th {\n",
       "    text-align: left;\n",
       "  }\n",
       "</style><div class='table-result-container'><table class='table-result'><thead style='background-color: white'><tr><th>Mes_Ano</th><th>IFIX</th><th>prediction</th></tr></thead><tbody><tr><td>8-2020</td><td>2782.1</td><td>2766.6397590586407</td></tr><tr><td>9-2020</td><td>2794.88</td><td>2766.6397590586407</td></tr><tr><td>12-2020</td><td>2870.15</td><td>2766.6397590586407</td></tr><tr><td>7-2020</td><td>2733.12</td><td>2760.555376264509</td></tr><tr><td>6-2020</td><td>2806.28</td><td>2760.555376264509</td></tr><tr><td>4-2021</td><td>2861.15</td><td>2748.3866106762384</td></tr><tr><td>5-2021</td><td>2816.46</td><td>2730.1334622938325</td></tr><tr><td>4-2020</td><td>2603.62</td><td>2724.0490794997045</td></tr><tr><td>6-2021</td><td>2754.89</td><td>2711.880313911434</td></tr><tr><td>10-2019</td><td>2791.98</td><td>2693.627165529028</td></tr><tr><td>8-2021</td><td>2749.84</td><td>2687.5427827349</td></tr><tr><td>9-2019</td><td>2684.26</td><td>2681.4583999407573</td></tr><tr><td>9-2021</td><td>2715.67</td><td>2663.2052515583587</td></tr><tr><td>7-2018</td><td>2154.45</td><td>2514.1574610658377</td></tr><tr><td>4-2018</td><td>2337.25</td><td>2514.1574610658377</td></tr><tr><td>10-2018</td><td>2242.45</td><td>2657.1208687642306</td></tr><tr><td>11-2018</td><td>2300.48</td><td>2657.1208687642306</td></tr><tr><td>1-2019</td><td>2409.69</td><td>2657.1208687642306</td></tr><tr><td>2-2019</td><td>2434.56</td><td>2657.1208687642306</td></tr><tr><td>4-2019</td><td>2508.45</td><td>2657.1208687642306</td></tr><tr><td>5-2019</td><td>2552.69</td><td>2657.1208687642306</td></tr><tr><td>7-2019</td><td>2659.55</td><td>2657.1208687642306</td></tr><tr><td>11-2017</td><td>2213.08</td><td>2489.8199298892964</td></tr><tr><td>10-2017</td><td>2226.25</td><td>2489.8199298892964</td></tr><tr><td>1-2022</td><td>2776.92</td><td>2590.192658028735</td></tr><tr><td>12-2021</td><td>2804.79</td><td>2590.192658028735</td></tr><tr><td>1-2014</td><td>1282.04</td><td>701.2464439792188</td></tr><tr><td>2-2014</td><td>1330.42</td><td>1695.9059150736816</td></tr><tr><td>4-2014</td><td>1350.76</td><td>1117.967901486098</td></tr><tr><td>6-2014</td><td>1387.63</td><td>1117.967901486098</td></tr><tr><td>7-2014</td><td>1409.42</td><td>1117.967901486098</td></tr><tr><td>9-2014</td><td>1421.44</td><td>1260.9313091844474</td></tr><tr><td>2-2024</td><td>3360.0</td><td>2541.517595675667</td></tr><tr><td>12-2014</td><td>1336.72</td><td>1385.6415685004126</td></tr><tr><td>3-2022</td><td>2779.97</td><td>2529.348830087382</td></tr><tr><td>1-2024</td><td>3333.51</td><td>2529.348830087382</td></tr><tr><td>3-2017</td><td>2032.81</td><td>2231.253249102398</td></tr><tr><td>11-2023</td><td>3176.56</td><td>2517.180064499126</td></tr><tr><td>3-2015</td><td>1347.63</td><td>1790.1942604189776</td></tr><tr><td>10-2023</td><td>3155.7</td><td>2505.0112989108407</td></tr><tr><td>1-2017</td><td>1934.69</td><td>2213.000100719985</td></tr><tr><td>6-2022</td><td>2795.62</td><td>2492.8425333225846</td></tr><tr><td>3-2023</td><td>2760.96</td><td>2480.6737677343285</td></tr><tr><td>2-2023</td><td>2808.39</td><td>2480.6737677343285</td></tr><tr><td>11-2022</td><td>2867.21</td><td>2480.6737677343285</td></tr><tr><td>8-2022</td><td>2976.23</td><td>2480.6737677343285</td></tr><tr><td>10-2022</td><td>2991.45</td><td>2480.6737677343285</td></tr><tr><td>5-2023</td><td>3013.46</td><td>2480.6737677343285</td></tr><tr><td>6-2023</td><td>3155.32</td><td>2480.6737677343285</td></tr><tr><td>7-2023</td><td>3197.18</td><td>2480.6737677343285</td></tr><tr><td>11-2016</td><td>1837.13</td><td>2188.6625695434436</td></tr><tr><td>2-2016</td><td>1361.05</td><td>2182.5781867493156</td></tr><tr><td>9-2015</td><td>1400.42</td><td>2182.5781867493156</td></tr><tr><td>8-2015</td><td>1458.12</td><td>2182.5781867493156</td></tr><tr><td>3-2016</td><td>1485.75</td><td>2182.5781867493156</td></tr><tr><td>8-2016</td><td>1767.11</td><td>2182.5781867493156</td></tr><tr><td>9-2016</td><td>1816.05</td><td>2182.5781867493156</td></tr><tr><td>12-2015</td><td>1409.01</td><td>2325.541594447694</td></tr><tr><td>11-2015</td><td>1452.66</td><td>2325.541594447694</td></tr></tbody></table></div>"
      ]
     },
     "metadata": {
      "application/vnd.databricks.v1+output": {
       "addedWidgets": {},
       "aggData": [],
       "aggError": "",
       "aggOverflow": false,
       "aggSchema": [],
       "aggSeriesLimitReached": false,
       "aggType": "",
       "arguments": {},
       "columnCustomDisplayInfos": {},
       "data": [
        [
         "8-2020",
         2782.1,
         2766.6397590586407
        ],
        [
         "9-2020",
         2794.88,
         2766.6397590586407
        ],
        [
         "12-2020",
         2870.15,
         2766.6397590586407
        ],
        [
         "7-2020",
         2733.12,
         2760.555376264509
        ],
        [
         "6-2020",
         2806.28,
         2760.555376264509
        ],
        [
         "4-2021",
         2861.15,
         2748.3866106762384
        ],
        [
         "5-2021",
         2816.46,
         2730.1334622938325
        ],
        [
         "4-2020",
         2603.62,
         2724.0490794997045
        ],
        [
         "6-2021",
         2754.89,
         2711.880313911434
        ],
        [
         "10-2019",
         2791.98,
         2693.627165529028
        ],
        [
         "8-2021",
         2749.84,
         2687.5427827349
        ],
        [
         "9-2019",
         2684.26,
         2681.4583999407573
        ],
        [
         "9-2021",
         2715.67,
         2663.2052515583587
        ],
        [
         "7-2018",
         2154.45,
         2514.1574610658377
        ],
        [
         "4-2018",
         2337.25,
         2514.1574610658377
        ],
        [
         "10-2018",
         2242.45,
         2657.1208687642306
        ],
        [
         "11-2018",
         2300.48,
         2657.1208687642306
        ],
        [
         "1-2019",
         2409.69,
         2657.1208687642306
        ],
        [
         "2-2019",
         2434.56,
         2657.1208687642306
        ],
        [
         "4-2019",
         2508.45,
         2657.1208687642306
        ],
        [
         "5-2019",
         2552.69,
         2657.1208687642306
        ],
        [
         "7-2019",
         2659.55,
         2657.1208687642306
        ],
        [
         "11-2017",
         2213.08,
         2489.8199298892964
        ],
        [
         "10-2017",
         2226.25,
         2489.8199298892964
        ],
        [
         "1-2022",
         2776.92,
         2590.192658028735
        ],
        [
         "12-2021",
         2804.79,
         2590.192658028735
        ],
        [
         "1-2014",
         1282.04,
         701.2464439792188
        ],
        [
         "2-2014",
         1330.42,
         1695.9059150736816
        ],
        [
         "4-2014",
         1350.76,
         1117.967901486098
        ],
        [
         "6-2014",
         1387.63,
         1117.967901486098
        ],
        [
         "7-2014",
         1409.42,
         1117.967901486098
        ],
        [
         "9-2014",
         1421.44,
         1260.9313091844474
        ],
        [
         "2-2024",
         3360.0,
         2541.517595675667
        ],
        [
         "12-2014",
         1336.72,
         1385.6415685004126
        ],
        [
         "3-2022",
         2779.97,
         2529.348830087382
        ],
        [
         "1-2024",
         3333.51,
         2529.348830087382
        ],
        [
         "3-2017",
         2032.81,
         2231.253249102398
        ],
        [
         "11-2023",
         3176.56,
         2517.180064499126
        ],
        [
         "3-2015",
         1347.63,
         1790.1942604189776
        ],
        [
         "10-2023",
         3155.7,
         2505.0112989108407
        ],
        [
         "1-2017",
         1934.69,
         2213.000100719985
        ],
        [
         "6-2022",
         2795.62,
         2492.8425333225846
        ],
        [
         "3-2023",
         2760.96,
         2480.6737677343285
        ],
        [
         "2-2023",
         2808.39,
         2480.6737677343285
        ],
        [
         "11-2022",
         2867.21,
         2480.6737677343285
        ],
        [
         "8-2022",
         2976.23,
         2480.6737677343285
        ],
        [
         "10-2022",
         2991.45,
         2480.6737677343285
        ],
        [
         "5-2023",
         3013.46,
         2480.6737677343285
        ],
        [
         "6-2023",
         3155.32,
         2480.6737677343285
        ],
        [
         "7-2023",
         3197.18,
         2480.6737677343285
        ],
        [
         "11-2016",
         1837.13,
         2188.6625695434436
        ],
        [
         "2-2016",
         1361.05,
         2182.5781867493156
        ],
        [
         "9-2015",
         1400.42,
         2182.5781867493156
        ],
        [
         "8-2015",
         1458.12,
         2182.5781867493156
        ],
        [
         "3-2016",
         1485.75,
         2182.5781867493156
        ],
        [
         "8-2016",
         1767.11,
         2182.5781867493156
        ],
        [
         "9-2016",
         1816.05,
         2182.5781867493156
        ],
        [
         "12-2015",
         1409.01,
         2325.541594447694
        ],
        [
         "11-2015",
         1452.66,
         2325.541594447694
        ]
       ],
       "datasetInfos": [],
       "dbfsResultPath": null,
       "isJsonSchema": true,
       "metadata": {},
       "overflow": false,
       "plotOptions": {
        "customPlotOptions": {},
        "displayType": "table",
        "pivotAggregation": null,
        "pivotColumns": null,
        "xColumns": null,
        "yColumns": null
       },
       "removedWidgets": [],
       "schema": [
        {
         "metadata": "{}",
         "name": "Mes_Ano",
         "type": "\"string\""
        },
        {
         "metadata": "{}",
         "name": "IFIX",
         "type": "\"double\""
        },
        {
         "metadata": "{\"ml_attr\":{}}",
         "name": "prediction",
         "type": "\"double\""
        }
       ],
       "type": "table"
      }
     },
     "output_type": "display_data"
    },
    {
     "output_type": "display_data",
     "data": {
      "text/plain": [
       "Databricks visualization. Run in Databricks to view."
      ]
     },
     "metadata": {
      "application/vnd.databricks.v1.subcommand+json": {
       "baseErrorDetails": null,
       "bindings": {},
       "collapsed": false,
       "command": "%python\n__backend_agg_display_orig = display\n__backend_agg_dfs = []\ndef __backend_agg_display_new(df):\n    __backend_agg_df_modules = [\"pandas.core.frame\", \"databricks.koalas.frame\", \"pyspark.sql.dataframe\", \"pyspark.pandas.frame\", \"pyspark.sql.connect.dataframe\"]\n    if (type(df).__module__ in __backend_agg_df_modules and type(df).__name__ == 'DataFrame') or isinstance(df, list):\n        __backend_agg_dfs.append(df)\n\ndisplay = __backend_agg_display_new\n\ndef __backend_agg_user_code_fn():\n    import base64\n    exec(base64.standard_b64decode(\"cHJlZGljdGlvbnNERiA9IG1vZGVsc3VtbWFyeS5wcmVkaWN0aW9ucwpwcmVkaWN0aW9uc1Bsb3QgPSBwcmVkaWN0aW9uc0RGLmpvaW4oaWZpeFJlZywgIklGSVgiLCAiaW5uZXIiKQpwcmVkaWN0aW9uc1Bsb3QgPSBwcmVkaWN0aW9uc1Bsb3Quc2VsZWN0KCdNZXNfQW5vJywgJ0lGSVgnLCAncHJlZGljdGlvbicpCmRpc3BsYXkocHJlZGljdGlvbnNQbG90KQ==\").decode())\n\ntry:\n    # run user code\n    __backend_agg_user_code_fn()\n\n    #reset display function\n    display = __backend_agg_display_orig\n\n    if len(__backend_agg_dfs) > 0:\n        # create a temp view\n        if type(__backend_agg_dfs[0]).__module__ == \"databricks.koalas.frame\":\n            # koalas dataframe\n            __backend_agg_dfs[0].to_spark().createOrReplaceTempView(\"DatabricksViewc2d5ea3\")\n        elif type(__backend_agg_dfs[0]).__module__ == \"pandas.core.frame\" or isinstance(__backend_agg_dfs[0], list):\n            # pandas dataframe\n            spark.createDataFrame(__backend_agg_dfs[0]).createOrReplaceTempView(\"DatabricksViewc2d5ea3\")\n        else:\n            __backend_agg_dfs[0].createOrReplaceTempView(\"DatabricksViewc2d5ea3\")\n        #run backend agg\n        display(spark.sql(\"\"\"WITH q AS (select * from DatabricksViewc2d5ea3) SELECT `Mes_Ano`,SUM(`IFIX`) `column_c77865a088`,SUM(`prediction`) `column_c77865a091` FROM q GROUP BY `Mes_Ano`\"\"\"))\n    else:\n        displayHTML(\"dataframe no longer exists. If you're using dataframe.display(), use display(dataframe) instead.\")\n\n\nfinally:\n    spark.sql(\"drop view if exists DatabricksViewc2d5ea3\")\n    display = __backend_agg_display_orig\n    del __backend_agg_display_new\n    del __backend_agg_display_orig\n    del __backend_agg_dfs\n    del __backend_agg_user_code_fn\n\n",
       "commandTitle": "Visualization 1",
       "commandType": "auto",
       "commandVersion": 0,
       "commentThread": [],
       "commentsVisible": false,
       "contentSha256Hex": null,
       "customPlotOptions": {
        "redashChart": [
         {
          "key": "type",
          "value": "CHART"
         },
         {
          "key": "options",
          "value": {
           "alignYAxesAtZero": false,
           "coefficient": 1,
           "columnConfigurationMap": {
            "x": {
             "column": "Mes_Ano",
             "id": "column_c77865a093"
            },
            "y": [
             {
              "column": "IFIX",
              "id": "column_c77865a088",
              "transform": "SUM"
             },
             {
              "column": "prediction",
              "id": "column_c77865a091",
              "transform": "SUM"
             }
            ]
           },
           "dateTimeFormat": "DD/MM/YYYY HH:mm",
           "direction": {
            "type": "counterclockwise"
           },
           "error_y": {
            "type": "data",
            "visible": true
           },
           "globalSeriesType": "line",
           "isAggregationOn": true,
           "legend": {
            "traceorder": "normal"
           },
           "missingValuesAsZero": true,
           "numberFormat": "0,0.[00000]",
           "percentFormat": "0[.]00%",
           "reverseX": false,
           "series": {
            "error_y": {
             "type": "data",
             "visible": true
            },
            "stacking": null
           },
           "seriesOptions": {
            "column_c77865a085": {
             "type": "line",
             "yAxis": 0
            },
            "column_c77865a088": {
             "color": "#356AFF",
             "name": "IFIX",
             "type": "line",
             "yAxis": 0
            },
            "column_c77865a091": {
             "color": "#FB8D3D",
             "name": "Previsão",
             "type": "line",
             "yAxis": 0
            }
           },
           "showDataLabels": false,
           "sizemode": "diameter",
           "sortX": true,
           "sortY": true,
           "swappedAxes": false,
           "textFormat": "",
           "useAggregationsUi": true,
           "valuesOptions": {},
           "version": 2,
           "xAxis": {
            "labels": {
             "enabled": true
            },
            "title": {
             "text": "Período"
            },
            "type": "-"
           },
           "yAxis": [
            {
             "rangeMin": 0,
             "title": {
              "text": "Indices"
             },
             "type": "-"
            },
            {
             "opposite": true,
             "type": "-"
            }
           ]
          }
         }
        ]
       },
       "datasetPreviewNameToCmdIdMap": {},
       "diffDeletes": [],
       "diffInserts": [],
       "displayType": "redashChart",
       "error": null,
       "errorDetails": null,
       "errorSummary": null,
       "errorTraceType": null,
       "finishTime": 0,
       "globalVars": {},
       "guid": "",
       "height": "429",
       "hideCommandCode": false,
       "hideCommandResult": false,
       "iPythonMetadata": null,
       "inputWidgets": {},
       "isLockedInExamMode": false,
       "latestUser": "a user",
       "latestUserId": null,
       "listResultMetadata": null,
       "metadata": {},
       "nuid": "d7c6d8a8-f28d-4a6c-a496-dea0da2273d4",
       "origId": 0,
       "parentHierarchy": [],
       "pivotAggregation": null,
       "pivotColumns": null,
       "position": 29.0,
       "resultDbfsErrorMessage": null,
       "resultDbfsStatus": "INLINED_IN_TREE",
       "results": null,
       "showCommandTitle": false,
       "startTime": 0,
       "state": "input",
       "streamStates": {},
       "subcommandOptions": {
        "queryPlan": {
         "groups": [
          {
           "column": "Mes_Ano",
           "type": "column"
          }
         ],
         "selects": [
          {
           "column": "Mes_Ano",
           "type": "column"
          },
          {
           "alias": "column_c77865a088",
           "args": [
            {
             "column": "IFIX",
             "type": "column"
            }
           ],
           "function": "SUM",
           "type": "function"
          },
          {
           "alias": "column_c77865a091",
           "args": [
            {
             "column": "prediction",
             "type": "column"
            }
           ],
           "function": "SUM",
           "type": "function"
          }
         ]
        }
       },
       "submitTime": 0,
       "subtype": "tableResultSubCmd.visualization",
       "tableResultIndex": 0,
       "useConsistentColors": false,
       "version": "CommandV1",
       "width": "808",
       "workflows": [],
       "xColumns": null,
       "yColumns": null
      }
     },
     "output_type": "display_data"
    }
   ],
   "source": [
    "# Grafico de linhas do IFIX + predição para comparação\n",
    "predictionsDF = modelsummary.predictions\n",
    "predictionsPlot = predictionsDF.join(ifixReg, \"IFIX\", \"inner\")\n",
    "predictionsPlot = predictionsPlot.select('Mes_Ano', 'IFIX', 'prediction')\n",
    "display(predictionsPlot)"
   ]
  },
  {
   "cell_type": "code",
   "execution_count": 0,
   "metadata": {
    "application/vnd.databricks.v1+cell": {
     "cellMetadata": {},
     "inputWidgets": {},
     "nuid": "34c736c4-3d72-4699-a92b-546ac3b47d02",
     "showTitle": false,
     "title": ""
    }
   },
   "outputs": [],
   "source": []
  }
 ],
 "metadata": {
  "application/vnd.databricks.v1+notebook": {
   "dashboards": [
    {
     "elements": [
      {
       "dashboardResultIndex": 0,
       "elementNUID": "d7c6d8a8-f28d-4a6c-a496-dea0da2273d4",
       "elementType": "command",
       "guid": "7fd2c0f6-8fcf-4fa8-86c9-192303a1a9fa",
       "options": {
        "autoScaleImg": false,
        "scale": 0,
        "showTitle": true,
        "title": "Evolução do IFIX e da Regressão",
        "titleAlign": "left"
       },
       "position": {
        "height": 4,
        "width": 9,
        "x": 0,
        "y": 0,
        "z": null
       },
       "resultIndex": null
      }
     ],
     "globalVars": {},
     "guid": "",
     "layoutOption": {
      "grid": true,
      "stack": true
     },
     "nuid": "ad815e2b-d42d-4959-9412-4424c557770b",
     "origId": 766315610315180,
     "title": "Untitled",
     "version": "DashboardViewV1",
     "width": 1920
    }
   ],
   "language": "python",
   "notebookMetadata": {
    "mostRecentlyExecutedCommandWithImplicitDF": {
     "commandId": 766315610315074,
     "dataframes": [
      "_sqldf"
     ]
    },
    "pythonIndentUnit": 4
   },
   "notebookName": "RegressaoIfix",
   "widgets": {}
  },
  "name": "regressao",
  "notebookId": 3364351409033085
 },
 "nbformat": 4,
 "nbformat_minor": 0
}
